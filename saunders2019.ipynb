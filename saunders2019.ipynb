{
  "nbformat": 4,
  "nbformat_minor": 0,
  "metadata": {
    "colab": {
      "name": "saunders2019",
      "provenance": [],
      "collapsed_sections": [],
      "toc_visible": true,
      "machine_shape": "hm",
      "include_colab_link": true
    },
    "kernelspec": {
      "name": "python3",
      "display_name": "Python 3.8.5 64-bit ('base': conda)"
    },
    "language_info": {
      "name": "python",
      "version": "3.8.5",
      "mimetype": "text/x-python",
      "codemirror_mode": {
        "name": "ipython",
        "version": 3
      },
      "pygments_lexer": "ipython3",
      "nbconvert_exporter": "python",
      "file_extension": ".py"
    },
    "accelerator": "GPU",
    "widgets": {
      "application/vnd.jupyter.widget-state+json": {
        "e72904ea7cd7484f9b2c7faf5bf9c241": {
          "model_module": "@jupyter-widgets/controls",
          "model_name": "HBoxModel",
          "state": {
            "_view_name": "HBoxView",
            "_dom_classes": [],
            "_model_name": "HBoxModel",
            "_view_module": "@jupyter-widgets/controls",
            "_model_module_version": "1.5.0",
            "_view_count": null,
            "_view_module_version": "1.5.0",
            "box_style": "",
            "layout": "IPY_MODEL_feea4b361d87426e87567c364a50b798",
            "_model_module": "@jupyter-widgets/controls",
            "children": [
              "IPY_MODEL_ebf36cff76a2449fbb4e0deedaf189c1",
              "IPY_MODEL_f7773a475ef2431a996dae97fe7f54a2",
              "IPY_MODEL_22cbfdde6ba94c04b55dd991a6ad680e"
            ]
          }
        },
        "feea4b361d87426e87567c364a50b798": {
          "model_module": "@jupyter-widgets/base",
          "model_name": "LayoutModel",
          "state": {
            "_view_name": "LayoutView",
            "grid_template_rows": null,
            "right": null,
            "justify_content": null,
            "_view_module": "@jupyter-widgets/base",
            "overflow": null,
            "_model_module_version": "1.2.0",
            "_view_count": null,
            "flex_flow": null,
            "width": null,
            "min_width": null,
            "border": null,
            "align_items": null,
            "bottom": null,
            "_model_module": "@jupyter-widgets/base",
            "top": null,
            "grid_column": null,
            "overflow_y": null,
            "overflow_x": null,
            "grid_auto_flow": null,
            "grid_area": null,
            "grid_template_columns": null,
            "flex": null,
            "_model_name": "LayoutModel",
            "justify_items": null,
            "grid_row": null,
            "max_height": null,
            "align_content": null,
            "visibility": null,
            "align_self": null,
            "height": null,
            "min_height": null,
            "padding": null,
            "grid_auto_rows": null,
            "grid_gap": null,
            "max_width": null,
            "order": null,
            "_view_module_version": "1.2.0",
            "grid_template_areas": null,
            "object_position": null,
            "object_fit": null,
            "grid_auto_columns": null,
            "margin": null,
            "display": null,
            "left": null
          }
        },
        "ebf36cff76a2449fbb4e0deedaf189c1": {
          "model_module": "@jupyter-widgets/controls",
          "model_name": "HTMLModel",
          "state": {
            "_view_name": "HTMLView",
            "style": "IPY_MODEL_30bf7b043dc04912a89bd56e2b45a9bb",
            "_dom_classes": [],
            "description": "",
            "_model_name": "HTMLModel",
            "placeholder": "​",
            "_view_module": "@jupyter-widgets/controls",
            "_model_module_version": "1.5.0",
            "value": "Running accuracy: 50.30%, Current val accuracy: 0.00%, : ",
            "_view_count": null,
            "_view_module_version": "1.5.0",
            "description_tooltip": null,
            "_model_module": "@jupyter-widgets/controls",
            "layout": "IPY_MODEL_77d1b5f5dba24a96b6b3de84ae66731e"
          }
        },
        "f7773a475ef2431a996dae97fe7f54a2": {
          "model_module": "@jupyter-widgets/controls",
          "model_name": "FloatProgressModel",
          "state": {
            "_view_name": "ProgressView",
            "style": "IPY_MODEL_7154724e96d04f459d5c3ae5e6b9aa31",
            "_dom_classes": [],
            "description": "",
            "_model_name": "FloatProgressModel",
            "bar_style": "",
            "max": 500,
            "_view_module": "@jupyter-widgets/controls",
            "_model_module_version": "1.5.0",
            "value": 500,
            "_view_count": null,
            "_view_module_version": "1.5.0",
            "orientation": "horizontal",
            "min": 0,
            "description_tooltip": null,
            "_model_module": "@jupyter-widgets/controls",
            "layout": "IPY_MODEL_aef9b4532aba4574ba82b020fe106ce4"
          }
        },
        "22cbfdde6ba94c04b55dd991a6ad680e": {
          "model_module": "@jupyter-widgets/controls",
          "model_name": "HTMLModel",
          "state": {
            "_view_name": "HTMLView",
            "style": "IPY_MODEL_df1a2fb9fe184c0ab42cd375e556efdd",
            "_dom_classes": [],
            "description": "",
            "_model_name": "HTMLModel",
            "placeholder": "​",
            "_view_module": "@jupyter-widgets/controls",
            "_model_module_version": "1.5.0",
            "value": " 501/? [09:58&lt;00:00,  1.20s/it]",
            "_view_count": null,
            "_view_module_version": "1.5.0",
            "description_tooltip": null,
            "_model_module": "@jupyter-widgets/controls",
            "layout": "IPY_MODEL_0df93396ea384b759d0f877ab523e077"
          }
        },
        "30bf7b043dc04912a89bd56e2b45a9bb": {
          "model_module": "@jupyter-widgets/controls",
          "model_name": "DescriptionStyleModel",
          "state": {
            "_view_name": "StyleView",
            "_model_name": "DescriptionStyleModel",
            "description_width": "",
            "_view_module": "@jupyter-widgets/base",
            "_model_module_version": "1.5.0",
            "_view_count": null,
            "_view_module_version": "1.2.0",
            "_model_module": "@jupyter-widgets/controls"
          }
        },
        "77d1b5f5dba24a96b6b3de84ae66731e": {
          "model_module": "@jupyter-widgets/base",
          "model_name": "LayoutModel",
          "state": {
            "_view_name": "LayoutView",
            "grid_template_rows": null,
            "right": null,
            "justify_content": null,
            "_view_module": "@jupyter-widgets/base",
            "overflow": null,
            "_model_module_version": "1.2.0",
            "_view_count": null,
            "flex_flow": null,
            "width": null,
            "min_width": null,
            "border": null,
            "align_items": null,
            "bottom": null,
            "_model_module": "@jupyter-widgets/base",
            "top": null,
            "grid_column": null,
            "overflow_y": null,
            "overflow_x": null,
            "grid_auto_flow": null,
            "grid_area": null,
            "grid_template_columns": null,
            "flex": null,
            "_model_name": "LayoutModel",
            "justify_items": null,
            "grid_row": null,
            "max_height": null,
            "align_content": null,
            "visibility": null,
            "align_self": null,
            "height": null,
            "min_height": null,
            "padding": null,
            "grid_auto_rows": null,
            "grid_gap": null,
            "max_width": null,
            "order": null,
            "_view_module_version": "1.2.0",
            "grid_template_areas": null,
            "object_position": null,
            "object_fit": null,
            "grid_auto_columns": null,
            "margin": null,
            "display": null,
            "left": null
          }
        },
        "7154724e96d04f459d5c3ae5e6b9aa31": {
          "model_module": "@jupyter-widgets/controls",
          "model_name": "ProgressStyleModel",
          "state": {
            "_view_name": "StyleView",
            "_model_name": "ProgressStyleModel",
            "description_width": "",
            "_view_module": "@jupyter-widgets/base",
            "_model_module_version": "1.5.0",
            "_view_count": null,
            "_view_module_version": "1.2.0",
            "bar_color": null,
            "_model_module": "@jupyter-widgets/controls"
          }
        },
        "aef9b4532aba4574ba82b020fe106ce4": {
          "model_module": "@jupyter-widgets/base",
          "model_name": "LayoutModel",
          "state": {
            "_view_name": "LayoutView",
            "grid_template_rows": null,
            "right": null,
            "justify_content": null,
            "_view_module": "@jupyter-widgets/base",
            "overflow": null,
            "_model_module_version": "1.2.0",
            "_view_count": null,
            "flex_flow": null,
            "width": null,
            "min_width": null,
            "border": null,
            "align_items": null,
            "bottom": null,
            "_model_module": "@jupyter-widgets/base",
            "top": null,
            "grid_column": null,
            "overflow_y": null,
            "overflow_x": null,
            "grid_auto_flow": null,
            "grid_area": null,
            "grid_template_columns": null,
            "flex": null,
            "_model_name": "LayoutModel",
            "justify_items": null,
            "grid_row": null,
            "max_height": null,
            "align_content": null,
            "visibility": null,
            "align_self": null,
            "height": null,
            "min_height": null,
            "padding": null,
            "grid_auto_rows": null,
            "grid_gap": null,
            "max_width": null,
            "order": null,
            "_view_module_version": "1.2.0",
            "grid_template_areas": null,
            "object_position": null,
            "object_fit": null,
            "grid_auto_columns": null,
            "margin": null,
            "display": null,
            "left": null
          }
        },
        "df1a2fb9fe184c0ab42cd375e556efdd": {
          "model_module": "@jupyter-widgets/controls",
          "model_name": "DescriptionStyleModel",
          "state": {
            "_view_name": "StyleView",
            "_model_name": "DescriptionStyleModel",
            "description_width": "",
            "_view_module": "@jupyter-widgets/base",
            "_model_module_version": "1.5.0",
            "_view_count": null,
            "_view_module_version": "1.2.0",
            "_model_module": "@jupyter-widgets/controls"
          }
        },
        "0df93396ea384b759d0f877ab523e077": {
          "model_module": "@jupyter-widgets/base",
          "model_name": "LayoutModel",
          "state": {
            "_view_name": "LayoutView",
            "grid_template_rows": null,
            "right": null,
            "justify_content": null,
            "_view_module": "@jupyter-widgets/base",
            "overflow": null,
            "_model_module_version": "1.2.0",
            "_view_count": null,
            "flex_flow": null,
            "width": null,
            "min_width": null,
            "border": null,
            "align_items": null,
            "bottom": null,
            "_model_module": "@jupyter-widgets/base",
            "top": null,
            "grid_column": null,
            "overflow_y": null,
            "overflow_x": null,
            "grid_auto_flow": null,
            "grid_area": null,
            "grid_template_columns": null,
            "flex": null,
            "_model_name": "LayoutModel",
            "justify_items": null,
            "grid_row": null,
            "max_height": null,
            "align_content": null,
            "visibility": null,
            "align_self": null,
            "height": null,
            "min_height": null,
            "padding": null,
            "grid_auto_rows": null,
            "grid_gap": null,
            "max_width": null,
            "order": null,
            "_view_module_version": "1.2.0",
            "grid_template_areas": null,
            "object_position": null,
            "object_fit": null,
            "grid_auto_columns": null,
            "margin": null,
            "display": null,
            "left": null
          }
        }
      }
    },
    "interpreter": {
      "hash": "8b51a6187922e1c805af8ddd20d0a4091ecd17bebcd7deb5956ab101caf2f88f"
    }
  },
  "cells": [
    {
      "cell_type": "markdown",
      "metadata": {
        "id": "view-in-github",
        "colab_type": "text"
      },
      "source": [
        "<a href=\"https://colab.research.google.com/github/Singular-Brain/bindsnet/blob/master/saunders2019.ipynb\" target=\"_parent\"><img src=\"https://colab.research.google.com/assets/colab-badge.svg\" alt=\"Open In Colab\"/></a>"
      ]
    },
    {
      "cell_type": "markdown",
      "metadata": {
        "id": "7fTSvrK3T_GA"
      },
      "source": [
        "#Notebook setups"
      ]
    },
    {
      "cell_type": "code",
      "metadata": {
        "id": "lXtgP_iEPE0G",
        "colab": {
          "base_uri": "https://localhost:8080/"
        },
        "outputId": "812d9664-d0b7-459a-f9f0-c1409ed66b02"
      },
      "source": [
        "!pip install -q git+https://github.com/Singular-Brain/bindsnet"
      ],
      "execution_count": null,
      "outputs": [
        {
          "output_type": "stream",
          "text": [
            "\u001b[?25l\r\u001b[K     |██▊                             | 10 kB 39.3 MB/s eta 0:00:01\r\u001b[K     |█████▍                          | 20 kB 41.3 MB/s eta 0:00:01\r\u001b[K     |████████▏                       | 30 kB 43.9 MB/s eta 0:00:01\r\u001b[K     |██████████▉                     | 40 kB 25.8 MB/s eta 0:00:01\r\u001b[K     |█████████████▋                  | 51 kB 14.3 MB/s eta 0:00:01\r\u001b[K     |████████████████▎               | 61 kB 16.5 MB/s eta 0:00:01\r\u001b[K     |███████████████████             | 71 kB 12.9 MB/s eta 0:00:01\r\u001b[K     |█████████████████████▊          | 81 kB 14.2 MB/s eta 0:00:01\r\u001b[K     |████████████████████████▌       | 92 kB 12.6 MB/s eta 0:00:01\r\u001b[K     |███████████████████████████▏    | 102 kB 13.2 MB/s eta 0:00:01\r\u001b[K     |██████████████████████████████  | 112 kB 13.2 MB/s eta 0:00:01\r\u001b[K     |████████████████████████████████| 120 kB 13.2 MB/s \n",
            "\u001b[?25h\u001b[?25l\r\u001b[K     |████▎                           | 10 kB 50.3 MB/s eta 0:00:01\r\u001b[K     |████████▋                       | 20 kB 61.1 MB/s eta 0:00:01\r\u001b[K     |█████████████                   | 30 kB 70.4 MB/s eta 0:00:01\r\u001b[K     |█████████████████▎              | 40 kB 60.1 MB/s eta 0:00:01\r\u001b[K     |█████████████████████▌          | 51 kB 32.2 MB/s eta 0:00:01\r\u001b[K     |█████████████████████████▉      | 61 kB 36.2 MB/s eta 0:00:01\r\u001b[K     |██████████████████████████████▏ | 71 kB 21.8 MB/s eta 0:00:01\r\u001b[K     |████████████████████████████████| 76 kB 5.3 MB/s \n",
            "\u001b[K     |████████████████████████████████| 72 kB 1.2 MB/s \n",
            "\u001b[K     |████████████████████████████████| 280 kB 23.3 MB/s \n",
            "\u001b[K     |████████████████████████████████| 28.5 MB 1.2 MB/s \n",
            "\u001b[?25h  Building wheel for BindsNET (setup.py) ... \u001b[?25l\u001b[?25hdone\n",
            "\u001b[31mERROR: pip's dependency resolver does not currently take into account all the packages that are installed. This behaviour is the source of the following dependency conflicts.\n",
            "datascience 0.10.6 requires folium==0.2.1, but you have folium 0.8.3 which is incompatible.\n",
            "albumentations 0.1.12 requires imgaug<0.2.7,>=0.2.5, but you have imgaug 0.2.9 which is incompatible.\u001b[0m\n"
          ],
          "name": "stdout"
        }
      ]
    },
    {
      "cell_type": "code",
      "metadata": {
        "colab": {
          "base_uri": "https://localhost:8080/"
        },
        "id": "OW7m3ugEHZP_",
        "outputId": "c7307561-6bfb-4125-e923-44a4d2754ba9"
      },
      "source": [
        "!wget https://data.deepai.org/mnist.zip\n",
        "!mkdir -p ../data/MNIST/TorchvisionDatasetWrapper/raw\n",
        "!unzip mnist.zip -d ../data/MNIST/TorchvisionDatasetWrapper/raw/"
      ],
      "execution_count": null,
      "outputs": [
        {
          "output_type": "stream",
          "text": [
            "--2021-08-03 10:52:35--  https://data.deepai.org/mnist.zip\n",
            "Resolving data.deepai.org (data.deepai.org)... 138.201.36.183\n",
            "Connecting to data.deepai.org (data.deepai.org)|138.201.36.183|:443... connected.\n",
            "HTTP request sent, awaiting response... 200 OK\n",
            "Length: 11597176 (11M) [application/x-zip-compressed]\n",
            "Saving to: ‘mnist.zip’\n",
            "\n",
            "mnist.zip           100%[===================>]  11.06M  69.9MB/s    in 0.2s    \n",
            "\n",
            "2021-08-03 10:52:35 (69.9 MB/s) - ‘mnist.zip’ saved [11597176/11597176]\n",
            "\n",
            "Archive:  mnist.zip\n",
            "  inflating: ../data/MNIST/TorchvisionDatasetWrapper/raw/train-labels-idx1-ubyte.gz  \n",
            "  inflating: ../data/MNIST/TorchvisionDatasetWrapper/raw/train-images-idx3-ubyte.gz  \n",
            "  inflating: ../data/MNIST/TorchvisionDatasetWrapper/raw/t10k-images-idx3-ubyte.gz  \n",
            "  inflating: ../data/MNIST/TorchvisionDatasetWrapper/raw/t10k-labels-idx1-ubyte.gz  \n"
          ],
          "name": "stdout"
        }
      ]
    },
    {
      "cell_type": "code",
      "metadata": {
        "id": "BFGNAecpT-Lj"
      },
      "source": [
        "from bindsnet.network.nodes import Nodes\n",
        "import os\n",
        "import torch\n",
        "import torchvision\n",
        "import numpy as np\n",
        "import argparse\n",
        "import matplotlib.pyplot as plt\n",
        "\n",
        "from torchvision import transforms\n",
        "from tqdm.notebook import tqdm\n",
        "\n",
        "from bindsnet.datasets import MNIST\n",
        "from bindsnet.encoding import PoissonEncoder\n",
        "from bindsnet.network import Network\n",
        "from bindsnet.network.nodes import Input, LIFNodes, AdaptiveLIFNodes\n",
        "from bindsnet.network.topology import LocalConnection, Connection\n",
        "from bindsnet.network.monitors import Monitor, AbstractMonitor, TensorBoardMonitor\n",
        "from bindsnet.learning import PostPre, MSTDP, MSTDPET \n",
        "from bindsnet.learning.reward import DynamicDopamineInjection\n",
        "from bindsnet.utils import get_square_assignments, get_square_weights\n",
        "from bindsnet.evaluation import all_activity, proportion_weighting, assign_labels\n",
        "from bindsnet.analysis.plotting import (\n",
        "    plot_input,\n",
        "    plot_assignments,\n",
        "    plot_performance,\n",
        "    plot_weights,\n",
        "    plot_spikes,\n",
        "    plot_voltages,\n",
        ")"
      ],
      "execution_count": null,
      "outputs": []
    },
    {
      "cell_type": "markdown",
      "metadata": {
        "id": "kCqAFucAUDb8"
      },
      "source": [
        "## Set up hyper-parameters"
      ]
    },
    {
      "cell_type": "code",
      "metadata": {
        "id": "0YacX9jrUHj4"
      },
      "source": [
        "n_neurons = 100\n",
        "n_train = 500\n",
        "n_test = 100\n",
        "n_val = 200\n",
        "theta_plus = 0.05\n",
        "time = 250\n",
        "dt = 1\n",
        "intensity = 128\n",
        "train = True\n",
        "gpu = True\n",
        "device_id = 0\n",
        "target_classes = (0,1)\n",
        "if target_classes:\n",
        "    n_classes = len(target_classes)\n",
        "else:\n",
        "    n_classes = 10\n",
        "neuron_per_class = int(n_neurons/n_classes)\n",
        "\n",
        "seed = 2045 # The Singularity is Near!\n",
        "\n",
        "reward_kwargs = {\n",
        "    'dopaminergic_layer': 'output', \n",
        "    'n_labels': n_classes,\n",
        "    'neuron_per_class': neuron_per_class,\n",
        "    'dopamine_per_spike': 0.2, \n",
        "    'tc_reward': 20,\n",
        "    'dopamine_base': 0.02,\n",
        "}"
      ],
      "execution_count": null,
      "outputs": []
    },
    {
      "cell_type": "markdown",
      "metadata": {
        "id": "ULGGHW43UksI"
      },
      "source": [
        "## Sets up Gpu use\n"
      ]
    },
    {
      "cell_type": "code",
      "metadata": {
        "id": "LiUmFrpcUfmR",
        "colab": {
          "base_uri": "https://localhost:8080/"
        },
        "outputId": "09ce6f57-1230-4cb5-d7b4-d8536d2e34ee"
      },
      "source": [
        "device = torch.device(\"cuda\" if torch.cuda.is_available() else \"cpu\")\n",
        "if gpu and torch.cuda.is_available():\n",
        "    torch.cuda.manual_seed_all(seed)\n",
        "else:\n",
        "    torch.manual_seed(seed)\n",
        "    device = \"cpu\"\n",
        "    if gpu:\n",
        "        gpu = False\n",
        "\n",
        "torch.set_num_threads(os.cpu_count() - 1)\n",
        "print(\"Running on Device = \", device)\n",
        "\n",
        "if not train:\n",
        "    update_interval = n_test"
      ],
      "execution_count": null,
      "outputs": [
        {
          "output_type": "stream",
          "text": [
            "Running on Device =  cuda\n"
          ],
          "name": "stdout"
        }
      ]
    },
    {
      "cell_type": "markdown",
      "metadata": {
        "id": "nL0giSqUUvz6"
      },
      "source": [
        "# Design network"
      ]
    },
    {
      "cell_type": "markdown",
      "metadata": {
        "id": "MBKedMpIleMr"
      },
      "source": [
        "## Reward Monitor"
      ]
    },
    {
      "cell_type": "code",
      "metadata": {
        "id": "M44GJ65GleMs"
      },
      "source": [
        "class RewardMonitor(AbstractMonitor):\n",
        "    # language=rst\n",
        "    \"\"\"\n",
        "    Records state variables of interest.\n",
        "    \"\"\"\n",
        "\n",
        "    def __init__(\n",
        "        self,\n",
        "        time: None,\n",
        "        batch_size: int = 1,\n",
        "        device: str = \"cpu\",\n",
        "    ):\n",
        "        # language=rst\n",
        "        \"\"\"\n",
        "        Constructs a ``Monitor`` object.\n",
        "\n",
        "        :param obj: An object to record state variables from during network simulation.\n",
        "        :param state_vars: Iterable of strings indicating names of state variables to record.\n",
        "        :param time: If not ``None``, pre-allocate memory for state variable recording.\n",
        "        :param device: Allow the monitor to be on different device separate from Network device\n",
        "        \"\"\"\n",
        "        super().__init__()\n",
        "\n",
        "        self.time = time\n",
        "        self.batch_size = batch_size\n",
        "        self.device = device\n",
        "\n",
        "        # if time is not specified the monitor variable accumulate the logs\n",
        "        if self.time is None:\n",
        "            self.device = \"cpu\"\n",
        "\n",
        "        self.recording = []\n",
        "        self.reset_state_variables()\n",
        "\n",
        "    def get(self,) -> torch.Tensor:\n",
        "        # language=rst\n",
        "        \"\"\"\n",
        "        Return recording to user.\n",
        "\n",
        "        :return: Tensor of shape ``[time, n_1, ..., n_k]``, where ``[n_1, ..., n_k]`` is the shape of the recorded state\n",
        "        variable.\n",
        "        Note, if time == `None`, get return the logs and empty the monitor variable\n",
        "\n",
        "        \"\"\"\n",
        "        # return_logs = torch.as_tensor(self.recording)\n",
        "        # if self.time is None:\n",
        "        #     self.recording = []\n",
        "        return self.recording\n",
        "\n",
        "    def record(self, **kwargs) -> None:\n",
        "        # language=rst\n",
        "        \"\"\"\n",
        "        Appends the current value of the recorded state variables to the recording.\n",
        "        \"\"\"\n",
        "        self.recording.append(kwargs[\"reward\"])\n",
        "        # remove the oldest element (first in the list)\n",
        "        # if self.time is not None:\n",
        "        #     self.recording.pop(0)\n",
        "\n",
        "    def reset_state_variables(self) -> None:\n",
        "        # language=rst\n",
        "        \"\"\"\n",
        "        Resets recordings to empty ``List``s.\n",
        "        \"\"\"\n",
        "        self.recording = []\n"
      ],
      "execution_count": null,
      "outputs": []
    },
    {
      "cell_type": "code",
      "metadata": {
        "id": "dK1-BrFEO_1q"
      },
      "source": [
        "C = 50\n",
        "K = 16\n",
        "S = 4\n",
        "crop_size = 20\n",
        "theta_plus = 0.05   ## Adaptive LIF\n",
        "inh_factor = 0.5\n",
        "wmin = -1.0\n",
        "wmax = 1.0\n",
        "# norm_c_loc = 500.0\n",
        "# norm_c_out = 500.0\n",
        "\n",
        "compute_size = lambda inp_size, k, s: int((inp_size-k)/s) + 1\n",
        "\n",
        "### Reward function\n",
        "reward_fn = DynamicDopamineInjection\n",
        "network = Network(dt = 1, reward_fn = reward_fn)\n",
        "\n",
        "### nodes\n",
        "inp = Input(shape= [1,20,20], traces=True)\n",
        "\n",
        "main = AdaptiveLIFNodes(shape= [C, compute_size(crop_size, K, S), compute_size(crop_size, K, S)], traces=True, tc_trace=20, theta_plus=theta_plus)\n",
        "#main = LIFNodes(shape= [C, compute_size(20, K, S), compute_size(20, K, S)], traces=True)\n",
        "\n",
        "# TODO: Diehl & Cook 2015 (v2) \n",
        "out = AdaptiveLIFNodes(n= 100, traces=True, tc_trace=20, theta_plus=theta_plus)\n",
        "\n",
        "### connections \n",
        "LC = LocalConnection(inp, main, K, S, C, nu = [1e-2, 1e-4], update_rule = MSTDPET, wmin = wmin, wmax= wmax, )\n",
        "#LC.w = torch.nn.init.xavier_normal_(LC.w, gain=1.0)\n",
        "main_out = Connection(main, out, nu = [1e-2, 1e-4], update_rule = MSTDPET, wmin = wmin, wmax= wmax, )\n",
        "#main_out.w = torch.nn.init.xavier_normal_(main_out.w, gain=1.0)\n",
        "\n",
        "\n",
        "w = -inh_factor * torch.ones(out.n, out.n)\n",
        "for c in range(n_classes):\n",
        "    ind = slice(c*neuron_per_class,(c+1)*neuron_per_class)\n",
        "    w[ind, ind] = 0\n",
        "\n",
        "\n",
        "out_recurrent_inhibition = Connection(\n",
        "    source=out,\n",
        "    target=out,\n",
        "    w=w,\n",
        "    wmin=-inh_factor,\n",
        "    wmax=0,\n",
        "    nu = 1e-4,\n",
        ")\n",
        "\n",
        "network.add_layer(main, \"main\")\n",
        "network.add_layer(inp, \"input\")\n",
        "network.add_layer(out, \"output\")\n",
        "network.add_connection(LC, \"input\", \"main\")\n",
        "network.add_connection(main_out, \"main\", \"output\")\n",
        "network.add_connection(out_recurrent_inhibition, \"output\", \"output\")\n",
        "\n",
        "# Directs network to GPU\n",
        "if gpu:\n",
        "    network.to(\"cuda\")\n",
        "\n",
        "# Voltage recording for excitatory and inhibitory layers.\n",
        "main_monitor = Monitor(network.layers[\"main\"], [\"v\"], time=time, device=device)\n",
        "output_monitor = Monitor(network.layers[\"output\"], [\"v\"], time=time, device=device)\n",
        "reward_monitor = RewardMonitor(time =time)\n",
        "tensorboard = TensorBoardMonitor(network, time = time)\n",
        "network.add_monitor(main_monitor, name=\"main\")\n",
        "network.add_monitor(output_monitor, name=\"output\")\n",
        "network.add_monitor(reward_monitor, name=\"reward\")\n",
        "network.add_monitor(tensorboard, name=\"tensorboard\")\n",
        "\n"
      ],
      "execution_count": null,
      "outputs": []
    },
    {
      "cell_type": "markdown",
      "metadata": {
        "id": "6zuUBU9pU3vE"
      },
      "source": [
        "# Load Dataset"
      ]
    },
    {
      "cell_type": "code",
      "metadata": {
        "id": "yxyv47dyKUJg",
        "colab": {
          "base_uri": "https://localhost:8080/"
        },
        "outputId": "76989a0f-156a-49ab-eae8-e93ea12d6d8c"
      },
      "source": [
        "!git clone https://github.com/Singular-Brain/bindsnet/"
      ],
      "execution_count": null,
      "outputs": [
        {
          "output_type": "stream",
          "text": [
            "Cloning into 'bindsnet'...\n",
            "remote: Enumerating objects: 9118, done.\u001b[K\n",
            "remote: Counting objects: 100% (78/78), done.\u001b[K\n",
            "remote: Compressing objects: 100% (57/57), done.\u001b[K\n",
            "remote: Total 9118 (delta 47), reused 42 (delta 20), pack-reused 9040\u001b[K\n",
            "Receiving objects: 100% (9118/9118), 39.87 MiB | 7.43 MiB/s, done.\n",
            "Resolving deltas: 100% (5773/5773), done.\n"
          ],
          "name": "stdout"
        }
      ]
    },
    {
      "cell_type": "code",
      "metadata": {
        "id": "8352_glFKnSS"
      },
      "source": [
        "mask = torch.from_numpy(np.load(f'bindsnet/mask_{target_classes[0]}_{target_classes[1]}.npz')['arr_0'])"
      ],
      "execution_count": null,
      "outputs": []
    },
    {
      "cell_type": "code",
      "metadata": {
        "id": "2DW7dB11jdqi"
      },
      "source": [
        "class ClassSelector(torch.utils.data.sampler.Sampler):\n",
        "    \"\"\"Select target classes from the dataset\"\"\"\n",
        "    def __init__(self, target_classes, data_source, mask = None):\n",
        "        if mask is not None:\n",
        "            self.mask = mask\n",
        "        else:\n",
        "            self.mask = torch.tensor([1 if data_source[i]['label'] in target_classes else 0 for i in range(len(data_source))])\n",
        "        self.data_source = data_source\n",
        "\n",
        "    def __iter__(self):\n",
        "        return iter([i.item() for i in torch.nonzero(self.mask)])\n",
        "\n",
        "    def __len__(self):\n",
        "        return len(self.data_source)"
      ],
      "execution_count": null,
      "outputs": []
    },
    {
      "cell_type": "code",
      "metadata": {
        "id": "DlCXBY0DU3Mc"
      },
      "source": [
        "# Load MNIST data.\n",
        "dataset = MNIST(\n",
        "    PoissonEncoder(time=time, dt=dt),\n",
        "    None,\n",
        "    root=os.path.join(\"..\", \"..\", \"data\", \"MNIST\"),\n",
        "    download=True,\n",
        "    transform=transforms.Compose(\n",
        "        [transforms.ToTensor(),\n",
        "        transforms.Lambda(lambda x: x * intensity),\n",
        "        transforms.CenterCrop(crop_size)]\n",
        "    ),\n",
        ")\n",
        "\n",
        "# Create a dataloader to iterate and batch data\n",
        "dataloader = torch.utils.data.DataLoader(dataset, batch_size=1,\n",
        "                                         sampler = ClassSelector(\n",
        "                                                target_classes = target_classes,\n",
        "                                                data_source = dataset,\n",
        "                                                mask = mask,\n",
        "                                                ) if target_classes else None\n",
        "                                         )\n",
        "\n",
        "# Load test dataset\n",
        "test_dataset = MNIST(\n",
        "    PoissonEncoder(time=time, dt=dt),\n",
        "    None,\n",
        "    root=os.path.join(\"..\", \"..\", \"data\", \"MNIST\"),\n",
        "    download=True,\n",
        "    train=False,\n",
        "    transform=transforms.Compose(\n",
        "        [transforms.ToTensor(),\n",
        "        transforms.Lambda(lambda x: x * intensity),\n",
        "        transforms.CenterCrop(crop_size)]\n",
        "    ),\n",
        ")\n",
        "\n",
        "val_loader = torch.utils.data.DataLoader(test_dataset, batch_size=1,\n",
        "                                         sampler = ClassSelector(\n",
        "                                                target_classes = target_classes,\n",
        "                                                data_source = dataset,\n",
        "                                                mask = mask,\n",
        "                                                ) if target_classes else None\n",
        "                                         )"
      ],
      "execution_count": null,
      "outputs": []
    },
    {
      "cell_type": "markdown",
      "metadata": {
        "id": "d0hQT9ZrV-u2"
      },
      "source": [
        "# Evaluation Utils"
      ]
    },
    {
      "cell_type": "code",
      "metadata": {
        "id": "1y5K1O2YRDoL"
      },
      "source": [
        "def evaluate(network, val_loader):\n",
        "    correct = 0\n",
        "    false = 0\n",
        "    spikes_val = {}\n",
        "    for layer in set(network.layers):\n",
        "        spikes_val[layer] = Monitor(network.layers[layer], state_vars=[\"s\"], time=time)\n",
        "        network.add_monitor(spikes_val[layer], name=\"%s_spikes\" % layer)\n",
        "\n",
        "    network.train(False)\n",
        "\n",
        "    for (i, datum) in enumerate(val_loader):\n",
        "        if i > n_val:\n",
        "            break\n",
        "\n",
        "        image = datum[\"encoded_image\"]\n",
        "        label = datum[\"label\"]\n",
        "\n",
        "        # Run the network on the input.\n",
        "        if gpu:\n",
        "            inputs = {\"input\": image.cuda().view(time, 1, 1, 20, 20)}\n",
        "        else:\n",
        "            inputs = {\"input\": image.view(time, 1, 1, 20, 20)}\n",
        "        network.run(inputs=inputs, time=time, **reward_kwargs, labels=label)\n",
        "\n",
        "        # Add to spikes recording.\n",
        "        output_spikes = spikes_val[\"output\"].get(\"s\").view(time, n_classes, neuron_per_class).sum(0)\n",
        "        predicted_label = torch.argmax(output_spikes.sum(1))\n",
        "\n",
        "        if predicted_label == label:\n",
        "            correct+=1\n",
        "        else:\n",
        "            false+=1\n",
        "    val_acc = 100 * correct/(correct + false)\n",
        "    return val_acc"
      ],
      "execution_count": null,
      "outputs": []
    },
    {
      "cell_type": "markdown",
      "metadata": {
        "id": "SokdidkrV2Z5"
      },
      "source": [
        "# Train"
      ]
    },
    {
      "cell_type": "code",
      "metadata": {
        "id": "Gk3H-hrdPLIU",
        "colab": {
          "base_uri": "https://localhost:8080/",
          "height": 100,
          "referenced_widgets": [
            "e72904ea7cd7484f9b2c7faf5bf9c241",
            "feea4b361d87426e87567c364a50b798",
            "ebf36cff76a2449fbb4e0deedaf189c1",
            "f7773a475ef2431a996dae97fe7f54a2",
            "22cbfdde6ba94c04b55dd991a6ad680e",
            "30bf7b043dc04912a89bd56e2b45a9bb",
            "77d1b5f5dba24a96b6b3de84ae66731e",
            "7154724e96d04f459d5c3ae5e6b9aa31",
            "aef9b4532aba4574ba82b020fe106ce4",
            "df1a2fb9fe184c0ab42cd375e556efdd",
            "0df93396ea384b759d0f877ab523e077"
          ]
        },
        "outputId": "f87a5c1e-33ae-4b08-d457-d1cad57bdc29"
      },
      "source": [
        "from copy import deepcopy\n",
        "\n",
        "# Train the network.\n",
        "print(\"Begin training.\\n\")\n",
        "\n",
        "correct = 0\n",
        "false = 0\n",
        "val_interval = 150\n",
        "spikes = {}\n",
        "for layer in set(network.layers):\n",
        "    spikes[layer] = Monitor(network.layers[layer], state_vars=[\"s\"], time=time)\n",
        "    network.add_monitor(spikes[layer], name=\"%s_spikes\" % layer)\n",
        "\n",
        "val_acc = 0.0\n",
        "\n",
        "reward_history = []\n",
        "pbar = tqdm(total=n_train)\n",
        "network.reset_state_variables()\n",
        "for (i, datum) in enumerate(dataloader):\n",
        "    if i > n_train:\n",
        "        break\n",
        "\n",
        "    image = datum[\"encoded_image\"]\n",
        "    label = datum[\"label\"]\n",
        "\n",
        "    # Run the network on the input.\n",
        "    if gpu:\n",
        "        inputs = {\"input\": image.cuda().view(time, 1, 1, 20, 20)}\n",
        "    else:\n",
        "        inputs = {\"input\": image.view(time, 1, 1, 20, 20)}\n",
        "    network.run(inputs=inputs, time=time, **reward_kwargs, labels = label)\n",
        "\n",
        "\n",
        "    # Weight Normalization\n",
        "\n",
        "\n",
        "    # Get voltage recording.\n",
        "    main_voltage = main_monitor.get(\"v\")\n",
        "    out_voltage = output_monitor.get(\"v\")\n",
        "    reward_history.append(reward_monitor.get())\n",
        "    tensorboard.update(step= i)\n",
        "\n",
        "    # Add to spikes recording.\n",
        "    output_spikes = spikes[\"output\"].get(\"s\").view(time, n_classes, neuron_per_class)\n",
        "    predicted_label = torch.argmax(output_spikes.sum(0).sum(1))\n",
        "\n",
        "    print(\"\\routput\", output_spikes.sum(0).sum(1), 'predicted_label:',\n",
        "          predicted_label.item(), 'GT:', label.item(), ' Reward:',\n",
        "          sum(reward_monitor.get()).item(),\n",
        "          end = '')\n",
        "\n",
        "    # if  i % val_interval == 0 and i!=0:\n",
        "    #     if i != n_train:\n",
        "    #         correct = 0\n",
        "    #         false = 0\n",
        "    #     val_acc = evaluate(network, val_loader)\n",
        "\n",
        "    if predicted_label == label:\n",
        "        correct+=1\n",
        "    else:\n",
        "        false+=1\n",
        "        \n",
        "    acc = 100 * correct/(correct + false)\n",
        "    network.reset_state_variables()  # Reset state variables.\n",
        "    \n",
        "    pbar.set_description_str(\"Running accuracy: \" + \"{:.2f}\".format(acc) + \"%, \" + \"Current val accuracy: \" + \"{:.2f}\".format(val_acc) + \"%, \")\n",
        "    pbar.update()"
      ],
      "execution_count": null,
      "outputs": [
        {
          "output_type": "stream",
          "text": [
            "Begin training.\n",
            "\n"
          ],
          "name": "stdout"
        },
        {
          "output_type": "display_data",
          "data": {
            "application/vnd.jupyter.widget-view+json": {
              "model_id": "e72904ea7cd7484f9b2c7faf5bf9c241",
              "version_minor": 0,
              "version_major": 2
            },
            "text/plain": [
              "  0%|          | 0/500 [00:00<?, ?it/s]"
            ]
          },
          "metadata": {
            "tags": []
          }
        },
        {
          "output_type": "stream",
          "text": [
            "output tensor([0, 0]) predicted_label: 0 GT: 0  Reward: tensor(5.0000, device='cuda:0')"
          ],
          "name": "stdout"
        }
      ]
    },
    {
      "cell_type": "code",
      "metadata": {
        "id": "-dqTw2QFBQKz"
      },
      "source": [
        "import matplotlib.pyplot as plt\n",
        "\n",
        "\n",
        "plt.plot(output_spikes.sum(-1)[:,0])\n",
        "plt.plot(output_spikes.sum(-1)[:,1])\n",
        "\n",
        "plt.plot(reward_monitor.get())\n",
        "plt.show()"
      ],
      "execution_count": null,
      "outputs": []
    },
    {
      "cell_type": "code",
      "metadata": {
        "id": "nAKGbShj7kOM"
      },
      "source": [
        "# Load the TensorBoard notebook extension\n",
        "%load_ext tensorboard"
      ],
      "execution_count": null,
      "outputs": []
    },
    {
      "cell_type": "code",
      "metadata": {
        "id": "EXv13w317oW7"
      },
      "source": [
        "%tensorboard --logdir runs"
      ],
      "execution_count": null,
      "outputs": []
    },
    {
      "cell_type": "markdown",
      "metadata": {
        "id": "R_YGE1XjvIkZ"
      },
      "source": [
        "# Kernel "
      ]
    },
    {
      "cell_type": "code",
      "metadata": {
        "id": "dzaRZ3jNwxpE"
      },
      "source": [
        "from abc import ABC, abstractmethod\n",
        "from typing import Union, Tuple, Optional, Sequence\n",
        "from torch.nn.modules.utils import _pair"
      ],
      "execution_count": null,
      "outputs": []
    },
    {
      "cell_type": "code",
      "metadata": {
        "id": "-4hp2V46vOUv"
      },
      "source": [
        "class AbstractKernel(ABC):\n",
        "\tr\"\"\"Base class for generating image filter kernels such as Gabor, DoG, etc. Each subclass should override :attr:`__call__` function.\n",
        "\t\"\"\"\n",
        "\tdef __init__(self, kernel_size: Union[int, Tuple[int, int]]):\n",
        "    \"\"\"\n",
        "    Instantiates a ``Filter Kernel`` object.\n",
        "\n",
        "    :param kernel_size: Horizontal and vertical size of convolutional kernels.\n",
        "    \"\"\"\n",
        "\t\tself.kernel_size = _pair(kenel_size)\n",
        "\n",
        "\tdef __call__(self):\n",
        "\t\tpass\n"
      ],
      "execution_count": null,
      "outputs": []
    },
    {
      "cell_type": "code",
      "metadata": {
        "id": "PL2L6_ABwBH4"
      },
      "source": [
        "class DoG_Kernel(AbstractKernel):\n",
        "\tr\"\"\"Generates DoG filter kernels.\n",
        "\t\"\"\"\n",
        "\tdef __init__(self, \n",
        "                 kernel_size: Union[int, Tuple[int, int]], \n",
        "                 sigma1 : float,\n",
        "                 sigma2 : float):\n",
        "        \"\"\"\n",
        "\t\t:param kernel_size: Horizontal and vertical size of DOG kernels.(If pass int, we consider it as a square filter) \n",
        "\t\t:param sigma1 : The sigma parameter for the first Gaussian function.\n",
        "\t\t:param sigma2 : The sigma parameter for the second Gaussian function.\n",
        "\t\t\"\"\"\n",
        "        super(DoG_Kernel, self).__init__(kernel_size)\n",
        "\t\tself.sigma1 = sigma1\n",
        "\t\tself.sigma2 = sigma2\n",
        "\n",
        "\t# returns a 2d tensor corresponding to the requested DoG filter\n",
        "\tdef __call__(self):\n",
        "\t\tk = self.kernel_size//2\n",
        "\t\tx, y = np.mgrid[-k:k+1:1, -k:k+1:1]\n",
        "\t\ta = 1.0 / (2 * math.pi)\n",
        "\t\tprod = x*x + y*y\n",
        "\t\tf1 = (1/(self.sigma1*self.sigma1)) * np.exp(-0.5 * (1/(self.sigma1*self.sigma1)) * (prod))\n",
        "\t\tf2 = (1/(self.sigma2*self.sigma2)) * np.exp(-0.5 * (1/(self.sigma2*self.sigma2)) * (prod))\n",
        "\t\tdog = a * (f1-f2)\n",
        "\t\tdog_mean = np.mean(dog)\n",
        "\t\tdog = dog - dog_mean\n",
        "\t\tdog_max = np.max(dog)\n",
        "\t\tdog = dog / dog_max\n",
        "\t\tdog_tensor = torch.from_numpy(dog)\n",
        "\t\treturn dog_tensor.float()"
      ],
      "execution_count": null,
      "outputs": []
    },
    {
      "cell_type": "code",
      "metadata": {
        "id": "gD0kdZthzUr3"
      },
      "source": [
        ""
      ],
      "execution_count": null,
      "outputs": []
    }
  ]
}