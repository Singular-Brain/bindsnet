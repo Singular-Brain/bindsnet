{
  "nbformat": 4,
  "nbformat_minor": 0,
  "metadata": {
    "colab": {
      "name": "lc_net.ipynb",
      "provenance": [],
      "collapsed_sections": [
        "QZtdOQm4oAu1",
        "ya3ZmsSUqtd3"
      ],
      "machine_shape": "hm",
      "include_colab_link": true
    },
    "kernelspec": {
      "name": "python3",
      "display_name": "Python 3.7.9 64-bit ('base': conda)"
    },
    "language_info": {
      "name": "python",
      "version": "3.7.9",
      "mimetype": "text/x-python",
      "codemirror_mode": {
        "name": "ipython",
        "version": 3
      },
      "pygments_lexer": "ipython3",
      "nbconvert_exporter": "python",
      "file_extension": ".py"
    },
    "interpreter": {
      "hash": "87ae7d1e75b14a98f2d7b99b6b39b40721989d38e6517f9dbec64ca4d8e3011b"
    },
    "widgets": {
      "application/vnd.jupyter.widget-state+json": {
        "ca7c65c793a24048957b33401657a819": {
          "model_module": "@jupyter-widgets/controls",
          "model_name": "HBoxModel",
          "model_module_version": "1.5.0",
          "state": {
            "_view_name": "HBoxView",
            "_dom_classes": [],
            "_model_name": "HBoxModel",
            "_view_module": "@jupyter-widgets/controls",
            "_model_module_version": "1.5.0",
            "_view_count": null,
            "_view_module_version": "1.5.0",
            "box_style": "",
            "layout": "IPY_MODEL_b5c793b53ea346d982d734c9f9aab399",
            "_model_module": "@jupyter-widgets/controls",
            "children": [
              "IPY_MODEL_f19872987bb24e4e895839e85e63169b",
              "IPY_MODEL_9dce5dfa97464b3a892a957baf73120f",
              "IPY_MODEL_3c017564d3464599a35e0b3e07e25ec7"
            ]
          }
        },
        "b5c793b53ea346d982d734c9f9aab399": {
          "model_module": "@jupyter-widgets/base",
          "model_name": "LayoutModel",
          "model_module_version": "1.2.0",
          "state": {
            "_view_name": "LayoutView",
            "grid_template_rows": null,
            "right": null,
            "justify_content": null,
            "_view_module": "@jupyter-widgets/base",
            "overflow": null,
            "_model_module_version": "1.2.0",
            "_view_count": null,
            "flex_flow": null,
            "width": null,
            "min_width": null,
            "border": null,
            "align_items": null,
            "bottom": null,
            "_model_module": "@jupyter-widgets/base",
            "top": null,
            "grid_column": null,
            "overflow_y": null,
            "overflow_x": null,
            "grid_auto_flow": null,
            "grid_area": null,
            "grid_template_columns": null,
            "flex": null,
            "_model_name": "LayoutModel",
            "justify_items": null,
            "grid_row": null,
            "max_height": null,
            "align_content": null,
            "visibility": null,
            "align_self": null,
            "height": null,
            "min_height": null,
            "padding": null,
            "grid_auto_rows": null,
            "grid_gap": null,
            "max_width": null,
            "order": null,
            "_view_module_version": "1.2.0",
            "grid_template_areas": null,
            "object_position": null,
            "object_fit": null,
            "grid_auto_columns": null,
            "margin": null,
            "display": null,
            "left": null
          }
        },
        "f19872987bb24e4e895839e85e63169b": {
          "model_module": "@jupyter-widgets/controls",
          "model_name": "HTMLModel",
          "model_module_version": "1.5.0",
          "state": {
            "_view_name": "HTMLView",
            "style": "IPY_MODEL_dc10e3f0565242409724e5644eed0016",
            "_dom_classes": [],
            "description": "",
            "_model_name": "HTMLModel",
            "placeholder": "​",
            "_view_module": "@jupyter-widgets/controls",
            "_model_module_version": "1.5.0",
            "value": "Running accuracy: 50.00%, Current val accuracy: 0.00%, :   0%",
            "_view_count": null,
            "_view_module_version": "1.5.0",
            "description_tooltip": null,
            "_model_module": "@jupyter-widgets/controls",
            "layout": "IPY_MODEL_7c496318886448c79908f8eed6f16902"
          }
        },
        "9dce5dfa97464b3a892a957baf73120f": {
          "model_module": "@jupyter-widgets/controls",
          "model_name": "FloatProgressModel",
          "model_module_version": "1.5.0",
          "state": {
            "_view_name": "ProgressView",
            "style": "IPY_MODEL_3ef7ae52ca1e4da1b6007a2fa268a880",
            "_dom_classes": [],
            "description": "",
            "_model_name": "FloatProgressModel",
            "bar_style": "",
            "max": 4000,
            "_view_module": "@jupyter-widgets/controls",
            "_model_module_version": "1.5.0",
            "value": 2,
            "_view_count": null,
            "_view_module_version": "1.5.0",
            "orientation": "horizontal",
            "min": 0,
            "description_tooltip": null,
            "_model_module": "@jupyter-widgets/controls",
            "layout": "IPY_MODEL_190776cc9223479b89367fed5f869816"
          }
        },
        "3c017564d3464599a35e0b3e07e25ec7": {
          "model_module": "@jupyter-widgets/controls",
          "model_name": "HTMLModel",
          "model_module_version": "1.5.0",
          "state": {
            "_view_name": "HTMLView",
            "style": "IPY_MODEL_c7e4dbac3b28428581e0cd9315e9667b",
            "_dom_classes": [],
            "description": "",
            "_model_name": "HTMLModel",
            "placeholder": "​",
            "_view_module": "@jupyter-widgets/controls",
            "_model_module_version": "1.5.0",
            "value": " 2/4000 [00:19&lt;10:38:46,  9.59s/it]",
            "_view_count": null,
            "_view_module_version": "1.5.0",
            "description_tooltip": null,
            "_model_module": "@jupyter-widgets/controls",
            "layout": "IPY_MODEL_9b8b8276c1304e198fab87f75f8e23aa"
          }
        },
        "dc10e3f0565242409724e5644eed0016": {
          "model_module": "@jupyter-widgets/controls",
          "model_name": "DescriptionStyleModel",
          "model_module_version": "1.5.0",
          "state": {
            "_view_name": "StyleView",
            "_model_name": "DescriptionStyleModel",
            "description_width": "",
            "_view_module": "@jupyter-widgets/base",
            "_model_module_version": "1.5.0",
            "_view_count": null,
            "_view_module_version": "1.2.0",
            "_model_module": "@jupyter-widgets/controls"
          }
        },
        "7c496318886448c79908f8eed6f16902": {
          "model_module": "@jupyter-widgets/base",
          "model_name": "LayoutModel",
          "model_module_version": "1.2.0",
          "state": {
            "_view_name": "LayoutView",
            "grid_template_rows": null,
            "right": null,
            "justify_content": null,
            "_view_module": "@jupyter-widgets/base",
            "overflow": null,
            "_model_module_version": "1.2.0",
            "_view_count": null,
            "flex_flow": null,
            "width": null,
            "min_width": null,
            "border": null,
            "align_items": null,
            "bottom": null,
            "_model_module": "@jupyter-widgets/base",
            "top": null,
            "grid_column": null,
            "overflow_y": null,
            "overflow_x": null,
            "grid_auto_flow": null,
            "grid_area": null,
            "grid_template_columns": null,
            "flex": null,
            "_model_name": "LayoutModel",
            "justify_items": null,
            "grid_row": null,
            "max_height": null,
            "align_content": null,
            "visibility": null,
            "align_self": null,
            "height": null,
            "min_height": null,
            "padding": null,
            "grid_auto_rows": null,
            "grid_gap": null,
            "max_width": null,
            "order": null,
            "_view_module_version": "1.2.0",
            "grid_template_areas": null,
            "object_position": null,
            "object_fit": null,
            "grid_auto_columns": null,
            "margin": null,
            "display": null,
            "left": null
          }
        },
        "3ef7ae52ca1e4da1b6007a2fa268a880": {
          "model_module": "@jupyter-widgets/controls",
          "model_name": "ProgressStyleModel",
          "model_module_version": "1.5.0",
          "state": {
            "_view_name": "StyleView",
            "_model_name": "ProgressStyleModel",
            "description_width": "",
            "_view_module": "@jupyter-widgets/base",
            "_model_module_version": "1.5.0",
            "_view_count": null,
            "_view_module_version": "1.2.0",
            "bar_color": null,
            "_model_module": "@jupyter-widgets/controls"
          }
        },
        "190776cc9223479b89367fed5f869816": {
          "model_module": "@jupyter-widgets/base",
          "model_name": "LayoutModel",
          "model_module_version": "1.2.0",
          "state": {
            "_view_name": "LayoutView",
            "grid_template_rows": null,
            "right": null,
            "justify_content": null,
            "_view_module": "@jupyter-widgets/base",
            "overflow": null,
            "_model_module_version": "1.2.0",
            "_view_count": null,
            "flex_flow": null,
            "width": null,
            "min_width": null,
            "border": null,
            "align_items": null,
            "bottom": null,
            "_model_module": "@jupyter-widgets/base",
            "top": null,
            "grid_column": null,
            "overflow_y": null,
            "overflow_x": null,
            "grid_auto_flow": null,
            "grid_area": null,
            "grid_template_columns": null,
            "flex": null,
            "_model_name": "LayoutModel",
            "justify_items": null,
            "grid_row": null,
            "max_height": null,
            "align_content": null,
            "visibility": null,
            "align_self": null,
            "height": null,
            "min_height": null,
            "padding": null,
            "grid_auto_rows": null,
            "grid_gap": null,
            "max_width": null,
            "order": null,
            "_view_module_version": "1.2.0",
            "grid_template_areas": null,
            "object_position": null,
            "object_fit": null,
            "grid_auto_columns": null,
            "margin": null,
            "display": null,
            "left": null
          }
        },
        "c7e4dbac3b28428581e0cd9315e9667b": {
          "model_module": "@jupyter-widgets/controls",
          "model_name": "DescriptionStyleModel",
          "model_module_version": "1.5.0",
          "state": {
            "_view_name": "StyleView",
            "_model_name": "DescriptionStyleModel",
            "description_width": "",
            "_view_module": "@jupyter-widgets/base",
            "_model_module_version": "1.5.0",
            "_view_count": null,
            "_view_module_version": "1.2.0",
            "_model_module": "@jupyter-widgets/controls"
          }
        },
        "9b8b8276c1304e198fab87f75f8e23aa": {
          "model_module": "@jupyter-widgets/base",
          "model_name": "LayoutModel",
          "model_module_version": "1.2.0",
          "state": {
            "_view_name": "LayoutView",
            "grid_template_rows": null,
            "right": null,
            "justify_content": null,
            "_view_module": "@jupyter-widgets/base",
            "overflow": null,
            "_model_module_version": "1.2.0",
            "_view_count": null,
            "flex_flow": null,
            "width": null,
            "min_width": null,
            "border": null,
            "align_items": null,
            "bottom": null,
            "_model_module": "@jupyter-widgets/base",
            "top": null,
            "grid_column": null,
            "overflow_y": null,
            "overflow_x": null,
            "grid_auto_flow": null,
            "grid_area": null,
            "grid_template_columns": null,
            "flex": null,
            "_model_name": "LayoutModel",
            "justify_items": null,
            "grid_row": null,
            "max_height": null,
            "align_content": null,
            "visibility": null,
            "align_self": null,
            "height": null,
            "min_height": null,
            "padding": null,
            "grid_auto_rows": null,
            "grid_gap": null,
            "max_width": null,
            "order": null,
            "_view_module_version": "1.2.0",
            "grid_template_areas": null,
            "object_position": null,
            "object_fit": null,
            "grid_auto_columns": null,
            "margin": null,
            "display": null,
            "left": null
          }
        },
        "98223b2a121940fabf8bbda68f8c4493": {
          "model_module": "@jupyter-widgets/controls",
          "model_name": "HBoxModel",
          "model_module_version": "1.5.0",
          "state": {
            "_view_name": "HBoxView",
            "_dom_classes": [],
            "_model_name": "HBoxModel",
            "_view_module": "@jupyter-widgets/controls",
            "_model_module_version": "1.5.0",
            "_view_count": null,
            "_view_module_version": "1.5.0",
            "box_style": "",
            "layout": "IPY_MODEL_b38af06923c044009efdf0810daa4c7f",
            "_model_module": "@jupyter-widgets/controls",
            "children": [
              "IPY_MODEL_905e0685df0345d8962535eea8d165c4",
              "IPY_MODEL_feb92ccd15644e85bd99d5d7a92d37bd",
              "IPY_MODEL_7f5498f9452448fdb612de836581f402"
            ]
          }
        },
        "b38af06923c044009efdf0810daa4c7f": {
          "model_module": "@jupyter-widgets/base",
          "model_name": "LayoutModel",
          "model_module_version": "1.2.0",
          "state": {
            "_view_name": "LayoutView",
            "grid_template_rows": null,
            "right": null,
            "justify_content": null,
            "_view_module": "@jupyter-widgets/base",
            "overflow": null,
            "_model_module_version": "1.2.0",
            "_view_count": null,
            "flex_flow": null,
            "width": null,
            "min_width": null,
            "border": null,
            "align_items": null,
            "bottom": null,
            "_model_module": "@jupyter-widgets/base",
            "top": null,
            "grid_column": null,
            "overflow_y": null,
            "overflow_x": null,
            "grid_auto_flow": null,
            "grid_area": null,
            "grid_template_columns": null,
            "flex": null,
            "_model_name": "LayoutModel",
            "justify_items": null,
            "grid_row": null,
            "max_height": null,
            "align_content": null,
            "visibility": null,
            "align_self": null,
            "height": null,
            "min_height": null,
            "padding": null,
            "grid_auto_rows": null,
            "grid_gap": null,
            "max_width": null,
            "order": null,
            "_view_module_version": "1.2.0",
            "grid_template_areas": null,
            "object_position": null,
            "object_fit": null,
            "grid_auto_columns": null,
            "margin": null,
            "display": null,
            "left": null
          }
        },
        "905e0685df0345d8962535eea8d165c4": {
          "model_module": "@jupyter-widgets/controls",
          "model_name": "HTMLModel",
          "model_module_version": "1.5.0",
          "state": {
            "_view_name": "HTMLView",
            "style": "IPY_MODEL_ff7b6cddb90f4f71828be1006d09ea03",
            "_dom_classes": [],
            "description": "",
            "_model_name": "HTMLModel",
            "placeholder": "​",
            "_view_module": "@jupyter-widgets/controls",
            "_model_module_version": "1.5.0",
            "value": "Running accuracy: 100.00%, Current val accuracy: 0.00%, :   4%",
            "_view_count": null,
            "_view_module_version": "1.5.0",
            "description_tooltip": null,
            "_model_module": "@jupyter-widgets/controls",
            "layout": "IPY_MODEL_9a682a87cdcf45c891a12b0cd82e641b"
          }
        },
        "feb92ccd15644e85bd99d5d7a92d37bd": {
          "model_module": "@jupyter-widgets/controls",
          "model_name": "FloatProgressModel",
          "model_module_version": "1.5.0",
          "state": {
            "_view_name": "ProgressView",
            "style": "IPY_MODEL_7327cd0c4499423d987654dca8772a97",
            "_dom_classes": [],
            "description": "",
            "_model_name": "FloatProgressModel",
            "bar_style": "",
            "max": 2000,
            "_view_module": "@jupyter-widgets/controls",
            "_model_module_version": "1.5.0",
            "value": 79,
            "_view_count": null,
            "_view_module_version": "1.5.0",
            "orientation": "horizontal",
            "min": 0,
            "description_tooltip": null,
            "_model_module": "@jupyter-widgets/controls",
            "layout": "IPY_MODEL_a4ce464ad0ef42a1943addb6804ab67f"
          }
        },
        "7f5498f9452448fdb612de836581f402": {
          "model_module": "@jupyter-widgets/controls",
          "model_name": "HTMLModel",
          "model_module_version": "1.5.0",
          "state": {
            "_view_name": "HTMLView",
            "style": "IPY_MODEL_ebfb6a21f6ca46d9981af0243fb30d00",
            "_dom_classes": [],
            "description": "",
            "_model_name": "HTMLModel",
            "placeholder": "​",
            "_view_module": "@jupyter-widgets/controls",
            "_model_module_version": "1.5.0",
            "value": " 79/2000 [03:19&lt;1:19:35,  2.49s/it]",
            "_view_count": null,
            "_view_module_version": "1.5.0",
            "description_tooltip": null,
            "_model_module": "@jupyter-widgets/controls",
            "layout": "IPY_MODEL_be097b546bc74649b82ba1277a378f17"
          }
        },
        "ff7b6cddb90f4f71828be1006d09ea03": {
          "model_module": "@jupyter-widgets/controls",
          "model_name": "DescriptionStyleModel",
          "model_module_version": "1.5.0",
          "state": {
            "_view_name": "StyleView",
            "_model_name": "DescriptionStyleModel",
            "description_width": "",
            "_view_module": "@jupyter-widgets/base",
            "_model_module_version": "1.5.0",
            "_view_count": null,
            "_view_module_version": "1.2.0",
            "_model_module": "@jupyter-widgets/controls"
          }
        },
        "9a682a87cdcf45c891a12b0cd82e641b": {
          "model_module": "@jupyter-widgets/base",
          "model_name": "LayoutModel",
          "model_module_version": "1.2.0",
          "state": {
            "_view_name": "LayoutView",
            "grid_template_rows": null,
            "right": null,
            "justify_content": null,
            "_view_module": "@jupyter-widgets/base",
            "overflow": null,
            "_model_module_version": "1.2.0",
            "_view_count": null,
            "flex_flow": null,
            "width": null,
            "min_width": null,
            "border": null,
            "align_items": null,
            "bottom": null,
            "_model_module": "@jupyter-widgets/base",
            "top": null,
            "grid_column": null,
            "overflow_y": null,
            "overflow_x": null,
            "grid_auto_flow": null,
            "grid_area": null,
            "grid_template_columns": null,
            "flex": null,
            "_model_name": "LayoutModel",
            "justify_items": null,
            "grid_row": null,
            "max_height": null,
            "align_content": null,
            "visibility": null,
            "align_self": null,
            "height": null,
            "min_height": null,
            "padding": null,
            "grid_auto_rows": null,
            "grid_gap": null,
            "max_width": null,
            "order": null,
            "_view_module_version": "1.2.0",
            "grid_template_areas": null,
            "object_position": null,
            "object_fit": null,
            "grid_auto_columns": null,
            "margin": null,
            "display": null,
            "left": null
          }
        },
        "7327cd0c4499423d987654dca8772a97": {
          "model_module": "@jupyter-widgets/controls",
          "model_name": "ProgressStyleModel",
          "model_module_version": "1.5.0",
          "state": {
            "_view_name": "StyleView",
            "_model_name": "ProgressStyleModel",
            "description_width": "",
            "_view_module": "@jupyter-widgets/base",
            "_model_module_version": "1.5.0",
            "_view_count": null,
            "_view_module_version": "1.2.0",
            "bar_color": null,
            "_model_module": "@jupyter-widgets/controls"
          }
        },
        "a4ce464ad0ef42a1943addb6804ab67f": {
          "model_module": "@jupyter-widgets/base",
          "model_name": "LayoutModel",
          "model_module_version": "1.2.0",
          "state": {
            "_view_name": "LayoutView",
            "grid_template_rows": null,
            "right": null,
            "justify_content": null,
            "_view_module": "@jupyter-widgets/base",
            "overflow": null,
            "_model_module_version": "1.2.0",
            "_view_count": null,
            "flex_flow": null,
            "width": null,
            "min_width": null,
            "border": null,
            "align_items": null,
            "bottom": null,
            "_model_module": "@jupyter-widgets/base",
            "top": null,
            "grid_column": null,
            "overflow_y": null,
            "overflow_x": null,
            "grid_auto_flow": null,
            "grid_area": null,
            "grid_template_columns": null,
            "flex": null,
            "_model_name": "LayoutModel",
            "justify_items": null,
            "grid_row": null,
            "max_height": null,
            "align_content": null,
            "visibility": null,
            "align_self": null,
            "height": null,
            "min_height": null,
            "padding": null,
            "grid_auto_rows": null,
            "grid_gap": null,
            "max_width": null,
            "order": null,
            "_view_module_version": "1.2.0",
            "grid_template_areas": null,
            "object_position": null,
            "object_fit": null,
            "grid_auto_columns": null,
            "margin": null,
            "display": null,
            "left": null
          }
        },
        "ebfb6a21f6ca46d9981af0243fb30d00": {
          "model_module": "@jupyter-widgets/controls",
          "model_name": "DescriptionStyleModel",
          "model_module_version": "1.5.0",
          "state": {
            "_view_name": "StyleView",
            "_model_name": "DescriptionStyleModel",
            "description_width": "",
            "_view_module": "@jupyter-widgets/base",
            "_model_module_version": "1.5.0",
            "_view_count": null,
            "_view_module_version": "1.2.0",
            "_model_module": "@jupyter-widgets/controls"
          }
        },
        "be097b546bc74649b82ba1277a378f17": {
          "model_module": "@jupyter-widgets/base",
          "model_name": "LayoutModel",
          "model_module_version": "1.2.0",
          "state": {
            "_view_name": "LayoutView",
            "grid_template_rows": null,
            "right": null,
            "justify_content": null,
            "_view_module": "@jupyter-widgets/base",
            "overflow": null,
            "_model_module_version": "1.2.0",
            "_view_count": null,
            "flex_flow": null,
            "width": null,
            "min_width": null,
            "border": null,
            "align_items": null,
            "bottom": null,
            "_model_module": "@jupyter-widgets/base",
            "top": null,
            "grid_column": null,
            "overflow_y": null,
            "overflow_x": null,
            "grid_auto_flow": null,
            "grid_area": null,
            "grid_template_columns": null,
            "flex": null,
            "_model_name": "LayoutModel",
            "justify_items": null,
            "grid_row": null,
            "max_height": null,
            "align_content": null,
            "visibility": null,
            "align_self": null,
            "height": null,
            "min_height": null,
            "padding": null,
            "grid_auto_rows": null,
            "grid_gap": null,
            "max_width": null,
            "order": null,
            "_view_module_version": "1.2.0",
            "grid_template_areas": null,
            "object_position": null,
            "object_fit": null,
            "grid_auto_columns": null,
            "margin": null,
            "display": null,
            "left": null
          }
        },
        "661194ee80564effb4e50a9317318c7a": {
          "model_module": "@jupyter-widgets/controls",
          "model_name": "HBoxModel",
          "model_module_version": "1.5.0",
          "state": {
            "_view_name": "HBoxView",
            "_dom_classes": [],
            "_model_name": "HBoxModel",
            "_view_module": "@jupyter-widgets/controls",
            "_model_module_version": "1.5.0",
            "_view_count": null,
            "_view_module_version": "1.5.0",
            "box_style": "",
            "layout": "IPY_MODEL_92194849783e4c0b960c23ca86006a10",
            "_model_module": "@jupyter-widgets/controls",
            "children": [
              "IPY_MODEL_98fc35d9ecca410f8b515b11c7260b43",
              "IPY_MODEL_fdda91ea19b3465a9ccf453cc2a36c15",
              "IPY_MODEL_7a08fbda807c40c79b41433ccc759803"
            ]
          }
        },
        "92194849783e4c0b960c23ca86006a10": {
          "model_module": "@jupyter-widgets/base",
          "model_name": "LayoutModel",
          "model_module_version": "1.2.0",
          "state": {
            "_view_name": "LayoutView",
            "grid_template_rows": null,
            "right": null,
            "justify_content": null,
            "_view_module": "@jupyter-widgets/base",
            "overflow": null,
            "_model_module_version": "1.2.0",
            "_view_count": null,
            "flex_flow": null,
            "width": null,
            "min_width": null,
            "border": null,
            "align_items": null,
            "bottom": null,
            "_model_module": "@jupyter-widgets/base",
            "top": null,
            "grid_column": null,
            "overflow_y": null,
            "overflow_x": null,
            "grid_auto_flow": null,
            "grid_area": null,
            "grid_template_columns": null,
            "flex": null,
            "_model_name": "LayoutModel",
            "justify_items": null,
            "grid_row": null,
            "max_height": null,
            "align_content": null,
            "visibility": null,
            "align_self": null,
            "height": null,
            "min_height": null,
            "padding": null,
            "grid_auto_rows": null,
            "grid_gap": null,
            "max_width": null,
            "order": null,
            "_view_module_version": "1.2.0",
            "grid_template_areas": null,
            "object_position": null,
            "object_fit": null,
            "grid_auto_columns": null,
            "margin": null,
            "display": null,
            "left": null
          }
        },
        "98fc35d9ecca410f8b515b11c7260b43": {
          "model_module": "@jupyter-widgets/controls",
          "model_name": "HTMLModel",
          "model_module_version": "1.5.0",
          "state": {
            "_view_name": "HTMLView",
            "style": "IPY_MODEL_672be7dc1f1041ecbe4d8e6d2e6554e3",
            "_dom_classes": [],
            "description": "",
            "_model_name": "HTMLModel",
            "placeholder": "​",
            "_view_module": "@jupyter-widgets/controls",
            "_model_module_version": "1.5.0",
            "value": "Running accuracy: 100.00%, Current val accuracy: 0.00%, :   1%",
            "_view_count": null,
            "_view_module_version": "1.5.0",
            "description_tooltip": null,
            "_model_module": "@jupyter-widgets/controls",
            "layout": "IPY_MODEL_ea4a9292abf5464ca25e407a262b7854"
          }
        },
        "fdda91ea19b3465a9ccf453cc2a36c15": {
          "model_module": "@jupyter-widgets/controls",
          "model_name": "FloatProgressModel",
          "model_module_version": "1.5.0",
          "state": {
            "_view_name": "ProgressView",
            "style": "IPY_MODEL_db144e915cb14c418d82b2f9107cef01",
            "_dom_classes": [],
            "description": "",
            "_model_name": "FloatProgressModel",
            "bar_style": "",
            "max": 2000,
            "_view_module": "@jupyter-widgets/controls",
            "_model_module_version": "1.5.0",
            "value": 14,
            "_view_count": null,
            "_view_module_version": "1.5.0",
            "orientation": "horizontal",
            "min": 0,
            "description_tooltip": null,
            "_model_module": "@jupyter-widgets/controls",
            "layout": "IPY_MODEL_b69ab972c8a842f9aacebba80d5554b7"
          }
        },
        "7a08fbda807c40c79b41433ccc759803": {
          "model_module": "@jupyter-widgets/controls",
          "model_name": "HTMLModel",
          "model_module_version": "1.5.0",
          "state": {
            "_view_name": "HTMLView",
            "style": "IPY_MODEL_6bf1b8ee9ecc4330a35777de7a491df5",
            "_dom_classes": [],
            "description": "",
            "_model_name": "HTMLModel",
            "placeholder": "​",
            "_view_module": "@jupyter-widgets/controls",
            "_model_module_version": "1.5.0",
            "value": " 14/2000 [00:35&lt;1:23:37,  2.53s/it]",
            "_view_count": null,
            "_view_module_version": "1.5.0",
            "description_tooltip": null,
            "_model_module": "@jupyter-widgets/controls",
            "layout": "IPY_MODEL_9042967f47494e5a92663c30648fcb74"
          }
        },
        "672be7dc1f1041ecbe4d8e6d2e6554e3": {
          "model_module": "@jupyter-widgets/controls",
          "model_name": "DescriptionStyleModel",
          "model_module_version": "1.5.0",
          "state": {
            "_view_name": "StyleView",
            "_model_name": "DescriptionStyleModel",
            "description_width": "",
            "_view_module": "@jupyter-widgets/base",
            "_model_module_version": "1.5.0",
            "_view_count": null,
            "_view_module_version": "1.2.0",
            "_model_module": "@jupyter-widgets/controls"
          }
        },
        "ea4a9292abf5464ca25e407a262b7854": {
          "model_module": "@jupyter-widgets/base",
          "model_name": "LayoutModel",
          "model_module_version": "1.2.0",
          "state": {
            "_view_name": "LayoutView",
            "grid_template_rows": null,
            "right": null,
            "justify_content": null,
            "_view_module": "@jupyter-widgets/base",
            "overflow": null,
            "_model_module_version": "1.2.0",
            "_view_count": null,
            "flex_flow": null,
            "width": null,
            "min_width": null,
            "border": null,
            "align_items": null,
            "bottom": null,
            "_model_module": "@jupyter-widgets/base",
            "top": null,
            "grid_column": null,
            "overflow_y": null,
            "overflow_x": null,
            "grid_auto_flow": null,
            "grid_area": null,
            "grid_template_columns": null,
            "flex": null,
            "_model_name": "LayoutModel",
            "justify_items": null,
            "grid_row": null,
            "max_height": null,
            "align_content": null,
            "visibility": null,
            "align_self": null,
            "height": null,
            "min_height": null,
            "padding": null,
            "grid_auto_rows": null,
            "grid_gap": null,
            "max_width": null,
            "order": null,
            "_view_module_version": "1.2.0",
            "grid_template_areas": null,
            "object_position": null,
            "object_fit": null,
            "grid_auto_columns": null,
            "margin": null,
            "display": null,
            "left": null
          }
        },
        "db144e915cb14c418d82b2f9107cef01": {
          "model_module": "@jupyter-widgets/controls",
          "model_name": "ProgressStyleModel",
          "model_module_version": "1.5.0",
          "state": {
            "_view_name": "StyleView",
            "_model_name": "ProgressStyleModel",
            "description_width": "",
            "_view_module": "@jupyter-widgets/base",
            "_model_module_version": "1.5.0",
            "_view_count": null,
            "_view_module_version": "1.2.0",
            "bar_color": null,
            "_model_module": "@jupyter-widgets/controls"
          }
        },
        "b69ab972c8a842f9aacebba80d5554b7": {
          "model_module": "@jupyter-widgets/base",
          "model_name": "LayoutModel",
          "model_module_version": "1.2.0",
          "state": {
            "_view_name": "LayoutView",
            "grid_template_rows": null,
            "right": null,
            "justify_content": null,
            "_view_module": "@jupyter-widgets/base",
            "overflow": null,
            "_model_module_version": "1.2.0",
            "_view_count": null,
            "flex_flow": null,
            "width": null,
            "min_width": null,
            "border": null,
            "align_items": null,
            "bottom": null,
            "_model_module": "@jupyter-widgets/base",
            "top": null,
            "grid_column": null,
            "overflow_y": null,
            "overflow_x": null,
            "grid_auto_flow": null,
            "grid_area": null,
            "grid_template_columns": null,
            "flex": null,
            "_model_name": "LayoutModel",
            "justify_items": null,
            "grid_row": null,
            "max_height": null,
            "align_content": null,
            "visibility": null,
            "align_self": null,
            "height": null,
            "min_height": null,
            "padding": null,
            "grid_auto_rows": null,
            "grid_gap": null,
            "max_width": null,
            "order": null,
            "_view_module_version": "1.2.0",
            "grid_template_areas": null,
            "object_position": null,
            "object_fit": null,
            "grid_auto_columns": null,
            "margin": null,
            "display": null,
            "left": null
          }
        },
        "6bf1b8ee9ecc4330a35777de7a491df5": {
          "model_module": "@jupyter-widgets/controls",
          "model_name": "DescriptionStyleModel",
          "model_module_version": "1.5.0",
          "state": {
            "_view_name": "StyleView",
            "_model_name": "DescriptionStyleModel",
            "description_width": "",
            "_view_module": "@jupyter-widgets/base",
            "_model_module_version": "1.5.0",
            "_view_count": null,
            "_view_module_version": "1.2.0",
            "_model_module": "@jupyter-widgets/controls"
          }
        },
        "9042967f47494e5a92663c30648fcb74": {
          "model_module": "@jupyter-widgets/base",
          "model_name": "LayoutModel",
          "model_module_version": "1.2.0",
          "state": {
            "_view_name": "LayoutView",
            "grid_template_rows": null,
            "right": null,
            "justify_content": null,
            "_view_module": "@jupyter-widgets/base",
            "overflow": null,
            "_model_module_version": "1.2.0",
            "_view_count": null,
            "flex_flow": null,
            "width": null,
            "min_width": null,
            "border": null,
            "align_items": null,
            "bottom": null,
            "_model_module": "@jupyter-widgets/base",
            "top": null,
            "grid_column": null,
            "overflow_y": null,
            "overflow_x": null,
            "grid_auto_flow": null,
            "grid_area": null,
            "grid_template_columns": null,
            "flex": null,
            "_model_name": "LayoutModel",
            "justify_items": null,
            "grid_row": null,
            "max_height": null,
            "align_content": null,
            "visibility": null,
            "align_self": null,
            "height": null,
            "min_height": null,
            "padding": null,
            "grid_auto_rows": null,
            "grid_gap": null,
            "max_width": null,
            "order": null,
            "_view_module_version": "1.2.0",
            "grid_template_areas": null,
            "object_position": null,
            "object_fit": null,
            "grid_auto_columns": null,
            "margin": null,
            "display": null,
            "left": null
          }
        }
      }
    },
    "accelerator": "GPU"
  },
  "cells": [
    {
      "cell_type": "markdown",
      "metadata": {
        "id": "view-in-github",
        "colab_type": "text"
      },
      "source": [
        "<a href=\"https://colab.research.google.com/github/Singular-Brain/bindsnet/blob/master/BioLCNet.ipynb\" target=\"_parent\"><img src=\"https://colab.research.google.com/assets/colab-badge.svg\" alt=\"Open In Colab\"/></a>"
      ]
    },
    {
      "cell_type": "markdown",
      "metadata": {
        "id": "7fTSvrK3T_GA"
      },
      "source": [
        "#Notebook setups"
      ]
    },
    {
      "cell_type": "code",
      "metadata": {
        "id": "lXtgP_iEPE0G",
        "colab": {
          "base_uri": "https://localhost:8080/"
        },
        "outputId": "28afd8ee-102a-43bb-b27d-95eaca5ce2c4"
      },
      "source": [
        "!pip install -q git+https://github.com/Singular-Brain/bindsnet"
      ],
      "execution_count": 1,
      "outputs": [
        {
          "output_type": "stream",
          "name": "stdout",
          "text": [
            "\u001b[?25l\r\u001b[K     |██▊                             | 10 kB 25.3 MB/s eta 0:00:01\r\u001b[K     |█████▍                          | 20 kB 9.8 MB/s eta 0:00:01\r\u001b[K     |████████▏                       | 30 kB 8.1 MB/s eta 0:00:01\r\u001b[K     |██████████▉                     | 40 kB 7.7 MB/s eta 0:00:01\r\u001b[K     |█████████████▋                  | 51 kB 4.3 MB/s eta 0:00:01\r\u001b[K     |████████████████▎               | 61 kB 4.5 MB/s eta 0:00:01\r\u001b[K     |███████████████████             | 71 kB 4.5 MB/s eta 0:00:01\r\u001b[K     |█████████████████████▊          | 81 kB 5.0 MB/s eta 0:00:01\r\u001b[K     |████████████████████████▌       | 92 kB 5.2 MB/s eta 0:00:01\r\u001b[K     |███████████████████████████▏    | 102 kB 4.2 MB/s eta 0:00:01\r\u001b[K     |██████████████████████████████  | 112 kB 4.2 MB/s eta 0:00:01\r\u001b[K     |████████████████████████████████| 120 kB 4.2 MB/s \n",
            "\u001b[K     |████████████████████████████████| 73 kB 2.1 MB/s \n",
            "\u001b[K     |████████████████████████████████| 280 kB 39.7 MB/s \n",
            "\u001b[K     |████████████████████████████████| 28.5 MB 68 kB/s \n",
            "\u001b[?25h  Building wheel for BindsNET (setup.py) ... \u001b[?25l\u001b[?25hdone\n",
            "\u001b[31mERROR: pip's dependency resolver does not currently take into account all the packages that are installed. This behaviour is the source of the following dependency conflicts.\n",
            "datascience 0.10.6 requires folium==0.2.1, but you have folium 0.8.3 which is incompatible.\n",
            "albumentations 0.1.12 requires imgaug<0.2.7,>=0.2.5, but you have imgaug 0.2.9 which is incompatible.\u001b[0m\n"
          ]
        }
      ]
    },
    {
      "cell_type": "code",
      "metadata": {
        "colab": {
          "base_uri": "https://localhost:8080/"
        },
        "id": "OW7m3ugEHZP_",
        "outputId": "e81edf6b-91a1-4ce8-c49d-df235baacbce"
      },
      "source": [
        "!wget https://data.deepai.org/mnist.zip\n",
        "!mkdir -p ../data/MNIST/TorchvisionDatasetWrapper/raw\n",
        "!unzip mnist.zip -d ../data/MNIST/TorchvisionDatasetWrapper/raw/"
      ],
      "execution_count": 2,
      "outputs": [
        {
          "output_type": "stream",
          "name": "stdout",
          "text": [
            "--2021-09-02 07:24:01--  https://data.deepai.org/mnist.zip\n",
            "Resolving data.deepai.org (data.deepai.org)... 138.201.36.183\n",
            "Connecting to data.deepai.org (data.deepai.org)|138.201.36.183|:443... connected.\n",
            "HTTP request sent, awaiting response... 200 OK\n",
            "Length: 11597176 (11M) [application/x-zip-compressed]\n",
            "Saving to: ‘mnist.zip’\n",
            "\n",
            "mnist.zip           100%[===================>]  11.06M  4.58MB/s    in 2.4s    \n",
            "\n",
            "2021-09-02 07:24:05 (4.58 MB/s) - ‘mnist.zip’ saved [11597176/11597176]\n",
            "\n",
            "Archive:  mnist.zip\n",
            "  inflating: ../data/MNIST/TorchvisionDatasetWrapper/raw/train-labels-idx1-ubyte.gz  \n",
            "  inflating: ../data/MNIST/TorchvisionDatasetWrapper/raw/train-images-idx3-ubyte.gz  \n",
            "  inflating: ../data/MNIST/TorchvisionDatasetWrapper/raw/t10k-images-idx3-ubyte.gz  \n",
            "  inflating: ../data/MNIST/TorchvisionDatasetWrapper/raw/t10k-labels-idx1-ubyte.gz  \n"
          ]
        }
      ]
    },
    {
      "cell_type": "code",
      "metadata": {
        "id": "KXcXvvsXcOlv",
        "colab": {
          "base_uri": "https://localhost:8080/"
        },
        "outputId": "c6b94a9e-f75e-44cc-e38e-920d07f02bd5"
      },
      "source": [
        "!git clone https://github.com/Singular-Brain/bindsnet/"
      ],
      "execution_count": 3,
      "outputs": [
        {
          "output_type": "stream",
          "name": "stdout",
          "text": [
            "Cloning into 'bindsnet'...\n",
            "remote: Enumerating objects: 10948, done.\u001b[K\n",
            "remote: Counting objects: 100% (1908/1908), done.\u001b[K\n",
            "remote: Compressing objects: 100% (793/793), done.\u001b[K\n",
            "remote: Total 10948 (delta 1353), reused 1586 (delta 1114), pack-reused 9040\u001b[K\n",
            "Receiving objects: 100% (10948/10948), 65.41 MiB | 24.80 MiB/s, done.\n",
            "Resolving deltas: 100% (7079/7079), done.\n"
          ]
        }
      ]
    },
    {
      "cell_type": "code",
      "metadata": {
        "id": "BFGNAecpT-Lj"
      },
      "source": [
        "from bindsnet.network.nodes import Nodes\n",
        "import os\n",
        "import torch\n",
        "import random\n",
        "import numpy as np\n",
        "import copy\n",
        "import math\n",
        "import matplotlib.pyplot as plt\n",
        "import collections\n",
        "from torchvision import transforms\n",
        "from tqdm.notebook import tqdm\n",
        "from sklearn.metrics import confusion_matrix\n",
        "import seaborn as sn\n",
        "import torch.nn.functional as fn\n",
        "\n",
        "from abc import ABC, abstractmethod\n",
        "from typing import Union, Tuple, Optional, Sequence\n",
        "from torch.nn.modules.utils import _pair\n",
        "\n",
        "from bindsnet.datasets import MNIST\n",
        "from bindsnet.encoding import PoissonEncoder\n",
        "from bindsnet.network import Network\n",
        "from bindsnet.network.nodes import Input, LIFNodes, AdaptiveLIFNodes, IFNodes\n",
        "from bindsnet.network.topology import LocalConnection, Connection, LocalConnectionOrig, MaxPool2dLocalConnection\n",
        "from bindsnet.network.monitors import Monitor, AbstractMonitor, TensorBoardMonitor\n",
        "from bindsnet.learning import PostPre, MSTDP, MSTDPET, WeightDependentPostPre, Hebbian\n",
        "from bindsnet.learning.reward import DynamicDopamineInjection, DopaminergicRPE\n",
        "from bindsnet.analysis.plotting import plot_locally_connected_weights,plot_locally_connected_weights_meh,plot_spikes\n",
        "from bindsnet.utils import reshape_locally_connected_weights, reshape_locally_connected_weights_meh, reshape_conv2d_weights"
      ],
      "execution_count": 4,
      "outputs": []
    },
    {
      "cell_type": "markdown",
      "metadata": {
        "id": "ULGGHW43UksI"
      },
      "source": [
        "## Sets up Gpu use and manual seed\n"
      ]
    },
    {
      "cell_type": "code",
      "metadata": {
        "id": "LiUmFrpcUfmR",
        "colab": {
          "base_uri": "https://localhost:8080/"
        },
        "outputId": "62eae2cf-27f4-4eb5-e8ac-407fc11f6e01"
      },
      "source": [
        "if torch.cuda.is_available():\n",
        "    device =  torch.device(\"cuda\")\n",
        "    gpu = True\n",
        "else:\n",
        "    device =  torch.device(\"cpu\")\n",
        "    gpu = False\n",
        "\n",
        "def manual_seed(seed):\n",
        "    random.seed(seed)\n",
        "    torch.manual_seed(seed)\n",
        "    np.random.seed(seed)\n",
        "    if torch.cuda.is_available():\n",
        "        torch.cuda.manual_seed_all(seed)\n",
        "\n",
        "\n",
        "SEED = 2045 # The Singularity is Near!\n",
        "manual_seed(SEED)\n",
        "\n",
        "torch.set_num_threads(os.cpu_count() - 1)\n",
        "print(\"Running on Device = \", device)\n"
      ],
      "execution_count": 5,
      "outputs": [
        {
          "output_type": "stream",
          "name": "stdout",
          "text": [
            "Running on Device =  cuda\n"
          ]
        }
      ]
    },
    {
      "cell_type": "markdown",
      "metadata": {
        "id": "MBKedMpIleMr"
      },
      "source": [
        "# Custom Monitors"
      ]
    },
    {
      "cell_type": "markdown",
      "metadata": {
        "id": "6tfqpsr2a1WV"
      },
      "source": [
        "## Reward Monitor"
      ]
    },
    {
      "cell_type": "code",
      "metadata": {
        "id": "M44GJ65GleMs"
      },
      "source": [
        "class RewardMonitor(AbstractMonitor):\n",
        "    # language=rst\n",
        "    \"\"\"\n",
        "    Records state variables of interest.\n",
        "    \"\"\"\n",
        "\n",
        "    def __init__(\n",
        "        self,\n",
        "        time: None,\n",
        "        batch_size: int = 1,\n",
        "        device: str = \"cpu\",\n",
        "    ):\n",
        "        # language=rst\n",
        "        \"\"\"\n",
        "        Constructs a ``Monitor`` object.\n",
        "\n",
        "        :param obj: An object to record state variables from during network simulation.\n",
        "        :param state_vars: Iterable of strings indicating names of state variables to record.\n",
        "        :param time: If not ``None``, pre-allocate memory for state variable recording.\n",
        "        :param device: Allow the monitor to be on different device separate from Network device\n",
        "        \"\"\"\n",
        "        super().__init__()\n",
        "\n",
        "        self.time = time\n",
        "        self.batch_size = batch_size\n",
        "        self.device = device\n",
        "\n",
        "        # if time is not specified the monitor variable accumulate the logs\n",
        "        if self.time is None:\n",
        "            self.device = \"cpu\"\n",
        "\n",
        "        self.recording = []\n",
        "        self.reset_state_variables()\n",
        "\n",
        "    def get(self,) -> torch.Tensor:\n",
        "        # language=rst\n",
        "        \"\"\"\n",
        "        Return recording to user.\n",
        "\n",
        "        :return: Tensor of shape ``[time, n_1, ..., n_k]``, where ``[n_1, ..., n_k]`` is the shape of the recorded state\n",
        "        variable.\n",
        "        Note, if time == `None`, get return the logs and empty the monitor variable\n",
        "\n",
        "        \"\"\"\n",
        "        # return_logs = torch.as_tensor(self.recording)\n",
        "        # if self.time is None:\n",
        "        #     self.recording = []\n",
        "        return self.recording\n",
        "\n",
        "    def record(self, **kwargs) -> None:\n",
        "        # language=rst\n",
        "        \"\"\"\n",
        "        Appends the current value of the recorded state variables to the recording.\n",
        "        \"\"\"\n",
        "        if \"reward\" in kwargs:\n",
        "            self.recording.append(kwargs[\"reward\"])\n",
        "        # remove the oldest element (first in the list)\n",
        "        # if self.time is not None:\n",
        "        #     self.recording.pop(0)\n",
        "\n",
        "    def reset_state_variables(self) -> None:\n",
        "        # language=rst\n",
        "        \"\"\"\n",
        "        Resets recordings to empty ``List``s.\n",
        "        \"\"\"\n",
        "        self.recording = []\n"
      ],
      "execution_count": 6,
      "outputs": []
    },
    {
      "cell_type": "markdown",
      "metadata": {
        "id": "8clxN_npa1WY"
      },
      "source": [
        "## Plot Eligibility trace"
      ]
    },
    {
      "cell_type": "code",
      "metadata": {
        "id": "SshGlRwpa1WZ"
      },
      "source": [
        "class PlotET(AbstractMonitor):\n",
        "    # language=rst\n",
        "    \"\"\"\n",
        "    Records state variables of interest.\n",
        "    \"\"\"\n",
        "\n",
        "    def __init__(\n",
        "        self,\n",
        "        i,\n",
        "        j,\n",
        "        source,\n",
        "        target,\n",
        "        connection,\n",
        "    ):\n",
        "        # language=rst\n",
        "        \"\"\"\n",
        "        Constructs a ``Monitor`` object.\n",
        "\n",
        "        :param obj: An object to record state variables from during network simulation.\n",
        "        :param state_vars: Iterable of strings indicating names of state variables to record.\n",
        "        :param time: If not ``None``, pre-allocate memory for state variable recording.\n",
        "        :param device: Allow the monitor to be on different device separate from Network device\n",
        "        \"\"\"\n",
        "        super().__init__()\n",
        "        self.i = i\n",
        "        self.j = j\n",
        "        self.source = source\n",
        "        self.target = target\n",
        "        self.connection = connection\n",
        "\n",
        "        self.reset_state_variables()\n",
        "\n",
        "    def get(self,) -> torch.Tensor:\n",
        "        # language=rst\n",
        "        \"\"\"\n",
        "        Return recording to user.\n",
        "\n",
        "        :return: Tensor of shape ``[time, n_1, ..., n_k]``, where ``[n_1, ..., n_k]`` is the shape of the recorded state\n",
        "        variable.\n",
        "        Note, if time == `None`, get return the logs and empty the monitor variable\n",
        "\n",
        "        \"\"\"\n",
        "        # return_logs = torch.as_tensor(self.recording)\n",
        "        # if self.time is None:\n",
        "        #     self.recording = []\n",
        "        return self.recording\n",
        "\n",
        "    def record(self, **kwargs) -> None:\n",
        "        # language=rst\n",
        "        \"\"\"\n",
        "        Appends the current value of the recorded state variables to the recording.\n",
        "        \"\"\"\n",
        "        if hasattr(self.connection.update_rule, 'p_plus'):\n",
        "            self.recording['spikes_i'].append(self.source.s.ravel()[self.i].item())\n",
        "            self.recording['spikes_j'].append(self.target.s.ravel()[self.j].item())\n",
        "            self.recording['p_plus'].append(self.connection.update_rule.p_plus[self.i].item())\n",
        "            self.recording['p_minus'].append(self.connection.update_rule.p_minus[self.j].item())\n",
        "            self.recording['eligibility'].append(self.connection.update_rule.eligibility[self.i,self.j].item())\n",
        "            self.recording['eligibility_trace'].append(self.connection.update_rule.eligibility_trace[self.i,self.j].item())\n",
        "            self.recording['w'].append(self.connection.w[self.i,self.j].item())\n",
        "\n",
        "    def plot(self):\n",
        "\n",
        "        fig, axs  = plt.subplots(7)\n",
        "        fig.set_size_inches(10, 20)\n",
        "        for i, (name, p) in enumerate(self.recording.items()):\n",
        "            axs[i].plot(p[-250:])\n",
        "            axs[i].set_title(name)\n",
        "    \n",
        "        fig.show()\n",
        "\n",
        "    def reset_state_variables(self) -> None:\n",
        "        # language=rst\n",
        "        \"\"\"\n",
        "        Resets recordings to empty ``List``s.\n",
        "        \"\"\"\n",
        "        self.recording = {\n",
        "        'spikes_i': [],\n",
        "        'spikes_j': [],\n",
        "        'p_plus':[],\n",
        "        'p_minus':[],\n",
        "        'eligibility':[],\n",
        "        'eligibility_trace':[],\n",
        "        'w': [],\n",
        "        }\n"
      ],
      "execution_count": 7,
      "outputs": []
    },
    {
      "cell_type": "markdown",
      "metadata": {
        "id": "R_YGE1XjvIkZ"
      },
      "source": [
        "## Kernel "
      ]
    },
    {
      "cell_type": "code",
      "metadata": {
        "id": "-4hp2V46vOUv"
      },
      "source": [
        "class AbstractKernel(ABC):\n",
        "    def __init__(self, kernel_size):\n",
        "        \"\"\"\n",
        "        Base class for generating image filter kernels such as Gabor, DoG, etc. Each subclass should override :attr:`__call__` function.\n",
        "        Instantiates a ``Filter Kernel`` object.\n",
        "        :param window_size : The size of the kernel (int)\n",
        "        \"\"\"\n",
        "        self.window_size = kernel_size\n",
        "\n",
        "    def __call__(self):\n",
        "        pass\n"
      ],
      "execution_count": 8,
      "outputs": []
    },
    {
      "cell_type": "code",
      "metadata": {
        "id": "PL2L6_ABwBH4"
      },
      "source": [
        "class DoGKernel(AbstractKernel):\n",
        "    def __init__(self, kernel_size: Union[int, Tuple[int, int]], sigma1 : float, sigma2 : float):\n",
        "        \"\"\"\n",
        "        Generates DoG filter kernels.\n",
        "        :param kernel_size: Horizontal and vertical size of DOG kernels.(If pass int, we consider it as a square filter) \n",
        "        :param sigma1 : The sigma parameter for the first Gaussian function.\n",
        "        :param sigma2 : The sigma parameter for the second Gaussian function.\n",
        "        \"\"\"\n",
        "        super(DoGKernel, self).__init__(kernel_size)\n",
        "        self.sigma1 = sigma1\n",
        "        self.sigma2 = sigma2\n",
        "        \n",
        "    def __call__(self):\n",
        "        k = self.window_size//2\n",
        "        x, y = np.mgrid[-k:k+1:1, -k:k+1:1]\n",
        "        a = 1.0 / (2 * math.pi)\n",
        "        prod = x*x + y*y\n",
        "        f1 = (1/(self.sigma1*self.sigma1)) * np.exp(-0.5 * (1/(self.sigma1*self.sigma1)) * (prod))\n",
        "        f2 = (1/(self.sigma2*self.sigma2)) * np.exp(-0.5 * (1/(self.sigma2*self.sigma2)) * (prod))\n",
        "        dog = a * (f1-f2)\n",
        "        dog_mean = np.mean(dog)\n",
        "        dog = dog - dog_mean\n",
        "        dog_max = np.max(dog)\n",
        "        dog = dog / dog_max\n",
        "        dog_tensor = torch.from_numpy(dog)\n",
        "        # returns a 2d tensor corresponding to the requested DoG filter\n",
        "        return dog_tensor.float()"
      ],
      "execution_count": 9,
      "outputs": []
    },
    {
      "cell_type": "code",
      "metadata": {
        "id": "zBUT0IUZDXxW"
      },
      "source": [
        "class Filter():\n",
        "    \"\"\"\n",
        "    Applies a filter transform. Each filter contains a sequence of :attr:`FilterKernel` objects.\n",
        "    The result of each filter kernel will be passed through a given threshold (if not :attr:`None`).\n",
        "    Args:\n",
        "        filter_kernels (sequence of FilterKernels): The sequence of filter kernels.\n",
        "        padding (int, optional): The size of the padding for the convolution of filter kernels. Default: 0\n",
        "        thresholds (sequence of floats, optional): The threshold for each filter kernel. Default: None\n",
        "        use_abs (boolean, optional): To compute the absolute value of the outputs or not. Default: False\n",
        "    .. note::\n",
        "        The size of the compund filter kernel tensor (stack of individual filter kernels) will be equal to the \n",
        "        greatest window size among kernels. All other smaller kernels will be zero-padded with an appropriate \n",
        "        amount.\n",
        "    \"\"\"\n",
        "    # filter_kernels must be a list of filter kernels\n",
        "    # thresholds must be a list of thresholds for each kernel\n",
        "    def __init__(self, filter_kernels, padding=0, thresholds=None, use_abs=False):\n",
        "        tensor_list = []\n",
        "        self.max_window_size = 0\n",
        "        for kernel in filter_kernels:\n",
        "            if isinstance(kernel, torch.Tensor):\n",
        "                tensor_list.append(kernel)\n",
        "                self.max_window_size = max(self.max_window_size, kernel.size(-1))\n",
        "            else:\n",
        "                tensor_list.append(kernel().unsqueeze(0))\n",
        "                self.max_window_size = max(self.max_window_size, kernel.window_size)\n",
        "        for i in range(len(tensor_list)):\n",
        "            p = (self.max_window_size - filter_kernels[i].window_size)//2\n",
        "            tensor_list[i] = fn.pad(tensor_list[i], (p,p,p,p))\n",
        "\n",
        "        self.kernels = torch.stack(tensor_list)\n",
        "        self.number_of_kernels = len(filter_kernels)\n",
        "        self.padding = padding\n",
        "        if isinstance(thresholds, list):\n",
        "            self.thresholds = thresholds.clone().detach()\n",
        "            self.thresholds.unsqueeze_(0).unsqueeze_(2).unsqueeze_(3)\n",
        "        else:\n",
        "            self.thresholds = thresholds\n",
        "        self.use_abs = use_abs\n",
        "\n",
        "    # returns a 4d tensor containing the flitered versions of the input image\n",
        "    # input is a 4d tensor. dim: (minibatch=1, filter_kernels, height, width)\n",
        "    def __call__(self, input):\n",
        "\n",
        "        # if input.dim() == 3:\n",
        "        #     input2 = torch.unsqueeze(input, 0)\n",
        "        input.unsqueeze_(0)\n",
        "        output = fn.conv2d(input, self.kernels, padding = self.padding).float()\n",
        "        if not(self.thresholds is None):\n",
        "            output = torch.where(output < self.thresholds, torch.tensor(0.0, device=output.device), output)\n",
        "        if self.use_abs:\n",
        "            torch.abs_(output)\n",
        "        return output.squeeze(0)"
      ],
      "execution_count": 10,
      "outputs": []
    },
    {
      "cell_type": "markdown",
      "metadata": {
        "id": "ywXyWP0I83Au"
      },
      "source": [
        "# Design network"
      ]
    },
    {
      "cell_type": "code",
      "metadata": {
        "id": "8bZpJmlrJDa9"
      },
      "source": [
        "compute_size = lambda inp_size, k, s: int((inp_size-k)/s) + 1\n",
        "\n",
        "class LCNet(Network):\n",
        "    def __init__(\n",
        "        self,\n",
        "        n_classes: int,\n",
        "        neuron_per_class: int,\n",
        "        in_channels : int,\n",
        "        n_channels1: int,\n",
        "        n_channels2: int,\n",
        "        filter_size1: int,\n",
        "        filter_size2: int,\n",
        "        stride1: int,\n",
        "        stride2: int,\n",
        "        maxPool1: bool,\n",
        "        maxPool2: bool,\n",
        "        online: bool,\n",
        "        deep: bool,\n",
        "        time: int,\n",
        "        reward_fn,\n",
        "        n_neurons: int,\n",
        "        pre_observation: bool,\n",
        "        has_decision_period: bool,\n",
        "        local_rewarding: bool,\n",
        "        nu_LC: Union[float, Tuple[float, float]],\n",
        "        nu_LC2: Union[float, Tuple[float, float]],\n",
        "        nu_Output: float,\n",
        "        dt: float,\n",
        "        crop_size:int ,\n",
        "        nu_inh_LC: float,\n",
        "        nu_inh: float,\n",
        "        inh_type,\n",
        "        inh_LC: bool,\n",
        "        inh_LC2: bool,\n",
        "        inh_factor_LC: float,\n",
        "        inh_factor_LC2: float,\n",
        "        inh_factor:float,\n",
        "        single_output_layer:bool,\n",
        "        NodesType_LC,\n",
        "        NodesType_Output, \n",
        "        update_rule_LC,\n",
        "        update_rule_LC2,\n",
        "        update_rule_Output,\n",
        "        update_rule_inh,\n",
        "        update_rule_inh_LC,\n",
        "        wmin: float,\n",
        "        wmax: float ,\n",
        "        soft_bound,\n",
        "        theta_plus: float,\n",
        "        tc_theta_decay: float,\n",
        "        tc_trace:int,\n",
        "        normal_init:bool,\n",
        "        mu: float,\n",
        "        std:float,\n",
        "        norm_factor_inh_LC: bool,\n",
        "        norm_factor_LC,\n",
        "        norm_factor_LC2,\n",
        "        norm_factor_out,\n",
        "        norm_factor_inh,\n",
        "        trace_additive,\n",
        "        load_path,\n",
        "        save_path,\n",
        "        LC_weights_path,\n",
        "        LC2_weights_path,\n",
        "        confusion_matrix,\n",
        "        lc_weights_vis,\n",
        "        **kwargs,\n",
        "    ) -> None:\n",
        "        # language=rst\n",
        "        \"\"\"\n",
        "        Constructor for class ``BioLCNet``.\n",
        "\n",
        "        :param n_inpt: Number of input neurons. Matches the 1D size of the input data.\n",
        "        :param n_neurons: Number of excitatory, inhibitory neurons.\n",
        "        :param exc: Strength of synapse weights from excitatory to inhibitory layer.\n",
        "        :param inh: Strength of synapse weights from inhibitory to excitatory layer.\n",
        "        :param dt: Simulation time step.\n",
        "        :param nu: Single or pair of learning rates for pre- and post-synaptic events,\n",
        "            respectively.\n",
        "        :param reduction: Method for reducing parameter updates along the minibatch\n",
        "            dimension.\n",
        "        :param wmin: Minimum allowed weight on input to excitatory synapses.\n",
        "        :param wmax: Maximum allowed weight on input to excitatory synapses.\n",
        "        :param norm: Input to excitatory layer connection weights normalization\n",
        "            constant.\n",
        "        :param theta_plus: On-spike increment of ``(adaptive)LIFNodes`` membrane\n",
        "            threshold potential.\n",
        "        :param tc_theta_decay: Time constant of ``(adaptive)LIFNodes`` threshold\n",
        "            potential decay.\n",
        "        :param inpt_shape: The dimensionality of the input layer.\n",
        "        \"\"\"\n",
        "        manual_seed(SEED)\n",
        "        super().__init__(dt=dt, reward_fn = None, online=online)\n",
        "        kwargs['single_output_layer'] = single_output_layer\n",
        "        kwargs['dt'] = dt\n",
        "        kwargs['n_labels'] = n_classes\n",
        "        kwargs['neuron_per_class'] = neuron_per_class\n",
        "        \n",
        "        self.dt = dt\n",
        "        self.reward_fn = reward_fn(**kwargs)\n",
        "        self.reward_fn.network = self\n",
        "        self.reward_fn.dt = self.dt\n",
        "        self.n_classes = n_classes\n",
        "        self.neuron_per_class = neuron_per_class\n",
        "        self.save_path = save_path\n",
        "        self.load_path = load_path\n",
        "        self.deep = deep\n",
        "        self.maxPool1 = maxPool1\n",
        "        self.maxPool2 = maxPool2\n",
        "        self.time = time\n",
        "        self.crop_size = crop_size\n",
        "        self.filter_size1 = filter_size1\n",
        "        self.filter_size2 = filter_size2\n",
        "        self.clamp = kwargs['clamp']\n",
        "        self.single_output_layer = single_output_layer\n",
        "        self.pre_observation = pre_observation\n",
        "        self.has_decision_period = has_decision_period\n",
        "        self.local_rewarding = local_rewarding\n",
        "        self.soft_bound = soft_bound\n",
        "        self.confusion_matrix = confusion_matrix\n",
        "        self.lc_weights_vis = lc_weights_vis\n",
        "        self.in_channels = in_channels\n",
        "        self.n_channels1 = n_channels1\n",
        "        self.n_channels2 = n_channels2\n",
        "\n",
        "        if kwargs['variant'] == 'scalar':\n",
        "            assert self.has_decision_period == True, ''\n",
        "\n",
        "        if self.online == False:\n",
        "            assert self.has_decision_period == True, ''\n",
        "        \n",
        "        if self.has_decision_period == True:\n",
        "            assert self.online == False, \"Decision period is not compatible with online learning.\"\n",
        "            self.observation_period = kwargs['observation_period']\n",
        "            assert self.observation_period >= 0, \"\"\n",
        "            self.decision_period = kwargs['decision_period']\n",
        "            assert self.decision_period > 0, \"\"\n",
        "            self.learning_period = self.time - self.observation_period - self.decision_period\n",
        "\n",
        "        elif self.pre_observation == True:\n",
        "            self.observation_period = kwargs['observation_period']\n",
        "            assert self.observation_period >= 0, \"\"\n",
        "            self.learning_period = self.time - self.observation_period\n",
        "            self.decision_period = self.time - self.observation_period\n",
        "\n",
        "        else:\n",
        "            self.observation_period = 0\n",
        "            self.decision_period = self.time\n",
        "            self.learning_period = self.time\n",
        "\n",
        "        ### nodes\n",
        "        inp = Input(shape= [in_channels,crop_size,crop_size], traces=True, tc_trace=tc_trace,traces_additive = trace_additive)\n",
        "        self.add_layer(inp, name=\"input\")\n",
        "\n",
        "        ## First hidden layer\n",
        "        conv_size1 = compute_size(crop_size, filter_size1, stride1)\n",
        "        main1 = NodesType_LC(shape= [n_channels1, conv_size1, conv_size1], traces=True, tc_trace=tc_trace,traces_additive = trace_additive,\n",
        "                                        tc_theta_decay = tc_theta_decay, theta_plus = theta_plus)\n",
        "        \n",
        "        self.add_layer(main1, name=\"main1\")\n",
        "\n",
        "        ### connections \n",
        "        LC1 = LocalConnection(inp, main1, filter_size1, stride1, in_channels, n_channels1, nu = _pair(nu_LC), update_rule = update_rule_LC,wmin = wmin, wmax= wmax, soft_bound = soft_bound, norm = norm_factor_LC)\n",
        "\n",
        "        if LC_weights_path:\n",
        "            a = torch.load(LC_weights_path)\n",
        "            LC1.w.data = a['state_dict']['input_to_main1.w']\n",
        "            print(\"Weights loaded ...\")\n",
        "        \n",
        "        elif normal_init:\n",
        "            w_lc_init = torch.normal(mu,std, size = (in_channels, n_channels1 * compute_size(crop_size, filter_size1, stride1)**2, filter_size1**2))\n",
        "            LC1.w.data = w_lc_init\n",
        "       \n",
        "        self.add_connection(LC1, \"input\", \"main1\")\n",
        "\n",
        "        if inh_LC:\n",
        "            main_width = compute_size(crop_size, filter_size1, stride1)\n",
        "            w_inh_LC = torch.zeros(n_channels1,main_width,main_width,n_channels1,main_width,main_width)\n",
        "            for c in range(n_channels1):\n",
        "                for w1 in range(main_width):\n",
        "                    for w2 in range(main_width):\n",
        "                        w_inh_LC[c,w1,w2,:,w1,w2] = - inh_factor_LC\n",
        "                        w_inh_LC[c,w1,w2,c,w1,w2] = 0\n",
        "        \n",
        "            w_inh_LC = w_inh_LC.reshape(main1.n,main1.n)\n",
        "                                                             \n",
        "            LC_recurrent_inhibition = Connection(\n",
        "                source=main1,\n",
        "                target=main1,\n",
        "                w=w_inh_LC,\n",
        "            )\n",
        "            self.add_connection(LC_recurrent_inhibition, \"main1\", \"main1\")\n",
        "        \n",
        "        \n",
        "        self.final_connection_source_name = 'main1'\n",
        "        self.final_connection_source = main1\n",
        "\n",
        "        self.hidden2 = main1\n",
        "        self.hidden2_name = 'main1'\n",
        "        if maxPool1:\n",
        "            maxPool_kernel = 2\n",
        "            maxPool_stride = 2\n",
        "            \n",
        "            conv_size1 =compute_size(conv_size1, maxPool_kernel, maxPool_stride)\n",
        "            self.final_connection_source_name = 'maxpool1'\n",
        "            \n",
        "            maxpool1 = LIFNodes(shape= [self.n_channels1, conv_size1, conv_size1], refrac = 0)\n",
        "            self.add_layer(maxpool1, name=\"maxpool1\")\n",
        "            self.final_connection_source = maxpool1\n",
        "            \n",
        "            maxPoolConnection = MaxPool2dLocalConnection(main1, maxpool1, maxPool_kernel, maxPool_stride)\n",
        "            self.add_connection(maxPoolConnection, \"main1\", 'maxpool1')\n",
        "            \n",
        "            self.hidden2 = maxpool1\n",
        "            self.hidden2_name = 'maxpool1'\n",
        "\n",
        "        if deep:\n",
        "            # # Second hidden layer\n",
        "            conv_size2 = compute_size(conv_size1, filter_size2, stride2)\n",
        "\n",
        "            main2 = NodesType_LC(shape= [n_channels2, conv_size2, conv_size2],traces=True, tc_trace=tc_trace,traces_additive = trace_additive,\n",
        "                                            tc_theta_decay = tc_theta_decay, theta_plus = theta_plus)\n",
        "            \n",
        "            self.add_layer(main2, name=\"main2\")\n",
        "\n",
        "            ### connections \n",
        "            lc2_input_shape = (conv_size1,conv_size1)\n",
        "            LC2 = LocalConnection(self.hidden2, main2, filter_size2, stride2, n_channels1, n_channels2, input_shape= lc2_input_shape,\n",
        "            nu = _pair(nu_LC2), update_rule = update_rule_LC2, wmin = wmin, wmax= wmax, soft_bound = soft_bound, norm = norm_factor_LC2)\n",
        "\n",
        "            self.add_connection(LC2,  self.hidden2_name, \"main2\")\n",
        "            \n",
        "            if LC2_weights_path:\n",
        "                a = torch.load(LC2_weights_path)\n",
        "                LC2.w.data = a['state_dict']['main1_to_main2.w']\n",
        "                print(\"Weights loaded ...\")\n",
        "            \n",
        "            elif normal_init:\n",
        "                w_lc_init = torch.normal(mu,std, size = (n_channels1, n_channels2 * compute_size(conv_size1, filter_size2, stride2)**2, filter_size2**2))\n",
        "                LC2.w.data = w_lc_init\n",
        "\n",
        "            self.final_connection_source_name = 'main2'\n",
        "            self.final_connection_source = main2\n",
        "\n",
        "            if inh_LC2:\n",
        "                main_width = conv_size2\n",
        "                w_inh_LC2 = torch.zeros(n_channels2,main_width,main_width,n_channels2,main_width,main_width)\n",
        "                for c in range(n_channels2):\n",
        "                    for w1 in range(main_width):\n",
        "                        for w2 in range(main_width):\n",
        "                            w_inh_LC2[c,w1,w2,:,w1,w2] = - inh_factor_LC2\n",
        "                            w_inh_LC2[c,w1,w2,c,w1,w2] = 0\n",
        "            \n",
        "                w_inh_LC2 = w_inh_LC2.reshape(main2.n,main2.n)\n",
        "                                                                \n",
        "                LC_recurrent_inhibition2 = Connection(\n",
        "                    source=main2,\n",
        "                    target=main2,\n",
        "                    w=w_inh_LC2,\n",
        "                )\n",
        "                self.add_connection(LC_recurrent_inhibition2, \"main2\", \"main2\")\n",
        "\n",
        "\n",
        "            if maxPool2:\n",
        "                maxPool_kernel = 2\n",
        "                maxPool_stride = 2\n",
        "                conv_size2 =compute_size(conv_size2, maxPool_kernel, maxPool_stride)\n",
        "                self.final_connection_source_name = 'maxpool2'\n",
        "                maxpool2 = LIFNodes(shape= [self.n_channels2, conv_size2, conv_size2], refrac = 0)\n",
        "                self.final_connection_source = maxpool2\n",
        "                maxPoolConnection2 = MaxPool2dLocalConnection(main2, maxpool2, maxPool_kernel, maxPool_stride)\n",
        "\n",
        "                self.add_layer(maxpool2, name=\"maxpool2\")\n",
        "                self.add_connection(maxPoolConnection2, \"main2\", 'maxpool2')\n",
        "\n",
        "\n",
        "        ### main2 to output\n",
        "        out = NodesType_Output(n= n_neurons, traces=True,traces_additive = trace_additive, tc_trace=tc_trace, tc_theta_decay = tc_theta_decay, theta_plus = theta_plus)\n",
        "\n",
        "        self.add_layer(out, \"output\")\n",
        "\n",
        "        last_main_out = Connection(self.final_connection_source, out, nu = nu_Output, update_rule = update_rule_Output, wmin = wmin, wmax= wmax, norm = norm_factor_out)\n",
        "\n",
        "        if normal_init:\n",
        "            w_last_main_init = torch.normal(mu,std,size = (self.final_connection_source.n,out.n)) \n",
        "            last_main_out.w.data = w_last_main_init\n",
        "            \n",
        "        self.add_connection(last_main_out, self.final_connection_source_name, \"output\")\n",
        "\n",
        "        ### Inhibitory:\n",
        "        if inh_type == 'between_layers':\n",
        "            w = -inh_factor * torch.ones(out.n, out.n)\n",
        "            for c in range(n_classes):\n",
        "                ind = slice(c*neuron_per_class,(c+1)*neuron_per_class)\n",
        "                w[ind, ind] = 0\n",
        "\n",
        "            out_recurrent_inhibition = Connection(\n",
        "                source=out,\n",
        "                target=out,\n",
        "                w=w,\n",
        "                update_rule = update_rule_inh,\n",
        "                wmin=-inh_factor,\n",
        "                wmax=0,\n",
        "                nu = nu_inh,\n",
        "                norm = norm_factor_inh,\n",
        "            )\n",
        "            self.add_connection(out_recurrent_inhibition, \"output\", \"output\")\n",
        "\n",
        "        # Diehl and Cook\n",
        "        elif inh_type == 'DC':\n",
        "            raise NotImplementedError('Diehl and cook not implemented yet fo r 10 classes')\n",
        "\n",
        "        # Directs network to GPU\n",
        "        if gpu:\n",
        "            self.to(\"cuda\")\n",
        "\n",
        "\n",
        "    def fit(\n",
        "        self,\n",
        "        dataloader,\n",
        "        val_loader,\n",
        "        reward_hparams,\n",
        "        hparams = None,\n",
        "        online_validate = True,\n",
        "        n_train = 2000,\n",
        "        n_test = 250,\n",
        "        n_val = 250,\n",
        "        val_interval = 250,\n",
        "        running_window_length = 250,\n",
        "        verbose = True,\n",
        "    ):\n",
        "        manual_seed(SEED)\n",
        "        self.verbose = verbose\n",
        "        # add Monitors\n",
        "        #main_monitor = Monitor(self.layers[\"main\"], [\"v\"], time=None, device=device)\n",
        "        reward_monitor = RewardMonitor(time =self.time)\n",
        "        #Plot_et = PlotET(i = 0, j = 0, source = self.layers[\"main\"], target = self.layers[\"output\"], connection = self.connections[(\"main\",\"output\")])\n",
        "        #tensorboard = TensorBoardMonitor(self, time = self.time)\n",
        "        #self.add_monitor(main_monitor, name=\"main\")\n",
        "        self.add_monitor(reward_monitor, name=\"reward\")\n",
        "        #self.add_monitor(Plot_et, name=\"Plot_et\")\n",
        "        #self.add_monitor(tensorboard, name=\"tensorboard\")\n",
        "\n",
        "            \n",
        "        acc_hist = collections.deque([], running_window_length)\n",
        "\n",
        "        #if self.single_output_layer:\n",
        "        self.spikes = {}\n",
        "        for layer in set(self.layers):\n",
        "            self.spikes[layer] = Monitor(self.layers[layer], state_vars=[\"s\"], time=None)\n",
        "            self.add_monitor(self.spikes[layer], name=\"%s_spikes\" % layer)\n",
        "            self.dopaminergic_layers = self.layers[\"output\"]\n",
        "        # else:\n",
        "        #     output_layers = set([layer for layer in self.layers if layer.startswith('output')])\n",
        "        #     self.output_spikes = {}\n",
        "        #     for layer in output_layers:\n",
        "        #         self.output_spikes[layer] = Monitor(self.layers[layer], state_vars=[\"s\"], time=self.time)\n",
        "        #         self.add_monitor(self.output_spikes[layer], name=\"%s_spikes\" % layer)\n",
        "        #         self.dopaminergic_layers = {name: layer for name, layer in self.layers.items() if name.startswith('output')}\n",
        "\n",
        "        val_acc = 0.0\n",
        "        acc = 0.0\n",
        "\n",
        "        reward_history = []\n",
        "        if self.load_path:\n",
        "            # try:\n",
        "            self.model_params = torch.load(self.load_path)\n",
        "            self.load_state_dict(torch.load(self.load_path)['state_dict'])\n",
        "            iteration =  self.model_params['iteration']\n",
        "            hparams = self.model_params['hparams']\n",
        "            train_accs = self.model_params['train_accs']\n",
        "            val_accs = self.model_params['val_accs']\n",
        "            acc_rewards = self.model_params['acc_rewards']\n",
        "            print(f'Previous model loaded! Resuming training from iteration {iteration}..., last running training accuracy: {train_accs[-1]}, last validation accuracy: {val_accs[-1]}\\n') if self.verbose else None\n",
        "        else:\n",
        "            print(f'Previous model not found! Training from the beginning...\\n') if self.verbose else None\n",
        "            val_accs = []\n",
        "            train_accs = []\n",
        "            acc_rewards = []\n",
        "            # except:\n",
        "            #     pass\n",
        "        pbar = tqdm(total=n_train)\n",
        "        self.reset_state_variables()\n",
        "\n",
        "\n",
        "\n",
        "        for (i, datum) in enumerate(dataloader):\n",
        "            if self.load_path:\n",
        "                #try:\n",
        "                if i <= iteration:\n",
        "                    n_train += 1\n",
        "                    continue\n",
        "                # except:\n",
        "                #     pass\n",
        "            if i > n_train:\n",
        "                break\n",
        "\n",
        "\n",
        "            image = datum[\"encoded_image\"]\n",
        "            label = datum[\"label\"]\n",
        "\n",
        "            # Run the network on the input.\n",
        "            if gpu:\n",
        "                inputs = {\"input\": image.cuda().view(self.time, 1, self.in_channels, self.crop_size, self.crop_size)}\n",
        "            else:\n",
        "                inputs = {\"input\": image.view(self.time, 1, self.in_channels, self.crop_size, self.crop_size)}\n",
        "            #print(self.spikes['output'].get('s'))\n",
        "\n",
        "            self.run(inputs=inputs, \n",
        "                    time=self.time, \n",
        "                    **reward_hparams,\n",
        "                    one_step=True,\n",
        "                    true_label = label.int().item(),\n",
        "                    dopaminergic_layers= self.dopaminergic_layers,\n",
        "                    clamp = self.clamp\n",
        "                     )\n",
        "\n",
        "            # Get voltage recording.\n",
        "            #main_voltage = main_monitor.get(\"v\")\n",
        "            reward_history.append(reward_monitor.get())\n",
        "            #tensorboard.update(step= i)\n",
        "\n",
        "            # Add to spikes recording.\n",
        "            #if self.single_output_layer:\n",
        "            lc_spikes1 = self.spikes['main1'].get('s')\n",
        "            #lc_spikes2 = self.spikes['main2'].get('s')\n",
        "            out_spikes = self.spikes[\"output\"].get(\"s\").view(self.time, n_classes, neuron_per_class)\n",
        "            sum_spikes = out_spikes[self.observation_period:self.observation_period+self.decision_period,:,:].sum(0).sum(1)\n",
        "            predicted_label = torch.argmax(sum_spikes)\n",
        "            \n",
        "            # else:\n",
        "            #     spikes_record = torch.zeros(self.n_classes, self.time, self.neuron_per_class)\n",
        "            #     for c in range(self.n_classes):\n",
        "            #         spikes_record[c] = self.output_spikes[f\"output_{c}\"].get(\"s\").squeeze(1)\n",
        "            #     sum_spikes = spikes_record.sum(1).sum(1)\n",
        "            #     predicted_label = torch.argmax(sum_spikes)    \n",
        "\n",
        "            if predicted_label == label:\n",
        "                acc_hist.append(1)\n",
        "            else:\n",
        "                acc_hist.append(0)\n",
        "  \n",
        "            w_lc1 = self.connections[('input', 'main1')].w\n",
        "            w_last_main_out = self.connections[(self.final_connection_source_name,'output')].w\n",
        "            #w_lc2 = self.connections[('main1', 'main2')].w\n",
        "            #w_inh = self.connections[('output','output')].w\n",
        "\n",
        "            print(\"\\routput\", sum_spikes, 'pred_label:',\n",
        "                predicted_label.item(), 'GT:', label.item(),\n",
        "                ', Acc Rew:', round(sum(reward_monitor.get()).item(),4),\n",
        "                f\"Pos dps: {self.reward_fn.dps:.5f}, Neg dps: {self.reward_fn.neg_dps:.5f}, Rew base: {self.reward_fn.rew_base:.5f}, Pun base: {self.reward_fn.punish_base:.5f}, RPe: {self.reward_fn.reward_predict_episode:.3f}\",\n",
        "                f\"input_mean_fire_freq: {torch.mean(image.float())*1000:.1f},main_mean_fire_freq:{torch.mean(lc_spikes1.float())*1000:.1f}\",#\" main2_mean_fire_freq:{torch.mean(lc_spikes2.float())*1000:.1f}\",\n",
        "                f\"output_mean_fire_freq:{torch.mean(out_spikes.float())*1000:.1f}\",\n",
        "                f\"mean_lc1_w: {torch.mean(w_lc1):.5f}, mean_fc_w:{torch.mean(w_last_main_out):.5f}\",\n",
        "                f\"std_lc1_w: {torch.std(w_lc1):.5f}, std_fc_w:{torch.std(w_last_main_out):.5f}\",\n",
        "                f\"convergence_lc1: {torch.mean(w_lc1*(1-w_lc1)):.5f}, convergence_fc: {torch.mean(w_last_main_out*(1-w_last_main_out)):.5f}\",\n",
        "                end = '')           \n",
        "            \n",
        "            acc = 100 * sum(acc_hist)/len(acc_hist)\n",
        "            self.reward_fn.update(accumulated_reward= sum(reward_monitor.get()), ema_window = reward_hparams['ema_window']) \n",
        "\n",
        "            if online_validate and i % val_interval == 0 and i!=0:\n",
        "                self.reset_state_variables()\n",
        "                val_acc = self.evaluate(val_loader, n_val, val_interval, running_window_length)\n",
        "                #tensorboard.writer.add_scalars(\"accuracy\", {\"train\": acc, \"val\" : val_acc}, i)\n",
        "                train_accs.append(acc)\n",
        "                val_accs.append(val_acc)\n",
        "                #acc_rewards.append(sum(reward_monitor.get()))\n",
        "                if self.save_path is not None:\n",
        "                    model_params = {'state_dict': self.state_dict(), 'hparams': hparams, 'iteration': i, 'val_accs': val_accs, 'train_accs': train_accs, 'acc_rewards': acc_rewards}\n",
        "                    torch.save(model_params, self.save_path)\n",
        "            # else:\n",
        "            #     pass\n",
        "                #tensorboard.writer.add_scalars(\"accuracy\", {\"train\": acc}, i)\n",
        "            #tensorboard.writer.add_scalar(\"reward\", sum(reward_monitor.get()), i)\n",
        "\n",
        "            # if  i % val_interval == 0 and i!=0:\n",
        "            #     fig = create_plot(self.output_spikes, reward_monitor.get(), label)\n",
        "            #     tensorboard.writer.add_figure('reward', fig, i)\n",
        "            \n",
        "            #Plot_et.plot()    \n",
        "            self.reset_state_variables()  # Reset state variables.\n",
        "            \n",
        "            pbar.set_description_str(\"Running accuracy: \" + \"{:.2f}\".format(acc) + \"%, \" + \"Current val accuracy: \" + \"{:.2f}\".format(val_acc) + \"%, \")\n",
        "            pbar.update()\n",
        "\n",
        "        result_metrics = {'train_acc': acc, 'val_acc': val_acc}\n",
        "        # tensorboard.writer.add_hparams(\n",
        "        #     {k:(v if type(v) in (int, float, bool, str, torch.Tensor) else str(v)) for k,v in {**train_hparams, **data_hparams, **network_hparams, **reward_hparams}.items() },\n",
        "        #     result_metrics\n",
        "        # )\n",
        "\n",
        "\n",
        "\n",
        "    def evaluate(self, val_loader, n_val, val_interval, running_window_length):\n",
        "        manual_seed(SEED)\n",
        "        acc_hist_val = collections.deque([], running_window_length)\n",
        "\n",
        "        spikes_val = {}\n",
        "\n",
        "        self.train(False)\n",
        "        self.learning = False\n",
        "\n",
        "        GT, y_pred = [], []\n",
        "        for (i, datum) in enumerate(val_loader):\n",
        "            if i > n_val:\n",
        "                break\n",
        "\n",
        "            image = datum[\"encoded_image\"]\n",
        "            label = datum[\"label\"]\n",
        "\n",
        "            # Run the network on the input.\n",
        "            if gpu:\n",
        "                inputs = {\"input\": image.cuda().view(self.time, 1, self.in_channels, self.crop_size, self.crop_size)}\n",
        "            else:\n",
        "                inputs = {\"input\": image.view(self.time, 1, self.in_channels, self.crop_size, self.crop_size)}\n",
        "\n",
        "            self.run(inputs=inputs, \n",
        "                    time=self.time, \n",
        "                    **reward_hparams,\n",
        "                    one_step = True,\n",
        "                    true_label = label.int().item(),\n",
        "                    dopaminergic_layers= self.dopaminergic_layers,\n",
        "                     )\n",
        "            # Add to spikes recording.\n",
        "            #if self.single_output_layer:\n",
        "            out_spikes = self.spikes[\"output\"].get(\"s\").view(self.time, n_classes, neuron_per_class)\n",
        "            sum_spikes = out_spikes[self.observation_period:self.observation_period+self.decision_period,:,:].sum(0).sum(1)\n",
        "            predicted_label = torch.argmax(sum_spikes)\n",
        "            # else:\n",
        "            #     spikes_record = torch.zeros(self.n_classes, self.time, self.neuron_per_class)\n",
        "            #     for c in range(self.n_classes):\n",
        "            #         spikes_record[c] = self.output_spikes[f\"output_{c}\"].get(\"s\").squeeze(1)\n",
        "            #     sum_spikes = spikes_record.sum(1).sum(1)\n",
        "            #     predicted_label = torch.argmax(sum_spikes)\n",
        "\n",
        "            if predicted_label == label:\n",
        "                acc_hist_val.append(1)\n",
        "            else:\n",
        "                acc_hist_val.append(0)\n",
        "            \n",
        "            GT.append(label)\n",
        "            y_pred.append(predicted_label)\n",
        "            \n",
        "            print(\"\\r*validation: output\",sum_spikes,\n",
        "                'predicted_label:', predicted_label.item(), 'GT:', label.item(),\n",
        "                end = '') if self.verbose else None\n",
        "            \n",
        "            self.reset_state_variables()  # Reset state variables.\n",
        "\n",
        "        self.train(True)\n",
        "        self.learning = True\n",
        "        \n",
        "        if self.confusion_matrix:\n",
        "            self.plot_confusion_matrix(GT, y_pred)\n",
        "\n",
        "        if self.lc_weights_vis:\n",
        "            plot_locally_connected_weights_meh(self.connections[('input','main1')].w,self.n_channels1,self.in_channels,0,self.crop_size,self.filter_size1,self.layers['main1'].shape[1])\n",
        "            plt.show()\n",
        "            if self.deep:\n",
        "                plot_locally_connected_weights_meh(self.connections[(self.hidden2_name,'main1')].w,self.n_channels2,self.n_channels1,0,self.layers[self.hidden2_name].shape[1],self.filter_size2,self.layers['main2'].shape[1])                \n",
        "                plt.show()\n",
        "        \n",
        "        val_acc = 100 * sum(acc_hist_val)/len(acc_hist_val)\n",
        "        return val_acc\n",
        "\n",
        "    @staticmethod\n",
        "    def plot_confusion_matrix(GT, y_predicted):\n",
        "        cm = confusion_matrix(GT, y_predicted)\n",
        "        plt.figure(figsize = (10,7))\n",
        "        sn.heatmap(cm, annot=True)\n",
        "        plt.xlabel('Predicted')\n",
        "        plt.ylabel('Truth')\n",
        "        plt.show()\n",
        "\n",
        "    \n",
        "    def one_step(self,datum):\n",
        "        self.reset_state_variables()\n",
        "        \n",
        "        image = datum[\"encoded_image\"]\n",
        "        label = datum[\"label\"]\n",
        "\n",
        "        if gpu:\n",
        "            inputs = {\"input\": image.cuda().view(self.time, 1, self.in_channels, self.crop_size, self.crop_size)}\n",
        "        else:\n",
        "            inputs = {\"input\": image.view(self.time, 1, self.in_channels, self.crop_size, self.crop_size)}\n",
        "\n",
        "        self.run(inputs=inputs, \n",
        "                time=self.time, \n",
        "                **reward_hparams,\n",
        "                one_step = True,\n",
        "                true_label = label.int().item(),\n",
        "                dopaminergic_layers= self.dopaminergic_layers,\n",
        "                )\n"
      ],
      "execution_count": 11,
      "outputs": []
    },
    {
      "cell_type": "markdown",
      "metadata": {
        "id": "6zuUBU9pU3vE"
      },
      "source": [
        "# Load Dataset"
      ]
    },
    {
      "cell_type": "code",
      "metadata": {
        "id": "2DW7dB11jdqi"
      },
      "source": [
        "class ClassSelector(torch.utils.data.sampler.Sampler):\n",
        "    \"\"\"Select target classes from the dataset\"\"\"\n",
        "    def __init__(self, target_classes, data_source, mask = None):\n",
        "        if mask is not None:\n",
        "            self.mask = mask\n",
        "        else:\n",
        "            self.mask = torch.tensor([1 if data_source[i]['label'] in target_classes else 0 for i in range(len(data_source))])\n",
        "        self.data_source = data_source\n",
        "\n",
        "    def __iter__(self):\n",
        "        return iter([i.item() for i in torch.nonzero(self.mask)])\n",
        "\n",
        "    def __len__(self):\n",
        "        return len(self.data_source)"
      ],
      "execution_count": 14,
      "outputs": []
    },
    {
      "cell_type": "code",
      "metadata": {
        "id": "DlCXBY0DU3Mc"
      },
      "source": [
        "kernels = [DoGKernel(7,1,2),\n",
        "\t\t\tDoGKernel(7,2,1),]\n",
        "filter = Filter(kernels, padding = 3, thresholds = 50/255)\n",
        "# Load MNIST data.\n",
        "\n",
        "def load_datasets(network_hparams, data_hparams, mask=None, test_mask=None):\n",
        "    manual_seed(SEED)\n",
        "    dataset = MNIST(\n",
        "        PoissonEncoder(time=network_hparams['time'], dt=network_hparams['dt']),\n",
        "        None,\n",
        "        root=os.path.join(\"..\", \"..\", \"data\", \"MNIST\"),\n",
        "        download=True,\n",
        "        transform=transforms.Compose(\n",
        "            [transforms.ToTensor(),\n",
        "            # filter,\n",
        "            transforms.Lambda(lambda x: (\n",
        "                x.round() if data_hparams['round_input'] else x\n",
        "            ) * data_hparams['intensity']),\n",
        "            transforms.CenterCrop(data_hparams['crop_size'])]\n",
        "        ),\n",
        "    )\n",
        "\n",
        "    # Create a dataloader to iterate and batch data\n",
        "    dataloader = torch.utils.data.DataLoader(dataset, batch_size=1,\n",
        "                                            sampler = ClassSelector(\n",
        "                                                    target_classes = target_classes,\n",
        "                                                    data_source = dataset,\n",
        "                                                    mask = mask,\n",
        "                                                    ) if target_classes else None\n",
        "                                            )\n",
        "\n",
        "    # Load test dataset\n",
        "    test_dataset = MNIST(   \n",
        "        PoissonEncoder(time=network_hparams['time'], dt=network_hparams['dt']),\n",
        "        None,\n",
        "        root=os.path.join(\"..\", \"..\", \"data\", \"MNIST\"),\n",
        "        download=True,\n",
        "        train=False,\n",
        "        transform=transforms.Compose(\n",
        "            [transforms.ToTensor(),\n",
        "            # filter,\n",
        "            transforms.Lambda(lambda x: (\n",
        "                x.round() if data_hparams['round_input'] else x\n",
        "            ) * data_hparams['intensity']),\n",
        "            transforms.CenterCrop(data_hparams['crop_size'])]\n",
        "        ),\n",
        "    )\n",
        "\n",
        "    val_loader = torch.utils.data.DataLoader(test_dataset, batch_size=1,\n",
        "                                            sampler = ClassSelector(\n",
        "                                                    target_classes = target_classes,\n",
        "                                                    data_source = test_dataset,\n",
        "                                                    mask = mask_test,\n",
        "                                                    ) if target_classes else None\n",
        "                                            )\n",
        "    \n",
        "\n",
        "    return dataloader, val_loader"
      ],
      "execution_count": 15,
      "outputs": []
    },
    {
      "cell_type": "markdown",
      "metadata": {
        "id": "kCqAFucAUDb8"
      },
      "source": [
        "# Set up hyper-parameters"
      ]
    },
    {
      "cell_type": "code",
      "metadata": {
        "id": "I0Wh_eJIFkO-"
      },
      "source": [
        "train_hparams = {\n",
        "    'n_train' : 4000,\n",
        "    'n_test' : 3000,\n",
        "    'n_val' : 1,\n",
        "    'val_interval' : 5,\n",
        "    'running_window_length': 250,\n",
        "}"
      ],
      "execution_count": 16,
      "outputs": []
    },
    {
      "cell_type": "code",
      "metadata": {
        "id": "MVOqxcYtFd5T"
      },
      "source": [
        "# Dataset Hyperparameters\n",
        "target_classes = None #(0,1)\n",
        "if target_classes:\n",
        "    npz_file = np.load(f'bindsnet/mask_{\"_\".join([str(i) for i in target_classes])}.npz')\n",
        "    # npz_file = np.load('bindsnet/mask_0_1.npz') ##### KESAFAT KARI !!!\n",
        "    mask, mask_test = torch.from_numpy(npz_file['arr_0']), torch.from_numpy(npz_file['arr_1'])\n",
        "    n_classes = len(target_classes)\n",
        "    \n",
        "else:\n",
        "    mask = None\n",
        "    mask_test = None\n",
        "    n_classes = 10\n",
        "\n",
        "data_hparams = { \n",
        "    'intensity': 128,\n",
        "    'crop_size': 28,\n",
        "    'round_input': True,\n",
        "}"
      ],
      "execution_count": 22,
      "outputs": []
    },
    {
      "cell_type": "code",
      "metadata": {
        "id": "3TerGeJoFdzg"
      },
      "source": [
        "n_neurons = 100 #100\n",
        "clamping_intensity = None #20\n",
        "neuron_per_class = int(n_neurons/n_classes)\n",
        "single_output_layer = True\n",
        "\n",
        "network_hparams = {\n",
        "    # net structure\n",
        "    'crop_size': 28,\n",
        "    'neuron_per_class': neuron_per_class,\n",
        "    'deep': True,\n",
        "    'maxPool1': True,\n",
        "    'maxPool2': True,\n",
        "    'in_channels':1,\n",
        "    'n_channels1': 16,\n",
        "    'n_channels2': 64,\n",
        "    'filter_size1': 5,\n",
        "    'filter_size2': 5,\n",
        "    'stride1': 2,\n",
        "    'stride2': 1,\n",
        "    'n_neurons' : n_neurons,\n",
        "    'n_classes': n_classes,\n",
        "    'single_output_layer': single_output_layer,\n",
        "    \n",
        "    # time & Phase\n",
        "    'dt' : 1,\n",
        "    'pre_observation': True,\n",
        "    'has_decision_period': True,\n",
        "    'observation_period': 100,\n",
        "    'decision_period': 100,\n",
        "    'online': False,\n",
        "    'local_rewarding': False,\n",
        "    \n",
        "    # Nodes\n",
        "    'NodesType_LC': AdaptiveLIFNodes,\n",
        "    'NodesType_Output': LIFNodes, \n",
        "    'theta_plus': 0.05,\n",
        "    'tc_theta_decay': 1e6,\n",
        "    'tc_trace':20,\n",
        "    'trace_additive' : False,\n",
        "    \n",
        "    # Learning\n",
        "    'update_rule_LC': PostPre,\n",
        "    'update_rule_LC2': None,\n",
        "    'update_rule_Output': MSTDPET,\n",
        "    'update_rule_inh': None,\n",
        "    'update_rule_inh_LC' : None,\n",
        "    'nu_LC': (0.0001,0.01),\n",
        "    'nu_LC2': (0.0,0.0),\n",
        "    'nu_Output':0.1,\n",
        "    'nu_inh': 0.0,\n",
        "    'nu_inh_LC': 0.0,\n",
        "    'soft_bound': False,\n",
        "\n",
        "    # weights\n",
        "    'normal_init': True,\n",
        "    'mu' : 0.8,\n",
        "    'std' : 0.02,\n",
        "    'wmin': 0.0,\n",
        "    'wmax': 1.0,\n",
        "    \n",
        "    # Inhibition\n",
        "    'inh_type': 'between_layers',\n",
        "    'inh_factor': 0.5,\n",
        "    'inh_LC': True,\n",
        "    'inh_factor_LC': 100,\n",
        "    'inh_LC2': False,\n",
        "    'inh_factor_LC2': 0,\n",
        "    \n",
        "    # Normalization\n",
        "    'norm_factor_LC': 0.3*5*5,\n",
        "    'norm_factor_LC2': None,\n",
        "    'norm_factor_out': None,\n",
        "    'norm_factor_inh': None,\n",
        "    'norm_factor_inh_LC': None,\n",
        "    \n",
        "    # clamp\n",
        "    'clamping_intensity': clamping_intensity,\n",
        "\n",
        "    # Save\n",
        "    'save_path': None,#'/content/drive/My Drive/LCNet/LCNet_phase2_baseline2_gpu.pth',\n",
        "    'load_path': None,#'/content/drive/My Drive/LCNet/LCNet_phase2_baseline2_gpu.pth',\n",
        "    'LC_weights_path': None,#'/content/drive/My Drive/LCNet/DeepLCNet_layer1_ch16_f5_s2_norm3.pth',\n",
        "    'LC2_weights_path': None,#'/content/drive/My Drive/LCNet/DeepLCNet_layer2_ch64_f5_s2_norm3.pth',\n",
        "\n",
        "    # Plot:\n",
        "    'confusion_matrix' : False,\n",
        "    'lc_weights_vis': False,\n",
        "\n",
        "}\n",
        "\n",
        "\n",
        "\n",
        "reward_hparams= {\n",
        "    'n_labels': n_classes,\n",
        "    'neuron_per_class': neuron_per_class,\n",
        "    \n",
        "    'variant': 'scalar',  #true_pred, #pure_per_spike (Just in phase I, online : True) , and #scalar \n",
        "    'tc_reward':0,\n",
        "    'dopamine_base': 0.0,\n",
        "    'reward_base': 2.5,\n",
        "    'punishment_base': 2.5,\n",
        "    \n",
        "\n",
        "    'sub_variant': 'static', #static, #RPE, #pred_decay\n",
        "    'td_nu': 0.0001,  #RPE\n",
        "    'ema_window': 10, #RPE\n",
        "    'tc_dps': 20,     #pred_decay\n",
        "    'dps_factor': 20, #pred_decay, #RPE\n",
        "    }\n",
        "\n",
        "### Spike clamping (baseline activity)\n",
        "main_n_neurons = network_hparams['n_channels1'] * compute_size(network_hparams['crop_size'], network_hparams['filter_size1'], network_hparams['stride1'])\\\n",
        "* compute_size(network_hparams['crop_size'], network_hparams['filter_size1'], network_hparams['stride1'])\n",
        "clamp = {}\n",
        "if clamping_intensity is not None:\n",
        "    encoder = PoissonEncoder(time=network_hparams['time'], dt=network_hparams['dt'])\n",
        "    clamp['output'] = encoder.enc(datum = torch.ones(n_neurons)*clamping_intensity, time=network_hparams['time'], dt=network_hparams['dt'])\n",
        "\n",
        "network_hparams['clamp'] = clamp"
      ],
      "execution_count": 23,
      "outputs": []
    },
    {
      "cell_type": "code",
      "metadata": {
        "id": "3Rz1wmKKYuVg"
      },
      "source": [
        "time = 512 #320\n",
        "network_hparams.update(\n",
        "    {\n",
        "     'time': time,\n",
        "    }\n",
        ")\n",
        "dataloader, val_loader = load_datasets(network_hparams, data_hparams, mask, mask_test)"
      ],
      "execution_count": 25,
      "outputs": []
    },
    {
      "cell_type": "markdown",
      "metadata": {
        "id": "SokdidkrV2Z5"
      },
      "source": [
        "# Training"
      ]
    },
    {
      "cell_type": "code",
      "metadata": {
        "id": "Venb2KhSYrT_"
      },
      "source": [
        "if network_hparams['save_path'] :\n",
        "    from google.colab import drive\n",
        "    drive.mount('/content/drive')"
      ],
      "execution_count": 20,
      "outputs": []
    },
    {
      "cell_type": "code",
      "metadata": {
        "id": "IavVVHrvYVoI",
        "colab": {
          "base_uri": "https://localhost:8080/",
          "height": 439,
          "referenced_widgets": [
            "ca7c65c793a24048957b33401657a819",
            "b5c793b53ea346d982d734c9f9aab399",
            "f19872987bb24e4e895839e85e63169b",
            "9dce5dfa97464b3a892a957baf73120f",
            "3c017564d3464599a35e0b3e07e25ec7",
            "dc10e3f0565242409724e5644eed0016",
            "7c496318886448c79908f8eed6f16902",
            "3ef7ae52ca1e4da1b6007a2fa268a880",
            "190776cc9223479b89367fed5f869816",
            "c7e4dbac3b28428581e0cd9315e9667b",
            "9b8b8276c1304e198fab87f75f8e23aa"
          ]
        },
        "outputId": "c37e603f-f078-4364-9d1c-841a5792526c"
      },
      "source": [
        "manual_seed(SEED)\n",
        "hparams = {**reward_hparams, **network_hparams, **train_hparams, **data_hparams}\n",
        "net = LCNet(**hparams, reward_fn = DynamicDopamineInjection)\n",
        "net.fit(dataloader = dataloader, val_loader = val_loader, reward_hparams = reward_hparams, **train_hparams)"
      ],
      "execution_count": 26,
      "outputs": [
        {
          "output_type": "stream",
          "name": "stdout",
          "text": [
            "Previous model not found! Training from the beginning...\n",
            "\n"
          ]
        },
        {
          "output_type": "display_data",
          "data": {
            "application/vnd.jupyter.widget-view+json": {
              "model_id": "ca7c65c793a24048957b33401657a819",
              "version_minor": 0,
              "version_major": 2
            },
            "text/plain": [
              "  0%|          | 0/4000 [00:00<?, ?it/s]"
            ]
          },
          "metadata": {}
        },
        {
          "output_type": "stream",
          "name": "stdout",
          "text": [
            "output tensor([120, 120, 120, 120, 120, 120, 120, 120, 120, 120]) pred_label: 0 GT: 0 , Acc Rew: 780.0 Pos dps: 2.50000, Neg dps: 2.50000, Rew base: 2.50000, Pun base: 2.50000, RPe: -78.000 input_mean_fire_freq: 20.3,main_mean_fire_freq:3.1 output_mean_fire_freq:54.7 mean_lc1_w: 0.30000, mean_fc_w:0.00000 std_lc1_w: 0.01912, std_fc_w:0.00000 convergence_lc1: 0.20963, convergence_fc: 0.00000"
          ]
        },
        {
          "output_type": "error",
          "ename": "KeyboardInterrupt",
          "evalue": "ignored",
          "traceback": [
            "\u001b[0;31m---------------------------------------------------------------------------\u001b[0m",
            "\u001b[0;31mKeyboardInterrupt\u001b[0m                         Traceback (most recent call last)",
            "\u001b[0;32m<ipython-input-26-b6b32069759b>\u001b[0m in \u001b[0;36m<module>\u001b[0;34m()\u001b[0m\n\u001b[1;32m      2\u001b[0m \u001b[0mhparams\u001b[0m \u001b[0;34m=\u001b[0m \u001b[0;34m{\u001b[0m\u001b[0;34m**\u001b[0m\u001b[0mreward_hparams\u001b[0m\u001b[0;34m,\u001b[0m \u001b[0;34m**\u001b[0m\u001b[0mnetwork_hparams\u001b[0m\u001b[0;34m,\u001b[0m \u001b[0;34m**\u001b[0m\u001b[0mtrain_hparams\u001b[0m\u001b[0;34m,\u001b[0m \u001b[0;34m**\u001b[0m\u001b[0mdata_hparams\u001b[0m\u001b[0;34m}\u001b[0m\u001b[0;34m\u001b[0m\u001b[0;34m\u001b[0m\u001b[0m\n\u001b[1;32m      3\u001b[0m \u001b[0mnet\u001b[0m \u001b[0;34m=\u001b[0m \u001b[0mLCNet\u001b[0m\u001b[0;34m(\u001b[0m\u001b[0;34m**\u001b[0m\u001b[0mhparams\u001b[0m\u001b[0;34m,\u001b[0m \u001b[0mreward_fn\u001b[0m \u001b[0;34m=\u001b[0m \u001b[0mDynamicDopamineInjection\u001b[0m\u001b[0;34m)\u001b[0m\u001b[0;34m\u001b[0m\u001b[0;34m\u001b[0m\u001b[0m\n\u001b[0;32m----> 4\u001b[0;31m \u001b[0mnet\u001b[0m\u001b[0;34m.\u001b[0m\u001b[0mfit\u001b[0m\u001b[0;34m(\u001b[0m\u001b[0mdataloader\u001b[0m \u001b[0;34m=\u001b[0m \u001b[0mdataloader\u001b[0m\u001b[0;34m,\u001b[0m \u001b[0mval_loader\u001b[0m \u001b[0;34m=\u001b[0m \u001b[0mval_loader\u001b[0m\u001b[0;34m,\u001b[0m \u001b[0mreward_hparams\u001b[0m \u001b[0;34m=\u001b[0m \u001b[0mreward_hparams\u001b[0m\u001b[0;34m,\u001b[0m \u001b[0;34m**\u001b[0m\u001b[0mtrain_hparams\u001b[0m\u001b[0;34m)\u001b[0m\u001b[0;34m\u001b[0m\u001b[0;34m\u001b[0m\u001b[0m\n\u001b[0m",
            "\u001b[0;32m<ipython-input-11-a7fa56121f2b>\u001b[0m in \u001b[0;36mfit\u001b[0;34m(self, dataloader, val_loader, reward_hparams, hparams, online_validate, n_train, n_test, n_val, val_interval, running_window_length, verbose)\u001b[0m\n\u001b[1;32m    413\u001b[0m                     \u001b[0mtrue_label\u001b[0m \u001b[0;34m=\u001b[0m \u001b[0mlabel\u001b[0m\u001b[0;34m.\u001b[0m\u001b[0mint\u001b[0m\u001b[0;34m(\u001b[0m\u001b[0;34m)\u001b[0m\u001b[0;34m.\u001b[0m\u001b[0mitem\u001b[0m\u001b[0;34m(\u001b[0m\u001b[0;34m)\u001b[0m\u001b[0;34m,\u001b[0m\u001b[0;34m\u001b[0m\u001b[0;34m\u001b[0m\u001b[0m\n\u001b[1;32m    414\u001b[0m                     \u001b[0mdopaminergic_layers\u001b[0m\u001b[0;34m=\u001b[0m \u001b[0mself\u001b[0m\u001b[0;34m.\u001b[0m\u001b[0mdopaminergic_layers\u001b[0m\u001b[0;34m,\u001b[0m\u001b[0;34m\u001b[0m\u001b[0;34m\u001b[0m\u001b[0m\n\u001b[0;32m--> 415\u001b[0;31m                     \u001b[0mclamp\u001b[0m \u001b[0;34m=\u001b[0m \u001b[0mself\u001b[0m\u001b[0;34m.\u001b[0m\u001b[0mclamp\u001b[0m\u001b[0;34m\u001b[0m\u001b[0;34m\u001b[0m\u001b[0m\n\u001b[0m\u001b[1;32m    416\u001b[0m                      )\n\u001b[1;32m    417\u001b[0m \u001b[0;34m\u001b[0m\u001b[0m\n",
            "\u001b[0;32m/usr/local/lib/python3.7/dist-packages/bindsnet/network/network.py\u001b[0m in \u001b[0;36mrun\u001b[0;34m(self, inputs, time, one_step, **kwargs)\u001b[0m\n\u001b[1;32m    409\u001b[0m \u001b[0;34m\u001b[0m\u001b[0m\n\u001b[1;32m    410\u001b[0m                 \u001b[0;32mif\u001b[0m \u001b[0ml\u001b[0m \u001b[0;32min\u001b[0m \u001b[0mcurrent_inputs\u001b[0m\u001b[0;34m:\u001b[0m\u001b[0;34m\u001b[0m\u001b[0;34m\u001b[0m\u001b[0m\n\u001b[0;32m--> 411\u001b[0;31m                     \u001b[0mself\u001b[0m\u001b[0;34m.\u001b[0m\u001b[0mlayers\u001b[0m\u001b[0;34m[\u001b[0m\u001b[0ml\u001b[0m\u001b[0;34m]\u001b[0m\u001b[0;34m.\u001b[0m\u001b[0mforward\u001b[0m\u001b[0;34m(\u001b[0m\u001b[0mx\u001b[0m\u001b[0;34m=\u001b[0m\u001b[0mcurrent_inputs\u001b[0m\u001b[0;34m[\u001b[0m\u001b[0ml\u001b[0m\u001b[0;34m]\u001b[0m\u001b[0;34m)\u001b[0m\u001b[0;34m\u001b[0m\u001b[0;34m\u001b[0m\u001b[0m\n\u001b[0m\u001b[1;32m    412\u001b[0m                 \u001b[0;32melse\u001b[0m\u001b[0;34m:\u001b[0m\u001b[0;34m\u001b[0m\u001b[0;34m\u001b[0m\u001b[0m\n\u001b[1;32m    413\u001b[0m                     \u001b[0mself\u001b[0m\u001b[0;34m.\u001b[0m\u001b[0mlayers\u001b[0m\u001b[0;34m[\u001b[0m\u001b[0ml\u001b[0m\u001b[0;34m]\u001b[0m\u001b[0;34m.\u001b[0m\u001b[0mforward\u001b[0m\u001b[0;34m(\u001b[0m\u001b[0mx\u001b[0m\u001b[0;34m=\u001b[0m\u001b[0mtorch\u001b[0m\u001b[0;34m.\u001b[0m\u001b[0mzeros\u001b[0m\u001b[0;34m(\u001b[0m\u001b[0mself\u001b[0m\u001b[0;34m.\u001b[0m\u001b[0mlayers\u001b[0m\u001b[0;34m[\u001b[0m\u001b[0ml\u001b[0m\u001b[0;34m]\u001b[0m\u001b[0;34m.\u001b[0m\u001b[0ms\u001b[0m\u001b[0;34m.\u001b[0m\u001b[0mshape\u001b[0m\u001b[0;34m)\u001b[0m\u001b[0;34m)\u001b[0m\u001b[0;34m\u001b[0m\u001b[0;34m\u001b[0m\u001b[0m\n",
            "\u001b[0;32m/usr/local/lib/python3.7/dist-packages/bindsnet/network/nodes.py\u001b[0m in \u001b[0;36mforward\u001b[0;34m(self, x)\u001b[0m\n\u001b[1;32m    221\u001b[0m         \u001b[0mself\u001b[0m\u001b[0;34m.\u001b[0m\u001b[0ms\u001b[0m \u001b[0;34m=\u001b[0m \u001b[0mx\u001b[0m\u001b[0;34m\u001b[0m\u001b[0;34m\u001b[0m\u001b[0m\n\u001b[1;32m    222\u001b[0m \u001b[0;34m\u001b[0m\u001b[0m\n\u001b[0;32m--> 223\u001b[0;31m         \u001b[0msuper\u001b[0m\u001b[0;34m(\u001b[0m\u001b[0;34m)\u001b[0m\u001b[0;34m.\u001b[0m\u001b[0mforward\u001b[0m\u001b[0;34m(\u001b[0m\u001b[0mx\u001b[0m\u001b[0;34m)\u001b[0m\u001b[0;34m\u001b[0m\u001b[0;34m\u001b[0m\u001b[0m\n\u001b[0m\u001b[1;32m    224\u001b[0m \u001b[0;34m\u001b[0m\u001b[0m\n\u001b[1;32m    225\u001b[0m     \u001b[0;32mdef\u001b[0m \u001b[0mreset_state_variables\u001b[0m\u001b[0;34m(\u001b[0m\u001b[0mself\u001b[0m\u001b[0;34m)\u001b[0m \u001b[0;34m->\u001b[0m \u001b[0;32mNone\u001b[0m\u001b[0;34m:\u001b[0m\u001b[0;34m\u001b[0m\u001b[0;34m\u001b[0m\u001b[0m\n",
            "\u001b[0;32m/usr/local/lib/python3.7/dist-packages/bindsnet/network/nodes.py\u001b[0m in \u001b[0;36mforward\u001b[0;34m(self, x)\u001b[0m\n\u001b[1;32m    102\u001b[0m                 \u001b[0mself\u001b[0m\u001b[0;34m.\u001b[0m\u001b[0mx\u001b[0m \u001b[0;34m+=\u001b[0m \u001b[0mself\u001b[0m\u001b[0;34m.\u001b[0m\u001b[0mtrace_scale\u001b[0m \u001b[0;34m*\u001b[0m \u001b[0mself\u001b[0m\u001b[0;34m.\u001b[0m\u001b[0ms\u001b[0m\u001b[0;34m.\u001b[0m\u001b[0mfloat\u001b[0m\u001b[0;34m(\u001b[0m\u001b[0;34m)\u001b[0m\u001b[0;34m\u001b[0m\u001b[0;34m\u001b[0m\u001b[0m\n\u001b[1;32m    103\u001b[0m             \u001b[0;32melse\u001b[0m\u001b[0;34m:\u001b[0m\u001b[0;34m\u001b[0m\u001b[0;34m\u001b[0m\u001b[0m\n\u001b[0;32m--> 104\u001b[0;31m                 \u001b[0mself\u001b[0m\u001b[0;34m.\u001b[0m\u001b[0mx\u001b[0m\u001b[0;34m.\u001b[0m\u001b[0mmasked_fill_\u001b[0m\u001b[0;34m(\u001b[0m\u001b[0mself\u001b[0m\u001b[0;34m.\u001b[0m\u001b[0ms\u001b[0m\u001b[0;34m.\u001b[0m\u001b[0mbool\u001b[0m\u001b[0;34m(\u001b[0m\u001b[0;34m)\u001b[0m\u001b[0;34m,\u001b[0m \u001b[0mself\u001b[0m\u001b[0;34m.\u001b[0m\u001b[0mtrace_scale\u001b[0m\u001b[0;34m)\u001b[0m\u001b[0;34m\u001b[0m\u001b[0;34m\u001b[0m\u001b[0m\n\u001b[0m\u001b[1;32m    105\u001b[0m \u001b[0;34m\u001b[0m\u001b[0m\n\u001b[1;32m    106\u001b[0m         \u001b[0;32mif\u001b[0m \u001b[0mself\u001b[0m\u001b[0;34m.\u001b[0m\u001b[0msum_input\u001b[0m\u001b[0;34m:\u001b[0m\u001b[0;34m\u001b[0m\u001b[0;34m\u001b[0m\u001b[0m\n",
            "\u001b[0;31mKeyboardInterrupt\u001b[0m: "
          ]
        }
      ]
    },
    {
      "cell_type": "code",
      "metadata": {
        "id": "SfTcVmMNCSUo",
        "colab": {
          "base_uri": "https://localhost:8080/",
          "height": 386
        },
        "outputId": "ce0c35bb-7378-47ab-ca80-311ece7e692d"
      },
      "source": [
        "plot_locally_connected_weights_meh(net.connections[('input', 'main1')].w,81,1,0,22,13,4)"
      ],
      "execution_count": null,
      "outputs": [
        {
          "output_type": "execute_result",
          "data": {
            "text/plain": [
              "<matplotlib.image.AxesImage at 0x7f85c3b28950>"
            ]
          },
          "metadata": {},
          "execution_count": 74
        },
        {
          "output_type": "display_data",
          "data": {
            "image/png": "[encoded data removed]",
            "text/plain": [
              "<Figure size 360x360 with 2 Axes>"
            ]
          },
          "metadata": {
            "needs_background": "light"
          }
        }
      ]
    },
    {
      "cell_type": "code",
      "metadata": {
        "id": "IfPQxKfqBqy6"
      },
      "source": [
        "datum = next(iter(dataloader))"
      ],
      "execution_count": null,
      "outputs": []
    },
    {
      "cell_type": "code",
      "metadata": {
        "id": "CZ9QhMF-FStA",
        "colab": {
          "base_uri": "https://localhost:8080/",
          "height": 282
        },
        "outputId": "61b0f7d1-f00b-49c4-87cf-2dcfc4b4d58a"
      },
      "source": [
        "plt.imshow(datum['encoded_image'].squeeze().sum(0))"
      ],
      "execution_count": null,
      "outputs": [
        {
          "output_type": "execute_result",
          "data": {
            "text/plain": [
              "<matplotlib.image.AxesImage at 0x7f85c37cf210>"
            ]
          },
          "metadata": {},
          "execution_count": 100
        },
        {
          "output_type": "display_data",
          "data": {
            "image/png": "[encoded data removed]",
            "text/plain": [
              "<Figure size 432x288 with 1 Axes>"
            ]
          },
          "metadata": {
            "needs_background": "light"
          }
        }
      ]
    },
    {
      "cell_type": "code",
      "metadata": {
        "id": "XByLo0PbDYL-"
      },
      "source": [
        "net.one_step(datum)"
      ],
      "execution_count": null,
      "outputs": []
    },
    {
      "cell_type": "code",
      "metadata": {
        "id": "LpDx7QpSGCdf"
      },
      "source": [
        "spikes = net.spikes[\"main1\"].get(\"s\").sum(0).squeeze().view(4*9,4*9)"
      ],
      "execution_count": null,
      "outputs": []
    },
    {
      "cell_type": "code",
      "metadata": {
        "id": "-ve-ZzhfMb31",
        "colab": {
          "base_uri": "https://localhost:8080/"
        },
        "outputId": "d5b11460-d4a9-42d7-a6a0-6f8ae32b84eb"
      },
      "source": [
        "spikes.shape"
      ],
      "execution_count": null,
      "outputs": [
        {
          "output_type": "execute_result",
          "data": {
            "text/plain": [
              "torch.Size([36, 36])"
            ]
          },
          "metadata": {},
          "execution_count": 129
        }
      ]
    },
    {
      "cell_type": "code",
      "metadata": {
        "id": "-OF17MD_OFXb",
        "colab": {
          "base_uri": "https://localhost:8080/"
        },
        "outputId": "4539fcef-07c8-48db-ef2c-138b5fb439b5"
      },
      "source": [
        "torch.max(spikes)"
      ],
      "execution_count": null,
      "outputs": [
        {
          "output_type": "execute_result",
          "data": {
            "text/plain": [
              "tensor(31)"
            ]
          },
          "metadata": {},
          "execution_count": 130
        }
      ]
    },
    {
      "cell_type": "code",
      "metadata": {
        "id": "yNYJ-wKaGaUT",
        "colab": {
          "base_uri": "https://localhost:8080/",
          "height": 283
        },
        "outputId": "6911c6b7-3622-46b5-d271-70691d564cff"
      },
      "source": [
        "plt.imshow(spikes,cmap = 'Greys')"
      ],
      "execution_count": null,
      "outputs": [
        {
          "output_type": "execute_result",
          "data": {
            "text/plain": [
              "<matplotlib.image.AxesImage at 0x7f85c3272ed0>"
            ]
          },
          "metadata": {},
          "execution_count": 138
        },
        {
          "output_type": "display_data",
          "data": {
            "image/png": "[encoded data removed]",
            "text/plain": [
              "<Figure size 432x288 with 1 Axes>"
            ]
          },
          "metadata": {
            "needs_background": "light"
          }
        }
      ]
    },
    {
      "cell_type": "code",
      "metadata": {
        "id": "M0H3gVCJOxna",
        "colab": {
          "base_uri": "https://localhost:8080/",
          "height": 286
        },
        "outputId": "40999555-72d0-4fc2-a8ef-6459788a9e1a"
      },
      "source": [
        "plt.imshow(spikes.repeat(13,13).cpu(),cmap = 'Greys')"
      ],
      "execution_count": null,
      "outputs": [
        {
          "output_type": "execute_result",
          "data": {
            "text/plain": [
              "<matplotlib.image.AxesImage at 0x7f85c31d8310>"
            ]
          },
          "metadata": {},
          "execution_count": 140
        },
        {
          "output_type": "display_data",
          "data": {
            "image/png": "[encoded data removed]",
            "text/plain": [
              "<Figure size 432x288 with 1 Axes>"
            ]
          },
          "metadata": {
            "needs_background": "light"
          }
        }
      ]
    },
    {
      "cell_type": "code",
      "metadata": {
        "id": "zMVv6pCSMJTw",
        "colab": {
          "base_uri": "https://localhost:8080/",
          "height": 386
        },
        "outputId": "0ba8491c-a139-474f-c467-6e72c26fdbe0"
      },
      "source": [
        "plot_locally_connected_weights_meh2(net.connections[('input', 'main1')].w,spikes,81,1,0,22,13,4)"
      ],
      "execution_count": null,
      "outputs": [
        {
          "output_type": "execute_result",
          "data": {
            "text/plain": [
              "<matplotlib.image.AxesImage at 0x7f85c3408ad0>"
            ]
          },
          "metadata": {},
          "execution_count": 132
        },
        {
          "output_type": "display_data",
          "data": {
            "image/png": "[encoded data removed]",
            "text/plain": [
              "<Figure size 360x360 with 2 Axes>"
            ]
          },
          "metadata": {
            "needs_background": "light"
          }
        }
      ]
    },
    {
      "cell_type": "code",
      "metadata": {
        "id": "i1Jp5bjGKvBd"
      },
      "source": [
        "from matplotlib.axes import Axes\n",
        "from matplotlib.image import AxesImage\n",
        "from matplotlib.collections import PathCollection\n",
        "from mpl_toolkits.axes_grid1 import make_axes_locatable\n",
        "def plot_locally_connected_weights_meh2(weights: torch.Tensor,\n",
        "    spikes : torch.Tensor,\n",
        "    n_filters: int,\n",
        "    in_chans: int,\n",
        "    slice_to_plot: int,\n",
        "    input_size: int,\n",
        "    kernel_size: Union[int, Tuple[int, int]],\n",
        "    conv_size: Union[int, Tuple[int, int]],\n",
        "    wmin: float = 0.0,\n",
        "    wmax: float = 1.0,\n",
        "    im: Optional[AxesImage] = None,\n",
        "    lines: bool = True,\n",
        "    figsize: Tuple[int, int] = (5, 5),\n",
        "    cmap: str = \"hot_r\",\n",
        "    ) -> AxesImage:\n",
        "    # language=rst\n",
        "    \"\"\"\n",
        "    Plot a connection weight matrix of a :code:`Connection` with `locally connected\n",
        "    structure <http://yann.lecun.com/exdb/publis/pdf/gregor-nips-11.pdf>_.\n",
        "    :param weights: Weight matrix of Conv2dConnection object.\n",
        "    :param n_filters: No. of convolution kernels in use.\n",
        "    :param in_channels: No. of input channels\n",
        "    :param slice_to_plot: The 2D slice to plot\n",
        "    :param inp_size: The square input size\n",
        "    :param kernel_size: Side length(s) of 2D convolution kernels.\n",
        "    :param conv_size: Side length(s) of 2D convolution population.\n",
        "    :param wmin: Minimum allowed weight value.\n",
        "    :param wmax: Maximum allowed weight value.\n",
        "    :param im: Used for re-drawing the weights plot.\n",
        "    :param lines: Whether or not to draw horizontal and vertical lines separating input\n",
        "        regions.\n",
        "    :param figsize: Horizontal, vertical figure size in inches.\n",
        "    :param cmap: Matplotlib colormap.\n",
        "    :return: Used for re-drawing the weights plot.\n",
        "    \"\"\"\n",
        "    x = torch.clip(spikes,0,5).repeat(kernel_size,kernel_size).cpu()\n",
        "    n_sqrt = int(np.ceil(np.sqrt(n_filters)))\n",
        "\n",
        "    sel_slice = weights.view(in_chans, n_filters, conv_size, conv_size, kernel_size, kernel_size).cpu()\n",
        "    sel_slice = sel_slice[slice_to_plot, ...]\n",
        "    \n",
        "    reshaped = reshape_locally_connected_weights_meh(\n",
        "        sel_slice, n_filters, kernel_size, conv_size, input_size\n",
        "    )\n",
        "\n",
        "    if not im:\n",
        "        fig, ax = plt.subplots(figsize=figsize)\n",
        "\n",
        "        im = ax.imshow(reshaped.cpu()*x, cmap=cmap, vmin=wmin, vmax=wmax)\n",
        "        div = make_axes_locatable(ax)\n",
        "        cax = div.append_axes(\"right\", size=\"5%\", pad=0.05)\n",
        "        kernel_size = _pair(kernel_size)\n",
        "        conv_size = _pair(conv_size)\n",
        "        \n",
        "        if lines:\n",
        "            for i in range(\n",
        "                n_sqrt * kernel_size[0],\n",
        "                n_sqrt * conv_size[0] * kernel_size[0],\n",
        "                n_sqrt * kernel_size[0],\n",
        "            ):\n",
        "                ax.axhline(i - 0.5, color=\"g\", linestyle=\"--\")\n",
        "\n",
        "            for i in range(\n",
        "                n_sqrt * kernel_size[1],\n",
        "                n_sqrt * conv_size[1] * kernel_size[1],\n",
        "                n_sqrt * kernel_size[1],\n",
        "            ):\n",
        "                ax.axvline(i - 0.5, color=\"g\", linestyle=\"--\")\n",
        "\n",
        "        ax.set_xticks(())\n",
        "        ax.set_yticks(())\n",
        "        ax.set_aspect(\"auto\")\n",
        "\n",
        "        plt.colorbar(im, cax=cax)\n",
        "        fig.tight_layout()\n",
        "    else:\n",
        "        im.set_data(reshaped)\n",
        "\n",
        "    return im"
      ],
      "execution_count": null,
      "outputs": []
    },
    {
      "cell_type": "markdown",
      "metadata": {
        "id": "RNJURL35NEcu"
      },
      "source": [
        "Plots : \n",
        "1. plot_ET (STDP and MSTDPEt) [Check Bindsnet]\n",
        "2. plot feature mapse [bindsnet]"
      ]
    },
    {
      "cell_type": "code",
      "metadata": {
        "id": "rFidYsFYzUl7"
      },
      "source": [
        "# plot_locally_connected_weights(net.connections[('input', 'main')].w, 100, 12, 3, net.connections[('input', 'main')].locations, 20)"
      ],
      "execution_count": null,
      "outputs": []
    },
    {
      "cell_type": "markdown",
      "metadata": {
        "id": "Lkmj9tDazbm3"
      },
      "source": [
        "## Plotting the feature maps"
      ]
    },
    {
      "cell_type": "code",
      "metadata": {
        "id": "zSdD8hPAzm5P",
        "colab": {
          "base_uri": "https://localhost:8080/"
        },
        "outputId": "98c2cf40-d558-43e5-94f3-c370d603f37f"
      },
      "source": [
        "n_filts = (int((network_hparams['crop_size']-network_hparams['filter_size'])/network_hparams['stride'])+1)\n",
        "n_filts"
      ],
      "execution_count": null,
      "outputs": [
        {
          "output_type": "execute_result",
          "data": {
            "text/plain": [
              "3"
            ]
          },
          "metadata": {},
          "execution_count": 444
        }
      ]
    },
    {
      "cell_type": "code",
      "metadata": {
        "id": "kYAtejQAzoku",
        "colab": {
          "base_uri": "https://localhost:8080/"
        },
        "outputId": "52685884-8bad-4b58-b492-333f1f708a19"
      },
      "source": [
        "\n",
        "\n",
        "print(net.connections[('input', 'main')].w.shape)\n",
        "\n",
        "in_chans = 2\n",
        "n_chans = 100\n",
        "k = 12\n",
        "\n",
        "reshaped_w = net.connections[('input', 'main')].w.view(in_chans, n_chans, n_filts, n_filts, k, k)\n",
        "\n",
        "print(reshaped_w.shape)"
      ],
      "execution_count": null,
      "outputs": [
        {
          "output_type": "stream",
          "name": "stdout",
          "text": [
            "torch.Size([2, 900, 144])\n",
            "torch.Size([2, 100, 3, 3, 12, 12])\n"
          ]
        }
      ]
    },
    {
      "cell_type": "code",
      "metadata": {
        "id": "Ut7wA1Emzq4J",
        "colab": {
          "base_uri": "https://localhost:8080/",
          "height": 248
        },
        "outputId": "d7535acc-991d-454a-9f3a-c77c27284e92"
      },
      "source": [
        "chan_idx = 20 # 0 to N_channels \n",
        "fig, axs = plt.subplots(n_filts, n_filts)\n",
        "for i in range(n_filts):\n",
        "    for j in range(n_filts):\n",
        "        axs[i][j].imshow(reshaped_w[0,chan_idx,i,j].view(k, k).cpu(), cmap='Greys')\n",
        "        axs[i][j].axis('off')\n",
        "plt.show()"
      ],
      "execution_count": null,
      "outputs": [
        {
          "output_type": "display_data",
          "data": {
            "text/plain": [
              "<Figure size 432x288 with 9 Axes>"
            ],
            "image/png": "[encoded data removed]"
          },
          "metadata": {
            "needs_background": "light"
          }
        }
      ]
    },
    {
      "cell_type": "markdown",
      "metadata": {
        "id": "vkz7skWaiWj7"
      },
      "source": [
        "## Tensorboard"
      ]
    },
    {
      "cell_type": "code",
      "metadata": {
        "id": "nAKGbShj7kOM"
      },
      "source": [
        "# Load the TensorBoard notebook extension\n",
        "%load_ext tensorboard"
      ],
      "execution_count": null,
      "outputs": []
    },
    {
      "cell_type": "code",
      "metadata": {
        "id": "EXv13w317oW7"
      },
      "source": [
        "%tensorboard --logdir '/content/runs'"
      ],
      "execution_count": null,
      "outputs": []
    },
    {
      "cell_type": "markdown",
      "metadata": {
        "id": "IGe49P4-q9zp"
      },
      "source": [
        "## Save/Load Sessions"
      ]
    },
    {
      "cell_type": "markdown",
      "metadata": {
        "id": "1Ow_r8C5qzwu"
      },
      "source": [
        "Save tensorBoard Session "
      ]
    },
    {
      "cell_type": "code",
      "metadata": {
        "id": "XdHDClhIqUlW"
      },
      "source": [
        "from google.colab import drive\n",
        "drive.mount('/content/drive')\n",
        "!cp -a /content/runs/. /content/drive/MyDrive/LCNet/logs/"
      ],
      "execution_count": null,
      "outputs": []
    },
    {
      "cell_type": "markdown",
      "metadata": {
        "id": "6NOgZCamq4p-"
      },
      "source": [
        "Read Saved Sessions"
      ]
    },
    {
      "cell_type": "code",
      "metadata": {
        "id": "DlItthjkq4S5"
      },
      "source": [
        "%tensorboard --logdir /content/drive/MyDrive/LCNet/logs/"
      ],
      "execution_count": null,
      "outputs": []
    },
    {
      "cell_type": "markdown",
      "metadata": {
        "id": "QZtdOQm4oAu1"
      },
      "source": [
        "## Optuna"
      ]
    },
    {
      "cell_type": "markdown",
      "metadata": {
        "id": "hcLDxcrwithj"
      },
      "source": [
        "install and import optuna"
      ]
    },
    {
      "cell_type": "code",
      "metadata": {
        "id": "CGik9_MeQfaI"
      },
      "source": [
        "!pip install optuna\n",
        "import optuna"
      ],
      "execution_count": null,
      "outputs": []
    },
    {
      "cell_type": "markdown",
      "metadata": {
        "id": "bsM-Y9CZiv15"
      },
      "source": [
        "Define objective function"
      ]
    },
    {
      "cell_type": "code",
      "metadata": {
        "id": "Yj_n_rwWDrdV"
      },
      "source": [
        "STUDY_NAME  = ''\n",
        "DATA_PATH = ''\n",
        "N_TRIALS = ''\n",
        "\n",
        "def objective(trial):\n",
        "    ### Suggest parameters: \n",
        "    num_layers = trial.suggest_int('Number of Layers', 1, 4)\n",
        "    dropout_rate  = trial.suggest_float('Dropout', 0, .99)\n",
        "    activation = trial.suggest_categorical('activation', ['relu', 'selu', 'sigmoid', 'elu'])\n",
        "    lr = trial.suggest_float('Learning rate', 1e-6, 1)\n",
        "    network_hparams.update({\n",
        "        \n",
        "    })\n",
        "    ###Define your model\n",
        "    manual_seed(SEED)\n",
        "    hparams = {**reward_hparams, **network_hparams, **train_hparams, **data_hparams}\n",
        "    net = LCNet(**hparams, reward_fn = DynamicDopamineInjection)\n",
        "    va_acc = net.fit(dataloader = dataloader, val_loader = val_loader, reward_hparams = reward_hparams, **train_hparams)\n",
        "    ### Define objective value\n",
        "    objective_value = min(va_acc)\n",
        "\n",
        "    \n",
        "    return objective_value\n"
      ],
      "execution_count": null,
      "outputs": []
    },
    {
      "cell_type": "markdown",
      "metadata": {
        "id": "ywzhxB84jthL"
      },
      "source": [
        "Run the study"
      ]
    },
    {
      "cell_type": "code",
      "metadata": {
        "id": "IDFttXEkjv4f"
      },
      "source": [
        "study = optuna.create_study(study_name = STUDY_NAME , storage=f\"sqlite:////content/drive/MyDrive/LCNet/optuna/optuna_study.db\", load_if_exists=True)\n",
        "study.optimize(objective, n_trials=N_TRIALS )"
      ],
      "execution_count": null,
      "outputs": []
    },
    {
      "cell_type": "code",
      "metadata": {
        "colab": {
          "base_uri": "https://localhost:8080/"
        },
        "id": "Azp25HveO77U",
        "outputId": "5fdaa0eb-5888-4acd-acdb-d059bfcd5b87"
      },
      "source": [
        "study.best_params"
      ],
      "execution_count": null,
      "outputs": [
        {
          "output_type": "execute_result",
          "data": {
            "text/plain": [
              "{'Dropout': 0.09142336347778651,\n",
              " 'Layer 1': 82,\n",
              " 'Layer 2': 508,\n",
              " 'Layer 3': 286,\n",
              " 'Learning rate': 0.008771184760927113,\n",
              " 'Number of Layers': 3,\n",
              " 'activation': 'relu',\n",
              " 'l1': None}"
            ]
          },
          "metadata": {
            "tags": []
          },
          "execution_count": 94
        }
      ]
    },
    {
      "cell_type": "markdown",
      "metadata": {
        "id": "epsdhrYujy4f"
      },
      "source": [
        "Visualization"
      ]
    },
    {
      "cell_type": "code",
      "metadata": {
        "colab": {
          "base_uri": "https://localhost:8080/",
          "height": 542
        },
        "id": "lYgaOQZBaPJk",
        "outputId": "4cc05a5d-636a-4fa0-e260-cecd4b73845a"
      },
      "source": [
        "plot_parallel_coordinate(study, params=[\"Learning rate\", \"Number of Layers\", \"Dropout\"])"
      ],
      "execution_count": null,
      "outputs": [
        {
          "output_type": "display_data",
          "data": {
            "text/html": [
              "<html>\n",
              "<head><meta charset=\"utf-8\" /></head>\n",
              "<body>\n",
              "    <div>\n",
              "            <script src=\"https://cdnjs.cloudflare.com/ajax/libs/mathjax/2.7.5/MathJax.js?config=TeX-AMS-MML_SVG\"></script><script type=\"text/javascript\">if (window.MathJax) {MathJax.Hub.Config({SVG: {font: \"STIX-Web\"}});}</script>\n",
              "                <script type=\"text/javascript\">window.PlotlyConfig = {MathJaxConfig: 'local'};</script>\n",
              "        <script src=\"https://cdn.plot.ly/plotly-latest.min.js\"></script>    \n",
              "            <div id=\"4da333a4-edd7-4ced-a4de-49a20b8ed5f8\" class=\"plotly-graph-div\" style=\"height:525px; width:100%;\"></div>\n",
              "            <script type=\"text/javascript\">\n",
              "                \n",
              "                    window.PLOTLYENV=window.PLOTLYENV || {};\n",
              "                    \n",
              "                if (document.getElementById(\"4da333a4-edd7-4ced-a4de-49a20b8ed5f8\")) {\n",
              "                    Plotly.newPlot(\n",
              "                        '4da333a4-edd7-4ced-a4de-49a20b8ed5f8',\n",
              "                        [{\"dimensions\": [{\"label\": \"Objective Value\", \"range\": [1.2982209920883179, 14561242.0], \"values\": [3.41186261177063, 3.41186261177063, 1573.8834228515625, 40182.33984375, 1528.2066650390625, 3.41186261177063, 5028653.5, 1902.826171875, 4562251.5, 945.5894165039062, 3.41186261177063, 3.41186261177063, 3.41186261177063, 3.41186261177063, 3.41186261177063, 3.41186261177063, 3.41186261177063, 3.41186261177063, 3.41186261177063, 3.41186261177063, 3.41186261177063, 3.41186261177063, 3.41186261177063, 3.41186261177063, 3.41186261177063, 3.41186261177063, 3.41186261177063, 1.5610835552215576, 1.2982209920883179, 3.41186261177063, 3.41186261177063, 3.41186261177063, 3.41186261177063, 3.41186261177063, 3.41186261177063, 3.41186261177063, 3.41186261177063, 3.41186261177063, 3.41186261177063, 3.41186261177063, 1996253.125, 3.41186261177063, 1.3412549495697021, 3.41186261177063, 1.3456010818481445, 208.45639038085938, 1.3210997581481934, 3.41186261177063, 1.6091002225875854, 1.3304294347763062, 297.8522033691406, 1.4888664484024048, 1.4887771606445312, 1.3360676765441895, 1.3630410432815552, 3.41186261177063, 1.6488354206085205, 1.3287392854690552, 1.4895340204238892, 3.41186261177063, 3.41186261177063, 1.5344265699386597, 3.41186261177063, 3.41186261177063, 1.440764307975769, 1.488864779472351, 1.488818883895874, 1.466086745262146, 3.41186261177063, 3.41186261177063, 3.41186261177063, 1.3408962488174438, 3.41186261177063, 3.41186261177063, 3.41186261177063, 1.3349838256835938, 3.41186261177063, 7.432951927185059, 3.41186261177063, 3.41186261177063, 3.41186261177063, 1.3247721195220947, 1.4888302087783813, 1.322178602218628, 1.4888978004455566, 1.4888209104537964, 3.41186261177063, 2.3582754135131836, 1.3386236429214478, 3.41186261177063, 1.49014151096344, 1.488823652267456, 3.41186261177063, 1.3245543241500854, 1.323976993560791, 1.4888335466384888, 3.41186261177063, 3.9560186862945557, 3.41186261177063, 2.909315347671509, 1.3193601369857788, 3.41186261177063, 1.511308193206787, 1.3136441707611084, 3.41186261177063, 3.41186261177063, 1.4888402223587036, 1.4888317584991455, 3.41186261177063, 3.41186261177063, 1.3589725494384766, 2.0364224910736084, 3.41186261177063, 1.3351562023162842, 1.333082675933838, 3.41186261177063, 1.345519781112671, 3.41186261177063, 3.41186261177063, 1.3363773822784424, 3.41186261177063, 1.3386261463165283, 3.41186261177063, 1.3352710008621216, 1.4969419240951538, 3.41186261177063, 1.3299638032913208, 1.4888179302215576, 499.7135009765625, 1.488878846168518, 1.4904865026474, 1.3302356004714966, 1.3491047620773315, 3.41186261177063, 1.3281259536743164, 1.4885554313659668, 1.4888970851898193, 3.41186261177063, 1.34572434425354, 1.3183053731918335, 1.4915050268173218, 3.41186261177063, 1.490088939666748, 1.4888391494750977, 1.3113908767700195, 3.41186261177063, 2.1569273471832275, 1.325134038925171, 1.4888319969177246, 3.41186261177063, 2.6820173263549805, 1.4889917373657227, 1.3089126348495483, 1.308632254600525, 3.41186261177063, 1.4888687133789062, 1.3131179809570312, 3.41186261177063, 3.41186261177063, 3.41186261177063, 1.4888315200805664, 1.4690502882003784, 1.5091662406921387, 1.3258752822875977, 3.41186261177063, 1.4888314008712769, 1.4705278873443604, 4818.158203125, 1.488825798034668, 1.484520673751831, 3.41186261177063, 1.48581063747406, 1.4793022871017456, 3.41186261177063, 2.6853699684143066, 3.41186261177063, 3.41186261177063, 3.41186261177063, 3.41186261177063, 1.5001596212387085, 1.3194295167922974, 1.327432632446289, 1.3218836784362793, 1.3434199094772339, 3.41186261177063, 1.3185940980911255, 1.4976372718811035, 1.3232676982879639, 3.41186261177063, 3.41186261177063, 1.315920352935791, 3.41186261177063, 3.41186261177063, 1.3266558647155762, 3.41186261177063, 1.3477894067764282, 3.41186261177063, 3.41186261177063, 3.41186261177063, 1.4888219833374023, 1.373160719871521, 1.3271931409835815, 3.41186261177063, 1.4715697765350342, 1.3213223218917847, 3.41186261177063, 1.308161973953247, 1.4888219833374023, 1.488818645477295, 1.4889020919799805, 1.4888558387756348, 2.69138503074646, 1.3204686641693115, 1.3125131130218506, 3.41186261177063, 1.4888322353363037, 1.3331835269927979, 415.56671142578125, 1.581402063369751, 3.41186261177063, 1.3211685419082642, 1.3021266460418701, 1.4888198375701904, 1.325307011604309, 1.329646110534668, 1.4888436794281006, 1.3281971216201782, 1.4888861179351807, 3.41186261177063, 1.305359959602356, 1.3265137672424316, 1.3640973567962646, 1.3347446918487549, 3.41186261177063, 1.3504081964492798, 1.3332096338272095, 3.41186261177063, 1.4888545274734497, 3.4115991592407227, 3.41186261177063, 3.41186261177063, 1.3193230628967285, 1.4888228178024292, 1.3274098634719849, 1.3126106262207031, 1.3173880577087402, 1.3275312185287476, 1.322373628616333, 1.489281415939331, 3.41186261177063, 1.310310959815979, 1.4888172149658203, 1.3176379203796387, 3.41186261177063, 3.41186261177063, 1.329596757888794, 1.32630455493927, 2.0398926734924316, 1.488019585609436, 1.3448506593704224, 1.48855721950531, 1.4942303895950317, 1.4888358116149902, 311.04400634765625, 1.3175146579742432, 1.3329596519470215, 1.488847255706787, 3.41186261177063, 3.41186261177063, 3.41186261177063, 1.4967288970947266, 1.4313173294067383, 1.4887478351593018, 3.41186261177063, 1.8477803468704224, 1.4888261556625366, 1.4888958930969238, 1.3229091167449951, 1.332504153251648, 1.3610163927078247, 3.41186261177063, 1.3288545608520508, 1.3301451206207275, 3.41186261177063, 3.41186261177063, 1.4888267517089844, 3.41186261177063, 3.4117937088012695, 1.3516267538070679, 1.3335763216018677, 3.41186261177063, 199.16970825195312, 1.489451289176941, 1.3276795148849487, 1.334709882736206, 1.3188152313232422, 3.41186261177063, 3.41186261177063, 1.3202966451644897, 1.3358441591262817, 3.41186261177063, 1.4888269901275635, 3.41186261177063, 1.3066781759262085, 3.41186261177063, 1.3137255907058716, 3.41186261177063, 3.41186261177063, 1.3406171798706055, 3.41186261177063, 1.2999054193496704, 1.3272432088851929, 3.41186261177063, 3.41186261177063, 3.41186261177063, 3.41186261177063, 3.41186261177063, 3.41186261177063, 1.3045551776885986, 3.41186261177063, 1.4952431917190552, 2675.79052734375, 1.3019428253173828, 1.48887038230896, 1.3364481925964355, 1.32117760181427, 3.41186261177063, 1.3121179342269897, 3.41186261177063, 1.4888906478881836, 3.41186261177063, 1.3226450681686401, 3.41186261177063, 1.4888287782669067, 1.320836067199707, 3.41186261177063, 3.41186261177063, 3.41186261177063, 1.3085274696350098, 1.3093986511230469, 3.41186261177063, 1.488820195198059, 1.317246675491333, 1.4921292066574097, 1.326299786567688, 1.3326469659805298, 3.41186261177063, 1.488829255104065, 3.41186261177063, 1.3266675472259521, 1.491834282875061, 1.3059812784194946, 3.41186261177063, 696.8388061523438, 1.4321969747543335, 1.4888207912445068, 3.41186261177063, 1.311875820159912, 3.41186261177063, 1.3288514614105225, 1.3099689483642578, 1.313618540763855, 3.41186261177063, 3.41186261177063, 3.41186261177063, 1.488821268081665, 1.3155453205108643, 3.411557912826538, 3.41186261177063, 1.3217459917068481, 3.41186261177063, 1.4906315803527832, 3.41186261177063, 1.3453859090805054, 1.4888182878494263, 3.41186261177063, 1.314800500869751, 3.41186261177063, 1.3281633853912354, 3.41186261177063, 1.321211814880371, 1102.6551513671875, 3.41186261177063, 3.41186261177063, 3.41186261177063, 1.3377939462661743, 3.41186261177063, 3.41186261177063, 1.3136341571807861, 3.41186261177063, 3.41186261177063, 3.41186261177063, 1.3284739255905151, 3.41186261177063, 1.3212107419967651, 1.3475548028945923, 3.41186261177063, 3.41186261177063, 1.3276013135910034, 3.41186261177063, 1.3147908449172974, 1.4900482892990112, 1.4910539388656616, 1.4888460636138916, 1.3363206386566162, 3.41186261177063, 3.41186261177063, 1.4887561798095703, 1.3011691570281982, 57.89400863647461, 3.41186261177063, 3.41186261177063, 2.024686813354492, 1.4956120252609253, 1.4888505935668945, 1.488817572593689, 1.4888553619384766, 1.3047354221343994, 3.41186261177063, 1.488818645477295, 1.3213609457015991, 2.043469190597534, 1.3281235694885254, 1.3031138181686401, 1.4892010688781738, 14561242.0, 3.41186261177063, 1.2996032238006592, 3.41186261177063, 3.41186261177063, 3.41186261177063, 3.41186261177063, 1.488633155822754, 3.41186261177063, 1.488843560218811, 1.4442107677459717, 1.415286660194397, 3.41186261177063, 1.4373067617416382, 3181.039794921875, 3.41186261177063, 3.41186261177063, 1.3226823806762695, 1.3124511241912842, 1.3017604351043701, 3.41186261177063, 1.6777530908584595, 1.4891026020050049, 3.41186261177063, 3.41186261177063, 3.41186261177063, 1.3141649961471558, 3.41186261177063, 3.41186261177063, 1.3052650690078735, 3.41186261177063, 3.41186261177063, 3.41186261177063, 3.41186261177063, 3.41186261177063, 3.41186261177063, 1.4536466598510742, 1.3093748092651367, 1.316675066947937, 3.41186261177063, 3.41186261177063, 1.313673973083496, 4.355731964111328, 3.41186261177063, 3.41186261177063, 1.319928765296936, 3.41186261177063, 1.4888230562210083, 1.3414974212646484, 3.41186261177063, 1.488836646080017, 3.41186261177063, 2.672865629196167, 3.41186261177063, 3.41186261177063, 1.4835532903671265, 3.41186261177063, 1.3185737133026123, 1.503530740737915, 1.4888479709625244, 1.3155088424682617, 3.41186261177063, 3.41186261177063, 3.41186261177063, 3.41186261177063, 3.41186261177063, 3.41186261177063, 2.0430803298950195, 1.3163092136383057, 3.41186261177063, 1.492780327796936, 3.41186261177063, 1.4853918552398682, 1.3153973817825317, 226.0158233642578]}, {\"label\": \"Dropout\", \"range\": [3.443103036387257e-05, 0.9842606560857956], \"values\": [0.18977214464009692, 0.7227315480926801, 0.6815362495608449, 0.5185686676008853, 0.9571123927309707, 0.9413976023486653, 0.9240297064647457, 0.8832423793421973, 0.24820480999218064, 0.22803488983480102, 0.03705698311217703, 0.6687979784843106, 0.2995763177694883, 0.013776342616227705, 0.7506263336085158, 0.46831020858962125, 0.4699295907735423, 0.7784624726260249, 0.126345073419686, 0.4033925539510268, 0.8100547663369849, 0.11997535769142222, 0.34517494036659885, 0.5609482806976116, 0.12266602597561153, 0.14107593864823564, 0.5710514219566252, 0.5784965594320876, 0.09142336347778651, 0.6032814544493361, 0.39142095676496175, 0.5769203239656192, 0.6516745218245438, 0.4028877538782995, 0.5187279938991173, 0.2042794916392674, 0.8247660706030391, 0.06986220574368689, 0.32785661170132746, 0.2983801710400664, 0.19267254632572553, 0.5191530269533787, 0.06790657486476076, 0.0912079503768097, 0.004813769026088974, 0.02323644800214135, 0.05801799181828775, 0.06654630194044663, 0.1666155407376949, 0.021752858239725212, 0.020394699664888126, 0.06269230669812192, 0.054764765785951214, 0.003260979031988895, 0.0010386661049646946, 0.0042514240575314555, 0.25692568926512044, 0.1046480091242594, 0.0936971406943859, 0.1593576837933141, 0.10060409892962652, 0.039881893955648826, 0.009131805200186065, 0.15825048489742177, 0.22795929224033357, 0.10328946678074592, 0.042645892947305065, 0.1300934156651391, 0.08137342020826593, 0.03255850397317858, 0.0032687211019654383, 0.0054011288573812795, 0.9842606560857956, 0.05241566677384037, 0.002022585909989674, 0.11208759600690653, 0.1178981600381534, 0.17176756453516412, 0.14382620352860775, 0.08002638436773904, 0.21665627576686247, 0.03430415450884129, 0.10863876962768966, 0.030115227553549145, 0.03588715693992984, 0.13729906518175178, 0.029199815203026433, 0.07966638871111814, 0.051836270847720585, 0.1906048350017894, 0.052127455144741465, 0.021879004551463396, 0.10722345283414045, 0.07211031931240228, 0.07263815083250716, 0.08682192217721761, 0.14274896340832918, 0.25978152456704495, 0.17556005013273301, 0.06500372738241907, 0.11079873774496185, 0.12166532010138775, 0.07666670846091683, 0.09294591114907316, 0.09945427922991029, 0.1436334728930368, 0.11745473975062676, 0.045141366801021654, 0.15738204180492116, 0.06396837828601888, 0.20450263253346906, 0.029951649004927874, 0.08539379720540134, 0.09754246888896347, 0.0944676340805405, 0.12790599888765714, 0.17946120846687202, 0.06368394847934356, 0.10661137990586715, 0.03718775312778729, 0.14924491872609683, 0.0930492261823937, 0.07439242994802123, 0.017260289893501327, 0.11763801390512933, 0.053661581396183974, 0.0927608235226057, 0.021326752148343786, 0.13127253890822146, 0.08071128808912653, 0.04747427149672451, 0.09799345728234844, 0.10262951470757437, 0.0739678764097289, 0.0008586693541276641, 0.01183804134064103, 0.0014356267148336547, 0.04224617681712018, 0.06138064527594206, 0.02552558850865591, 0.029606589985803084, 0.08804472738367561, 0.0003866889637423043, 0.05529174990778434, 0.02312440920650563, 0.02317213300112871, 0.03231882679344715, 0.002904293927166124, 0.0699004406403539, 0.00448326943437846, 0.048294424062963706, 0.016547035310487877, 0.0423895536083662, 0.06591671644615017, 0.04538835653479515, 0.07214399480856416, 0.03677882620553821, 0.03734087072507006, 0.0005399644029429574, 0.059174074777862344, 0.02175796750859533, 0.07841378095748251, 0.053676210841932734, 0.1229197435675967, 0.1212336573590234, 0.03153559086610436, 0.004505217805839373, 0.725009661957866, 0.11085439762023731, 0.06613954042567897, 0.15181784187943353, 0.08959052592625524, 0.08553933950919818, 0.045222467191919684, 0.13334769083000425, 0.4274785527106425, 0.0018561014024722964, 0.11252773843343927, 0.06733250397411983, 0.027161499608146324, 0.10145758292584943, 0.09788506936364058, 0.1247132785959726, 0.12205694512388535, 0.13697556034747282, 0.07515658552798707, 0.16493885952892962, 0.08049438235332498, 0.07343802314425626, 0.05568483294249682, 0.08312290232123834, 0.08187119892853142, 0.0441305867191334, 0.10405993300797822, 0.06422543732879281, 0.08608027941409539, 0.032712041482421204, 0.11789450753129224, 0.054165854629040576, 0.07442380720347613, 0.02137283982025037, 0.09518961875538334, 0.10602189156194396, 0.13826071757602598, 0.09823442686458109, 0.06530341290112941, 0.04581060389667832, 0.04519175876333156, 0.03972971749058086, 0.08252547219594705, 0.05757215785254003, 0.017542253050450242, 0.12149509799674728, 0.08553386026934692, 0.9048680751591708, 0.08956478890152726, 0.10137083204218914, 0.07945824023174168, 0.06513631323270413, 0.11092307616006822, 0.13346016050874387, 0.13272779553843028, 0.15843922017900025, 0.13385333797619936, 0.12475726304576015, 0.14592706172323708, 0.11323256323796947, 0.0908648492436995, 0.17597461623511873, 0.07529828749794304, 0.10189731540715245, 0.07109789877878567, 0.0820197012623823, 0.1281669140835429, 0.05465642862289666, 0.09799304431299133, 0.07133513914285625, 0.04672547275949813, 0.11668458465970423, 0.0870997576806521, 0.1431490101425841, 0.03576019658665775, 0.03752225056590631, 0.06184614590715558, 0.0752585503000527, 0.03418688298787724, 0.028634785685719363, 0.04400434385393255, 0.02248668327889719, 0.6325023504316492, 0.04185470251173645, 0.05389071784865134, 0.01784256865428973, 0.012472059314996472, 0.031710234141571106, 0.10390799040205387, 0.05681723822354634, 0.018083139703332547, 0.04340793203611792, 0.12099615126762288, 0.0012123950881871778, 0.09170236089458397, 0.07608627310921343, 0.06127578605141091, 0.1567887120342379, 0.15891195945698844, 0.038027575480039065, 0.10569912999577061, 0.058821226644631804, 0.14192372318087684, 0.3299064064086893, 0.08343104793506871, 0.02090251344093779, 0.0950415427466656, 0.5479339359027675, 0.06968289443677259, 0.04141827732751504, 0.000570584848104308, 0.10667096602486088, 0.19867047307767022, 0.13372486375023235, 0.052135849328373465, 0.0757173600579813, 0.2801135965972183, 0.030400900258563793, 0.11669726830065223, 0.08888725177314286, 0.016802875622266136, 0.05365730544446178, 0.07244109470701623, 0.37650259095448346, 0.09801232034917286, 0.1628413870155264, 0.034998878722532795, 0.11992200423695587, 0.06550405288064576, 0.04920234409864489, 0.003958329431651572, 0.06687416246866033, 0.05910665840408718, 0.02493245797214909, 0.07433863608415064, 0.04179387385129526, 0.06272949249072046, 0.07066471139078256, 0.06128176727489264, 0.014397822761264672, 0.04840784470298225, 0.06270251023692296, 0.03145252895786916, 0.08512320118211228, 0.08854798734239794, 0.8297435221086382, 0.0785216394512167, 0.04333047541430265, 0.4724268717765803, 0.0009237965290651851, 0.08490152125501811, 0.022325420161716954, 0.000352831704061439, 0.025808108443689103, 0.014253689149947492, 0.04437567788810526, 0.03702159236130973, 0.04891078828951246, 0.0009908864628801264, 0.022743874061923835, 0.05032228725377848, 0.061126731743288545, 0.05686315826836345, 0.03940061074414607, 0.02031842201071487, 0.06445085997902945, 0.04941282659282947, 0.07587288075369919, 0.020373090270359297, 0.055735997777530466, 0.08144651789480722, 0.0010050816382745596, 0.002013508468486122, 0.011344956028949409, 0.016326901982388106, 0.003381909491668025, 0.002376789144923369, 0.002984806271809526, 0.0011421540830595135, 0.03227896870373849, 0.0009872263847036586, 0.03522150530904351, 0.001876648751473811, 0.04001681354483606, 0.021935589587147992, 3.443103036387257e-05, 0.042409908491311314, 0.025450163349166152, 0.05528613418275456, 0.08950520367959361, 0.048265256860903286, 0.039971750010183216, 0.05640397313179488, 0.021004433926737603, 0.018804511153529522, 0.015989226938690374, 0.06596196265485539, 0.02587192434132664, 0.04500901802784196, 0.07739932405569355, 0.06463783888795176, 0.020056198767562535, 0.04917553285352942, 0.09232545137122536, 9.842401400229905e-05, 0.07688283093582121, 0.03289452352740781, 0.05624996911429003, 0.024305966166802737, 0.06811483876267768, 0.04238046169427501, 0.058885905732796534, 0.01981289662822524, 0.10214356163140752, 0.0017185422089690703, 0.06968508743339868, 0.036604449942349696, 0.045933276655229886, 0.07638778300457917, 0.015757393540010906, 0.09899664650449055, 0.0637614071795838, 0.050714498049248775, 0.031318824294545966, 5.007173838544876e-05, 0.08946034190501388, 0.05607111165610284, 0.022349163411206813, 0.03905149746434803, 0.08660342712761897, 0.059894605248555215, 0.017814331642879374, 0.03757389881530937, 0.07555184794795243, 0.001866192684735056, 0.10998387119941301, 0.0011387396109528401, 0.058582094842012634, 0.03543870089805992, 0.09529616866559847, 0.0003891799634519015, 0.07198127252807866, 0.0890584912244459, 0.07514843271206964, 0.04774444513644024, 0.021697666052363698, 0.10883006504940862, 0.048608302421363256, 0.07958706506048667, 0.02324236591884332, 0.06771101378015973, 0.06182776442907803, 0.03137438983428246, 0.048191754701293596, 0.012192317766585671, 0.06858913642686684, 0.037114301624740054, 0.01758311538438813, 0.03714380589765104, 0.0026554761408616664, 0.03136617361625645, 0.04279455899101382, 0.03821089413613963, 0.06069461393902334, 0.08263154256148016, 0.028886985625439437, 0.04715867084502808, 0.0141401258317767, 0.07004922161202476, 0.09811309445403787, 0.04707526852334387, 0.030903027061292408, 0.07622066265338005, 0.0018572433475626815, 0.0556359041156962, 0.10427322445950628, 0.026994069431266598, 0.004155113356530498, 0.0031013235196995434, 0.43156161185613384, 0.01555485328852984, 0.021914683417306718, 0.9805178380869909, 0.0030231885615408065, 0.028413741785973626, 0.003281262951288888, 0.03720104005601631, 0.003674994388898021, 0.00261923990754568, 0.0029676245113087266, 0.017906656339263374, 0.2452523315804691, 0.67708770503428, 0.02612417283916115, 0.04531049066974576, 0.004637315543127127, 0.013526854482325155, 0.0030398571876038265, 0.003935793273641438, 0.00011147460648451915, 0.04784672934459856, 0.0009924063792427773, 0.0308750336739222, 0.053919319575250646, 0.0013838864553914962, 0.02260437815196577, 0.04290171639333729, 0.0005994551596217451, 0.06215828032759168, 0.031406293072650436, 0.05779459070988171, 0.01615746453546504, 0.03916746309493418, 0.771355916526557, 0.0004434535661207023, 0.059683995693768616, 0.07609962368472586, 0.024391975533022945, 0.045078353997614784, 0.06986488665283336, 0.0214930933921556, 0.04285829518180141, 0.01877261375194468, 0.08699617281962638, 0.05547172468515345, 0.00047376795584941627, 0.0001956695935350361, 0.03798531711097779, 0.06870642092035026, 0.1035445891095131, 0.027148385411983125, 0.08649193502290965, 0.050004943961580686]}, {\"label\": \"Learning rate\", \"range\": [4.839092386705679e-06, 0.999345881690639], \"values\": [0.8318111488629595, 0.5825190685066907, 0.8026175082579672, 0.6970440623810661, 0.3718848814571064, 0.9194361419958322, 0.6203094078517274, 0.3552388697724913, 0.4276298249589038, 0.044580280884625914, 0.970940037395826, 0.5901029835471306, 0.7850291054202887, 0.1880601162630498, 0.8490109726052444, 0.5085890263628017, 0.6660617866540687, 0.8839902023100054, 0.21539453881286114, 0.7132230699402093, 0.9635280722837865, 0.23701479130654213, 0.7573731362385578, 0.999345881690639, 0.009805414827726844, 0.2262018768767552, 0.9939229598154355, 0.0005647326270766251, 0.008771184760927113, 0.13746334034929766, 0.11510997037238159, 0.04088806407666547, 0.08345094274377901, 0.11652154408979622, 0.2988501763969884, 0.7274573603250489, 0.9008562366485751, 0.2956187496041139, 0.520493928904637, 0.4401003119778594, 0.8072312699347531, 0.819573894354146, 0.0038562530732292755, 0.02868917334823695, 0.0066328812289193195, 0.010777294021001433, 0.0005026089887436532, 0.07018339557195341, 0.1569976610569958, 0.00011998139166572927, 0.07489030743527873, 0.05119949949940067, 0.06472811371731842, 0.003638930111458142, 0.002799875313480671, 0.1702828572315992, 0.09863628535301724, 7.536833608501325e-05, 0.13638142118669183, 0.03748671413913193, 0.18197735102681784, 0.006575684098518466, 0.033976745180029404, 0.1093242513307107, 0.0015533218647126464, 0.08255258339830071, 0.046648239428554956, 0.006117449112957771, 0.13736961307686082, 0.20678274872244926, 0.26072449645801843, 0.001804019407857957, 0.020667049747028265, 0.060973332016613924, 0.09894953059915138, 0.005009273284468599, 0.040869575211491926, 0.0005106437167951795, 0.08807903074181601, 0.12923208540114764, 0.06318368476551045, 0.00046545414732343873, 0.025326689619468153, 0.000836307857516224, 0.04682815809985486, 0.026096937838657575, 0.0821556605848515, 0.15404082948907472, 0.0004609839602319583, 0.37780178166151307, 0.10601748847672118, 0.024195652321651488, 0.06559479895703142, 0.0008278344577075933, 0.0006263382346023283, 0.04231944383144484, 0.6199098957578392, 0.02517602266172283, 0.05407579592812331, 0.08584897176475585, 0.00018656772848294379, 0.024198028745843078, 0.004503205451593816, 0.0004392748746655684, 0.05903817570064794, 0.5447735247632177, 0.04249084884283121, 0.022016121675431093, 0.11615508888831637, 0.07165078331223045, 0.003171236616504612, 0.020937086021157927, 0.04145644212433934, 0.00034831258999738074, 0.00024867633838791846, 0.05758447226199979, 1.530797035000437e-05, 0.09704370650534337, 0.022151707558353245, 0.00018962612560447894, 0.04204894309009263, 0.0027952489288840692, 0.0761684118992445, 0.000114276094693333, 0.021772036018191675, 0.038849786038969394, 0.0006001452444256708, 0.051978477563983494, 0.02013727253005528, 0.07358177466113344, 0.4467724084884145, 0.0032833509140603716, 7.09956810860733e-05, 0.03255131223512051, 3.606647282256226e-05, 0.05569446607220057, 0.021049024507253326, 0.03485501080228253, 9.469444130095345e-05, 0.00042076570458325906, 0.09062881811017992, 0.015945012116275574, 0.05993098579073255, 0.013570053587776267, 0.0015964858632057878, 0.03361534081065006, 0.04531106303592312, 0.0024510427688730465, 0.015831034405731706, 0.0716349585074928, 0.0016152111930970562, 0.03299261525432884, 0.00039750005293959315, 0.0003735123694220152, 0.022954684835970445, 0.05030750834425449, 0.0019456392138276438, 0.03636853045826222, 0.017641678995441265, 0.05553940340159806, 0.017740118481972378, 0.0018485961636392208, 0.003644648238668417, 0.0008905678352506823, 0.027921368867372797, 0.0425612233853034, 0.0017823998823285313, 0.07314653593250144, 0.021350698054067366, 0.0014578074201163668, 0.6869616904774993, 0.0018174574296485665, 0.00254190704159633, 0.04786929311322935, 0.0011421035682364898, 0.03194497537763594, 0.01909453388600864, 0.059908197211907266, 0.03340643650992153, 0.002560702283418414, 0.00047973318343545566, 3.428312596082551e-05, 0.0002621838796837353, 0.0006848323529311741, 0.019987745225089337, 0.0010200128772356876, 0.03606771370723579, 0.0002110597233802087, 0.020449786947493095, 0.05139164646076383, 0.0002768828002315304, 0.018231075948590064, 0.8672271619313537, 0.00025975098994360685, 0.03391207657075111, 0.0014886727804582435, 0.0185633767611625, 0.7767051575038381, 0.04092783700242046, 0.01732202128809746, 4.839092386705679e-06, 9.250249068863388e-05, 0.9468883072631986, 0.0013709578451224268, 0.000299448190639499, 0.02583869534986426, 0.0006589696904070356, 0.04738346334479894, 0.02034327834590992, 0.06475412429969495, 0.02006078515589438, 0.0038582777392556318, 0.00038058179938438763, 0.00044436504219958324, 0.03516725854281543, 0.01886451605024933, 0.0007141120682533505, 0.03399878985704272, 0.32670260609012014, 0.018343659424244783, 0.00021620854488433282, 0.019600361830822803, 0.015829874656146214, 0.002042446018317671, 0.001380493285773636, 0.04287775883688133, 0.0018594929095926919, 0.03304388215031253, 0.0176194148353488, 0.0019793001043673887, 0.0002234535250527764, 3.8187742437063805e-05, 0.00018275630908954593, 0.021243757037771104, 0.0005455542353190162, 0.00017461130867614476, 0.03854773589447761, 0.020835541184319396, 0.054227922207086734, 0.019837023419036204, 0.03570054537482614, 0.002664028966735375, 0.014622896166524818, 6.190764292296827e-05, 0.0020020589569840286, 0.0007428723574550438, 0.0010230302497837957, 0.0006402148287644081, 0.026947944878872445, 0.019591669722353232, 0.0006354729643167035, 0.04701484324177392, 0.001116046081058396, 0.020961850118742326, 0.03701763274370863, 0.00036125055463698697, 0.0009983878913666319, 0.01991791248581757, 0.057140131629773515, 6.490671006018837e-05, 0.03477775045206333, 0.40535723770474574, 0.018391357944358925, 0.017468259895893963, 1.6337379373740162e-05, 2.4275611411332405e-05, 0.04521134143996523, 0.03199729110331968, 0.06521636725184048, 0.017195208942716606, 0.0004852933705535605, 0.0015605175032298198, 0.03468196537957979, 0.2618252677392967, 0.0007734925840008856, 0.018525261947555407, 0.051289532775630066, 0.01875266703501147, 0.0006428107515578265, 0.0002969712375334517, 0.040156271154686105, 0.0005272010903337764, 9.923612903044296e-06, 0.4924530550230862, 0.031011174052843374, 0.019160568953309098, 0.0723802758494964, 0.05171238602106266, 0.018757726276329795, 0.0008900266959972472, 0.03289050004766596, 0.018820792078667818, 0.04100349661200286, 0.0011935629447178597, 0.0009347307225850039, 0.0008078155709304219, 0.02124873032076251, 0.06241904138094003, 0.00041781949424815374, 8.136484272236368e-05, 0.03553173899429297, 0.017727684254190853, 0.04845224030298898, 0.0006769261764987614, 0.638178433448891, 0.0005457508688992035, 0.019435548164763845, 0.03056704540699154, 7.508419154701003e-05, 0.08578648864135227, 0.0008819475400870596, 0.0003304492161692224, 0.020681782488756708, 0.05445371224659366, 0.03416892717068001, 0.02134166362153642, 0.01685350843413476, 0.041022072288961056, 0.0005759146007853044, 0.018336859269085407, 0.0008982257708812491, 0.06768937612732671, 0.0010533713867024353, 0.03938048426744762, 0.0008266021528289115, 0.0010448501238005006, 0.018145010853096565, 0.0002995882361112422, 0.05231516839949336, 0.032392650945967924, 0.01702546991488874, 0.0002942316335957289, 0.03474450766041615, 0.015348776662527364, 0.00027269847933289297, 0.0536858079070212, 0.01976538618810699, 0.036087164878083625, 0.0002827213937042818, 0.0015741200620933435, 0.08012561111167861, 0.017302362980815143, 0.0010400591616107789, 0.5608418405327812, 0.00011304829506689944, 0.00018579677481631713, 0.05230514036084195, 0.02909717629588059, 0.020255502508929196, 6.779688621230283e-05, 0.1979235140215808, 0.0003918360389160052, 0.038234671920108515, 0.0648772575391006, 0.0007414501936795313, 0.019384775180918985, 0.039904104044949956, 0.0006839603038786923, 0.021520193029948394, 0.0011345692354542934, 0.0003523715605829366, 0.00022719604343753762, 0.03400622127657148, 0.0544755872582909, 0.01841942571259952, 0.01585306813913724, 0.000895802241765959, 0.03584010936264005, 0.01995692910962721, 2.8411756343403323e-05, 0.05031701728599021, 0.07296107997361252, 0.016331784333223704, 0.000354943304533424, 0.03656480591031412, 0.01874706391101637, 0.001791009442819385, 0.03520417008345619, 0.0014026435551135446, 0.05579384823640002, 0.00028497881259451486, 0.021223368827225336, 0.09975430421623677, 0.7445915829684586, 0.019701393489866457, 0.00013601067862287642, 0.03945870917402249, 0.4753148348889939, 0.0007064693205584117, 0.01907932192961654, 0.06697944418920354, 0.03508214385987181, 0.0006737979932668642, 0.017025425866391903, 0.0002824027070356082, 0.00014348347017702667, 0.048829640019877885, 0.0311663083412486, 0.0002911588928624626, 0.02058280298567976, 0.00045442284690733604, 0.24101336562042008, 0.048612464298794844, 0.01791757022560716, 1.8929290669759307e-05, 0.35811131174784067, 0.030513876781038347, 0.07172710719984579, 0.0008570216410594862, 0.0005966385127998599, 0.033194357249811964, 0.01834671626233139, 0.0008652467309240649, 0.05712498760706458, 0.03441620914177599, 0.01829768702177668, 0.016715581255036836, 0.00035923209422856263, 0.04692155351938929, 0.016046353024569745, 1.9999299314673452e-05, 0.0012703788445227653, 0.00010034699311291354, 0.0003325753751028354, 0.0863015147371859, 0.8412255140737062, 0.035314435433658004, 0.0003466879198883485, 0.04672437847140255, 0.020598942526623396, 0.03138215277414517, 0.06311656294015146, 0.16915758389571572, 0.018329434307616934, 0.018429149167798732, 0.0009573404116975137, 0.0007279542336458705, 0.045718197314420575, 0.0007698264248074498, 0.033791280109997116, 0.02585155394540583, 0.01693227764988244, 3.351934514526797e-05, 0.0005442495333666092, 0.0005558447602022427, 0.0563074904530597, 0.0008948678738089797, 0.03141200921360738, 0.01826122412017685, 0.0008949051168063129, 0.04784121126826306, 0.0003676829089073754, 0.032389933714145475, 0.018435791521706987, 0.0005704638146096265, 0.9180648957028958, 0.0169190790709879, 0.06689865071678494, 0.039898404950601776, 0.2996709638075558, 0.01652373700233391, 0.001166835769141716, 0.0005462461895284236, 0.0004040484392920495, 0.03640123882483865, 0.08387538940415022, 0.00036652575553067766, 0.0002107701935435868, 0.05422445207145151, 0.021034812640492482, 0.00017804436105929653, 0.03201672624258654, 0.017753273028320728, 0.00015393342061492655, 0.037715444240410415, 0.01944877003370576, 0.05564548384656694, 0.0007176007617984702, 0.01881215232901902, 0.04203171954219195, 0.0004931854463415218, 0.01883012226726168, 0.001030064517039493, 0.12882515770857506, 0.06856564600298082, 0.00040195562967428413, 0.03164688043140422, 0.020057567399541308, 0.04161125333344681, 0.01760584281377843, 0.04574589273977703, 0.020957922666900004, 0.0021496883411404014, 0.001200892996070054, 0.030733631262990193, 0.40917614895591103, 0.06263014898591063, 0.0012013042799923124, 0.00015718333163665399, 0.0192413593080739]}, {\"label\": \"Number of Layers\", \"range\": [1, 4], \"values\": [1, 1, 1, 2, 2, 3, 3, 2, 3, 3, 4, 1, 1, 1, 1, 2, 1, 2, 2, 4, 2, 2, 4, 4, 2, 3, 4, 3, 3, 3, 3, 4, 3, 3, 4, 4, 3, 2, 3, 2, 3, 4, 3, 3, 3, 3, 3, 3, 3, 3, 3, 3, 3, 3, 3, 3, 3, 3, 3, 3, 3, 3, 3, 3, 3, 3, 3, 3, 3, 2, 3, 3, 3, 3, 3, 3, 3, 3, 2, 4, 3, 3, 3, 3, 3, 3, 3, 3, 3, 3, 3, 3, 3, 3, 3, 3, 3, 3, 3, 3, 3, 3, 3, 3, 3, 3, 3, 3, 3, 3, 3, 3, 3, 3, 3, 3, 3, 3, 3, 3, 3, 3, 3, 3, 3, 3, 3, 3, 3, 3, 3, 3, 3, 3, 3, 3, 3, 3, 3, 3, 3, 3, 3, 3, 3, 3, 3, 3, 3, 3, 3, 3, 3, 3, 3, 3, 3, 3, 3, 3, 3, 3, 3, 3, 3, 3, 3, 3, 3, 3, 3, 3, 3, 3, 3, 3, 3, 3, 3, 3, 3, 3, 3, 3, 3, 3, 3, 3, 3, 3, 3, 3, 3, 3, 3, 3, 3, 3, 3, 3, 3, 3, 3, 3, 3, 3, 3, 3, 3, 3, 3, 3, 3, 3, 3, 3, 3, 3, 3, 3, 3, 3, 3, 3, 3, 3, 3, 3, 3, 3, 3, 3, 3, 3, 3, 3, 3, 3, 3, 3, 3, 3, 3, 3, 3, 3, 3, 3, 3, 3, 3, 3, 3, 3, 3, 3, 3, 3, 3, 3, 3, 3, 3, 3, 3, 3, 3, 3, 3, 3, 3, 3, 3, 1, 3, 3, 3, 3, 3, 3, 3, 3, 3, 3, 3, 3, 3, 3, 3, 3, 3, 3, 3, 3, 3, 3, 3, 3, 3, 3, 3, 3, 3, 3, 3, 3, 3, 3, 3, 2, 3, 3, 4, 3, 3, 3, 3, 3, 3, 3, 3, 3, 3, 3, 3, 3, 3, 3, 3, 3, 3, 3, 3, 3, 3, 3, 3, 3, 3, 3, 3, 3, 3, 3, 3, 3, 3, 3, 3, 3, 3, 3, 3, 3, 3, 3, 3, 3, 3, 3, 3, 3, 3, 3, 3, 3, 4, 2, 4, 4, 2, 4, 4, 3, 3, 4, 4, 3, 3, 1, 3, 3, 3, 2, 3, 3, 3, 3, 3, 3, 3, 3, 3, 3, 3, 3, 3, 3, 3, 3, 3, 3, 3, 3, 3, 3, 3, 3, 3, 3, 3, 3, 3, 3, 3, 3, 3, 3, 3, 3, 3, 3, 3, 3, 3, 3, 3, 3, 3, 3, 3, 3, 3, 3, 3, 3, 3, 3, 3, 3, 3, 3, 3, 3, 3, 3, 3, 3, 3, 3, 3, 3, 3, 3, 3, 3, 3, 3, 3, 3, 3, 3, 3, 3, 3, 3, 3, 3, 3, 3, 3, 3, 3, 3, 3, 3, 3, 3, 3, 3, 3, 3, 3, 3, 3, 3, 3, 3, 3, 3, 3, 3, 3, 3, 3, 3, 3, 3, 3, 3]}], \"labelangle\": 30, \"labelside\": \"bottom\", \"line\": {\"color\": [3.41186261177063, 3.41186261177063, 1573.8834228515625, 40182.33984375, 1528.2066650390625, 3.41186261177063, 5028653.5, 1902.826171875, 4562251.5, 945.5894165039062, 3.41186261177063, 3.41186261177063, 3.41186261177063, 3.41186261177063, 3.41186261177063, 3.41186261177063, 3.41186261177063, 3.41186261177063, 3.41186261177063, 3.41186261177063, 3.41186261177063, 3.41186261177063, 3.41186261177063, 3.41186261177063, 3.41186261177063, 3.41186261177063, 3.41186261177063, 1.5610835552215576, 1.2982209920883179, 3.41186261177063, 3.41186261177063, 3.41186261177063, 3.41186261177063, 3.41186261177063, 3.41186261177063, 3.41186261177063, 3.41186261177063, 3.41186261177063, 3.41186261177063, 3.41186261177063, 1996253.125, 3.41186261177063, 1.3412549495697021, 3.41186261177063, 1.3456010818481445, 208.45639038085938, 1.3210997581481934, 3.41186261177063, 1.6091002225875854, 1.3304294347763062, 297.8522033691406, 1.4888664484024048, 1.4887771606445312, 1.3360676765441895, 1.3630410432815552, 3.41186261177063, 1.6488354206085205, 1.3287392854690552, 1.4895340204238892, 3.41186261177063, 3.41186261177063, 1.5344265699386597, 3.41186261177063, 3.41186261177063, 1.440764307975769, 1.488864779472351, 1.488818883895874, 1.466086745262146, 3.41186261177063, 3.41186261177063, 3.41186261177063, 1.3408962488174438, 3.41186261177063, 3.41186261177063, 3.41186261177063, 1.3349838256835938, 3.41186261177063, 7.432951927185059, 3.41186261177063, 3.41186261177063, 3.41186261177063, 1.3247721195220947, 1.4888302087783813, 1.322178602218628, 1.4888978004455566, 1.4888209104537964, 3.41186261177063, 2.3582754135131836, 1.3386236429214478, 3.41186261177063, 1.49014151096344, 1.488823652267456, 3.41186261177063, 1.3245543241500854, 1.323976993560791, 1.4888335466384888, 3.41186261177063, 3.9560186862945557, 3.41186261177063, 2.909315347671509, 1.3193601369857788, 3.41186261177063, 1.511308193206787, 1.3136441707611084, 3.41186261177063, 3.41186261177063, 1.4888402223587036, 1.4888317584991455, 3.41186261177063, 3.41186261177063, 1.3589725494384766, 2.0364224910736084, 3.41186261177063, 1.3351562023162842, 1.333082675933838, 3.41186261177063, 1.345519781112671, 3.41186261177063, 3.41186261177063, 1.3363773822784424, 3.41186261177063, 1.3386261463165283, 3.41186261177063, 1.3352710008621216, 1.4969419240951538, 3.41186261177063, 1.3299638032913208, 1.4888179302215576, 499.7135009765625, 1.488878846168518, 1.4904865026474, 1.3302356004714966, 1.3491047620773315, 3.41186261177063, 1.3281259536743164, 1.4885554313659668, 1.4888970851898193, 3.41186261177063, 1.34572434425354, 1.3183053731918335, 1.4915050268173218, 3.41186261177063, 1.490088939666748, 1.4888391494750977, 1.3113908767700195, 3.41186261177063, 2.1569273471832275, 1.325134038925171, 1.4888319969177246, 3.41186261177063, 2.6820173263549805, 1.4889917373657227, 1.3089126348495483, 1.308632254600525, 3.41186261177063, 1.4888687133789062, 1.3131179809570312, 3.41186261177063, 3.41186261177063, 3.41186261177063, 1.4888315200805664, 1.4690502882003784, 1.5091662406921387, 1.3258752822875977, 3.41186261177063, 1.4888314008712769, 1.4705278873443604, 4818.158203125, 1.488825798034668, 1.484520673751831, 3.41186261177063, 1.48581063747406, 1.4793022871017456, 3.41186261177063, 2.6853699684143066, 3.41186261177063, 3.41186261177063, 3.41186261177063, 3.41186261177063, 1.5001596212387085, 1.3194295167922974, 1.327432632446289, 1.3218836784362793, 1.3434199094772339, 3.41186261177063, 1.3185940980911255, 1.4976372718811035, 1.3232676982879639, 3.41186261177063, 3.41186261177063, 1.315920352935791, 3.41186261177063, 3.41186261177063, 1.3266558647155762, 3.41186261177063, 1.3477894067764282, 3.41186261177063, 3.41186261177063, 3.41186261177063, 1.4888219833374023, 1.373160719871521, 1.3271931409835815, 3.41186261177063, 1.4715697765350342, 1.3213223218917847, 3.41186261177063, 1.308161973953247, 1.4888219833374023, 1.488818645477295, 1.4889020919799805, 1.4888558387756348, 2.69138503074646, 1.3204686641693115, 1.3125131130218506, 3.41186261177063, 1.4888322353363037, 1.3331835269927979, 415.56671142578125, 1.581402063369751, 3.41186261177063, 1.3211685419082642, 1.3021266460418701, 1.4888198375701904, 1.325307011604309, 1.329646110534668, 1.4888436794281006, 1.3281971216201782, 1.4888861179351807, 3.41186261177063, 1.305359959602356, 1.3265137672424316, 1.3640973567962646, 1.3347446918487549, 3.41186261177063, 1.3504081964492798, 1.3332096338272095, 3.41186261177063, 1.4888545274734497, 3.4115991592407227, 3.41186261177063, 3.41186261177063, 1.3193230628967285, 1.4888228178024292, 1.3274098634719849, 1.3126106262207031, 1.3173880577087402, 1.3275312185287476, 1.322373628616333, 1.489281415939331, 3.41186261177063, 1.310310959815979, 1.4888172149658203, 1.3176379203796387, 3.41186261177063, 3.41186261177063, 1.329596757888794, 1.32630455493927, 2.0398926734924316, 1.488019585609436, 1.3448506593704224, 1.48855721950531, 1.4942303895950317, 1.4888358116149902, 311.04400634765625, 1.3175146579742432, 1.3329596519470215, 1.488847255706787, 3.41186261177063, 3.41186261177063, 3.41186261177063, 1.4967288970947266, 1.4313173294067383, 1.4887478351593018, 3.41186261177063, 1.8477803468704224, 1.4888261556625366, 1.4888958930969238, 1.3229091167449951, 1.332504153251648, 1.3610163927078247, 3.41186261177063, 1.3288545608520508, 1.3301451206207275, 3.41186261177063, 3.41186261177063, 1.4888267517089844, 3.41186261177063, 3.4117937088012695, 1.3516267538070679, 1.3335763216018677, 3.41186261177063, 199.16970825195312, 1.489451289176941, 1.3276795148849487, 1.334709882736206, 1.3188152313232422, 3.41186261177063, 3.41186261177063, 1.3202966451644897, 1.3358441591262817, 3.41186261177063, 1.4888269901275635, 3.41186261177063, 1.3066781759262085, 3.41186261177063, 1.3137255907058716, 3.41186261177063, 3.41186261177063, 1.3406171798706055, 3.41186261177063, 1.2999054193496704, 1.3272432088851929, 3.41186261177063, 3.41186261177063, 3.41186261177063, 3.41186261177063, 3.41186261177063, 3.41186261177063, 1.3045551776885986, 3.41186261177063, 1.4952431917190552, 2675.79052734375, 1.3019428253173828, 1.48887038230896, 1.3364481925964355, 1.32117760181427, 3.41186261177063, 1.3121179342269897, 3.41186261177063, 1.4888906478881836, 3.41186261177063, 1.3226450681686401, 3.41186261177063, 1.4888287782669067, 1.320836067199707, 3.41186261177063, 3.41186261177063, 3.41186261177063, 1.3085274696350098, 1.3093986511230469, 3.41186261177063, 1.488820195198059, 1.317246675491333, 1.4921292066574097, 1.326299786567688, 1.3326469659805298, 3.41186261177063, 1.488829255104065, 3.41186261177063, 1.3266675472259521, 1.491834282875061, 1.3059812784194946, 3.41186261177063, 696.8388061523438, 1.4321969747543335, 1.4888207912445068, 3.41186261177063, 1.311875820159912, 3.41186261177063, 1.3288514614105225, 1.3099689483642578, 1.313618540763855, 3.41186261177063, 3.41186261177063, 3.41186261177063, 1.488821268081665, 1.3155453205108643, 3.411557912826538, 3.41186261177063, 1.3217459917068481, 3.41186261177063, 1.4906315803527832, 3.41186261177063, 1.3453859090805054, 1.4888182878494263, 3.41186261177063, 1.314800500869751, 3.41186261177063, 1.3281633853912354, 3.41186261177063, 1.321211814880371, 1102.6551513671875, 3.41186261177063, 3.41186261177063, 3.41186261177063, 1.3377939462661743, 3.41186261177063, 3.41186261177063, 1.3136341571807861, 3.41186261177063, 3.41186261177063, 3.41186261177063, 1.3284739255905151, 3.41186261177063, 1.3212107419967651, 1.3475548028945923, 3.41186261177063, 3.41186261177063, 1.3276013135910034, 3.41186261177063, 1.3147908449172974, 1.4900482892990112, 1.4910539388656616, 1.4888460636138916, 1.3363206386566162, 3.41186261177063, 3.41186261177063, 1.4887561798095703, 1.3011691570281982, 57.89400863647461, 3.41186261177063, 3.41186261177063, 2.024686813354492, 1.4956120252609253, 1.4888505935668945, 1.488817572593689, 1.4888553619384766, 1.3047354221343994, 3.41186261177063, 1.488818645477295, 1.3213609457015991, 2.043469190597534, 1.3281235694885254, 1.3031138181686401, 1.4892010688781738, 14561242.0, 3.41186261177063, 1.2996032238006592, 3.41186261177063, 3.41186261177063, 3.41186261177063, 3.41186261177063, 1.488633155822754, 3.41186261177063, 1.488843560218811, 1.4442107677459717, 1.415286660194397, 3.41186261177063, 1.4373067617416382, 3181.039794921875, 3.41186261177063, 3.41186261177063, 1.3226823806762695, 1.3124511241912842, 1.3017604351043701, 3.41186261177063, 1.6777530908584595, 1.4891026020050049, 3.41186261177063, 3.41186261177063, 3.41186261177063, 1.3141649961471558, 3.41186261177063, 3.41186261177063, 1.3052650690078735, 3.41186261177063, 3.41186261177063, 3.41186261177063, 3.41186261177063, 3.41186261177063, 3.41186261177063, 1.4536466598510742, 1.3093748092651367, 1.316675066947937, 3.41186261177063, 3.41186261177063, 1.313673973083496, 4.355731964111328, 3.41186261177063, 3.41186261177063, 1.319928765296936, 3.41186261177063, 1.4888230562210083, 1.3414974212646484, 3.41186261177063, 1.488836646080017, 3.41186261177063, 2.672865629196167, 3.41186261177063, 3.41186261177063, 1.4835532903671265, 3.41186261177063, 1.3185737133026123, 1.503530740737915, 1.4888479709625244, 1.3155088424682617, 3.41186261177063, 3.41186261177063, 3.41186261177063, 3.41186261177063, 3.41186261177063, 3.41186261177063, 2.0430803298950195, 1.3163092136383057, 3.41186261177063, 1.492780327796936, 3.41186261177063, 1.4853918552398682, 1.3153973817825317, 226.0158233642578], \"colorbar\": {\"title\": {\"text\": \"Objective Value\"}}, \"colorscale\": [[0.0, \"rgb(247,251,255)\"], [0.125, \"rgb(222,235,247)\"], [0.25, \"rgb(198,219,239)\"], [0.375, \"rgb(158,202,225)\"], [0.5, \"rgb(107,174,214)\"], [0.625, \"rgb(66,146,198)\"], [0.75, \"rgb(33,113,181)\"], [0.875, \"rgb(8,81,156)\"], [1.0, \"rgb(8,48,107)\"]], \"reversescale\": true, \"showscale\": true}, \"type\": \"parcoords\"}],\n",
              "                        {\"template\": {\"data\": {\"bar\": [{\"error_x\": {\"color\": \"#2a3f5f\"}, \"error_y\": {\"color\": \"#2a3f5f\"}, \"marker\": {\"line\": {\"color\": \"#E5ECF6\", \"width\": 0.5}}, \"type\": \"bar\"}], \"barpolar\": [{\"marker\": {\"line\": {\"color\": \"#E5ECF6\", \"width\": 0.5}}, \"type\": \"barpolar\"}], \"carpet\": [{\"aaxis\": {\"endlinecolor\": \"#2a3f5f\", \"gridcolor\": \"white\", \"linecolor\": \"white\", \"minorgridcolor\": \"white\", \"startlinecolor\": \"#2a3f5f\"}, \"baxis\": {\"endlinecolor\": \"#2a3f5f\", \"gridcolor\": \"white\", \"linecolor\": \"white\", \"minorgridcolor\": \"white\", \"startlinecolor\": \"#2a3f5f\"}, \"type\": \"carpet\"}], \"choropleth\": [{\"colorbar\": {\"outlinewidth\": 0, \"ticks\": \"\"}, \"type\": \"choropleth\"}], \"contour\": [{\"colorbar\": {\"outlinewidth\": 0, \"ticks\": \"\"}, \"colorscale\": [[0.0, \"#0d0887\"], [0.1111111111111111, \"#46039f\"], [0.2222222222222222, \"#7201a8\"], [0.3333333333333333, \"#9c179e\"], [0.4444444444444444, \"#bd3786\"], [0.5555555555555556, \"#d8576b\"], [0.6666666666666666, \"#ed7953\"], [0.7777777777777778, \"#fb9f3a\"], [0.8888888888888888, \"#fdca26\"], [1.0, \"#f0f921\"]], \"type\": \"contour\"}], \"contourcarpet\": [{\"colorbar\": {\"outlinewidth\": 0, \"ticks\": \"\"}, \"type\": \"contourcarpet\"}], \"heatmap\": [{\"colorbar\": {\"outlinewidth\": 0, \"ticks\": \"\"}, \"colorscale\": [[0.0, \"#0d0887\"], [0.1111111111111111, \"#46039f\"], [0.2222222222222222, \"#7201a8\"], [0.3333333333333333, \"#9c179e\"], [0.4444444444444444, \"#bd3786\"], [0.5555555555555556, \"#d8576b\"], [0.6666666666666666, \"#ed7953\"], [0.7777777777777778, \"#fb9f3a\"], [0.8888888888888888, \"#fdca26\"], [1.0, \"#f0f921\"]], \"type\": \"heatmap\"}], \"heatmapgl\": [{\"colorbar\": {\"outlinewidth\": 0, \"ticks\": \"\"}, \"colorscale\": [[0.0, \"#0d0887\"], [0.1111111111111111, \"#46039f\"], [0.2222222222222222, \"#7201a8\"], [0.3333333333333333, \"#9c179e\"], [0.4444444444444444, \"#bd3786\"], [0.5555555555555556, \"#d8576b\"], [0.6666666666666666, \"#ed7953\"], [0.7777777777777778, \"#fb9f3a\"], [0.8888888888888888, \"#fdca26\"], [1.0, \"#f0f921\"]], \"type\": \"heatmapgl\"}], \"histogram\": [{\"marker\": {\"colorbar\": {\"outlinewidth\": 0, \"ticks\": \"\"}}, \"type\": \"histogram\"}], \"histogram2d\": [{\"colorbar\": {\"outlinewidth\": 0, \"ticks\": \"\"}, \"colorscale\": [[0.0, \"#0d0887\"], [0.1111111111111111, \"#46039f\"], [0.2222222222222222, \"#7201a8\"], [0.3333333333333333, \"#9c179e\"], [0.4444444444444444, \"#bd3786\"], [0.5555555555555556, \"#d8576b\"], [0.6666666666666666, \"#ed7953\"], [0.7777777777777778, \"#fb9f3a\"], [0.8888888888888888, \"#fdca26\"], [1.0, \"#f0f921\"]], \"type\": \"histogram2d\"}], \"histogram2dcontour\": [{\"colorbar\": {\"outlinewidth\": 0, \"ticks\": \"\"}, \"colorscale\": [[0.0, \"#0d0887\"], [0.1111111111111111, \"#46039f\"], [0.2222222222222222, \"#7201a8\"], [0.3333333333333333, \"#9c179e\"], [0.4444444444444444, \"#bd3786\"], [0.5555555555555556, \"#d8576b\"], [0.6666666666666666, \"#ed7953\"], [0.7777777777777778, \"#fb9f3a\"], [0.8888888888888888, \"#fdca26\"], [1.0, \"#f0f921\"]], \"type\": \"histogram2dcontour\"}], \"mesh3d\": [{\"colorbar\": {\"outlinewidth\": 0, \"ticks\": \"\"}, \"type\": \"mesh3d\"}], \"parcoords\": [{\"line\": {\"colorbar\": {\"outlinewidth\": 0, \"ticks\": \"\"}}, \"type\": \"parcoords\"}], \"pie\": [{\"automargin\": true, \"type\": \"pie\"}], \"scatter\": [{\"marker\": {\"colorbar\": {\"outlinewidth\": 0, \"ticks\": \"\"}}, \"type\": \"scatter\"}], \"scatter3d\": [{\"line\": {\"colorbar\": {\"outlinewidth\": 0, \"ticks\": \"\"}}, \"marker\": {\"colorbar\": {\"outlinewidth\": 0, \"ticks\": \"\"}}, \"type\": \"scatter3d\"}], \"scattercarpet\": [{\"marker\": {\"colorbar\": {\"outlinewidth\": 0, \"ticks\": \"\"}}, \"type\": \"scattercarpet\"}], \"scattergeo\": [{\"marker\": {\"colorbar\": {\"outlinewidth\": 0, \"ticks\": \"\"}}, \"type\": \"scattergeo\"}], \"scattergl\": [{\"marker\": {\"colorbar\": {\"outlinewidth\": 0, \"ticks\": \"\"}}, \"type\": \"scattergl\"}], \"scattermapbox\": [{\"marker\": {\"colorbar\": {\"outlinewidth\": 0, \"ticks\": \"\"}}, \"type\": \"scattermapbox\"}], \"scatterpolar\": [{\"marker\": {\"colorbar\": {\"outlinewidth\": 0, \"ticks\": \"\"}}, \"type\": \"scatterpolar\"}], \"scatterpolargl\": [{\"marker\": {\"colorbar\": {\"outlinewidth\": 0, \"ticks\": \"\"}}, \"type\": \"scatterpolargl\"}], \"scatterternary\": [{\"marker\": {\"colorbar\": {\"outlinewidth\": 0, \"ticks\": \"\"}}, \"type\": \"scatterternary\"}], \"surface\": [{\"colorbar\": {\"outlinewidth\": 0, \"ticks\": \"\"}, \"colorscale\": [[0.0, \"#0d0887\"], [0.1111111111111111, \"#46039f\"], [0.2222222222222222, \"#7201a8\"], [0.3333333333333333, \"#9c179e\"], [0.4444444444444444, \"#bd3786\"], [0.5555555555555556, \"#d8576b\"], [0.6666666666666666, \"#ed7953\"], [0.7777777777777778, \"#fb9f3a\"], [0.8888888888888888, \"#fdca26\"], [1.0, \"#f0f921\"]], \"type\": \"surface\"}], \"table\": [{\"cells\": {\"fill\": {\"color\": \"#EBF0F8\"}, \"line\": {\"color\": \"white\"}}, \"header\": {\"fill\": {\"color\": \"#C8D4E3\"}, \"line\": {\"color\": \"white\"}}, \"type\": \"table\"}]}, \"layout\": {\"annotationdefaults\": {\"arrowcolor\": \"#2a3f5f\", \"arrowhead\": 0, \"arrowwidth\": 1}, \"coloraxis\": {\"colorbar\": {\"outlinewidth\": 0, \"ticks\": \"\"}}, \"colorscale\": {\"diverging\": [[0, \"#8e0152\"], [0.1, \"#c51b7d\"], [0.2, \"#de77ae\"], [0.3, \"#f1b6da\"], [0.4, \"#fde0ef\"], [0.5, \"#f7f7f7\"], [0.6, \"#e6f5d0\"], [0.7, \"#b8e186\"], [0.8, \"#7fbc41\"], [0.9, \"#4d9221\"], [1, \"#276419\"]], \"sequential\": [[0.0, \"#0d0887\"], [0.1111111111111111, \"#46039f\"], [0.2222222222222222, \"#7201a8\"], [0.3333333333333333, \"#9c179e\"], [0.4444444444444444, \"#bd3786\"], [0.5555555555555556, \"#d8576b\"], [0.6666666666666666, \"#ed7953\"], [0.7777777777777778, \"#fb9f3a\"], [0.8888888888888888, \"#fdca26\"], [1.0, \"#f0f921\"]], \"sequentialminus\": [[0.0, \"#0d0887\"], [0.1111111111111111, \"#46039f\"], [0.2222222222222222, \"#7201a8\"], [0.3333333333333333, \"#9c179e\"], [0.4444444444444444, \"#bd3786\"], [0.5555555555555556, \"#d8576b\"], [0.6666666666666666, \"#ed7953\"], [0.7777777777777778, \"#fb9f3a\"], [0.8888888888888888, \"#fdca26\"], [1.0, \"#f0f921\"]]}, \"colorway\": [\"#636efa\", \"#EF553B\", \"#00cc96\", \"#ab63fa\", \"#FFA15A\", \"#19d3f3\", \"#FF6692\", \"#B6E880\", \"#FF97FF\", \"#FECB52\"], \"font\": {\"color\": \"#2a3f5f\"}, \"geo\": {\"bgcolor\": \"white\", \"lakecolor\": \"white\", \"landcolor\": \"#E5ECF6\", \"showlakes\": true, \"showland\": true, \"subunitcolor\": \"white\"}, \"hoverlabel\": {\"align\": \"left\"}, \"hovermode\": \"closest\", \"mapbox\": {\"style\": \"light\"}, \"paper_bgcolor\": \"white\", \"plot_bgcolor\": \"#E5ECF6\", \"polar\": {\"angularaxis\": {\"gridcolor\": \"white\", \"linecolor\": \"white\", \"ticks\": \"\"}, \"bgcolor\": \"#E5ECF6\", \"radialaxis\": {\"gridcolor\": \"white\", \"linecolor\": \"white\", \"ticks\": \"\"}}, \"scene\": {\"xaxis\": {\"backgroundcolor\": \"#E5ECF6\", \"gridcolor\": \"white\", \"gridwidth\": 2, \"linecolor\": \"white\", \"showbackground\": true, \"ticks\": \"\", \"zerolinecolor\": \"white\"}, \"yaxis\": {\"backgroundcolor\": \"#E5ECF6\", \"gridcolor\": \"white\", \"gridwidth\": 2, \"linecolor\": \"white\", \"showbackground\": true, \"ticks\": \"\", \"zerolinecolor\": \"white\"}, \"zaxis\": {\"backgroundcolor\": \"#E5ECF6\", \"gridcolor\": \"white\", \"gridwidth\": 2, \"linecolor\": \"white\", \"showbackground\": true, \"ticks\": \"\", \"zerolinecolor\": \"white\"}}, \"shapedefaults\": {\"line\": {\"color\": \"#2a3f5f\"}}, \"ternary\": {\"aaxis\": {\"gridcolor\": \"white\", \"linecolor\": \"white\", \"ticks\": \"\"}, \"baxis\": {\"gridcolor\": \"white\", \"linecolor\": \"white\", \"ticks\": \"\"}, \"bgcolor\": \"#E5ECF6\", \"caxis\": {\"gridcolor\": \"white\", \"linecolor\": \"white\", \"ticks\": \"\"}}, \"title\": {\"x\": 0.05}, \"xaxis\": {\"automargin\": true, \"gridcolor\": \"white\", \"linecolor\": \"white\", \"ticks\": \"\", \"title\": {\"standoff\": 15}, \"zerolinecolor\": \"white\", \"zerolinewidth\": 2}, \"yaxis\": {\"automargin\": true, \"gridcolor\": \"white\", \"linecolor\": \"white\", \"ticks\": \"\", \"title\": {\"standoff\": 15}, \"zerolinecolor\": \"white\", \"zerolinewidth\": 2}}}, \"title\": {\"text\": \"Parallel Coordinate Plot\"}},\n",
              "                        {\"responsive\": true}\n",
              "                    ).then(function(){\n",
              "                            \n",
              "var gd = document.getElementById('4da333a4-edd7-4ced-a4de-49a20b8ed5f8');\n",
              "var x = new MutationObserver(function (mutations, observer) {{\n",
              "        var display = window.getComputedStyle(gd).display;\n",
              "        if (!display || display === 'none') {{\n",
              "            console.log([gd, 'removed!']);\n",
              "            Plotly.purge(gd);\n",
              "            observer.disconnect();\n",
              "        }}\n",
              "}});\n",
              "\n",
              "// Listen for the removal of the full notebook cells\n",
              "var notebookContainer = gd.closest('#notebook-container');\n",
              "if (notebookContainer) {{\n",
              "    x.observe(notebookContainer, {childList: true});\n",
              "}}\n",
              "\n",
              "// Listen for the clearing of the current output cell\n",
              "var outputEl = gd.closest('.output');\n",
              "if (outputEl) {{\n",
              "    x.observe(outputEl, {childList: true});\n",
              "}}\n",
              "\n",
              "                        })\n",
              "                };\n",
              "                \n",
              "            </script>\n",
              "        </div>\n",
              "</body>\n",
              "</html>"
            ]
          },
          "metadata": {
            "tags": []
          }
        }
      ]
    },
    {
      "cell_type": "markdown",
      "metadata": {
        "id": "ya3ZmsSUqtd3"
      },
      "source": [
        "## Izhikevich 2007 - Task 2"
      ]
    },
    {
      "cell_type": "code",
      "metadata": {
        "id": "20cGq2nLAKj1"
      },
      "source": [
        "### Spike clamping (baseline activity)\n",
        "main_n_neurons = network_hparams['n_channels'] * compute_size(network_hparams['crop_size'], network_hparams['filter_size'], network_hparams['stride'])\\\n",
        "* compute_size(network_hparams['crop_size'], network_hparams['filter_size'], network_hparams['stride'])\n",
        "out_n_neurons = n_neurons\n",
        "clamping_intensity = None\n",
        "clamp = {}\n",
        "if clamping_intensity is not None:\n",
        "    encoder = PoissonEncoder(time=network_hparams['time'], dt=network_hparams['dt'])\n",
        "    clamp['output'] = encoder.enc(datum = torch.ones(out_n_neurons)*clamping_intensity, time=network_hparams['time'], dt=network_hparams['dt'])"
      ],
      "execution_count": null,
      "outputs": []
    },
    {
      "cell_type": "code",
      "metadata": {
        "colab": {
          "base_uri": "https://localhost:8080/",
          "height": 439,
          "referenced_widgets": [
            "98223b2a121940fabf8bbda68f8c4493",
            "b38af06923c044009efdf0810daa4c7f",
            "905e0685df0345d8962535eea8d165c4",
            "feb92ccd15644e85bd99d5d7a92d37bd",
            "7f5498f9452448fdb612de836581f402",
            "ff7b6cddb90f4f71828be1006d09ea03",
            "9a682a87cdcf45c891a12b0cd82e641b",
            "7327cd0c4499423d987654dca8772a97",
            "a4ce464ad0ef42a1943addb6804ab67f",
            "ebfb6a21f6ca46d9981af0243fb30d00",
            "be097b546bc74649b82ba1277a378f17"
          ]
        },
        "id": "AWZmB0mAIOod",
        "outputId": "1f18f66d-508d-47d3-f6bf-86ae9aaca6c5"
      },
      "source": [
        "if target_classes:\n",
        "    # npz_file = np.load(f'bindsnet/mask_{\"_\".join([str(i) for i in target_classes])}.npz')\n",
        "    npz_file = np.load('bindsnet/mask_1.npz') ##### KESAFAT KARI !!!\n",
        "    mask, mask_test = torch.from_numpy(npz_file['arr_0']), torch.from_numpy(npz_file['arr_1'])\n",
        "    n_classes = len(target_classes)\n",
        "else:\n",
        "    mask = None\n",
        "    mask_test = None\n",
        "    n_classes = 10\n",
        "\n",
        "dataloader, val_loader = load_datasets(network_hparams, data_hparams, mask, mask_test)\n",
        "\n",
        "\n",
        "train_hparams.update(\n",
        "    {\n",
        "    'n_train' : 2000,\n",
        "    'n_val' : 250,\n",
        "    'val_interval' : 250,\n",
        "    'running_window_length': 50,\n",
        "    }\n",
        ")\n",
        "\n",
        "network_hparams.update(\n",
        "    {  \n",
        "    'pre_observation': True,\n",
        "    'has_decision_period': True,\n",
        "    'observation_period': 250,\n",
        "    'decision_period': 250,\n",
        "    'local_rewarding': True,\n",
        "    'nu_LC': (0.0001,0.01),#(0.0001,0,01)\n",
        "    'nu_Output': 0.05,#0.01\n",
        "    'nu_inh': 0.0,\n",
        "    'normal_init': True,\n",
        "     'mu': 0.5,\n",
        "     'std':0.05,\n",
        "    'update_rule_LC': PostPre,\n",
        "    'update_rule_Output': MSTDPET,\n",
        "    'update_rule_inh': None,\n",
        "    'inh_type': None,\n",
        "    'inh_factor': 0.25,\n",
        "    'norm_factor_LC':  None,#network_hparams['filter_size'] * network_hparams['filter_size'] * 0.5,\n",
        "    'norm_factor_out': None,#main_n_neurons * 0.5,\n",
        "    'norm_factor_inh': None,\n",
        "    'NodesType_LC': LIFNodes,\n",
        "    'NodesType_Output': AdaptiveLIFNodes, \n",
        "    'theta_plus': 0.05,\n",
        "    #'tc_theta_decay': 250,\n",
        "    'tc_trace':20,\n",
        "    'trace_additive' : False,\n",
        "    'single_output_layer': True,\n",
        "    'wmin': 0.0,\n",
        "    'wmax': 1.0,\n",
        "    'soft_bound': True,\n",
        "    'online': False,\n",
        "    'clamp': clamp,\n",
        "    'save_path': None,#'/content/drive/My Drive/LCNet/LCNet_var5_td_error_LIF_1_to_3_2c_gpu.pth',\n",
        "    'load_path': None,#'/content/drive/My Drive/LCNet/LCNet_baseline_2c.pth',\n",
        "    }\n",
        ")\n",
        "\n",
        "\n",
        "reward_hparams.update(\n",
        "    {\n",
        "    'tc_reward':0,\n",
        "    'variant': 'scalar',\n",
        "    'reward_base': 1,\n",
        "    'punishment_base': 1,\n",
        "    'dopamine_base': 0.0,\n",
        "    'td_nu': 0.0001,\n",
        "    'tc_dps': 20,\n",
        "    'dps_factor': 20,\n",
        "    'sub_variant': 'RPE'\n",
        "    }\n",
        ")\n",
        "\n",
        "manual_seed(SEED)\n",
        "hparams = {**reward_hparams, **network_hparams, **train_hparams, **data_hparams}\n",
        "net = LCNet(**hparams, reward_fn = DynamicDopamineInjection)\n",
        "net.fit(dataloader = dataloader, val_loader = val_loader, reward_hparams = reward_hparams, **train_hparams)"
      ],
      "execution_count": null,
      "outputs": [
        {
          "output_type": "stream",
          "name": "stdout",
          "text": [
            "Begin training.\n",
            "\n"
          ]
        },
        {
          "output_type": "display_data",
          "data": {
            "text/plain": [
              "  0%|          | 0/2000 [00:00<?, ?it/s]"
            ],
            "application/vnd.jupyter.widget-view+json": {
              "model_id": "98223b2a121940fabf8bbda68f8c4493",
              "version_minor": 0,
              "version_major": 2
            }
          },
          "metadata": {}
        },
        {
          "output_type": "stream",
          "name": "stdout",
          "text": [
            "output tensor([660, 957]) pred_label: 1 GT: 1 , Acc Rew: 204.1674 Pos dps: 1.00000, Neg dps: 1.00000, Rew base: 0.81667, Pun base: 1.18333, RPe: 203.699 input_mean_fire_freq: 19.8,main_mean_fire_freq:107.4 output_mean_fire_freq:64.1 mean_lc_w: 0.82138, mean_fc_w:0.61000 std_lc_w: 0.21296,std_fc_w:0.28854"
          ]
        },
        {
          "output_type": "error",
          "ename": "KeyboardInterrupt",
          "evalue": "ignored",
          "traceback": [
            "\u001b[0;31m---------------------------------------------------------------------------\u001b[0m",
            "\u001b[0;31mKeyboardInterrupt\u001b[0m                         Traceback (most recent call last)",
            "\u001b[0;32m<ipython-input-40-9e05291a8c3d>\u001b[0m in \u001b[0;36m<module>\u001b[0;34m()\u001b[0m\n\u001b[1;32m     77\u001b[0m \u001b[0mhparams\u001b[0m \u001b[0;34m=\u001b[0m \u001b[0;34m{\u001b[0m\u001b[0;34m**\u001b[0m\u001b[0mreward_hparams\u001b[0m\u001b[0;34m,\u001b[0m \u001b[0;34m**\u001b[0m\u001b[0mnetwork_hparams\u001b[0m\u001b[0;34m,\u001b[0m \u001b[0;34m**\u001b[0m\u001b[0mtrain_hparams\u001b[0m\u001b[0;34m,\u001b[0m \u001b[0;34m**\u001b[0m\u001b[0mdata_hparams\u001b[0m\u001b[0;34m}\u001b[0m\u001b[0;34m\u001b[0m\u001b[0;34m\u001b[0m\u001b[0m\n\u001b[1;32m     78\u001b[0m \u001b[0mnet\u001b[0m \u001b[0;34m=\u001b[0m \u001b[0mLCNet\u001b[0m\u001b[0;34m(\u001b[0m\u001b[0;34m**\u001b[0m\u001b[0mhparams\u001b[0m\u001b[0;34m,\u001b[0m \u001b[0mreward_fn\u001b[0m \u001b[0;34m=\u001b[0m \u001b[0mDynamicDopamineInjection\u001b[0m\u001b[0;34m)\u001b[0m\u001b[0;34m\u001b[0m\u001b[0;34m\u001b[0m\u001b[0m\n\u001b[0;32m---> 79\u001b[0;31m \u001b[0mnet\u001b[0m\u001b[0;34m.\u001b[0m\u001b[0mfit\u001b[0m\u001b[0;34m(\u001b[0m\u001b[0mdataloader\u001b[0m \u001b[0;34m=\u001b[0m \u001b[0mdataloader\u001b[0m\u001b[0;34m,\u001b[0m \u001b[0mval_loader\u001b[0m \u001b[0;34m=\u001b[0m \u001b[0mval_loader\u001b[0m\u001b[0;34m,\u001b[0m \u001b[0mreward_hparams\u001b[0m \u001b[0;34m=\u001b[0m \u001b[0mreward_hparams\u001b[0m\u001b[0;34m,\u001b[0m \u001b[0;34m**\u001b[0m\u001b[0mtrain_hparams\u001b[0m\u001b[0;34m)\u001b[0m\u001b[0;34m\u001b[0m\u001b[0;34m\u001b[0m\u001b[0m\n\u001b[0m",
            "\u001b[0;32m<ipython-input-8-3ee30e0b7704>\u001b[0m in \u001b[0;36mfit\u001b[0;34m(self, dataloader, val_loader, reward_hparams, hparams, online_validate, n_train, n_test, n_val, val_interval, running_window_length, verbose)\u001b[0m\n\u001b[1;32m    348\u001b[0m                     \u001b[0mtrue_label\u001b[0m \u001b[0;34m=\u001b[0m \u001b[0mlabel\u001b[0m\u001b[0;34m.\u001b[0m\u001b[0mint\u001b[0m\u001b[0;34m(\u001b[0m\u001b[0;34m)\u001b[0m\u001b[0;34m.\u001b[0m\u001b[0mitem\u001b[0m\u001b[0;34m(\u001b[0m\u001b[0;34m)\u001b[0m\u001b[0;34m,\u001b[0m\u001b[0;34m\u001b[0m\u001b[0;34m\u001b[0m\u001b[0m\n\u001b[1;32m    349\u001b[0m                     \u001b[0mdopaminergic_layers\u001b[0m\u001b[0;34m=\u001b[0m \u001b[0mself\u001b[0m\u001b[0;34m.\u001b[0m\u001b[0mdopaminergic_layers\u001b[0m\u001b[0;34m,\u001b[0m\u001b[0;34m\u001b[0m\u001b[0;34m\u001b[0m\u001b[0m\n\u001b[0;32m--> 350\u001b[0;31m                     \u001b[0mclamp\u001b[0m \u001b[0;34m=\u001b[0m \u001b[0mself\u001b[0m\u001b[0;34m.\u001b[0m\u001b[0mclamp\u001b[0m\u001b[0;34m\u001b[0m\u001b[0;34m\u001b[0m\u001b[0m\n\u001b[0m\u001b[1;32m    351\u001b[0m                      )\n\u001b[1;32m    352\u001b[0m             \u001b[0;31m# print(self.layers['output'].theta_plus)\u001b[0m\u001b[0;34m\u001b[0m\u001b[0;34m\u001b[0m\u001b[0;34m\u001b[0m\u001b[0m\n",
            "\u001b[0;32m/usr/local/lib/python3.7/dist-packages/bindsnet/network/network.py\u001b[0m in \u001b[0;36mrun\u001b[0;34m(self, inputs, time, one_step, **kwargs)\u001b[0m\n\u001b[1;32m    457\u001b[0m             \u001b[0;31m# Record state variables of interest.\u001b[0m\u001b[0;34m\u001b[0m\u001b[0;34m\u001b[0m\u001b[0;34m\u001b[0m\u001b[0m\n\u001b[1;32m    458\u001b[0m             \u001b[0;32mfor\u001b[0m \u001b[0mm\u001b[0m \u001b[0;32min\u001b[0m \u001b[0mself\u001b[0m\u001b[0;34m.\u001b[0m\u001b[0mmonitors\u001b[0m\u001b[0;34m:\u001b[0m\u001b[0;34m\u001b[0m\u001b[0;34m\u001b[0m\u001b[0m\n\u001b[0;32m--> 459\u001b[0;31m                 \u001b[0mself\u001b[0m\u001b[0;34m.\u001b[0m\u001b[0mmonitors\u001b[0m\u001b[0;34m[\u001b[0m\u001b[0mm\u001b[0m\u001b[0;34m]\u001b[0m\u001b[0;34m.\u001b[0m\u001b[0mrecord\u001b[0m\u001b[0;34m(\u001b[0m\u001b[0;34m**\u001b[0m\u001b[0mkwargs\u001b[0m\u001b[0;34m)\u001b[0m\u001b[0;34m\u001b[0m\u001b[0;34m\u001b[0m\u001b[0m\n\u001b[0m\u001b[1;32m    460\u001b[0m \u001b[0;34m\u001b[0m\u001b[0m\n\u001b[1;32m    461\u001b[0m \u001b[0;34m\u001b[0m\u001b[0m\n",
            "\u001b[0;32m/usr/local/lib/python3.7/dist-packages/bindsnet/network/monitors.py\u001b[0m in \u001b[0;36mrecord\u001b[0;34m(self, **kwargs)\u001b[0m\n\u001b[1;32m    417\u001b[0m \u001b[0;34m\u001b[0m\u001b[0m\n\u001b[1;32m    418\u001b[0m                 \u001b[0;32mfor\u001b[0m \u001b[0mc\u001b[0m \u001b[0;32min\u001b[0m \u001b[0mself\u001b[0m\u001b[0;34m.\u001b[0m\u001b[0mconnections\u001b[0m\u001b[0;34m:\u001b[0m\u001b[0;34m\u001b[0m\u001b[0;34m\u001b[0m\u001b[0m\n\u001b[0;32m--> 419\u001b[0;31m                     \u001b[0;32mif\u001b[0m \u001b[0mhasattr\u001b[0m\u001b[0;34m(\u001b[0m\u001b[0mself\u001b[0m\u001b[0;34m.\u001b[0m\u001b[0mnetwork\u001b[0m\u001b[0;34m.\u001b[0m\u001b[0mconnections\u001b[0m\u001b[0;34m[\u001b[0m\u001b[0mc\u001b[0m\u001b[0;34m]\u001b[0m\u001b[0;34m,\u001b[0m \u001b[0mv\u001b[0m\u001b[0;34m)\u001b[0m\u001b[0;34m:\u001b[0m\u001b[0;34m\u001b[0m\u001b[0;34m\u001b[0m\u001b[0m\n\u001b[0m\u001b[1;32m    420\u001b[0m                         \u001b[0mdata\u001b[0m \u001b[0;34m=\u001b[0m \u001b[0mgetattr\u001b[0m\u001b[0;34m(\u001b[0m\u001b[0mself\u001b[0m\u001b[0;34m.\u001b[0m\u001b[0mnetwork\u001b[0m\u001b[0;34m.\u001b[0m\u001b[0mconnections\u001b[0m\u001b[0;34m[\u001b[0m\u001b[0mc\u001b[0m\u001b[0;34m]\u001b[0m\u001b[0;34m,\u001b[0m \u001b[0mv\u001b[0m\u001b[0;34m)\u001b[0m\u001b[0;34m.\u001b[0m\u001b[0munsqueeze\u001b[0m\u001b[0;34m(\u001b[0m\u001b[0;36m0\u001b[0m\u001b[0;34m)\u001b[0m\u001b[0;34m\u001b[0m\u001b[0;34m\u001b[0m\u001b[0m\n\u001b[1;32m    421\u001b[0m                         self.recording[c][v] = torch.cat(\n",
            "\u001b[0;32m/usr/local/lib/python3.7/dist-packages/torch/nn/modules/module.py\u001b[0m in \u001b[0;36m__getattr__\u001b[0;34m(self, name)\u001b[0m\n\u001b[1;32m   1115\u001b[0m             \u001b[0mself\u001b[0m\u001b[0;34m.\u001b[0m\u001b[0m_is_full_backward_hook\u001b[0m \u001b[0;34m=\u001b[0m \u001b[0;32mNone\u001b[0m\u001b[0;34m\u001b[0m\u001b[0;34m\u001b[0m\u001b[0m\n\u001b[1;32m   1116\u001b[0m \u001b[0;34m\u001b[0m\u001b[0m\n\u001b[0;32m-> 1117\u001b[0;31m     \u001b[0;32mdef\u001b[0m \u001b[0m__getattr__\u001b[0m\u001b[0;34m(\u001b[0m\u001b[0mself\u001b[0m\u001b[0;34m,\u001b[0m \u001b[0mname\u001b[0m\u001b[0;34m:\u001b[0m \u001b[0mstr\u001b[0m\u001b[0;34m)\u001b[0m \u001b[0;34m->\u001b[0m \u001b[0mUnion\u001b[0m\u001b[0;34m[\u001b[0m\u001b[0mTensor\u001b[0m\u001b[0;34m,\u001b[0m \u001b[0;34m'Module'\u001b[0m\u001b[0;34m]\u001b[0m\u001b[0;34m:\u001b[0m\u001b[0;34m\u001b[0m\u001b[0;34m\u001b[0m\u001b[0m\n\u001b[0m\u001b[1;32m   1118\u001b[0m         \u001b[0;32mif\u001b[0m \u001b[0;34m'_parameters'\u001b[0m \u001b[0;32min\u001b[0m \u001b[0mself\u001b[0m\u001b[0;34m.\u001b[0m\u001b[0m__dict__\u001b[0m\u001b[0;34m:\u001b[0m\u001b[0;34m\u001b[0m\u001b[0;34m\u001b[0m\u001b[0m\n\u001b[1;32m   1119\u001b[0m             \u001b[0m_parameters\u001b[0m \u001b[0;34m=\u001b[0m \u001b[0mself\u001b[0m\u001b[0;34m.\u001b[0m\u001b[0m__dict__\u001b[0m\u001b[0;34m[\u001b[0m\u001b[0;34m'_parameters'\u001b[0m\u001b[0;34m]\u001b[0m\u001b[0;34m\u001b[0m\u001b[0;34m\u001b[0m\u001b[0m\n",
            "\u001b[0;31mKeyboardInterrupt\u001b[0m: "
          ]
        }
      ]
    },
    {
      "cell_type": "code",
      "metadata": {
        "id": "qy7-iAETvuPH",
        "colab": {
          "base_uri": "https://localhost:8080/",
          "height": 439,
          "referenced_widgets": [
            "661194ee80564effb4e50a9317318c7a",
            "92194849783e4c0b960c23ca86006a10",
            "98fc35d9ecca410f8b515b11c7260b43",
            "fdda91ea19b3465a9ccf453cc2a36c15",
            "7a08fbda807c40c79b41433ccc759803",
            "672be7dc1f1041ecbe4d8e6d2e6554e3",
            "ea4a9292abf5464ca25e407a262b7854",
            "db144e915cb14c418d82b2f9107cef01",
            "b69ab972c8a842f9aacebba80d5554b7",
            "6bf1b8ee9ecc4330a35777de7a491df5",
            "9042967f47494e5a92663c30648fcb74"
          ]
        },
        "outputId": "42a308c1-e219-4b2f-fae6-b02090072a5b"
      },
      "source": [
        "if target_classes:\n",
        "    # npz_file = np.load(f'bindsnet/mask_{\"_\".join([str(i) for i in target_classes])}.npz')\n",
        "    npz_file = np.load('bindsnet/mask_0.npz') ##### KESAFAT KARI !!!\n",
        "    mask, mask_test = torch.from_numpy(npz_file['arr_0']), torch.from_numpy(npz_file['arr_1'])\n",
        "    n_classes = len(target_classes)\n",
        "else:\n",
        "    mask = None\n",
        "    mask_test = None\n",
        "    n_classes = 10\n",
        "dataloader, val_loader = load_datasets(network_hparams, data_hparams, mask, mask_test)\n",
        "\n",
        "net.fit(dataloader = dataloader, val_loader = val_loader, reward_hparams = reward_hparams, hparams = hparams, **train_hparams)"
      ],
      "execution_count": null,
      "outputs": [
        {
          "output_type": "stream",
          "name": "stdout",
          "text": [
            "Begin training.\n",
            "\n"
          ]
        },
        {
          "output_type": "display_data",
          "data": {
            "text/plain": [
              "  0%|          | 0/2000 [00:00<?, ?it/s]"
            ],
            "application/vnd.jupyter.widget-view+json": {
              "model_id": "661194ee80564effb4e50a9317318c7a",
              "version_minor": 0,
              "version_major": 2
            }
          },
          "metadata": {}
        },
        {
          "output_type": "stream",
          "name": "stdout",
          "text": [
            "output tensor([878,  95]) pred_label: 0 GT: 0 , Acc Rew: 220.4388 Pos dps: 1.00000, Neg dps: 1.00000, Rew base: 0.88175, Pun base: 1.11825, RPe: 135.512 input_mean_fire_freq: 34.3,main_mean_fire_freq:105.3 output_mean_fire_freq:38.4 mean_lc_w: 0.97072, mean_fc_w:0.23497 std_lc_w: 0.10048,std_fc_w:0.32059"
          ]
        },
        {
          "output_type": "error",
          "ename": "KeyboardInterrupt",
          "evalue": "ignored",
          "traceback": [
            "\u001b[0;31m---------------------------------------------------------------------------\u001b[0m",
            "\u001b[0;31mKeyboardInterrupt\u001b[0m                         Traceback (most recent call last)",
            "\u001b[0;32m<ipython-input-42-22a2e2b2dc29>\u001b[0m in \u001b[0;36m<module>\u001b[0;34m()\u001b[0m\n\u001b[1;32m     10\u001b[0m \u001b[0mdataloader\u001b[0m\u001b[0;34m,\u001b[0m \u001b[0mval_loader\u001b[0m \u001b[0;34m=\u001b[0m \u001b[0mload_datasets\u001b[0m\u001b[0;34m(\u001b[0m\u001b[0mnetwork_hparams\u001b[0m\u001b[0;34m,\u001b[0m \u001b[0mdata_hparams\u001b[0m\u001b[0;34m,\u001b[0m \u001b[0mmask\u001b[0m\u001b[0;34m,\u001b[0m \u001b[0mmask_test\u001b[0m\u001b[0;34m)\u001b[0m\u001b[0;34m\u001b[0m\u001b[0;34m\u001b[0m\u001b[0m\n\u001b[1;32m     11\u001b[0m \u001b[0;34m\u001b[0m\u001b[0m\n\u001b[0;32m---> 12\u001b[0;31m \u001b[0mnet\u001b[0m\u001b[0;34m.\u001b[0m\u001b[0mfit\u001b[0m\u001b[0;34m(\u001b[0m\u001b[0mdataloader\u001b[0m \u001b[0;34m=\u001b[0m \u001b[0mdataloader\u001b[0m\u001b[0;34m,\u001b[0m \u001b[0mval_loader\u001b[0m \u001b[0;34m=\u001b[0m \u001b[0mval_loader\u001b[0m\u001b[0;34m,\u001b[0m \u001b[0mreward_hparams\u001b[0m \u001b[0;34m=\u001b[0m \u001b[0mreward_hparams\u001b[0m\u001b[0;34m,\u001b[0m \u001b[0mhparams\u001b[0m \u001b[0;34m=\u001b[0m \u001b[0mhparams\u001b[0m\u001b[0;34m,\u001b[0m \u001b[0;34m**\u001b[0m\u001b[0mtrain_hparams\u001b[0m\u001b[0;34m)\u001b[0m\u001b[0;34m\u001b[0m\u001b[0;34m\u001b[0m\u001b[0m\n\u001b[0m",
            "\u001b[0;32m<ipython-input-8-3ee30e0b7704>\u001b[0m in \u001b[0;36mfit\u001b[0;34m(self, dataloader, val_loader, reward_hparams, hparams, online_validate, n_train, n_test, n_val, val_interval, running_window_length, verbose)\u001b[0m\n\u001b[1;32m    358\u001b[0m             \u001b[0mmain_voltage\u001b[0m \u001b[0;34m=\u001b[0m \u001b[0mmain_monitor\u001b[0m\u001b[0;34m.\u001b[0m\u001b[0mget\u001b[0m\u001b[0;34m(\u001b[0m\u001b[0;34m\"v\"\u001b[0m\u001b[0;34m)\u001b[0m\u001b[0;34m\u001b[0m\u001b[0;34m\u001b[0m\u001b[0m\n\u001b[1;32m    359\u001b[0m             \u001b[0mreward_history\u001b[0m\u001b[0;34m.\u001b[0m\u001b[0mappend\u001b[0m\u001b[0;34m(\u001b[0m\u001b[0mreward_monitor\u001b[0m\u001b[0;34m.\u001b[0m\u001b[0mget\u001b[0m\u001b[0;34m(\u001b[0m\u001b[0;34m)\u001b[0m\u001b[0;34m)\u001b[0m\u001b[0;34m\u001b[0m\u001b[0;34m\u001b[0m\u001b[0m\n\u001b[0;32m--> 360\u001b[0;31m             \u001b[0mtensorboard\u001b[0m\u001b[0;34m.\u001b[0m\u001b[0mupdate\u001b[0m\u001b[0;34m(\u001b[0m\u001b[0mstep\u001b[0m\u001b[0;34m=\u001b[0m \u001b[0mi\u001b[0m\u001b[0;34m)\u001b[0m\u001b[0;34m\u001b[0m\u001b[0;34m\u001b[0m\u001b[0m\n\u001b[0m\u001b[1;32m    361\u001b[0m             \u001b[0;31m# Add to spikes recording.\u001b[0m\u001b[0;34m\u001b[0m\u001b[0;34m\u001b[0m\u001b[0;34m\u001b[0m\u001b[0m\n\u001b[1;32m    362\u001b[0m             \u001b[0;31m#if self.single_output_layer:\u001b[0m\u001b[0;34m\u001b[0m\u001b[0;34m\u001b[0m\u001b[0;34m\u001b[0m\u001b[0m\n",
            "\u001b[0;32m/usr/local/lib/python3.7/dist-packages/bindsnet/network/monitors.py\u001b[0m in \u001b[0;36mupdate\u001b[0;34m(self, step)\u001b[0m\n\u001b[1;32m    518\u001b[0m         \u001b[0mself\u001b[0m\u001b[0;34m.\u001b[0m\u001b[0m_add_weights\u001b[0m\u001b[0;34m(\u001b[0m\u001b[0;34m)\u001b[0m\u001b[0;34m\u001b[0m\u001b[0;34m\u001b[0m\u001b[0m\n\u001b[1;32m    519\u001b[0m         \u001b[0mself\u001b[0m\u001b[0;34m.\u001b[0m\u001b[0m_add_scalers\u001b[0m\u001b[0;34m(\u001b[0m\u001b[0;34m)\u001b[0m\u001b[0;34m\u001b[0m\u001b[0;34m\u001b[0m\u001b[0m\n\u001b[0;32m--> 520\u001b[0;31m         \u001b[0mself\u001b[0m\u001b[0;34m.\u001b[0m\u001b[0m_add_grids\u001b[0m\u001b[0;34m(\u001b[0m\u001b[0;34m)\u001b[0m\u001b[0;34m\u001b[0m\u001b[0;34m\u001b[0m\u001b[0m\n\u001b[0m\u001b[1;32m    521\u001b[0m         \u001b[0mself\u001b[0m\u001b[0;34m.\u001b[0m\u001b[0mstep\u001b[0m \u001b[0;34m+=\u001b[0m \u001b[0;36m1\u001b[0m\u001b[0;34m\u001b[0m\u001b[0;34m\u001b[0m\u001b[0m\n\u001b[1;32m    522\u001b[0m \u001b[0;34m\u001b[0m\u001b[0m\n",
            "\u001b[0;32m/usr/local/lib/python3.7/dist-packages/bindsnet/network/monitors.py\u001b[0m in \u001b[0;36m_add_grids\u001b[0;34m(self)\u001b[0m\n\u001b[1;32m    495\u001b[0m                         \u001b[0mgrid\u001b[0m\u001b[0;34m,\u001b[0m\u001b[0;34m\u001b[0m\u001b[0;34m\u001b[0m\u001b[0m\n\u001b[1;32m    496\u001b[0m                         \u001b[0mself\u001b[0m\u001b[0;34m.\u001b[0m\u001b[0mstep\u001b[0m\u001b[0;34m,\u001b[0m\u001b[0;34m\u001b[0m\u001b[0;34m\u001b[0m\u001b[0m\n\u001b[0;32m--> 497\u001b[0;31m                         \u001b[0mdataformats\u001b[0m\u001b[0;34m=\u001b[0m \u001b[0;34m'HW'\u001b[0m\u001b[0;34m,\u001b[0m\u001b[0;34m\u001b[0m\u001b[0;34m\u001b[0m\u001b[0m\n\u001b[0m\u001b[1;32m    498\u001b[0m                         )\n\u001b[1;32m    499\u001b[0m \u001b[0;34m\u001b[0m\u001b[0m\n",
            "\u001b[0;32m/usr/local/lib/python3.7/dist-packages/torch/utils/tensorboard/writer.py\u001b[0m in \u001b[0;36madd_image\u001b[0;34m(self, tag, img_tensor, global_step, walltime, dataformats)\u001b[0m\n\u001b[1;32m    547\u001b[0m             \u001b[0mimg_tensor\u001b[0m \u001b[0;34m=\u001b[0m \u001b[0mworkspace\u001b[0m\u001b[0;34m.\u001b[0m\u001b[0mFetchBlob\u001b[0m\u001b[0;34m(\u001b[0m\u001b[0mimg_tensor\u001b[0m\u001b[0;34m)\u001b[0m\u001b[0;34m\u001b[0m\u001b[0;34m\u001b[0m\u001b[0m\n\u001b[1;32m    548\u001b[0m         self._get_file_writer().add_summary(\n\u001b[0;32m--> 549\u001b[0;31m             image(tag, img_tensor, dataformats=dataformats), global_step, walltime)\n\u001b[0m\u001b[1;32m    550\u001b[0m \u001b[0;34m\u001b[0m\u001b[0m\n\u001b[1;32m    551\u001b[0m     \u001b[0;32mdef\u001b[0m \u001b[0madd_images\u001b[0m\u001b[0;34m(\u001b[0m\u001b[0mself\u001b[0m\u001b[0;34m,\u001b[0m \u001b[0mtag\u001b[0m\u001b[0;34m,\u001b[0m \u001b[0mimg_tensor\u001b[0m\u001b[0;34m,\u001b[0m \u001b[0mglobal_step\u001b[0m\u001b[0;34m=\u001b[0m\u001b[0;32mNone\u001b[0m\u001b[0;34m,\u001b[0m \u001b[0mwalltime\u001b[0m\u001b[0;34m=\u001b[0m\u001b[0;32mNone\u001b[0m\u001b[0;34m,\u001b[0m \u001b[0mdataformats\u001b[0m\u001b[0;34m=\u001b[0m\u001b[0;34m'NCHW'\u001b[0m\u001b[0;34m)\u001b[0m\u001b[0;34m:\u001b[0m\u001b[0;34m\u001b[0m\u001b[0;34m\u001b[0m\u001b[0m\n",
            "\u001b[0;32m/usr/local/lib/python3.7/dist-packages/torch/utils/tensorboard/summary.py\u001b[0m in \u001b[0;36mimage\u001b[0;34m(tag, tensor, rescale, dataformats)\u001b[0m\n\u001b[1;32m    392\u001b[0m     \u001b[0;31m# Do not assume that user passes in values in [0, 255], use data type to detect\u001b[0m\u001b[0;34m\u001b[0m\u001b[0;34m\u001b[0m\u001b[0;34m\u001b[0m\u001b[0m\n\u001b[1;32m    393\u001b[0m     \u001b[0mscale_factor\u001b[0m \u001b[0;34m=\u001b[0m \u001b[0m_calc_scale_factor\u001b[0m\u001b[0;34m(\u001b[0m\u001b[0mtensor\u001b[0m\u001b[0;34m)\u001b[0m\u001b[0;34m\u001b[0m\u001b[0;34m\u001b[0m\u001b[0m\n\u001b[0;32m--> 394\u001b[0;31m     \u001b[0mtensor\u001b[0m \u001b[0;34m=\u001b[0m \u001b[0mtensor\u001b[0m\u001b[0;34m.\u001b[0m\u001b[0mastype\u001b[0m\u001b[0;34m(\u001b[0m\u001b[0mnp\u001b[0m\u001b[0;34m.\u001b[0m\u001b[0mfloat32\u001b[0m\u001b[0;34m)\u001b[0m\u001b[0;34m\u001b[0m\u001b[0;34m\u001b[0m\u001b[0m\n\u001b[0m\u001b[1;32m    395\u001b[0m     \u001b[0mtensor\u001b[0m \u001b[0;34m=\u001b[0m \u001b[0;34m(\u001b[0m\u001b[0mtensor\u001b[0m \u001b[0;34m*\u001b[0m \u001b[0mscale_factor\u001b[0m\u001b[0;34m)\u001b[0m\u001b[0;34m.\u001b[0m\u001b[0mastype\u001b[0m\u001b[0;34m(\u001b[0m\u001b[0mnp\u001b[0m\u001b[0;34m.\u001b[0m\u001b[0muint8\u001b[0m\u001b[0;34m)\u001b[0m\u001b[0;34m\u001b[0m\u001b[0;34m\u001b[0m\u001b[0m\n\u001b[1;32m    396\u001b[0m     \u001b[0mimage\u001b[0m \u001b[0;34m=\u001b[0m \u001b[0mmake_image\u001b[0m\u001b[0;34m(\u001b[0m\u001b[0mtensor\u001b[0m\u001b[0;34m,\u001b[0m \u001b[0mrescale\u001b[0m\u001b[0;34m=\u001b[0m\u001b[0mrescale\u001b[0m\u001b[0;34m)\u001b[0m\u001b[0;34m\u001b[0m\u001b[0;34m\u001b[0m\u001b[0m\n",
            "\u001b[0;31mKeyboardInterrupt\u001b[0m: "
          ]
        }
      ]
    }
  ]
}