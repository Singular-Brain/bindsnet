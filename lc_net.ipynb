{
  "nbformat": 4,
  "nbformat_minor": 2,
  "metadata": {
    "colab": {
      "name": "Copy of lc_net",
      "provenance": [],
      "collapsed_sections": [],
      "machine_shape": "hm",
      "include_colab_link": true
    },
    "kernelspec": {
      "name": "python3",
      "display_name": "Python 3.8.5 64-bit ('base': conda)"
    },
    "language_info": {
      "name": "python",
      "version": "3.8.5",
      "mimetype": "text/x-python",
      "codemirror_mode": {
        "name": "ipython",
        "version": 3
      },
      "pygments_lexer": "ipython3",
      "nbconvert_exporter": "python",
      "file_extension": ".py"
    },
    "accelerator": "GPU",
    "widgets": {
      "application/vnd.jupyter.widget-state+json": {
        "6cbc1e82af70447899e6649ef943cba5": {
          "model_module": "@jupyter-widgets/controls",
          "model_name": "HBoxModel",
          "state": {
            "_view_name": "HBoxView",
            "_dom_classes": [],
            "_model_name": "HBoxModel",
            "_view_module": "@jupyter-widgets/controls",
            "_model_module_version": "1.5.0",
            "_view_count": null,
            "_view_module_version": "1.5.0",
            "box_style": "",
            "layout": "IPY_MODEL_0af4ef28a0ff493f89d567d585df99bd",
            "_model_module": "@jupyter-widgets/controls",
            "children": [
              "IPY_MODEL_c71115be466c43a0984137cb3541a80e",
              "IPY_MODEL_84c03f924cfb4ad1b8c708e29edfa9a6",
              "IPY_MODEL_1cfd7184cfd844eb9e427b4b2dc86cd9"
            ]
          }
        },
        "0af4ef28a0ff493f89d567d585df99bd": {
          "model_module": "@jupyter-widgets/base",
          "model_name": "LayoutModel",
          "state": {
            "_view_name": "LayoutView",
            "grid_template_rows": null,
            "right": null,
            "justify_content": null,
            "_view_module": "@jupyter-widgets/base",
            "overflow": null,
            "_model_module_version": "1.2.0",
            "_view_count": null,
            "flex_flow": null,
            "width": null,
            "min_width": null,
            "border": null,
            "align_items": null,
            "bottom": null,
            "_model_module": "@jupyter-widgets/base",
            "top": null,
            "grid_column": null,
            "overflow_y": null,
            "overflow_x": null,
            "grid_auto_flow": null,
            "grid_area": null,
            "grid_template_columns": null,
            "flex": null,
            "_model_name": "LayoutModel",
            "justify_items": null,
            "grid_row": null,
            "max_height": null,
            "align_content": null,
            "visibility": null,
            "align_self": null,
            "height": null,
            "min_height": null,
            "padding": null,
            "grid_auto_rows": null,
            "grid_gap": null,
            "max_width": null,
            "order": null,
            "_view_module_version": "1.2.0",
            "grid_template_areas": null,
            "object_position": null,
            "object_fit": null,
            "grid_auto_columns": null,
            "margin": null,
            "display": null,
            "left": null
          }
        },
        "c71115be466c43a0984137cb3541a80e": {
          "model_module": "@jupyter-widgets/controls",
          "model_name": "HTMLModel",
          "state": {
            "_view_name": "HTMLView",
            "style": "IPY_MODEL_8efdd3f63f5d4310ab93693657dfc39a",
            "_dom_classes": [],
            "description": "",
            "_model_name": "HTMLModel",
            "placeholder": "​",
            "_view_module": "@jupyter-widgets/controls",
            "_model_module_version": "1.5.0",
            "value": "Running accuracy: 17.39%, Current val accuracy: 0.00%, :   1%",
            "_view_count": null,
            "_view_module_version": "1.5.0",
            "description_tooltip": null,
            "_model_module": "@jupyter-widgets/controls",
            "layout": "IPY_MODEL_664abd142ff041fda193a3ee2d9cc6b0"
          }
        },
        "84c03f924cfb4ad1b8c708e29edfa9a6": {
          "model_module": "@jupyter-widgets/controls",
          "model_name": "FloatProgressModel",
          "state": {
            "_view_name": "ProgressView",
            "style": "IPY_MODEL_fd3034b40d9a4e0188134bf73ee53f2f",
            "_dom_classes": [],
            "description": "",
            "_model_name": "FloatProgressModel",
            "bar_style": "",
            "max": 5000,
            "_view_module": "@jupyter-widgets/controls",
            "_model_module_version": "1.5.0",
            "value": 69,
            "_view_count": null,
            "_view_module_version": "1.5.0",
            "orientation": "horizontal",
            "min": 0,
            "description_tooltip": null,
            "_model_module": "@jupyter-widgets/controls",
            "layout": "IPY_MODEL_d0be96bfe9e041538e1850ba391adb22"
          }
        },
        "1cfd7184cfd844eb9e427b4b2dc86cd9": {
          "model_module": "@jupyter-widgets/controls",
          "model_name": "HTMLModel",
          "state": {
            "_view_name": "HTMLView",
            "style": "IPY_MODEL_9126800d747f4a12a45b95dc5cae05f3",
            "_dom_classes": [],
            "description": "",
            "_model_name": "HTMLModel",
            "placeholder": "​",
            "_view_module": "@jupyter-widgets/controls",
            "_model_module_version": "1.5.0",
            "value": " 69/5000 [00:33&lt;38:26,  2.14it/s]",
            "_view_count": null,
            "_view_module_version": "1.5.0",
            "description_tooltip": null,
            "_model_module": "@jupyter-widgets/controls",
            "layout": "IPY_MODEL_a9db993eba894d5c8360638990289159"
          }
        },
        "8efdd3f63f5d4310ab93693657dfc39a": {
          "model_module": "@jupyter-widgets/controls",
          "model_name": "DescriptionStyleModel",
          "state": {
            "_view_name": "StyleView",
            "_model_name": "DescriptionStyleModel",
            "description_width": "",
            "_view_module": "@jupyter-widgets/base",
            "_model_module_version": "1.5.0",
            "_view_count": null,
            "_view_module_version": "1.2.0",
            "_model_module": "@jupyter-widgets/controls"
          }
        },
        "664abd142ff041fda193a3ee2d9cc6b0": {
          "model_module": "@jupyter-widgets/base",
          "model_name": "LayoutModel",
          "state": {
            "_view_name": "LayoutView",
            "grid_template_rows": null,
            "right": null,
            "justify_content": null,
            "_view_module": "@jupyter-widgets/base",
            "overflow": null,
            "_model_module_version": "1.2.0",
            "_view_count": null,
            "flex_flow": null,
            "width": null,
            "min_width": null,
            "border": null,
            "align_items": null,
            "bottom": null,
            "_model_module": "@jupyter-widgets/base",
            "top": null,
            "grid_column": null,
            "overflow_y": null,
            "overflow_x": null,
            "grid_auto_flow": null,
            "grid_area": null,
            "grid_template_columns": null,
            "flex": null,
            "_model_name": "LayoutModel",
            "justify_items": null,
            "grid_row": null,
            "max_height": null,
            "align_content": null,
            "visibility": null,
            "align_self": null,
            "height": null,
            "min_height": null,
            "padding": null,
            "grid_auto_rows": null,
            "grid_gap": null,
            "max_width": null,
            "order": null,
            "_view_module_version": "1.2.0",
            "grid_template_areas": null,
            "object_position": null,
            "object_fit": null,
            "grid_auto_columns": null,
            "margin": null,
            "display": null,
            "left": null
          }
        },
        "fd3034b40d9a4e0188134bf73ee53f2f": {
          "model_module": "@jupyter-widgets/controls",
          "model_name": "ProgressStyleModel",
          "state": {
            "_view_name": "StyleView",
            "_model_name": "ProgressStyleModel",
            "description_width": "",
            "_view_module": "@jupyter-widgets/base",
            "_model_module_version": "1.5.0",
            "_view_count": null,
            "_view_module_version": "1.2.0",
            "bar_color": null,
            "_model_module": "@jupyter-widgets/controls"
          }
        },
        "d0be96bfe9e041538e1850ba391adb22": {
          "model_module": "@jupyter-widgets/base",
          "model_name": "LayoutModel",
          "state": {
            "_view_name": "LayoutView",
            "grid_template_rows": null,
            "right": null,
            "justify_content": null,
            "_view_module": "@jupyter-widgets/base",
            "overflow": null,
            "_model_module_version": "1.2.0",
            "_view_count": null,
            "flex_flow": null,
            "width": null,
            "min_width": null,
            "border": null,
            "align_items": null,
            "bottom": null,
            "_model_module": "@jupyter-widgets/base",
            "top": null,
            "grid_column": null,
            "overflow_y": null,
            "overflow_x": null,
            "grid_auto_flow": null,
            "grid_area": null,
            "grid_template_columns": null,
            "flex": null,
            "_model_name": "LayoutModel",
            "justify_items": null,
            "grid_row": null,
            "max_height": null,
            "align_content": null,
            "visibility": null,
            "align_self": null,
            "height": null,
            "min_height": null,
            "padding": null,
            "grid_auto_rows": null,
            "grid_gap": null,
            "max_width": null,
            "order": null,
            "_view_module_version": "1.2.0",
            "grid_template_areas": null,
            "object_position": null,
            "object_fit": null,
            "grid_auto_columns": null,
            "margin": null,
            "display": null,
            "left": null
          }
        },
        "9126800d747f4a12a45b95dc5cae05f3": {
          "model_module": "@jupyter-widgets/controls",
          "model_name": "DescriptionStyleModel",
          "state": {
            "_view_name": "StyleView",
            "_model_name": "DescriptionStyleModel",
            "description_width": "",
            "_view_module": "@jupyter-widgets/base",
            "_model_module_version": "1.5.0",
            "_view_count": null,
            "_view_module_version": "1.2.0",
            "_model_module": "@jupyter-widgets/controls"
          }
        },
        "a9db993eba894d5c8360638990289159": {
          "model_module": "@jupyter-widgets/base",
          "model_name": "LayoutModel",
          "state": {
            "_view_name": "LayoutView",
            "grid_template_rows": null,
            "right": null,
            "justify_content": null,
            "_view_module": "@jupyter-widgets/base",
            "overflow": null,
            "_model_module_version": "1.2.0",
            "_view_count": null,
            "flex_flow": null,
            "width": null,
            "min_width": null,
            "border": null,
            "align_items": null,
            "bottom": null,
            "_model_module": "@jupyter-widgets/base",
            "top": null,
            "grid_column": null,
            "overflow_y": null,
            "overflow_x": null,
            "grid_auto_flow": null,
            "grid_area": null,
            "grid_template_columns": null,
            "flex": null,
            "_model_name": "LayoutModel",
            "justify_items": null,
            "grid_row": null,
            "max_height": null,
            "align_content": null,
            "visibility": null,
            "align_self": null,
            "height": null,
            "min_height": null,
            "padding": null,
            "grid_auto_rows": null,
            "grid_gap": null,
            "max_width": null,
            "order": null,
            "_view_module_version": "1.2.0",
            "grid_template_areas": null,
            "object_position": null,
            "object_fit": null,
            "grid_auto_columns": null,
            "margin": null,
            "display": null,
            "left": null
          }
        }
      }
    },
    "interpreter": {
      "hash": "8b51a6187922e1c805af8ddd20d0a4091ecd17bebcd7deb5956ab101caf2f88f"
    }
  },
  "cells": [
    {
      "cell_type": "markdown",
      "source": [
        "<a href=\"https://colab.research.google.com/github/Singular-Brain/bindsnet/blob/master/lc_net.ipynb\" target=\"_parent\"><img src=\"https://colab.research.google.com/assets/colab-badge.svg\" alt=\"Open In Colab\"/></a>"
      ],
      "metadata": {
        "id": "view-in-github",
        "colab_type": "text"
      }
    },
    {
      "cell_type": "markdown",
      "source": [
        "#Notebook setups"
      ],
      "metadata": {
        "id": "7fTSvrK3T_GA"
      }
    },
    {
      "cell_type": "code",
      "execution_count": null,
      "source": [
        "!pip install -q git+https://github.com/Singular-Brain/bindsnet"
      ],
      "outputs": [],
      "metadata": {
        "id": "lXtgP_iEPE0G"
      }
    },
    {
      "cell_type": "code",
      "execution_count": null,
      "source": [
        "!wget https://data.deepai.org/mnist.zip\r\n",
        "!mkdir -p ../data/MNIST/TorchvisionDatasetWrapper/raw\r\n",
        "!unzip mnist.zip -d ../data/MNIST/TorchvisionDatasetWrapper/raw/"
      ],
      "outputs": [
        {
          "output_type": "stream",
          "name": "stdout",
          "text": [
            "--2021-07-25 09:24:41--  https://data.deepai.org/mnist.zip\n",
            "Resolving data.deepai.org (data.deepai.org)... 138.201.36.183\n",
            "Connecting to data.deepai.org (data.deepai.org)|138.201.36.183|:443... connected.\n",
            "HTTP request sent, awaiting response... 200 OK\n",
            "Length: 11597176 (11M) [application/x-zip-compressed]\n",
            "Saving to: ‘mnist.zip.3’\n",
            "\n",
            "mnist.zip.3         100%[===================>]  11.06M  8.48MB/s    in 1.3s    \n",
            "\n",
            "2021-07-25 09:24:43 (8.48 MB/s) - ‘mnist.zip.3’ saved [11597176/11597176]\n",
            "\n",
            "Archive:  mnist.zip\n",
            "replace ../data/MNIST/TorchvisionDatasetWrapper/raw/train-labels-idx1-ubyte.gz? [y]es, [n]o, [A]ll, [N]one, [r]ename: n\n",
            "replace ../data/MNIST/TorchvisionDatasetWrapper/raw/train-images-idx3-ubyte.gz? [y]es, [n]o, [A]ll, [N]one, [r]ename: A\n",
            "  inflating: ../data/MNIST/TorchvisionDatasetWrapper/raw/train-images-idx3-ubyte.gz  \n",
            "  inflating: ../data/MNIST/TorchvisionDatasetWrapper/raw/t10k-images-idx3-ubyte.gz  \n",
            "  inflating: ../data/MNIST/TorchvisionDatasetWrapper/raw/t10k-labels-idx1-ubyte.gz  \n"
          ]
        }
      ],
      "metadata": {
        "colab": {
          "base_uri": "https://localhost:8080/"
        },
        "id": "OW7m3ugEHZP_",
        "outputId": "4b4e684b-6e3c-43dd-c5ed-6379b2e7e01e"
      }
    },
    {
      "cell_type": "code",
      "execution_count": 1,
      "source": [
        "from bindsnet.network.nodes import Nodes\r\n",
        "import os\r\n",
        "import torch\r\n",
        "import torchvision\r\n",
        "import numpy as np\r\n",
        "import argparse\r\n",
        "import matplotlib.pyplot as plt\r\n",
        "\r\n",
        "from torchvision import transforms\r\n",
        "from tqdm.notebook import tqdm\r\n",
        "\r\n",
        "from bindsnet.datasets import MNIST\r\n",
        "from bindsnet.encoding import PoissonEncoder\r\n",
        "from bindsnet.network import Network\r\n",
        "from bindsnet.network.nodes import Input, LIFNodes, AdaptiveLIFNodes\r\n",
        "from bindsnet.network.topology import LocalConnection, Connection\r\n",
        "from bindsnet.network.monitors import Monitor, AbstractMonitor\r\n",
        "from bindsnet.learning import PostPre, MSTDP, MSTDPET \r\n",
        "from bindsnet.learning.reward import DynamicDopamineInjection\r\n",
        "from bindsnet.utils import get_square_assignments, get_square_weights\r\n",
        "from bindsnet.evaluation import all_activity, proportion_weighting, assign_labels\r\n",
        "from bindsnet.analysis.plotting import (\r\n",
        "    plot_input,\r\n",
        "    plot_assignments,\r\n",
        "    plot_performance,\r\n",
        "    plot_weights,\r\n",
        "    plot_spikes,\r\n",
        "    plot_voltages,\r\n",
        ")"
      ],
      "outputs": [],
      "metadata": {
        "id": "BFGNAecpT-Lj"
      }
    },
    {
      "cell_type": "markdown",
      "source": [
        "## Set up hyper-parameters"
      ],
      "metadata": {
        "id": "kCqAFucAUDb8"
      }
    },
    {
      "cell_type": "code",
      "execution_count": 2,
      "source": [
        "n_neurons = 100\r\n",
        "n_train = 5000\r\n",
        "n_test = 300\r\n",
        "n_val = 200\r\n",
        "theta_plus = 0.05\r\n",
        "time = 250\r\n",
        "dt = 1\r\n",
        "intensity = 128\r\n",
        "train = True\r\n",
        "gpu = True\r\n",
        "device_id = 0\r\n",
        "n_classes = 10\r\n",
        "neuron_per_class = 10\r\n",
        "seed = 2045 # The Singularity is Near!\r\n",
        "\r\n",
        "reward_kwargs = {\r\n",
        "    'dopaminergic_layer': 'output', \r\n",
        "    'n_labels': n_classes,\r\n",
        "    'neuron_per_class': neuron_per_class,\r\n",
        "    'dopamine_per_spike': 0.2, \r\n",
        "    'tc_reward': 20,\r\n",
        "    'dopamine_base': 0.02,\r\n",
        "}"
      ],
      "outputs": [],
      "metadata": {
        "id": "0YacX9jrUHj4"
      }
    },
    {
      "cell_type": "markdown",
      "source": [
        "## Sets up Gpu use\n"
      ],
      "metadata": {
        "id": "ULGGHW43UksI"
      }
    },
    {
      "cell_type": "code",
      "execution_count": 3,
      "source": [
        "device = torch.device(\"cuda\" if torch.cuda.is_available() else \"cpu\")\r\n",
        "if gpu and torch.cuda.is_available():\r\n",
        "    torch.cuda.manual_seed_all(seed)\r\n",
        "else:\r\n",
        "    torch.manual_seed(seed)\r\n",
        "    device = \"cpu\"\r\n",
        "    if gpu:\r\n",
        "        gpu = False\r\n",
        "\r\n",
        "torch.set_num_threads(os.cpu_count() - 1)\r\n",
        "print(\"Running on Device = \", device)\r\n",
        "\r\n",
        "if not train:\r\n",
        "    update_interval = n_test"
      ],
      "outputs": [
        {
          "output_type": "stream",
          "name": "stdout",
          "text": [
            "Running on Device =  cpu\n"
          ]
        }
      ],
      "metadata": {
        "id": "LiUmFrpcUfmR",
        "colab": {
          "base_uri": "https://localhost:8080/"
        },
        "outputId": "5df1bf6c-1dfd-4cf5-faf0-bc6aa547ac8b"
      }
    },
    {
      "cell_type": "markdown",
      "source": [
        "# Design network"
      ],
      "metadata": {
        "id": "nL0giSqUUvz6"
      }
    },
    {
      "cell_type": "markdown",
      "source": [
        "## Reward Monitor"
      ],
      "metadata": {}
    },
    {
      "cell_type": "code",
      "execution_count": 4,
      "source": [
        "class RewardMonitor(AbstractMonitor):\r\n",
        "    # language=rst\r\n",
        "    \"\"\"\r\n",
        "    Records state variables of interest.\r\n",
        "    \"\"\"\r\n",
        "\r\n",
        "    def __init__(\r\n",
        "        self,\r\n",
        "        time: None,\r\n",
        "        batch_size: int = 1,\r\n",
        "        device: str = \"cpu\",\r\n",
        "    ):\r\n",
        "        # language=rst\r\n",
        "        \"\"\"\r\n",
        "        Constructs a ``Monitor`` object.\r\n",
        "\r\n",
        "        :param obj: An object to record state variables from during network simulation.\r\n",
        "        :param state_vars: Iterable of strings indicating names of state variables to record.\r\n",
        "        :param time: If not ``None``, pre-allocate memory for state variable recording.\r\n",
        "        :param device: Allow the monitor to be on different device separate from Network device\r\n",
        "        \"\"\"\r\n",
        "        super().__init__()\r\n",
        "\r\n",
        "        self.time = time\r\n",
        "        self.batch_size = batch_size\r\n",
        "        self.device = device\r\n",
        "\r\n",
        "        # if time is not specified the monitor variable accumulate the logs\r\n",
        "        if self.time is None:\r\n",
        "            self.device = \"cpu\"\r\n",
        "\r\n",
        "        self.recording = []\r\n",
        "        self.reset_state_variables()\r\n",
        "\r\n",
        "    def get(self,) -> torch.Tensor:\r\n",
        "        # language=rst\r\n",
        "        \"\"\"\r\n",
        "        Return recording to user.\r\n",
        "\r\n",
        "        :return: Tensor of shape ``[time, n_1, ..., n_k]``, where ``[n_1, ..., n_k]`` is the shape of the recorded state\r\n",
        "        variable.\r\n",
        "        Note, if time == `None`, get return the logs and empty the monitor variable\r\n",
        "\r\n",
        "        \"\"\"\r\n",
        "        # return_logs = torch.as_tensor(self.recording)\r\n",
        "        # if self.time is None:\r\n",
        "        #     self.recording = []\r\n",
        "        return self.recording\r\n",
        "\r\n",
        "    def record(self, **kwargs) -> None:\r\n",
        "        # language=rst\r\n",
        "        \"\"\"\r\n",
        "        Appends the current value of the recorded state variables to the recording.\r\n",
        "        \"\"\"\r\n",
        "        self.recording.append(kwargs[\"reward\"])\r\n",
        "        # remove the oldest element (first in the list)\r\n",
        "        # if self.time is not None:\r\n",
        "        #     self.recording.pop(0)\r\n",
        "\r\n",
        "    def reset_state_variables(self) -> None:\r\n",
        "        # language=rst\r\n",
        "        \"\"\"\r\n",
        "        Resets recordings to empty ``List``s.\r\n",
        "        \"\"\"\r\n",
        "        self.recording = []\r\n"
      ],
      "outputs": [],
      "metadata": {}
    },
    {
      "cell_type": "code",
      "execution_count": 5,
      "source": [
        "C = 50\r\n",
        "K = 16\r\n",
        "S = 4\r\n",
        "crop_size = 20\r\n",
        "theta_plus = 0.05   ## Adaptive LIF\r\n",
        "inh_factor = 0.5\r\n",
        "w_min = 0.0\r\n",
        "w_max = 1.0\r\n",
        "\r\n",
        "compute_size = lambda inp_size, k, s: int((inp_size-k)/s) + 1\r\n",
        "\r\n",
        "### Reward function\r\n",
        "reward_fn = DynamicDopamineInjection\r\n",
        "network = Network(dt = 1, reward_fn = reward_fn)\r\n",
        "\r\n",
        "### nodes\r\n",
        "inp = Input(shape= [1,20,20], traces=True)\r\n",
        "\r\n",
        "main = AdaptiveLIFNodes(shape= [C, compute_size(20, K, S), compute_size(20, K, S)], traces=True, tc_trace=20, theta_plus=theta_plus)\r\n",
        "#main = LIFNodes(shape= [C, compute_size(20, K, S), compute_size(20, K, S)], traces=True)\r\n",
        "\r\n",
        "# TODO: Diehl & Cook 2015 (v2) \r\n",
        "out = AdaptiveLIFNodes(n= 100, traces=True, tc_trace=20, theta_plus=theta_plus)\r\n",
        "\r\n",
        "### connections \r\n",
        "LC = LocalConnection(inp, main, K, S, C, nu = [1e-2, 1e-4], update_rule = MSTDPET)\r\n",
        "#LC.w = torch.nn.init.xavier_normal_(LC.w, gain=1.0)\r\n",
        "\r\n",
        "main_out = Connection(main, out, nu = [1e-2, 1e-4], update_rule = MSTDPET)\r\n",
        "#main_out.w = torch.nn.init.xavier_normal_(main_out.w, gain=1.0)\r\n",
        "\r\n",
        "\r\n",
        "w = -inh_factor * torch.ones(out.n, out.n)\r\n",
        "for c in range(n_classes):\r\n",
        "    ind = slice(c*neuron_per_class,(c+1)*neuron_per_class)\r\n",
        "    w[ind, ind] = 0\r\n",
        "\r\n",
        "\r\n",
        "out_recurrent_inhibition = Connection(\r\n",
        "    source=out,\r\n",
        "    target=out,\r\n",
        "    w=w,\r\n",
        "    wmin=-inh_factor,\r\n",
        "    wmax=0,\r\n",
        ")\r\n",
        "\r\n",
        "network.add_layer(main, \"main\")\r\n",
        "network.add_layer(inp, \"input\")\r\n",
        "network.add_layer(out, \"output\")\r\n",
        "network.add_connection(LC, \"input\", \"main\")\r\n",
        "network.add_connection(main_out, \"main\", \"output\")\r\n",
        "network.add_connection(out_recurrent_inhibition, \"output\", \"output\")\r\n",
        "\r\n",
        "# Directs network to GPU\r\n",
        "if gpu:\r\n",
        "    network.to(\"cuda\")\r\n",
        "\r\n",
        "# Voltage recording for excitatory and inhibitory layers.\r\n",
        "main_monitor = Monitor(network.layers[\"main\"], [\"v\"], time=time, device=device)\r\n",
        "output_monitor = Monitor(network.layers[\"output\"], [\"v\"], time=time, device=device)\r\n",
        "reward_monitor = RewardMonitor(time =time)\r\n",
        "network.add_monitor(main_monitor, name=\"main\")\r\n",
        "network.add_monitor(output_monitor, name=\"output\")\r\n",
        "network.add_monitor(reward_monitor, name=\"reward\")\r\n",
        "\r\n"
      ],
      "outputs": [],
      "metadata": {
        "id": "dK1-BrFEO_1q"
      }
    },
    {
      "cell_type": "markdown",
      "source": [
        "# Load Dataset"
      ],
      "metadata": {
        "id": "6zuUBU9pU3vE"
      }
    },
    {
      "cell_type": "code",
      "execution_count": 6,
      "source": [
        "class ClassSelector(torch.utils.data.sampler.Sampler):\r\n",
        "    \"\"\"Select target classes from the dataset\"\"\"\r\n",
        "    def __init__(self, target_classes, data_source):\r\n",
        "        self.mask = torch.tensor([1 if data_source[i][1] in target_classes else 0 for i in range(len(data_source))])\r\n",
        "        self.data_source = data_source\r\n",
        "\r\n",
        "    def __iter__(self):\r\n",
        "        return iter([i.item() for i in torch.nonzero(self.mask)])\r\n",
        "\r\n",
        "    def __len__(self):\r\n",
        "        return len(self.data_source)"
      ],
      "outputs": [],
      "metadata": {
        "id": "2DW7dB11jdqi"
      }
    },
    {
      "cell_type": "code",
      "execution_count": 7,
      "source": [
        "# Load MNIST data.\r\n",
        "dataset = MNIST(\r\n",
        "    PoissonEncoder(time=time, dt=dt),\r\n",
        "    None,\r\n",
        "    root=os.path.join(\"..\", \"..\", \"data\", \"MNIST\"),\r\n",
        "    download=True,\r\n",
        "    transform=transforms.Compose(\r\n",
        "        [transforms.ToTensor(),\r\n",
        "        transforms.Lambda(lambda x: x * intensity),\r\n",
        "        transforms.CenterCrop(crop_size)]\r\n",
        "    ),\r\n",
        ")\r\n",
        "\r\n",
        "# Create a dataloader to iterate and batch data\r\n",
        "dataloader = torch.utils.data.DataLoader(dataset, batch_size=1, shuffle=True,\r\n",
        "                                        #  sampler = ClassSelector(\r\n",
        "                                        #         target_classes = (2,4),\r\n",
        "                                        #         data_source = dataset)\r\n",
        "                                         )\r\n",
        "\r\n",
        "# Load test dataset\r\n",
        "test_dataset = MNIST(\r\n",
        "    PoissonEncoder(time=time, dt=dt),\r\n",
        "    None,\r\n",
        "    root=os.path.join(\"..\", \"..\", \"data\", \"MNIST\"),\r\n",
        "    download=True,\r\n",
        "    train=False,\r\n",
        "    transform=transforms.Compose(\r\n",
        "        [transforms.ToTensor(),\r\n",
        "        transforms.Lambda(lambda x: x * intensity),\r\n",
        "        transforms.CenterCrop(crop_size)]\r\n",
        "    ),\r\n",
        ")\r\n",
        "\r\n",
        "val_loader = torch.utils.data.DataLoader(test_dataset, batch_size=1, shuffle=True,\r\n",
        "                                        #  sampler = ClassSelector(\r\n",
        "                                        #         target_classes = (2,4),\r\n",
        "                                        #         data_source = dataset)\r\n",
        "                                         )"
      ],
      "outputs": [],
      "metadata": {
        "id": "DlCXBY0DU3Mc"
      }
    },
    {
      "cell_type": "markdown",
      "source": [
        "# Evaluation Utils"
      ],
      "metadata": {
        "id": "d0hQT9ZrV-u2"
      }
    },
    {
      "cell_type": "code",
      "execution_count": 8,
      "source": [
        "def evaluate(val_loader):\r\n",
        "    correct = 0\r\n",
        "    false = 0\r\n",
        "    spikes_val = {}\r\n",
        "    for layer in set(network.layers):\r\n",
        "        spikes_val[layer] = Monitor(network.layers[layer], state_vars=[\"s\"], time=time)\r\n",
        "        network.add_monitor(spikes_val[layer], name=\"%s_spikes\" % layer)\r\n",
        "\r\n",
        "    network.train(mode=False)\r\n",
        "\r\n",
        "    for (i, datum) in enumerate(val_loader):\r\n",
        "        if i > n_val:\r\n",
        "            break\r\n",
        "\r\n",
        "        image = datum[\"encoded_image\"]\r\n",
        "        label = datum[\"label\"]\r\n",
        "\r\n",
        "        # Run the network on the input.\r\n",
        "        if gpu:\r\n",
        "            inputs = {\"input\": image.cuda().view(time, 1, 1, 20, 20)}\r\n",
        "        else:\r\n",
        "            inputs = {\"input\": image.view(time, 1, 1, 20, 20)}\r\n",
        "        network.run(inputs=inputs, time=time, **reward_kwargs, labels = label)\r\n",
        "\r\n",
        "        # Add to spikes recording.\r\n",
        "        output_spikes = spikes_val[\"output\"].get(\"s\").view(time, n_classes, neuron_per_class).sum(0)\r\n",
        "        predicted_label = torch.argmax(output_spikes.sum(1))\r\n",
        "\r\n",
        "        if predicted_label == label:\r\n",
        "            correct+=1\r\n",
        "        else:\r\n",
        "            false+=1\r\n",
        "    val_acc = 100 * correct/(correct + false)\r\n",
        "    return val_acc"
      ],
      "outputs": [],
      "metadata": {
        "id": "1y5K1O2YRDoL"
      }
    },
    {
      "cell_type": "markdown",
      "source": [
        "# Train"
      ],
      "metadata": {
        "id": "SokdidkrV2Z5"
      }
    },
    {
      "cell_type": "code",
      "execution_count": null,
      "source": [
        "# Train the network.\r\n",
        "print(\"Begin training.\\n\")\r\n",
        "\r\n",
        "correct = 0\r\n",
        "false = 0\r\n",
        "val_interval = 250\r\n",
        "spikes = {}\r\n",
        "for layer in set(network.layers):\r\n",
        "    spikes[layer] = Monitor(network.layers[layer], state_vars=[\"s\"], time=time)\r\n",
        "    network.add_monitor(spikes[layer], name=\"%s_spikes\" % layer)\r\n",
        "\r\n",
        "val_acc = 0.0\r\n",
        "\r\n",
        "pbar = tqdm(total=n_train)\r\n",
        "for (i, datum) in enumerate(dataloader):\r\n",
        "    if i > n_train:\r\n",
        "        break\r\n",
        "\r\n",
        "    image = datum[\"encoded_image\"]\r\n",
        "    label = datum[\"label\"]\r\n",
        "\r\n",
        "    # Run the network on the input.\r\n",
        "    if gpu:\r\n",
        "        inputs = {\"input\": image.cuda().view(time, 1, 1, 20, 20)}\r\n",
        "    else:\r\n",
        "        inputs = {\"input\": image.view(time, 1, 1, 20, 20)}\r\n",
        "    network.run(inputs=inputs, time=time, **reward_kwargs, labels = label)\r\n",
        "\r\n",
        "    # Get voltage recording.\r\n",
        "    main_voltage = main_monitor.get(\"v\")\r\n",
        "    out_voltage = output_monitor.get(\"v\")\r\n",
        "    reward_history = reward_monitor.get()\r\n",
        "\r\n",
        "    print('got monitors')\r\n",
        "    break\r\n",
        "\r\n",
        "    # Add to spikes recording.\r\n",
        "    output_spikes = spikes[\"output\"].get(\"s\").view(time, n_classes, neuron_per_class).sum(0)\r\n",
        "    predicted_label = torch.argmax(output_spikes.sum(1))\r\n",
        "\r\n",
        "    print(\"\\routput\", output_spikes.sum(1), 'predicted_label:', predicted_label.item(), 'GT:', label.item(), end = '')\r\n",
        "    # print('main', spikes[\"main\"].get(\"s\").sum(0).sum(1))\r\n",
        "    # print(\"input\", spikes[\"input\"].get(\"s\").sum(0).sum(1))\r\n",
        "    if  i % val_interval == 0 and i!=0:\r\n",
        "        if i != n_train:\r\n",
        "            correct = 0\r\n",
        "            false = 0\r\n",
        "        val_acc = evaluate(val_loader)\r\n",
        "\r\n",
        "    if predicted_label == label:\r\n",
        "        correct+=1\r\n",
        "    else:\r\n",
        "        false+=1\r\n",
        "        \r\n",
        "    acc = 100 * correct/(correct + false)\r\n",
        "    # network.reset_state_variables()  # Reset state variables.\r\n",
        "    \r\n",
        "    pbar.set_description_str(\"Running accuracy: \" + \"{:.2f}\".format(acc) + \"%, \" + \"Current val accuracy: \" + \"{:.2f}\".format(val_acc) + \"%, \")\r\n",
        "    pbar.update()"
      ],
      "outputs": [],
      "metadata": {
        "id": "Gk3H-hrdPLIU",
        "colab": {
          "base_uri": "https://localhost:8080/",
          "height": 474,
          "referenced_widgets": [
            "6cbc1e82af70447899e6649ef943cba5",
            "0af4ef28a0ff493f89d567d585df99bd",
            "c71115be466c43a0984137cb3541a80e",
            "84c03f924cfb4ad1b8c708e29edfa9a6",
            "1cfd7184cfd844eb9e427b4b2dc86cd9",
            "8efdd3f63f5d4310ab93693657dfc39a",
            "664abd142ff041fda193a3ee2d9cc6b0",
            "fd3034b40d9a4e0188134bf73ee53f2f",
            "d0be96bfe9e041538e1850ba391adb22",
            "9126800d747f4a12a45b95dc5cae05f3",
            "a9db993eba894d5c8360638990289159"
          ]
        },
        "outputId": "d392d06d-935e-4124-c510-fe2f70aa9101"
      }
    },
    {
      "cell_type": "code",
      "execution_count": 10,
      "source": [
        "output_spikes = spikes[\"output\"].get(\"s\").view(time, n_classes, neuron_per_class).sum(0)\r\n",
        "predicted_label = torch.argmax(output_spikes.sum(1))\r\n",
        "print(\"\\routput\", output_spikes.sum(1), 'predicted_label:', predicted_label.item(), 'GT:', label.item(), end = '')\r\n",
        "reward_history"
      ],
      "outputs": [
        {
          "output_type": "stream",
          "name": "stdout",
          "text": [
            "output tensor([304, 300, 305, 298, 304, 305, 302, 307, 303, 303]) predicted_label: 7 GT: 3"
          ]
        }
      ],
      "metadata": {}
    },
    {
      "cell_type": "markdown",
      "source": [
        "# Kernel "
      ],
      "metadata": {
        "id": "R_YGE1XjvIkZ"
      }
    },
    {
      "cell_type": "code",
      "execution_count": null,
      "source": [
        "from abc import ABC, abstractmethod\r\n",
        "from typing import Union, Tuple, Optional, Sequence\r\n",
        "from torch.nn.modules.utils import _pair"
      ],
      "outputs": [],
      "metadata": {
        "id": "dzaRZ3jNwxpE"
      }
    },
    {
      "cell_type": "code",
      "execution_count": null,
      "source": [
        "class AbstractKernel(ABC):\r\n",
        "\tr\"\"\"Base class for generating image filter kernels such as Gabor, DoG, etc. Each subclass should override :attr:`__call__` function.\r\n",
        "\t\"\"\"\r\n",
        "\tdef __init__(self, kernel_size: Union[int, Tuple[int, int]]):\r\n",
        "    \"\"\"\r\n",
        "    Instantiates a ``Filter Kernel`` object.\r\n",
        "\r\n",
        "    :param kernel_size: Horizontal and vertical size of convolutional kernels.\r\n",
        "    \"\"\"\r\n",
        "\t\tself.kernel_size = _pair(kenel_size)\r\n",
        "\r\n",
        "\tdef __call__(self):\r\n",
        "\t\tpass\r\n"
      ],
      "outputs": [],
      "metadata": {
        "id": "-4hp2V46vOUv"
      }
    },
    {
      "cell_type": "code",
      "execution_count": null,
      "source": [
        "class DoG_Kernel(AbstractKernel):\r\n",
        "\tr\"\"\"Generates DoG filter kernels.\r\n",
        "\t\"\"\"\r\n",
        "\tdef __init__(self, \r\n",
        "                 kernel_size: Union[int, Tuple[int, int]], \r\n",
        "                 sigma1 : float,\r\n",
        "                 sigma2 : float):\r\n",
        "        \"\"\"\r\n",
        "\t\t:param kernel_size: Horizontal and vertical size of DOG kernels.(If pass int, we consider it as a square filter) \r\n",
        "\t\t:param sigma1 : The sigma parameter for the first Gaussian function.\r\n",
        "\t\t:param sigma2 : The sigma parameter for the second Gaussian function.\r\n",
        "\t\t\"\"\"\r\n",
        "        super(DoG_Kernel, self).__init__(kernel_size)\r\n",
        "\t\tself.sigma1 = sigma1\r\n",
        "\t\tself.sigma2 = sigma2\r\n",
        "\r\n",
        "\t# returns a 2d tensor corresponding to the requested DoG filter\r\n",
        "\tdef __call__(self):\r\n",
        "\t\tk = self.kernel_size//2\r\n",
        "\t\tx, y = np.mgrid[-k:k+1:1, -k:k+1:1]\r\n",
        "\t\ta = 1.0 / (2 * math.pi)\r\n",
        "\t\tprod = x*x + y*y\r\n",
        "\t\tf1 = (1/(self.sigma1*self.sigma1)) * np.exp(-0.5 * (1/(self.sigma1*self.sigma1)) * (prod))\r\n",
        "\t\tf2 = (1/(self.sigma2*self.sigma2)) * np.exp(-0.5 * (1/(self.sigma2*self.sigma2)) * (prod))\r\n",
        "\t\tdog = a * (f1-f2)\r\n",
        "\t\tdog_mean = np.mean(dog)\r\n",
        "\t\tdog = dog - dog_mean\r\n",
        "\t\tdog_max = np.max(dog)\r\n",
        "\t\tdog = dog / dog_max\r\n",
        "\t\tdog_tensor = torch.from_numpy(dog)\r\n",
        "\t\treturn dog_tensor.float()"
      ],
      "outputs": [],
      "metadata": {
        "id": "PL2L6_ABwBH4"
      }
    },
    {
      "cell_type": "code",
      "execution_count": null,
      "source": [],
      "outputs": [],
      "metadata": {
        "id": "gD0kdZthzUr3"
      }
    }
  ]
}