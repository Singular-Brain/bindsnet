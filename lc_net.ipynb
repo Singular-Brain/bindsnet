{
  "nbformat": 4,
  "nbformat_minor": 0,
  "metadata": {
    "colab": {
      "name": "Copy of lc_net",
      "provenance": [],
      "collapsed_sections": [],
      "machine_shape": "hm",
      "include_colab_link": true
    },
    "kernelspec": {
      "name": "python3",
      "display_name": "Python 3.8.5 64-bit ('base': conda)"
    },
    "language_info": {
      "name": "python",
      "version": "3.8.5",
      "mimetype": "text/x-python",
      "codemirror_mode": {
        "name": "ipython",
        "version": 3
      },
      "pygments_lexer": "ipython3",
      "nbconvert_exporter": "python",
      "file_extension": ".py"
    },
    "accelerator": "GPU",
    "widgets": {
      "application/vnd.jupyter.widget-state+json": {
        "49b9837e6e01423e83d38bb2662cfccc": {
          "model_module": "@jupyter-widgets/controls",
          "model_name": "HBoxModel",
          "state": {
            "_view_name": "HBoxView",
            "_dom_classes": [],
            "_model_name": "HBoxModel",
            "_view_module": "@jupyter-widgets/controls",
            "_model_module_version": "1.5.0",
            "_view_count": null,
            "_view_module_version": "1.5.0",
            "box_style": "",
            "layout": "IPY_MODEL_baac3049770046efb89b5406d3074fce",
            "_model_module": "@jupyter-widgets/controls",
            "children": [
              "IPY_MODEL_b0aaf3dc1000428cb3c137c86dcb62e0",
              "IPY_MODEL_c5454cb3215a4bf388d2de0e676c667c",
              "IPY_MODEL_487c50d907ea4ebda4d82ef1ddc4de7a"
            ]
          }
        },
        "baac3049770046efb89b5406d3074fce": {
          "model_module": "@jupyter-widgets/base",
          "model_name": "LayoutModel",
          "state": {
            "_view_name": "LayoutView",
            "grid_template_rows": null,
            "right": null,
            "justify_content": null,
            "_view_module": "@jupyter-widgets/base",
            "overflow": null,
            "_model_module_version": "1.2.0",
            "_view_count": null,
            "flex_flow": null,
            "width": null,
            "min_width": null,
            "border": null,
            "align_items": null,
            "bottom": null,
            "_model_module": "@jupyter-widgets/base",
            "top": null,
            "grid_column": null,
            "overflow_y": null,
            "overflow_x": null,
            "grid_auto_flow": null,
            "grid_area": null,
            "grid_template_columns": null,
            "flex": null,
            "_model_name": "LayoutModel",
            "justify_items": null,
            "grid_row": null,
            "max_height": null,
            "align_content": null,
            "visibility": null,
            "align_self": null,
            "height": null,
            "min_height": null,
            "padding": null,
            "grid_auto_rows": null,
            "grid_gap": null,
            "max_width": null,
            "order": null,
            "_view_module_version": "1.2.0",
            "grid_template_areas": null,
            "object_position": null,
            "object_fit": null,
            "grid_auto_columns": null,
            "margin": null,
            "display": null,
            "left": null
          }
        },
        "b0aaf3dc1000428cb3c137c86dcb62e0": {
          "model_module": "@jupyter-widgets/controls",
          "model_name": "HTMLModel",
          "state": {
            "_view_name": "HTMLView",
            "style": "IPY_MODEL_e84e555533a2485d87d6e70aed6475be",
            "_dom_classes": [],
            "description": "",
            "_model_name": "HTMLModel",
            "placeholder": "​",
            "_view_module": "@jupyter-widgets/controls",
            "_model_module_version": "1.5.0",
            "value": "Running accuracy: 21.43%, Current val accuracy: 0.00%, :   1%",
            "_view_count": null,
            "_view_module_version": "1.5.0",
            "description_tooltip": null,
            "_model_module": "@jupyter-widgets/controls",
            "layout": "IPY_MODEL_f4b6eb8871504660bccb32ed1d7a3695"
          }
        },
        "c5454cb3215a4bf388d2de0e676c667c": {
          "model_module": "@jupyter-widgets/controls",
          "model_name": "FloatProgressModel",
          "state": {
            "_view_name": "ProgressView",
            "style": "IPY_MODEL_8a6c5973982140119aa99a6fa05f9b89",
            "_dom_classes": [],
            "description": "",
            "_model_name": "FloatProgressModel",
            "bar_style": "",
            "max": 5000,
            "_view_module": "@jupyter-widgets/controls",
            "_model_module_version": "1.5.0",
            "value": 70,
            "_view_count": null,
            "_view_module_version": "1.5.0",
            "orientation": "horizontal",
            "min": 0,
            "description_tooltip": null,
            "_model_module": "@jupyter-widgets/controls",
            "layout": "IPY_MODEL_bb924901f97f4b9f85d68e2ca02c00c1"
          }
        },
        "487c50d907ea4ebda4d82ef1ddc4de7a": {
          "model_module": "@jupyter-widgets/controls",
          "model_name": "HTMLModel",
          "state": {
            "_view_name": "HTMLView",
            "style": "IPY_MODEL_c6749c3143454ab5bae4c5aabfb33f00",
            "_dom_classes": [],
            "description": "",
            "_model_name": "HTMLModel",
            "placeholder": "​",
            "_view_module": "@jupyter-widgets/controls",
            "_model_module_version": "1.5.0",
            "value": " 70/5000 [00:39&lt;47:43,  1.72it/s]",
            "_view_count": null,
            "_view_module_version": "1.5.0",
            "description_tooltip": null,
            "_model_module": "@jupyter-widgets/controls",
            "layout": "IPY_MODEL_9259f8e9c6dd41a3939186b8d58494a4"
          }
        },
        "e84e555533a2485d87d6e70aed6475be": {
          "model_module": "@jupyter-widgets/controls",
          "model_name": "DescriptionStyleModel",
          "state": {
            "_view_name": "StyleView",
            "_model_name": "DescriptionStyleModel",
            "description_width": "",
            "_view_module": "@jupyter-widgets/base",
            "_model_module_version": "1.5.0",
            "_view_count": null,
            "_view_module_version": "1.2.0",
            "_model_module": "@jupyter-widgets/controls"
          }
        },
        "f4b6eb8871504660bccb32ed1d7a3695": {
          "model_module": "@jupyter-widgets/base",
          "model_name": "LayoutModel",
          "state": {
            "_view_name": "LayoutView",
            "grid_template_rows": null,
            "right": null,
            "justify_content": null,
            "_view_module": "@jupyter-widgets/base",
            "overflow": null,
            "_model_module_version": "1.2.0",
            "_view_count": null,
            "flex_flow": null,
            "width": null,
            "min_width": null,
            "border": null,
            "align_items": null,
            "bottom": null,
            "_model_module": "@jupyter-widgets/base",
            "top": null,
            "grid_column": null,
            "overflow_y": null,
            "overflow_x": null,
            "grid_auto_flow": null,
            "grid_area": null,
            "grid_template_columns": null,
            "flex": null,
            "_model_name": "LayoutModel",
            "justify_items": null,
            "grid_row": null,
            "max_height": null,
            "align_content": null,
            "visibility": null,
            "align_self": null,
            "height": null,
            "min_height": null,
            "padding": null,
            "grid_auto_rows": null,
            "grid_gap": null,
            "max_width": null,
            "order": null,
            "_view_module_version": "1.2.0",
            "grid_template_areas": null,
            "object_position": null,
            "object_fit": null,
            "grid_auto_columns": null,
            "margin": null,
            "display": null,
            "left": null
          }
        },
        "8a6c5973982140119aa99a6fa05f9b89": {
          "model_module": "@jupyter-widgets/controls",
          "model_name": "ProgressStyleModel",
          "state": {
            "_view_name": "StyleView",
            "_model_name": "ProgressStyleModel",
            "description_width": "",
            "_view_module": "@jupyter-widgets/base",
            "_model_module_version": "1.5.0",
            "_view_count": null,
            "_view_module_version": "1.2.0",
            "bar_color": null,
            "_model_module": "@jupyter-widgets/controls"
          }
        },
        "bb924901f97f4b9f85d68e2ca02c00c1": {
          "model_module": "@jupyter-widgets/base",
          "model_name": "LayoutModel",
          "state": {
            "_view_name": "LayoutView",
            "grid_template_rows": null,
            "right": null,
            "justify_content": null,
            "_view_module": "@jupyter-widgets/base",
            "overflow": null,
            "_model_module_version": "1.2.0",
            "_view_count": null,
            "flex_flow": null,
            "width": null,
            "min_width": null,
            "border": null,
            "align_items": null,
            "bottom": null,
            "_model_module": "@jupyter-widgets/base",
            "top": null,
            "grid_column": null,
            "overflow_y": null,
            "overflow_x": null,
            "grid_auto_flow": null,
            "grid_area": null,
            "grid_template_columns": null,
            "flex": null,
            "_model_name": "LayoutModel",
            "justify_items": null,
            "grid_row": null,
            "max_height": null,
            "align_content": null,
            "visibility": null,
            "align_self": null,
            "height": null,
            "min_height": null,
            "padding": null,
            "grid_auto_rows": null,
            "grid_gap": null,
            "max_width": null,
            "order": null,
            "_view_module_version": "1.2.0",
            "grid_template_areas": null,
            "object_position": null,
            "object_fit": null,
            "grid_auto_columns": null,
            "margin": null,
            "display": null,
            "left": null
          }
        },
        "c6749c3143454ab5bae4c5aabfb33f00": {
          "model_module": "@jupyter-widgets/controls",
          "model_name": "DescriptionStyleModel",
          "state": {
            "_view_name": "StyleView",
            "_model_name": "DescriptionStyleModel",
            "description_width": "",
            "_view_module": "@jupyter-widgets/base",
            "_model_module_version": "1.5.0",
            "_view_count": null,
            "_view_module_version": "1.2.0",
            "_model_module": "@jupyter-widgets/controls"
          }
        },
        "9259f8e9c6dd41a3939186b8d58494a4": {
          "model_module": "@jupyter-widgets/base",
          "model_name": "LayoutModel",
          "state": {
            "_view_name": "LayoutView",
            "grid_template_rows": null,
            "right": null,
            "justify_content": null,
            "_view_module": "@jupyter-widgets/base",
            "overflow": null,
            "_model_module_version": "1.2.0",
            "_view_count": null,
            "flex_flow": null,
            "width": null,
            "min_width": null,
            "border": null,
            "align_items": null,
            "bottom": null,
            "_model_module": "@jupyter-widgets/base",
            "top": null,
            "grid_column": null,
            "overflow_y": null,
            "overflow_x": null,
            "grid_auto_flow": null,
            "grid_area": null,
            "grid_template_columns": null,
            "flex": null,
            "_model_name": "LayoutModel",
            "justify_items": null,
            "grid_row": null,
            "max_height": null,
            "align_content": null,
            "visibility": null,
            "align_self": null,
            "height": null,
            "min_height": null,
            "padding": null,
            "grid_auto_rows": null,
            "grid_gap": null,
            "max_width": null,
            "order": null,
            "_view_module_version": "1.2.0",
            "grid_template_areas": null,
            "object_position": null,
            "object_fit": null,
            "grid_auto_columns": null,
            "margin": null,
            "display": null,
            "left": null
          }
        }
      }
    },
    "interpreter": {
      "hash": "8b51a6187922e1c805af8ddd20d0a4091ecd17bebcd7deb5956ab101caf2f88f"
    }
  },
  "cells": [
    {
      "cell_type": "markdown",
      "metadata": {
        "id": "view-in-github",
        "colab_type": "text"
      },
      "source": [
        "<a href=\"https://colab.research.google.com/github/Singular-Brain/bindsnet/blob/master/lc_net.ipynb\" target=\"_parent\"><img src=\"https://colab.research.google.com/assets/colab-badge.svg\" alt=\"Open In Colab\"/></a>"
      ]
    },
    {
      "cell_type": "markdown",
      "metadata": {
        "id": "7fTSvrK3T_GA"
      },
      "source": [
        "#Notebook setups"
      ]
    },
    {
      "cell_type": "code",
      "metadata": {
        "id": "lXtgP_iEPE0G"
      },
      "source": [
        "!pip install -q git+https://github.com/Singular-Brain/bindsnet"
      ],
      "execution_count": 15,
      "outputs": []
    },
    {
      "cell_type": "code",
      "metadata": {
        "colab": {
          "base_uri": "https://localhost:8080/"
        },
        "id": "OW7m3ugEHZP_",
        "outputId": "cba719f4-cde0-4d3e-b3c0-7560fd2609b2"
      },
      "source": [
        "!wget https://data.deepai.org/mnist.zip\n",
        "!mkdir -p ../data/MNIST/TorchvisionDatasetWrapper/raw\n",
        "!unzip mnist.zip -d ../data/MNIST/TorchvisionDatasetWrapper/raw/"
      ],
      "execution_count": 16,
      "outputs": [
        {
          "output_type": "stream",
          "text": [
            "--2021-07-31 20:02:05--  https://data.deepai.org/mnist.zip\n",
            "Resolving data.deepai.org (data.deepai.org)... 138.201.36.183\n",
            "Connecting to data.deepai.org (data.deepai.org)|138.201.36.183|:443... connected.\n",
            "HTTP request sent, awaiting response... 200 OK\n",
            "Length: 11597176 (11M) [application/x-zip-compressed]\n",
            "Saving to: ‘mnist.zip.2’\n",
            "\n",
            "mnist.zip.2         100%[===================>]  11.06M  8.01MB/s    in 1.4s    \n",
            "\n",
            "2021-07-31 20:02:07 (8.01 MB/s) - ‘mnist.zip.2’ saved [11597176/11597176]\n",
            "\n",
            "Archive:  mnist.zip\n",
            "replace ../data/MNIST/TorchvisionDatasetWrapper/raw/train-labels-idx1-ubyte.gz? [y]es, [n]o, [A]ll, [N]one, [r]ename: N\n"
          ],
          "name": "stdout"
        }
      ]
    },
    {
      "cell_type": "code",
      "metadata": {
        "id": "BFGNAecpT-Lj"
      },
      "source": [
        "from bindsnet.network.nodes import Nodes\n",
        "import os\n",
        "import torch\n",
        "import torchvision\n",
        "import numpy as np\n",
        "import argparse\n",
        "import matplotlib.pyplot as plt\n",
        "\n",
        "from torchvision import transforms\n",
        "from tqdm.notebook import tqdm\n",
        "\n",
        "from bindsnet.datasets import MNIST\n",
        "from bindsnet.encoding import PoissonEncoder\n",
        "from bindsnet.network import Network\n",
        "from bindsnet.network.nodes import Input, LIFNodes, AdaptiveLIFNodes\n",
        "from bindsnet.network.topology import LocalConnection, Connection\n",
        "from bindsnet.network.monitors import Monitor, AbstractMonitor\n",
        "from bindsnet.learning import PostPre, MSTDP, MSTDPET \n",
        "from bindsnet.learning.reward import DynamicDopamineInjection\n",
        "from bindsnet.utils import get_square_assignments, get_square_weights\n",
        "from bindsnet.evaluation import all_activity, proportion_weighting, assign_labels\n",
        "from bindsnet.analysis.plotting import (\n",
        "    plot_input,\n",
        "    plot_assignments,\n",
        "    plot_performance,\n",
        "    plot_weights,\n",
        "    plot_spikes,\n",
        "    plot_voltages,\n",
        ")"
      ],
      "execution_count": 17,
      "outputs": []
    },
    {
      "cell_type": "markdown",
      "metadata": {
        "id": "kCqAFucAUDb8"
      },
      "source": [
        "## Set up hyper-parameters"
      ]
    },
    {
      "cell_type": "code",
      "metadata": {
        "id": "0YacX9jrUHj4"
      },
      "source": [
        "n_neurons = 100\n",
        "n_train = 5000\n",
        "n_test = 300\n",
        "n_val = 200\n",
        "theta_plus = 0.05\n",
        "time = 250\n",
        "dt = 1\n",
        "intensity = 128\n",
        "train = True\n",
        "gpu = True\n",
        "device_id = 0\n",
        "n_classes = 10\n",
        "neuron_per_class = 10\n",
        "seed = 2045 # The Singularity is Near!\n",
        "\n",
        "reward_kwargs = {\n",
        "    'dopaminergic_layer': 'output', \n",
        "    'n_labels': n_classes,\n",
        "    'neuron_per_class': neuron_per_class,\n",
        "    'dopamine_per_spike': 0.2, \n",
        "    'tc_reward': 20,\n",
        "    'dopamine_base': 0.02,\n",
        "}"
      ],
      "execution_count": 11,
      "outputs": []
    },
    {
      "cell_type": "markdown",
      "metadata": {
        "id": "ULGGHW43UksI"
      },
      "source": [
        "## Sets up Gpu use\n"
      ]
    },
    {
      "cell_type": "code",
      "metadata": {
        "id": "LiUmFrpcUfmR",
        "colab": {
          "base_uri": "https://localhost:8080/"
        },
        "outputId": "b64081d1-b01c-486a-8bf6-94aafbbfa14c"
      },
      "source": [
        "device = torch.device(\"cuda\" if torch.cuda.is_available() else \"cpu\")\n",
        "if gpu and torch.cuda.is_available():\n",
        "    torch.cuda.manual_seed_all(seed)\n",
        "else:\n",
        "    torch.manual_seed(seed)\n",
        "    device = \"cpu\"\n",
        "    if gpu:\n",
        "        gpu = False\n",
        "\n",
        "torch.set_num_threads(os.cpu_count() - 1)\n",
        "print(\"Running on Device = \", device)\n",
        "\n",
        "if not train:\n",
        "    update_interval = n_test"
      ],
      "execution_count": 12,
      "outputs": [
        {
          "output_type": "stream",
          "text": [
            "Running on Device =  cuda\n"
          ],
          "name": "stdout"
        }
      ]
    },
    {
      "cell_type": "markdown",
      "metadata": {
        "id": "nL0giSqUUvz6"
      },
      "source": [
        "# Design network"
      ]
    },
    {
      "cell_type": "markdown",
      "metadata": {
        "id": "MBKedMpIleMr"
      },
      "source": [
        "## Reward Monitor"
      ]
    },
    {
      "cell_type": "code",
      "metadata": {
        "id": "M44GJ65GleMs"
      },
      "source": [
        "class RewardMonitor(AbstractMonitor):\n",
        "    # language=rst\n",
        "    \"\"\"\n",
        "    Records state variables of interest.\n",
        "    \"\"\"\n",
        "\n",
        "    def __init__(\n",
        "        self,\n",
        "        time: None,\n",
        "        batch_size: int = 1,\n",
        "        device: str = \"cpu\",\n",
        "    ):\n",
        "        # language=rst\n",
        "        \"\"\"\n",
        "        Constructs a ``Monitor`` object.\n",
        "\n",
        "        :param obj: An object to record state variables from during network simulation.\n",
        "        :param state_vars: Iterable of strings indicating names of state variables to record.\n",
        "        :param time: If not ``None``, pre-allocate memory for state variable recording.\n",
        "        :param device: Allow the monitor to be on different device separate from Network device\n",
        "        \"\"\"\n",
        "        super().__init__()\n",
        "\n",
        "        self.time = time\n",
        "        self.batch_size = batch_size\n",
        "        self.device = device\n",
        "\n",
        "        # if time is not specified the monitor variable accumulate the logs\n",
        "        if self.time is None:\n",
        "            self.device = \"cpu\"\n",
        "\n",
        "        self.recording = []\n",
        "        self.reset_state_variables()\n",
        "\n",
        "    def get(self,) -> torch.Tensor:\n",
        "        # language=rst\n",
        "        \"\"\"\n",
        "        Return recording to user.\n",
        "\n",
        "        :return: Tensor of shape ``[time, n_1, ..., n_k]``, where ``[n_1, ..., n_k]`` is the shape of the recorded state\n",
        "        variable.\n",
        "        Note, if time == `None`, get return the logs and empty the monitor variable\n",
        "\n",
        "        \"\"\"\n",
        "        # return_logs = torch.as_tensor(self.recording)\n",
        "        # if self.time is None:\n",
        "        #     self.recording = []\n",
        "        return self.recording\n",
        "\n",
        "    def record(self, **kwargs) -> None:\n",
        "        # language=rst\n",
        "        \"\"\"\n",
        "        Appends the current value of the recorded state variables to the recording.\n",
        "        \"\"\"\n",
        "        self.recording.append(kwargs[\"reward\"])\n",
        "        # remove the oldest element (first in the list)\n",
        "        # if self.time is not None:\n",
        "        #     self.recording.pop(0)\n",
        "\n",
        "    def reset_state_variables(self) -> None:\n",
        "        # language=rst\n",
        "        \"\"\"\n",
        "        Resets recordings to empty ``List``s.\n",
        "        \"\"\"\n",
        "        self.recording = []\n"
      ],
      "execution_count": 13,
      "outputs": []
    },
    {
      "cell_type": "code",
      "metadata": {
        "id": "dK1-BrFEO_1q"
      },
      "source": [
        "C = 50\n",
        "K = 16\n",
        "S = 4\n",
        "crop_size = 20\n",
        "theta_plus = 0.05   ## Adaptive LIF\n",
        "inh_factor = 0.5\n",
        "wmin = -1.0\n",
        "wmax = 1.0\n",
        "\n",
        "compute_size = lambda inp_size, k, s: int((inp_size-k)/s) + 1\n",
        "\n",
        "### Reward function\n",
        "reward_fn = DynamicDopamineInjection\n",
        "network = Network(dt = 1, reward_fn = reward_fn)\n",
        "\n",
        "### nodes\n",
        "inp = Input(shape= [1,20,20], traces=True)\n",
        "\n",
        "main = AdaptiveLIFNodes(shape= [C, compute_size(20, K, S), compute_size(20, K, S)], traces=True, tc_trace=20, theta_plus=theta_plus)\n",
        "#main = LIFNodes(shape= [C, compute_size(20, K, S), compute_size(20, K, S)], traces=True)\n",
        "\n",
        "# TODO: Diehl & Cook 2015 (v2) \n",
        "out = AdaptiveLIFNodes(n= 100, traces=True, tc_trace=20, theta_plus=theta_plus)\n",
        "\n",
        "### connections \n",
        "LC = LocalConnection(inp, main, K, S, C, nu = [1e-2, 1e-4], update_rule = MSTDPET, wmin = wmin, wmax= wmax)\n",
        "#LC.w = torch.nn.init.xavier_normal_(LC.w, gain=1.0)\n",
        "\n",
        "main_out = Connection(main, out, nu = [1e-2, 1e-4], update_rule = MSTDPET, wmin = wmin, wmax= wmax)\n",
        "#main_out.w = torch.nn.init.xavier_normal_(main_out.w, gain=1.0)\n",
        "\n",
        "\n",
        "w = -inh_factor * torch.ones(out.n, out.n)\n",
        "for c in range(n_classes):\n",
        "    ind = slice(c*neuron_per_class,(c+1)*neuron_per_class)\n",
        "    w[ind, ind] = 0\n",
        "\n",
        "\n",
        "out_recurrent_inhibition = Connection(\n",
        "    source=out,\n",
        "    target=out,\n",
        "    w=w,\n",
        "    wmin=-inh_factor,\n",
        "    wmax=0,\n",
        "    nu = 1e-4,\n",
        ")\n",
        "\n",
        "network.add_layer(main, \"main\")\n",
        "network.add_layer(inp, \"input\")\n",
        "network.add_layer(out, \"output\")\n",
        "network.add_connection(LC, \"input\", \"main\")\n",
        "network.add_connection(main_out, \"main\", \"output\")\n",
        "network.add_connection(out_recurrent_inhibition, \"output\", \"output\")\n",
        "\n",
        "# Directs network to GPU\n",
        "if gpu:\n",
        "    network.to(\"cuda\")\n",
        "\n",
        "# Voltage recording for excitatory and inhibitory layers.\n",
        "main_monitor = Monitor(network.layers[\"main\"], [\"v\"], time=time, device=device)\n",
        "output_monitor = Monitor(network.layers[\"output\"], [\"v\"], time=time, device=device)\n",
        "reward_monitor = RewardMonitor(time =time)\n",
        "network.add_monitor(main_monitor, name=\"main\")\n",
        "network.add_monitor(output_monitor, name=\"output\")\n",
        "network.add_monitor(reward_monitor, name=\"reward\")\n",
        "\n"
      ],
      "execution_count": 14,
      "outputs": []
    },
    {
      "cell_type": "markdown",
      "metadata": {
        "id": "6zuUBU9pU3vE"
      },
      "source": [
        "# Load Dataset"
      ]
    },
    {
      "cell_type": "code",
      "metadata": {
        "id": "yxyv47dyKUJg",
        "outputId": "ecbcbfeb-9245-4f48-d1f0-9b45a1f5edee",
        "colab": {
          "base_uri": "https://localhost:8080/"
        }
      },
      "source": [
        "!git clone https://github.com/Singular-Brain/bindsnet/"
      ],
      "execution_count": 19,
      "outputs": [
        {
          "output_type": "stream",
          "text": [
            "Cloning into 'bindsnet'...\n",
            "remote: Enumerating objects: 9071, done.\u001b[K\n",
            "remote: Counting objects: 100% (31/31), done.\u001b[K\n",
            "remote: Compressing objects: 100% (23/23), done.\u001b[K\n",
            "remote: Total 9071 (delta 13), reused 21 (delta 7), pack-reused 9040\u001b[K\n",
            "Receiving objects: 100% (9071/9071), 39.81 MiB | 32.35 MiB/s, done.\n",
            "Resolving deltas: 100% (5739/5739), done.\n"
          ],
          "name": "stdout"
        }
      ]
    },
    {
      "cell_type": "code",
      "metadata": {
        "id": "8352_glFKnSS"
      },
      "source": [
        "mask = torch.from_numpy(np.load('bindsnet/mask_2_4.npz')['arr_0'])"
      ],
      "execution_count": 21,
      "outputs": []
    },
    {
      "cell_type": "code",
      "metadata": {
        "id": "2DW7dB11jdqi"
      },
      "source": [
        "class ClassSelector(torch.utils.data.sampler.Sampler):\n",
        "    \"\"\"Select target classes from the dataset\"\"\"\n",
        "    def __init__(self, target_classes, data_source, mask = None):\n",
        "        if mask is not None:\n",
        "            self.mask = mask\n",
        "        else:\n",
        "            self.mask = torch.tensor([1 if data_source[i]['label'] in target_classes else 0 for i in range(len(data_source))])\n",
        "        self.data_source = data_source\n",
        "\n",
        "    def __iter__(self):\n",
        "        return iter([i.item() for i in torch.nonzero(self.mask)])\n",
        "\n",
        "    def __len__(self):\n",
        "        return len(self.data_source)"
      ],
      "execution_count": 20,
      "outputs": []
    },
    {
      "cell_type": "code",
      "metadata": {
        "id": "DlCXBY0DU3Mc"
      },
      "source": [
        "# Load MNIST data.\n",
        "dataset = MNIST(\n",
        "    PoissonEncoder(time=time, dt=dt),\n",
        "    None,\n",
        "    root=os.path.join(\"..\", \"..\", \"data\", \"MNIST\"),\n",
        "    download=False,\n",
        "    transform=transforms.Compose(\n",
        "        [transforms.ToTensor(),\n",
        "        transforms.Lambda(lambda x: x * intensity),\n",
        "        transforms.CenterCrop(crop_size)]\n",
        "    ),\n",
        ")\n",
        "\n",
        "# Create a dataloader to iterate and batch data\n",
        "dataloader = torch.utils.data.DataLoader(dataset, batch_size=1,\n",
        "                                         sampler = ClassSelector(\n",
        "                                                target_classes = (2,4),\n",
        "                                                data_source = dataset,\n",
        "                                                mask = mask,\n",
        "                                                )\n",
        "                                         )\n",
        "\n",
        "# Load test dataset\n",
        "test_dataset = MNIST(\n",
        "    PoissonEncoder(time=time, dt=dt),\n",
        "    None,\n",
        "    root=os.path.join(\"..\", \"..\", \"data\", \"MNIST\"),\n",
        "    download=True,\n",
        "    train=False,\n",
        "    transform=transforms.Compose(\n",
        "        [transforms.ToTensor(),\n",
        "        transforms.Lambda(lambda x: x * intensity),\n",
        "        transforms.CenterCrop(crop_size)]\n",
        "    ),\n",
        ")\n",
        "\n",
        "val_loader = torch.utils.data.DataLoader(test_dataset, batch_size=1,\n",
        "                                         sampler = ClassSelector(\n",
        "                                                target_classes = (2,4),\n",
        "                                                data_source = dataset,\n",
        "                                                mask = mask,\n",
        "                                                )\n",
        "                                         )"
      ],
      "execution_count": 23,
      "outputs": []
    },
    {
      "cell_type": "markdown",
      "metadata": {
        "id": "d0hQT9ZrV-u2"
      },
      "source": [
        "# Evaluation Utils"
      ]
    },
    {
      "cell_type": "code",
      "metadata": {
        "id": "1y5K1O2YRDoL"
      },
      "source": [
        "def evaluate(network, val_loader):\n",
        "    correct = 0\n",
        "    false = 0\n",
        "    spikes_val = {}\n",
        "    for layer in set(network.layers):\n",
        "        spikes_val[layer] = Monitor(network.layers[layer], state_vars=[\"s\"], time=time)\n",
        "        network.add_monitor(spikes_val[layer], name=\"%s_spikes\" % layer)\n",
        "\n",
        "    network.train(False)\n",
        "\n",
        "    for (i, datum) in enumerate(val_loader):\n",
        "        if i > n_val:\n",
        "            break\n",
        "\n",
        "        image = datum[\"encoded_image\"]\n",
        "        label = datum[\"label\"]\n",
        "\n",
        "        # Run the network on the input.\n",
        "        if gpu:\n",
        "            inputs = {\"input\": image.cuda().view(time, 1, 1, 20, 20)}\n",
        "        else:\n",
        "            inputs = {\"input\": image.view(time, 1, 1, 20, 20)}\n",
        "        network.run(inputs=inputs, time=time, **reward_kwargs, labels=label)\n",
        "\n",
        "        # Add to spikes recording.\n",
        "        output_spikes = spikes_val[\"output\"].get(\"s\").view(time, n_classes, neuron_per_class).sum(0)\n",
        "        predicted_label = torch.argmax(output_spikes.sum(1))\n",
        "\n",
        "        if predicted_label == label:\n",
        "            correct+=1\n",
        "        else:\n",
        "            false+=1\n",
        "    val_acc = 100 * correct/(correct + false)\n",
        "    return val_acc"
      ],
      "execution_count": 24,
      "outputs": []
    },
    {
      "cell_type": "markdown",
      "metadata": {
        "id": "SokdidkrV2Z5"
      },
      "source": [
        "# Train"
      ]
    },
    {
      "cell_type": "code",
      "metadata": {
        "id": "Gk3H-hrdPLIU",
        "colab": {
          "base_uri": "https://localhost:8080/",
          "height": 439,
          "referenced_widgets": [
            "49b9837e6e01423e83d38bb2662cfccc",
            "baac3049770046efb89b5406d3074fce",
            "b0aaf3dc1000428cb3c137c86dcb62e0",
            "c5454cb3215a4bf388d2de0e676c667c",
            "487c50d907ea4ebda4d82ef1ddc4de7a",
            "e84e555533a2485d87d6e70aed6475be",
            "f4b6eb8871504660bccb32ed1d7a3695",
            "8a6c5973982140119aa99a6fa05f9b89",
            "bb924901f97f4b9f85d68e2ca02c00c1",
            "c6749c3143454ab5bae4c5aabfb33f00",
            "9259f8e9c6dd41a3939186b8d58494a4"
          ]
        },
        "outputId": "0b061c11-498d-453d-f38d-291ea4f9d00b"
      },
      "source": [
        "# Train the network.\n",
        "print(\"Begin training.\\n\")\n",
        "\n",
        "correct = 0\n",
        "false = 0\n",
        "val_interval = 250\n",
        "spikes = {}\n",
        "for layer in set(network.layers):\n",
        "    spikes[layer] = Monitor(network.layers[layer], state_vars=[\"s\"], time=time)\n",
        "    network.add_monitor(spikes[layer], name=\"%s_spikes\" % layer)\n",
        "\n",
        "val_acc = 0.0\n",
        "\n",
        "reward_history = []\n",
        "pbar = tqdm(total=n_train)\n",
        "for (i, datum) in enumerate(dataloader):\n",
        "    if i > n_train:\n",
        "        break\n",
        "\n",
        "    image = datum[\"encoded_image\"]\n",
        "    label = datum[\"label\"]\n",
        "\n",
        "    # Run the network on the input.\n",
        "    if gpu:\n",
        "        inputs = {\"input\": image.cuda().view(time, 1, 1, 20, 20)}\n",
        "    else:\n",
        "        inputs = {\"input\": image.view(time, 1, 1, 20, 20)}\n",
        "    network.run(inputs=inputs, time=time, **reward_kwargs, labels = label)\n",
        "\n",
        "    # Get voltage recording.\n",
        "    main_voltage = main_monitor.get(\"v\")\n",
        "    out_voltage = output_monitor.get(\"v\")\n",
        "    reward_history.append(reward_monitor.get())\n",
        "\n",
        "    # Add to spikes recording.\n",
        "    output_spikes = spikes[\"output\"].get(\"s\").view(time, n_classes, neuron_per_class).sum(0)\n",
        "    predicted_label = torch.argmax(output_spikes.sum(1))\n",
        "\n",
        "    print(\"\\routput\", output_spikes.sum(1), 'predicted_label:', predicted_label.item(), 'GT:', label.item(), end = '')\n",
        "    # print('main', spikes[\"main\"].get(\"s\").sum(0).sum(1))\n",
        "    # print(\"input\", spikes[\"input\"].get(\"s\").sum(0).sum(1))\n",
        "    # if  i % val_interval == 0 and i!=0:\n",
        "    #     if i != n_train:\n",
        "    #         correct = 0\n",
        "    #         false = 0\n",
        "    #     val_acc = evaluate(network, val_loader)\n",
        "    #     network.train(mode=True)\n",
        "\n",
        "    if predicted_label == label:\n",
        "        correct+=1\n",
        "    else:\n",
        "        false+=1\n",
        "        \n",
        "    acc = 100 * correct/(correct + false)\n",
        "    # network.reset_state_variables()  # Reset state variables.\n",
        "    \n",
        "    pbar.set_description_str(\"Running accuracy: \" + \"{:.2f}\".format(acc) + \"%, \" + \"Current val accuracy: \" + \"{:.2f}\".format(val_acc) + \"%, \")\n",
        "    pbar.update()"
      ],
      "execution_count": 25,
      "outputs": [
        {
          "output_type": "stream",
          "text": [
            "Begin training.\n",
            "\n"
          ],
          "name": "stdout"
        },
        {
          "output_type": "display_data",
          "data": {
            "application/vnd.jupyter.widget-view+json": {
              "model_id": "49b9837e6e01423e83d38bb2662cfccc",
              "version_minor": 0,
              "version_major": 2
            },
            "text/plain": [
              "  0%|          | 0/5000 [00:00<?, ?it/s]"
            ]
          },
          "metadata": {
            "tags": []
          }
        },
        {
          "output_type": "stream",
          "text": [
            "output tensor([2, 0, 1, 0, 0, 1, 2, 0, 3, 0]) predicted_label: 8 GT: 4"
          ],
          "name": "stdout"
        },
        {
          "output_type": "error",
          "ename": "KeyboardInterrupt",
          "evalue": "ignored",
          "traceback": [
            "\u001b[0;31m---------------------------------------------------------------------------\u001b[0m",
            "\u001b[0;31mKeyboardInterrupt\u001b[0m                         Traceback (most recent call last)",
            "\u001b[0;32m<ipython-input-25-2bdb6e4495d5>\u001b[0m in \u001b[0;36m<module>\u001b[0;34m()\u001b[0m\n\u001b[1;32m     26\u001b[0m     \u001b[0;32melse\u001b[0m\u001b[0;34m:\u001b[0m\u001b[0;34m\u001b[0m\u001b[0;34m\u001b[0m\u001b[0m\n\u001b[1;32m     27\u001b[0m         \u001b[0minputs\u001b[0m \u001b[0;34m=\u001b[0m \u001b[0;34m{\u001b[0m\u001b[0;34m\"input\"\u001b[0m\u001b[0;34m:\u001b[0m \u001b[0mimage\u001b[0m\u001b[0;34m.\u001b[0m\u001b[0mview\u001b[0m\u001b[0;34m(\u001b[0m\u001b[0mtime\u001b[0m\u001b[0;34m,\u001b[0m \u001b[0;36m1\u001b[0m\u001b[0;34m,\u001b[0m \u001b[0;36m1\u001b[0m\u001b[0;34m,\u001b[0m \u001b[0;36m20\u001b[0m\u001b[0;34m,\u001b[0m \u001b[0;36m20\u001b[0m\u001b[0;34m)\u001b[0m\u001b[0;34m}\u001b[0m\u001b[0;34m\u001b[0m\u001b[0;34m\u001b[0m\u001b[0m\n\u001b[0;32m---> 28\u001b[0;31m     \u001b[0mnetwork\u001b[0m\u001b[0;34m.\u001b[0m\u001b[0mrun\u001b[0m\u001b[0;34m(\u001b[0m\u001b[0minputs\u001b[0m\u001b[0;34m=\u001b[0m\u001b[0minputs\u001b[0m\u001b[0;34m,\u001b[0m \u001b[0mtime\u001b[0m\u001b[0;34m=\u001b[0m\u001b[0mtime\u001b[0m\u001b[0;34m,\u001b[0m \u001b[0;34m**\u001b[0m\u001b[0mreward_kwargs\u001b[0m\u001b[0;34m,\u001b[0m \u001b[0mlabels\u001b[0m \u001b[0;34m=\u001b[0m \u001b[0mlabel\u001b[0m\u001b[0;34m)\u001b[0m\u001b[0;34m\u001b[0m\u001b[0;34m\u001b[0m\u001b[0m\n\u001b[0m\u001b[1;32m     29\u001b[0m \u001b[0;34m\u001b[0m\u001b[0m\n\u001b[1;32m     30\u001b[0m     \u001b[0;31m# Get voltage recording.\u001b[0m\u001b[0;34m\u001b[0m\u001b[0;34m\u001b[0m\u001b[0;34m\u001b[0m\u001b[0m\n",
            "\u001b[0;32m/usr/local/lib/python3.7/dist-packages/bindsnet/network/network.py\u001b[0m in \u001b[0;36mrun\u001b[0;34m(self, inputs, time, one_step, **kwargs)\u001b[0m\n\u001b[1;32m    416\u001b[0m             \u001b[0;31m# Run synapse updates.\u001b[0m\u001b[0;34m\u001b[0m\u001b[0;34m\u001b[0m\u001b[0;34m\u001b[0m\u001b[0m\n\u001b[1;32m    417\u001b[0m             \u001b[0;32mfor\u001b[0m \u001b[0mc\u001b[0m \u001b[0;32min\u001b[0m \u001b[0mself\u001b[0m\u001b[0;34m.\u001b[0m\u001b[0mconnections\u001b[0m\u001b[0;34m:\u001b[0m\u001b[0;34m\u001b[0m\u001b[0;34m\u001b[0m\u001b[0m\n\u001b[0;32m--> 418\u001b[0;31m                 self.connections[c].update(\n\u001b[0m\u001b[1;32m    419\u001b[0m                     \u001b[0mmask\u001b[0m\u001b[0;34m=\u001b[0m\u001b[0mmasks\u001b[0m\u001b[0;34m.\u001b[0m\u001b[0mget\u001b[0m\u001b[0;34m(\u001b[0m\u001b[0mc\u001b[0m\u001b[0;34m,\u001b[0m \u001b[0;32mNone\u001b[0m\u001b[0;34m)\u001b[0m\u001b[0;34m,\u001b[0m \u001b[0mlearning\u001b[0m\u001b[0;34m=\u001b[0m\u001b[0mself\u001b[0m\u001b[0;34m.\u001b[0m\u001b[0mlearning\u001b[0m\u001b[0;34m,\u001b[0m \u001b[0;34m**\u001b[0m\u001b[0mkwargs\u001b[0m\u001b[0;34m\u001b[0m\u001b[0;34m\u001b[0m\u001b[0m\n\u001b[1;32m    420\u001b[0m                 )\n",
            "\u001b[0;31mKeyboardInterrupt\u001b[0m: "
          ]
        }
      ]
    },
    {
      "cell_type": "code",
      "metadata": {
        "id": "wR-DOl-AnUtV",
        "colab": {
          "base_uri": "https://localhost:8080/",
          "height": 823
        },
        "outputId": "ab9d2ae9-a4d3-41cc-b034-28e752ce397f"
      },
      "source": [
        "from matplotlib import pyplot as plt\n",
        "for c in network.connections:\n",
        "    print(c)\n",
        "    w = network.connections[c].w.cpu()\n",
        "    print(w)\n",
        "    plt.hist(torch.histc(w, bins=200).tolist(),bins = 200, range = (w.min().item(), w.max().item()))\n",
        "    print((w.min().item(), w.max().item()))\n",
        "    plt.show()"
      ],
      "execution_count": null,
      "outputs": [
        {
          "output_type": "stream",
          "text": [
            "('input', 'main')\n",
            "tensor([[ 0.8232,  0.0000,  0.0000,  ...,  0.0000,  0.0000,  0.0000],\n",
            "        [-0.3769,  0.0000,  0.0000,  ...,  0.0000,  0.0000,  0.0000],\n",
            "        [ 0.2339,  0.0000,  0.0000,  ...,  0.0000,  0.0000,  0.0000],\n",
            "        ...,\n",
            "        [ 0.0000,  0.0000,  0.0000,  ...,  0.0000,  0.0000, -0.1188],\n",
            "        [ 0.0000,  0.0000,  0.0000,  ...,  0.0000,  0.0000, -0.1439],\n",
            "        [ 0.0000,  0.0000,  0.0000,  ...,  0.0000,  0.0000, -0.4439]])\n",
            "(-1.0000051259994507, 1.0000135898590088)\n"
          ],
          "name": "stdout"
        },
        {
          "output_type": "display_data",
          "data": {
            "text/plain": [
              "<Figure size 432x288 with 1 Axes>"
            ],
            "image/png": "[encoded data removed]"
          },
          "metadata": {
            "tags": [],
            "needs_background": "light"
          }
        },
        {
          "output_type": "stream",
          "text": [
            "('main', 'output')\n",
            "tensor([[-0.9580, -0.4543, -0.0117,  ..., -0.7069, -0.7988, -0.9462],\n",
            "        [-0.2655,  0.9095, -0.7128,  ...,  0.7128,  0.4573, -0.6863],\n",
            "        [ 0.5858,  0.1315,  0.5714,  ...,  0.6636, -0.7231,  0.2240],\n",
            "        ...,\n",
            "        [-0.5069,  0.5318,  0.9923,  ..., -0.1741,  0.5249,  0.6005],\n",
            "        [-0.6213, -0.6972,  0.1976,  ..., -0.6090, -0.5876,  0.3995],\n",
            "        [-0.9182,  0.0442,  0.5837,  ..., -0.2019,  0.8700, -0.9570]])\n",
            "(-1.0, 1.0)\n"
          ],
          "name": "stdout"
        },
        {
          "output_type": "display_data",
          "data": {
            "text/plain": [
              "<Figure size 432x288 with 1 Axes>"
            ],
            "image/png": "[encoded data removed]"
          },
          "metadata": {
            "tags": [],
            "needs_background": "light"
          }
        }
      ]
    },
    {
      "cell_type": "code",
      "metadata": {
        "id": "dvmZxxRzrOQn",
        "colab": {
          "base_uri": "https://localhost:8080/",
          "height": 183
        },
        "outputId": "6c14d7df-31dc-42fd-dec2-c19cb9060e59"
      },
      "source": [
        "w = input_main.w.cpu()\n",
        "plt.hist(torch.histc(w), range = (w.min().item(), w.max().item()))"
      ],
      "execution_count": null,
      "outputs": [
        {
          "output_type": "error",
          "ename": "NameError",
          "evalue": "ignored",
          "traceback": [
            "\u001b[0;31m---------------------------------------------------------------------------\u001b[0m",
            "\u001b[0;31mNameError\u001b[0m                                 Traceback (most recent call last)",
            "\u001b[0;32m<ipython-input-33-2869ccf346f4>\u001b[0m in \u001b[0;36m<module>\u001b[0;34m()\u001b[0m\n\u001b[0;32m----> 1\u001b[0;31m \u001b[0mw\u001b[0m \u001b[0;34m=\u001b[0m \u001b[0minput_main\u001b[0m\u001b[0;34m.\u001b[0m\u001b[0mw\u001b[0m\u001b[0;34m.\u001b[0m\u001b[0mcpu\u001b[0m\u001b[0;34m(\u001b[0m\u001b[0;34m)\u001b[0m\u001b[0;34m\u001b[0m\u001b[0;34m\u001b[0m\u001b[0m\n\u001b[0m\u001b[1;32m      2\u001b[0m \u001b[0mplt\u001b[0m\u001b[0;34m.\u001b[0m\u001b[0mhist\u001b[0m\u001b[0;34m(\u001b[0m\u001b[0mtorch\u001b[0m\u001b[0;34m.\u001b[0m\u001b[0mhistc\u001b[0m\u001b[0;34m(\u001b[0m\u001b[0mw\u001b[0m\u001b[0;34m)\u001b[0m\u001b[0;34m,\u001b[0m \u001b[0mrange\u001b[0m \u001b[0;34m=\u001b[0m \u001b[0;34m(\u001b[0m\u001b[0mw\u001b[0m\u001b[0;34m.\u001b[0m\u001b[0mmin\u001b[0m\u001b[0;34m(\u001b[0m\u001b[0;34m)\u001b[0m\u001b[0;34m.\u001b[0m\u001b[0mitem\u001b[0m\u001b[0;34m(\u001b[0m\u001b[0;34m)\u001b[0m\u001b[0;34m,\u001b[0m \u001b[0mw\u001b[0m\u001b[0;34m.\u001b[0m\u001b[0mmax\u001b[0m\u001b[0;34m(\u001b[0m\u001b[0;34m)\u001b[0m\u001b[0;34m.\u001b[0m\u001b[0mitem\u001b[0m\u001b[0;34m(\u001b[0m\u001b[0;34m)\u001b[0m\u001b[0;34m)\u001b[0m\u001b[0;34m)\u001b[0m\u001b[0;34m\u001b[0m\u001b[0;34m\u001b[0m\u001b[0m\n",
            "\u001b[0;31mNameError\u001b[0m: name 'input_main' is not defined"
          ]
        }
      ]
    },
    {
      "cell_type": "code",
      "metadata": {
        "id": "g86dhjk6leM3",
        "colab": {
          "base_uri": "https://localhost:8080/"
        },
        "outputId": "75b1dffc-6889-48a3-994c-2a311db1ceda"
      },
      "source": [
        "output_spikes = spikes[\"output\"].get(\"s\").view(time, n_classes, neuron_per_class).sum(0)\n",
        "predicted_label = torch.argmax(output_spikes.sum(1))\n",
        "print(\"\\routput\", output_spikes.sum(1), 'predicted_label:', predicted_label.item(), 'GT:', label.item(), end = '')\n",
        "reward_history"
      ],
      "execution_count": null,
      "outputs": [
        {
          "output_type": "stream",
          "text": [
            "\routput tensor([311, 306, 306, 304, 315, 308, 311, 309, 305, 302]) predicted_label: 4 GT: 4"
          ],
          "name": "stdout"
        },
        {
          "output_type": "execute_result",
          "data": {
            "text/plain": [
              "[tensor(0.0200, device='cuda:0'),\n",
              " tensor(0.0200, device='cuda:0'),\n",
              " tensor(0.0200, device='cuda:0'),\n",
              " tensor(0.0200, device='cuda:0'),\n",
              " tensor(0.0200, device='cuda:0'),\n",
              " tensor(0.0200, device='cuda:0'),\n",
              " tensor(0.0200, device='cuda:0'),\n",
              " tensor(0.0200, device='cuda:0'),\n",
              " tensor(2.0200, device='cuda:0'),\n",
              " tensor(1.9225, device='cuda:0'),\n",
              " tensor(1.8297, device='cuda:0'),\n",
              " tensor(1.7414, device='cuda:0'),\n",
              " tensor(1.6575, device='cuda:0'),\n",
              " tensor(1.5776, device='cuda:0'),\n",
              " tensor(1.5016, device='cuda:0'),\n",
              " tensor(1.4294, device='cuda:0'),\n",
              " tensor(3.3606, device='cuda:0'),\n",
              " tensor(3.1977, device='cuda:0'),\n",
              " tensor(3.0427, device='cuda:0'),\n",
              " tensor(2.8953, device='cuda:0'),\n",
              " tensor(2.7551, device='cuda:0'),\n",
              " tensor(2.6217, device='cuda:0'),\n",
              " tensor(2.4948, device='cuda:0'),\n",
              " tensor(2.3741, device='cuda:0'),\n",
              " tensor(3.6593, device='cuda:0'),\n",
              " tensor(3.4818, device='cuda:0'),\n",
              " tensor(3.9130, device='cuda:0'),\n",
              " tensor(3.7231, device='cuda:0'),\n",
              " tensor(3.5425, device='cuda:0'),\n",
              " tensor(3.3707, device='cuda:0'),\n",
              " tensor(3.2073, device='cuda:0'),\n",
              " tensor(3.0518, device='cuda:0'),\n",
              " tensor(4.3040, device='cuda:0'),\n",
              " tensor(4.0951, device='cuda:0'),\n",
              " tensor(4.4963, device='cuda:0'),\n",
              " tensor(4.2780, device='cuda:0'),\n",
              " tensor(4.0703, device='cuda:0'),\n",
              " tensor(3.8728, device='cuda:0'),\n",
              " tensor(3.6849, device='cuda:0'),\n",
              " tensor(3.5062, device='cuda:0'),\n",
              " tensor(4.7361, device='cuda:0'),\n",
              " tensor(4.5061, device='cuda:0'),\n",
              " tensor(4.8873, device='cuda:0'),\n",
              " tensor(4.6499, device='cuda:0'),\n",
              " tensor(4.4241, device='cuda:0'),\n",
              " tensor(4.2094, device='cuda:0'),\n",
              " tensor(4.0050, device='cuda:0'),\n",
              " tensor(3.8107, device='cuda:0'),\n",
              " tensor(3.6258, device='cuda:0'),\n",
              " tensor(5.4499, device='cuda:0'),\n",
              " tensor(5.1851, device='cuda:0'),\n",
              " tensor(4.9332, device='cuda:0'),\n",
              " tensor(4.6936, device='cuda:0'),\n",
              " tensor(4.4657, device='cuda:0'),\n",
              " tensor(4.2488, device='cuda:0'),\n",
              " tensor(4.0426, device='cuda:0'),\n",
              " tensor(3.8464, device='cuda:0'),\n",
              " tensor(5.6598, device='cuda:0'),\n",
              " tensor(5.3847, device='cuda:0'),\n",
              " tensor(5.1231, device='cuda:0'),\n",
              " tensor(4.8742, device='cuda:0'),\n",
              " tensor(4.6375, device='cuda:0'),\n",
              " tensor(4.4123, device='cuda:0'),\n",
              " tensor(4.1981, device='cuda:0'),\n",
              " tensor(3.9943, device='cuda:0'),\n",
              " tensor(5.8005, device='cuda:0'),\n",
              " tensor(5.5186, device='cuda:0'),\n",
              " tensor(5.2504, device='cuda:0'),\n",
              " tensor(4.9953, device='cuda:0'),\n",
              " tensor(4.7526, device='cuda:0'),\n",
              " tensor(4.5218, device='cuda:0'),\n",
              " tensor(4.3023, device='cuda:0'),\n",
              " tensor(4.0934, device='cuda:0'),\n",
              " tensor(5.8948, device='cuda:0'),\n",
              " tensor(5.6082, device='cuda:0'),\n",
              " tensor(5.3357, device='cuda:0'),\n",
              " tensor(5.0765, device='cuda:0'),\n",
              " tensor(4.8299, device='cuda:0'),\n",
              " tensor(4.5953, device='cuda:0'),\n",
              " tensor(4.3721, device='cuda:0'),\n",
              " tensor(4.9599, device='cuda:0'),\n",
              " tensor(5.1190, device='cuda:0'),\n",
              " tensor(5.6703, device='cuda:0'),\n",
              " tensor(5.3947, device='cuda:0'),\n",
              " tensor(5.1326, device='cuda:0'),\n",
              " tensor(4.8832, device='cuda:0'),\n",
              " tensor(4.6461, device='cuda:0'),\n",
              " tensor(5.6204, device='cuda:0'),\n",
              " tensor(5.3473, device='cuda:0'),\n",
              " tensor(5.0875, device='cuda:0'),\n",
              " tensor(4.8403, device='cuda:0'),\n",
              " tensor(4.6053, device='cuda:0'),\n",
              " tensor(4.3816, device='cuda:0'),\n",
              " tensor(6.1689, device='cuda:0'),\n",
              " tensor(5.8690, device='cuda:0'),\n",
              " tensor(5.5838, device='cuda:0'),\n",
              " tensor(5.3124, device='cuda:0'),\n",
              " tensor(5.0543, device='cuda:0'),\n",
              " tensor(4.8088, device='cuda:0'),\n",
              " tensor(4.5752, device='cuda:0'),\n",
              " tensor(6.3531, device='cuda:0'),\n",
              " tensor(6.0442, device='cuda:0'),\n",
              " tensor(5.7504, device='cuda:0'),\n",
              " tensor(5.4709, device='cuda:0'),\n",
              " tensor(5.2051, device='cuda:0'),\n",
              " tensor(4.9522, device='cuda:0'),\n",
              " tensor(4.7116, device='cuda:0'),\n",
              " tensor(4.8828, device='cuda:0'),\n",
              " tensor(5.8457, device='cuda:0'),\n",
              " tensor(5.9615, device='cuda:0'),\n",
              " tensor(5.6718, device='cuda:0'),\n",
              " tensor(5.3961, device='cuda:0'),\n",
              " tensor(5.1339, device='cuda:0'),\n",
              " tensor(4.8845, device='cuda:0'),\n",
              " tensor(4.6473, device='cuda:0'),\n",
              " tensor(4.8216, device='cuda:0'),\n",
              " tensor(6.1874, device='cuda:0'),\n",
              " tensor(5.8866, device='cuda:0'),\n",
              " tensor(5.6005, device='cuda:0'),\n",
              " tensor(5.3284, device='cuda:0'),\n",
              " tensor(5.0695, device='cuda:0'),\n",
              " tensor(4.8232, device='cuda:0'),\n",
              " tensor(4.5889, device='cuda:0'),\n",
              " tensor(4.9661, device='cuda:0'),\n",
              " tensor(6.1249, device='cuda:0'),\n",
              " tensor(5.8271, device='cuda:0'),\n",
              " tensor(5.5439, device='cuda:0'),\n",
              " tensor(5.2745, device='cuda:0'),\n",
              " tensor(5.0183, device='cuda:0'),\n",
              " tensor(4.7745, device='cuda:0'),\n",
              " tensor(4.5426, device='cuda:0'),\n",
              " tensor(5.1220, device='cuda:0'),\n",
              " tensor(6.0732, device='cuda:0'),\n",
              " tensor(5.7780, device='cuda:0'),\n",
              " tensor(5.4972, device='cuda:0'),\n",
              " tensor(5.2300, device='cuda:0'),\n",
              " tensor(4.9759, device='cuda:0'),\n",
              " tensor(4.7342, device='cuda:0'),\n",
              " tensor(4.5043, device='cuda:0'),\n",
              " tensor(5.0856, device='cuda:0'),\n",
              " tensor(6.0386, device='cuda:0'),\n",
              " tensor(5.7450, device='cuda:0'),\n",
              " tensor(5.4658, device='cuda:0'),\n",
              " tensor(5.2002, device='cuda:0'),\n",
              " tensor(4.9476, device='cuda:0'),\n",
              " tensor(4.7073, device='cuda:0'),\n",
              " tensor(4.4787, device='cuda:0'),\n",
              " tensor(4.8612, device='cuda:0'),\n",
              " tensor(4.6251, device='cuda:0'),\n",
              " tensor(5.8005, device='cuda:0'),\n",
              " tensor(5.5186, device='cuda:0'),\n",
              " tensor(5.2504, device='cuda:0'),\n",
              " tensor(4.9953, device='cuda:0'),\n",
              " tensor(4.7527, device='cuda:0'),\n",
              " tensor(4.5219, device='cuda:0'),\n",
              " tensor(4.3023, device='cuda:0'),\n",
              " tensor(4.6935, device='cuda:0'),\n",
              " tensor(4.4655, device='cuda:0'),\n",
              " tensor(5.6487, device='cuda:0'),\n",
              " tensor(5.3742, device='cuda:0'),\n",
              " tensor(5.1131, device='cuda:0'),\n",
              " tensor(4.8647, device='cuda:0'),\n",
              " tensor(4.6284, device='cuda:0'),\n",
              " tensor(4.4036, device='cuda:0'),\n",
              " tensor(4.1899, device='cuda:0'),\n",
              " tensor(3.9865, device='cuda:0'),\n",
              " tensor(5.7930, device='cuda:0'),\n",
              " tensor(5.5115, device='cuda:0'),\n",
              " tensor(5.2437, device='cuda:0'),\n",
              " tensor(4.9889, device='cuda:0'),\n",
              " tensor(4.7466, device='cuda:0'),\n",
              " tensor(4.5160, device='cuda:0'),\n",
              " tensor(4.2968, device='cuda:0'),\n",
              " tensor(6.0882, device='cuda:0'),\n",
              " tensor(5.7922, device='cuda:0'),\n",
              " tensor(5.5107, device='cuda:0'),\n",
              " tensor(5.2429, device='cuda:0'),\n",
              " tensor(4.9882, device='cuda:0'),\n",
              " tensor(4.7459, device='cuda:0'),\n",
              " tensor(4.5154, device='cuda:0'),\n",
              " tensor(5.0962, device='cuda:0'),\n",
              " tensor(6.0486, device='cuda:0'),\n",
              " tensor(5.7546, device='cuda:0'),\n",
              " tensor(5.4749, device='cuda:0'),\n",
              " tensor(5.2089, device='cuda:0'),\n",
              " tensor(4.9558, device='cuda:0'),\n",
              " tensor(5.5151, device='cuda:0'),\n",
              " tensor(5.2471, device='cuda:0'),\n",
              " tensor(5.1922, device='cuda:0'),\n",
              " tensor(5.1399, device='cuda:0'),\n",
              " tensor(5.6902, device='cuda:0'),\n",
              " tensor(5.4137, device='cuda:0'),\n",
              " tensor(5.1506, device='cuda:0'),\n",
              " tensor(4.9004, device='cuda:0'),\n",
              " tensor(5.2624, device='cuda:0'),\n",
              " tensor(5.6067, device='cuda:0'),\n",
              " tensor(5.3342, device='cuda:0'),\n",
              " tensor(5.0751, device='cuda:0'),\n",
              " tensor(5.6285, device='cuda:0'),\n",
              " tensor(5.3550, device='cuda:0'),\n",
              " tensor(5.0948, device='cuda:0'),\n",
              " tensor(4.8473, device='cuda:0'),\n",
              " tensor(5.2119, device='cuda:0'),\n",
              " tensor(5.5587, device='cuda:0'),\n",
              " tensor(5.2885, device='cuda:0'),\n",
              " tensor(5.0316, device='cuda:0'),\n",
              " tensor(5.5872, device='cuda:0'),\n",
              " tensor(5.3157, device='cuda:0'),\n",
              " tensor(5.0574, device='cuda:0'),\n",
              " tensor(5.0117, device='cuda:0'),\n",
              " tensor(5.3683, device='cuda:0'),\n",
              " tensor(5.5074, device='cuda:0'),\n",
              " tensor(5.2398, device='cuda:0'),\n",
              " tensor(5.7852, device='cuda:0'),\n",
              " tensor(5.5040, device='cuda:0'),\n",
              " tensor(5.2366, device='cuda:0'),\n",
              " tensor(5.7822, device='cuda:0'),\n",
              " tensor(5.5011, device='cuda:0'),\n",
              " tensor(5.2338, device='cuda:0'),\n",
              " tensor(5.9795, device='cuda:0'),\n",
              " tensor(5.6889, device='cuda:0'),\n",
              " tensor(5.4124, device='cuda:0'),\n",
              " tensor(5.3494, device='cuda:0'),\n",
              " tensor(5.4895, device='cuda:0'),\n",
              " tensor(5.6228, device='cuda:0'),\n",
              " tensor(6.3495, device='cuda:0'),\n",
              " tensor(6.0408, device='cuda:0'),\n",
              " tensor(5.7472, device='cuda:0'),\n",
              " tensor(5.4679, device='cuda:0'),\n",
              " tensor(5.4022, device='cuda:0'),\n",
              " tensor(5.1397, device='cuda:0'),\n",
              " tensor(5.2900, device='cuda:0'),\n",
              " tensor(5.0330, device='cuda:0'),\n",
              " tensor(6.1885, device='cuda:0'),\n",
              " tensor(5.8876, device='cuda:0'),\n",
              " tensor(5.8015, device='cuda:0'),\n",
              " tensor(5.5195, device='cuda:0'),\n",
              " tensor(5.2513, device='cuda:0'),\n",
              " tensor(5.1962, device='cuda:0'),\n",
              " tensor(5.1437, device='cuda:0'),\n",
              " tensor(6.2938, device='cuda:0'),\n",
              " tensor(5.9878, device='cuda:0'),\n",
              " tensor(5.8968, device='cuda:0'),\n",
              " tensor(5.6102, device='cuda:0'),\n",
              " tensor(5.3375, device='cuda:0'),\n",
              " tensor(5.2782, device='cuda:0'),\n",
              " tensor(5.0218, device='cuda:0'),\n",
              " tensor(6.3778, device='cuda:0'),\n",
              " tensor(6.0677, device='cuda:0'),\n",
              " tensor(5.7728, device='cuda:0')]"
            ]
          },
          "metadata": {
            "tags": []
          },
          "execution_count": 12
        }
      ]
    },
    {
      "cell_type": "markdown",
      "metadata": {
        "id": "R_YGE1XjvIkZ"
      },
      "source": [
        "# Kernel "
      ]
    },
    {
      "cell_type": "code",
      "metadata": {
        "id": "dzaRZ3jNwxpE"
      },
      "source": [
        "from abc import ABC, abstractmethod\n",
        "from typing import Union, Tuple, Optional, Sequence\n",
        "from torch.nn.modules.utils import _pair"
      ],
      "execution_count": null,
      "outputs": []
    },
    {
      "cell_type": "code",
      "metadata": {
        "id": "-4hp2V46vOUv"
      },
      "source": [
        "class AbstractKernel(ABC):\n",
        "\tr\"\"\"Base class for generating image filter kernels such as Gabor, DoG, etc. Each subclass should override :attr:`__call__` function.\n",
        "\t\"\"\"\n",
        "\tdef __init__(self, kernel_size: Union[int, Tuple[int, int]]):\n",
        "    \"\"\"\n",
        "    Instantiates a ``Filter Kernel`` object.\n",
        "\n",
        "    :param kernel_size: Horizontal and vertical size of convolutional kernels.\n",
        "    \"\"\"\n",
        "\t\tself.kernel_size = _pair(kenel_size)\n",
        "\n",
        "\tdef __call__(self):\n",
        "\t\tpass\n"
      ],
      "execution_count": null,
      "outputs": []
    },
    {
      "cell_type": "code",
      "metadata": {
        "id": "PL2L6_ABwBH4"
      },
      "source": [
        "class DoG_Kernel(AbstractKernel):\n",
        "\tr\"\"\"Generates DoG filter kernels.\n",
        "\t\"\"\"\n",
        "\tdef __init__(self, \n",
        "                 kernel_size: Union[int, Tuple[int, int]], \n",
        "                 sigma1 : float,\n",
        "                 sigma2 : float):\n",
        "        \"\"\"\n",
        "\t\t:param kernel_size: Horizontal and vertical size of DOG kernels.(If pass int, we consider it as a square filter) \n",
        "\t\t:param sigma1 : The sigma parameter for the first Gaussian function.\n",
        "\t\t:param sigma2 : The sigma parameter for the second Gaussian function.\n",
        "\t\t\"\"\"\n",
        "        super(DoG_Kernel, self).__init__(kernel_size)\n",
        "\t\tself.sigma1 = sigma1\n",
        "\t\tself.sigma2 = sigma2\n",
        "\n",
        "\t# returns a 2d tensor corresponding to the requested DoG filter\n",
        "\tdef __call__(self):\n",
        "\t\tk = self.kernel_size//2\n",
        "\t\tx, y = np.mgrid[-k:k+1:1, -k:k+1:1]\n",
        "\t\ta = 1.0 / (2 * math.pi)\n",
        "\t\tprod = x*x + y*y\n",
        "\t\tf1 = (1/(self.sigma1*self.sigma1)) * np.exp(-0.5 * (1/(self.sigma1*self.sigma1)) * (prod))\n",
        "\t\tf2 = (1/(self.sigma2*self.sigma2)) * np.exp(-0.5 * (1/(self.sigma2*self.sigma2)) * (prod))\n",
        "\t\tdog = a * (f1-f2)\n",
        "\t\tdog_mean = np.mean(dog)\n",
        "\t\tdog = dog - dog_mean\n",
        "\t\tdog_max = np.max(dog)\n",
        "\t\tdog = dog / dog_max\n",
        "\t\tdog_tensor = torch.from_numpy(dog)\n",
        "\t\treturn dog_tensor.float()"
      ],
      "execution_count": null,
      "outputs": []
    },
    {
      "cell_type": "code",
      "metadata": {
        "id": "gD0kdZthzUr3"
      },
      "source": [
        ""
      ],
      "execution_count": null,
      "outputs": []
    }
  ]
}