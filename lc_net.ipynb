{
  "nbformat": 4,
  "nbformat_minor": 2,
  "metadata": {
    "colab": {
      "name": "Copy of lc_net",
      "provenance": [],
      "collapsed_sections": [],
      "machine_shape": "hm",
      "include_colab_link": true
    },
    "kernelspec": {
      "name": "python3",
      "display_name": "Python 3.8.5 64-bit ('base': conda)"
    },
    "language_info": {
      "name": "python",
      "version": "3.8.5",
      "mimetype": "text/x-python",
      "codemirror_mode": {
        "name": "ipython",
        "version": 3
      },
      "pygments_lexer": "ipython3",
      "nbconvert_exporter": "python",
      "file_extension": ".py"
    },
    "accelerator": "GPU",
    "widgets": {
      "application/vnd.jupyter.widget-state+json": {
        "8e8421648622424c9ab56287cb1dbd38": {
          "model_module": "@jupyter-widgets/controls",
          "model_name": "HBoxModel",
          "state": {
            "_view_name": "HBoxView",
            "_dom_classes": [],
            "_model_name": "HBoxModel",
            "_view_module": "@jupyter-widgets/controls",
            "_model_module_version": "1.5.0",
            "_view_count": null,
            "_view_module_version": "1.5.0",
            "box_style": "",
            "layout": "IPY_MODEL_f29cdc04ef1340af86de95b60b583dcc",
            "_model_module": "@jupyter-widgets/controls",
            "children": [
              "IPY_MODEL_c6e8e4a638ac43ddb82e0c2db1e92563",
              "IPY_MODEL_6fa3dc144dd44300bb14888233819d13",
              "IPY_MODEL_60e0860291104015899173d256853593"
            ]
          }
        },
        "f29cdc04ef1340af86de95b60b583dcc": {
          "model_module": "@jupyter-widgets/base",
          "model_name": "LayoutModel",
          "state": {
            "_view_name": "LayoutView",
            "grid_template_rows": null,
            "right": null,
            "justify_content": null,
            "_view_module": "@jupyter-widgets/base",
            "overflow": null,
            "_model_module_version": "1.2.0",
            "_view_count": null,
            "flex_flow": null,
            "width": null,
            "min_width": null,
            "border": null,
            "align_items": null,
            "bottom": null,
            "_model_module": "@jupyter-widgets/base",
            "top": null,
            "grid_column": null,
            "overflow_y": null,
            "overflow_x": null,
            "grid_auto_flow": null,
            "grid_area": null,
            "grid_template_columns": null,
            "flex": null,
            "_model_name": "LayoutModel",
            "justify_items": null,
            "grid_row": null,
            "max_height": null,
            "align_content": null,
            "visibility": null,
            "align_self": null,
            "height": null,
            "min_height": null,
            "padding": null,
            "grid_auto_rows": null,
            "grid_gap": null,
            "max_width": null,
            "order": null,
            "_view_module_version": "1.2.0",
            "grid_template_areas": null,
            "object_position": null,
            "object_fit": null,
            "grid_auto_columns": null,
            "margin": null,
            "display": null,
            "left": null
          }
        },
        "c6e8e4a638ac43ddb82e0c2db1e92563": {
          "model_module": "@jupyter-widgets/controls",
          "model_name": "HTMLModel",
          "state": {
            "_view_name": "HTMLView",
            "style": "IPY_MODEL_a71c5687429a4ab090bf4f982ea80677",
            "_dom_classes": [],
            "description": "",
            "_model_name": "HTMLModel",
            "placeholder": "​",
            "_view_module": "@jupyter-widgets/controls",
            "_model_module_version": "1.5.0",
            "value": "Running accuracy: 6.36%, Current val accuracy: 0.00%, :   6%",
            "_view_count": null,
            "_view_module_version": "1.5.0",
            "description_tooltip": null,
            "_model_module": "@jupyter-widgets/controls",
            "layout": "IPY_MODEL_7985f88a2c4544d18b376a2108fad858"
          }
        },
        "6fa3dc144dd44300bb14888233819d13": {
          "model_module": "@jupyter-widgets/controls",
          "model_name": "FloatProgressModel",
          "state": {
            "_view_name": "ProgressView",
            "style": "IPY_MODEL_1470d2ef4f964d99b5afe17b7f2060dd",
            "_dom_classes": [],
            "description": "",
            "_model_name": "FloatProgressModel",
            "bar_style": "",
            "max": 5000,
            "_view_module": "@jupyter-widgets/controls",
            "_model_module_version": "1.5.0",
            "value": 283,
            "_view_count": null,
            "_view_module_version": "1.5.0",
            "orientation": "horizontal",
            "min": 0,
            "description_tooltip": null,
            "_model_module": "@jupyter-widgets/controls",
            "layout": "IPY_MODEL_1f2d8542ab654adcb100041ef493e55d"
          }
        },
        "60e0860291104015899173d256853593": {
          "model_module": "@jupyter-widgets/controls",
          "model_name": "HTMLModel",
          "state": {
            "_view_name": "HTMLView",
            "style": "IPY_MODEL_8dd118aa643848f18c7f2f95531b1f7f",
            "_dom_classes": [],
            "description": "",
            "_model_name": "HTMLModel",
            "placeholder": "​",
            "_view_module": "@jupyter-widgets/controls",
            "_model_module_version": "1.5.0",
            "value": " 283/5000 [02:28&lt;42:29,  1.85it/s]",
            "_view_count": null,
            "_view_module_version": "1.5.0",
            "description_tooltip": null,
            "_model_module": "@jupyter-widgets/controls",
            "layout": "IPY_MODEL_d600e77d764546fead75a188ee3ca65f"
          }
        },
        "a71c5687429a4ab090bf4f982ea80677": {
          "model_module": "@jupyter-widgets/controls",
          "model_name": "DescriptionStyleModel",
          "state": {
            "_view_name": "StyleView",
            "_model_name": "DescriptionStyleModel",
            "description_width": "",
            "_view_module": "@jupyter-widgets/base",
            "_model_module_version": "1.5.0",
            "_view_count": null,
            "_view_module_version": "1.2.0",
            "_model_module": "@jupyter-widgets/controls"
          }
        },
        "7985f88a2c4544d18b376a2108fad858": {
          "model_module": "@jupyter-widgets/base",
          "model_name": "LayoutModel",
          "state": {
            "_view_name": "LayoutView",
            "grid_template_rows": null,
            "right": null,
            "justify_content": null,
            "_view_module": "@jupyter-widgets/base",
            "overflow": null,
            "_model_module_version": "1.2.0",
            "_view_count": null,
            "flex_flow": null,
            "width": null,
            "min_width": null,
            "border": null,
            "align_items": null,
            "bottom": null,
            "_model_module": "@jupyter-widgets/base",
            "top": null,
            "grid_column": null,
            "overflow_y": null,
            "overflow_x": null,
            "grid_auto_flow": null,
            "grid_area": null,
            "grid_template_columns": null,
            "flex": null,
            "_model_name": "LayoutModel",
            "justify_items": null,
            "grid_row": null,
            "max_height": null,
            "align_content": null,
            "visibility": null,
            "align_self": null,
            "height": null,
            "min_height": null,
            "padding": null,
            "grid_auto_rows": null,
            "grid_gap": null,
            "max_width": null,
            "order": null,
            "_view_module_version": "1.2.0",
            "grid_template_areas": null,
            "object_position": null,
            "object_fit": null,
            "grid_auto_columns": null,
            "margin": null,
            "display": null,
            "left": null
          }
        },
        "1470d2ef4f964d99b5afe17b7f2060dd": {
          "model_module": "@jupyter-widgets/controls",
          "model_name": "ProgressStyleModel",
          "state": {
            "_view_name": "StyleView",
            "_model_name": "ProgressStyleModel",
            "description_width": "",
            "_view_module": "@jupyter-widgets/base",
            "_model_module_version": "1.5.0",
            "_view_count": null,
            "_view_module_version": "1.2.0",
            "bar_color": null,
            "_model_module": "@jupyter-widgets/controls"
          }
        },
        "1f2d8542ab654adcb100041ef493e55d": {
          "model_module": "@jupyter-widgets/base",
          "model_name": "LayoutModel",
          "state": {
            "_view_name": "LayoutView",
            "grid_template_rows": null,
            "right": null,
            "justify_content": null,
            "_view_module": "@jupyter-widgets/base",
            "overflow": null,
            "_model_module_version": "1.2.0",
            "_view_count": null,
            "flex_flow": null,
            "width": null,
            "min_width": null,
            "border": null,
            "align_items": null,
            "bottom": null,
            "_model_module": "@jupyter-widgets/base",
            "top": null,
            "grid_column": null,
            "overflow_y": null,
            "overflow_x": null,
            "grid_auto_flow": null,
            "grid_area": null,
            "grid_template_columns": null,
            "flex": null,
            "_model_name": "LayoutModel",
            "justify_items": null,
            "grid_row": null,
            "max_height": null,
            "align_content": null,
            "visibility": null,
            "align_self": null,
            "height": null,
            "min_height": null,
            "padding": null,
            "grid_auto_rows": null,
            "grid_gap": null,
            "max_width": null,
            "order": null,
            "_view_module_version": "1.2.0",
            "grid_template_areas": null,
            "object_position": null,
            "object_fit": null,
            "grid_auto_columns": null,
            "margin": null,
            "display": null,
            "left": null
          }
        },
        "8dd118aa643848f18c7f2f95531b1f7f": {
          "model_module": "@jupyter-widgets/controls",
          "model_name": "DescriptionStyleModel",
          "state": {
            "_view_name": "StyleView",
            "_model_name": "DescriptionStyleModel",
            "description_width": "",
            "_view_module": "@jupyter-widgets/base",
            "_model_module_version": "1.5.0",
            "_view_count": null,
            "_view_module_version": "1.2.0",
            "_model_module": "@jupyter-widgets/controls"
          }
        },
        "d600e77d764546fead75a188ee3ca65f": {
          "model_module": "@jupyter-widgets/base",
          "model_name": "LayoutModel",
          "state": {
            "_view_name": "LayoutView",
            "grid_template_rows": null,
            "right": null,
            "justify_content": null,
            "_view_module": "@jupyter-widgets/base",
            "overflow": null,
            "_model_module_version": "1.2.0",
            "_view_count": null,
            "flex_flow": null,
            "width": null,
            "min_width": null,
            "border": null,
            "align_items": null,
            "bottom": null,
            "_model_module": "@jupyter-widgets/base",
            "top": null,
            "grid_column": null,
            "overflow_y": null,
            "overflow_x": null,
            "grid_auto_flow": null,
            "grid_area": null,
            "grid_template_columns": null,
            "flex": null,
            "_model_name": "LayoutModel",
            "justify_items": null,
            "grid_row": null,
            "max_height": null,
            "align_content": null,
            "visibility": null,
            "align_self": null,
            "height": null,
            "min_height": null,
            "padding": null,
            "grid_auto_rows": null,
            "grid_gap": null,
            "max_width": null,
            "order": null,
            "_view_module_version": "1.2.0",
            "grid_template_areas": null,
            "object_position": null,
            "object_fit": null,
            "grid_auto_columns": null,
            "margin": null,
            "display": null,
            "left": null
          }
        }
      }
    },
    "interpreter": {
      "hash": "8b51a6187922e1c805af8ddd20d0a4091ecd17bebcd7deb5956ab101caf2f88f"
    }
  },
  "cells": [
    {
      "cell_type": "markdown",
      "source": [
        "<a href=\"https://colab.research.google.com/github/Singular-Brain/bindsnet/blob/master/lc_net.ipynb\" target=\"_parent\"><img src=\"https://colab.research.google.com/assets/colab-badge.svg\" alt=\"Open In Colab\"/></a>"
      ],
      "metadata": {
        "id": "view-in-github",
        "colab_type": "text"
      }
    },
    {
      "cell_type": "markdown",
      "source": [
        "#Notebook setups"
      ],
      "metadata": {
        "id": "7fTSvrK3T_GA"
      }
    },
    {
      "cell_type": "code",
      "execution_count": 1,
      "source": [
        "!pip install -q git+https://github.com/Singular-Brain/bindsnet"
      ],
      "outputs": [
        {
          "output_type": "stream",
          "name": "stdout",
          "text": [
            "\u001b[?25l\r\u001b[K     |██▊                             | 10 kB 37.4 MB/s eta 0:00:01\r\u001b[K     |█████▍                          | 20 kB 27.8 MB/s eta 0:00:01\r\u001b[K     |████████▏                       | 30 kB 18.1 MB/s eta 0:00:01\r\u001b[K     |██████████▉                     | 40 kB 15.7 MB/s eta 0:00:01\r\u001b[K     |█████████████▋                  | 51 kB 8.7 MB/s eta 0:00:01\r\u001b[K     |████████████████▎               | 61 kB 9.1 MB/s eta 0:00:01\r\u001b[K     |███████████████████             | 71 kB 8.9 MB/s eta 0:00:01\r\u001b[K     |█████████████████████▊          | 81 kB 9.1 MB/s eta 0:00:01\r\u001b[K     |████████████████████████▌       | 92 kB 7.7 MB/s eta 0:00:01\r\u001b[K     |███████████████████████████▏    | 102 kB 8.4 MB/s eta 0:00:01\r\u001b[K     |██████████████████████████████  | 112 kB 8.4 MB/s eta 0:00:01\r\u001b[K     |████████████████████████████████| 120 kB 8.4 MB/s \n",
            "\u001b[?25h\u001b[?25l\r\u001b[K     |████▎                           | 10 kB 51.2 MB/s eta 0:00:01\r\u001b[K     |████████▋                       | 20 kB 31.5 MB/s eta 0:00:01\r\u001b[K     |█████████████                   | 30 kB 37.9 MB/s eta 0:00:01\r\u001b[K     |█████████████████▎              | 40 kB 27.8 MB/s eta 0:00:01\r\u001b[K     |█████████████████████▌          | 51 kB 16.1 MB/s eta 0:00:01\r\u001b[K     |█████████████████████████▉      | 61 kB 18.6 MB/s eta 0:00:01\r\u001b[K     |██████████████████████████████▏ | 71 kB 20.9 MB/s eta 0:00:01\r\u001b[K     |████████████████████████████████| 76 kB 4.9 MB/s \n",
            "\u001b[K     |████████████████████████████████| 72 kB 1.2 MB/s \n",
            "\u001b[K     |████████████████████████████████| 280 kB 13.8 MB/s \n",
            "\u001b[K     |████████████████████████████████| 28.5 MB 33 kB/s \n",
            "\u001b[?25h  Building wheel for BindsNET (setup.py) ... \u001b[?25l\u001b[?25hdone\n",
            "\u001b[31mERROR: pip's dependency resolver does not currently take into account all the packages that are installed. This behaviour is the source of the following dependency conflicts.\n",
            "datascience 0.10.6 requires folium==0.2.1, but you have folium 0.8.3 which is incompatible.\n",
            "albumentations 0.1.12 requires imgaug<0.2.7,>=0.2.5, but you have imgaug 0.2.9 which is incompatible.\u001b[0m\n"
          ]
        }
      ],
      "metadata": {
        "id": "lXtgP_iEPE0G",
        "outputId": "d8132591-787d-49b4-9345-e3d7f57950e2",
        "colab": {
          "base_uri": "https://localhost:8080/"
        }
      }
    },
    {
      "cell_type": "code",
      "execution_count": 2,
      "source": [
        "!wget https://data.deepai.org/mnist.zip\r\n",
        "!mkdir -p ../data/MNIST/TorchvisionDatasetWrapper/raw\r\n",
        "!unzip mnist.zip -d ../data/MNIST/TorchvisionDatasetWrapper/raw/"
      ],
      "outputs": [
        {
          "output_type": "stream",
          "name": "stdout",
          "text": [
            "--2021-07-29 04:47:31--  https://data.deepai.org/mnist.zip\n",
            "Resolving data.deepai.org (data.deepai.org)... 138.201.36.183\n",
            "Connecting to data.deepai.org (data.deepai.org)|138.201.36.183|:443... connected.\n",
            "HTTP request sent, awaiting response... 200 OK\n",
            "Length: 11597176 (11M) [application/x-zip-compressed]\n",
            "Saving to: ‘mnist.zip’\n",
            "\n",
            "mnist.zip           100%[===================>]  11.06M  8.22MB/s    in 1.3s    \n",
            "\n",
            "2021-07-29 04:47:33 (8.22 MB/s) - ‘mnist.zip’ saved [11597176/11597176]\n",
            "\n",
            "Archive:  mnist.zip\n",
            "  inflating: ../data/MNIST/TorchvisionDatasetWrapper/raw/train-labels-idx1-ubyte.gz  \n",
            "  inflating: ../data/MNIST/TorchvisionDatasetWrapper/raw/train-images-idx3-ubyte.gz  \n",
            "  inflating: ../data/MNIST/TorchvisionDatasetWrapper/raw/t10k-images-idx3-ubyte.gz  \n",
            "  inflating: ../data/MNIST/TorchvisionDatasetWrapper/raw/t10k-labels-idx1-ubyte.gz  \n"
          ]
        }
      ],
      "metadata": {
        "colab": {
          "base_uri": "https://localhost:8080/"
        },
        "id": "OW7m3ugEHZP_",
        "outputId": "5e2425b4-9138-4281-af11-e1f60f0c4bea"
      }
    },
    {
      "cell_type": "code",
      "execution_count": 1,
      "source": [
        "from bindsnet.network.nodes import Nodes\r\n",
        "import os\r\n",
        "import torch\r\n",
        "import torchvision\r\n",
        "import numpy as np\r\n",
        "import argparse\r\n",
        "import matplotlib.pyplot as plt\r\n",
        "\r\n",
        "from torchvision import transforms\r\n",
        "from tqdm.notebook import tqdm\r\n",
        "\r\n",
        "from bindsnet.datasets import MNIST\r\n",
        "from bindsnet.encoding import PoissonEncoder\r\n",
        "from bindsnet.network import Network\r\n",
        "from bindsnet.network.nodes import Input, LIFNodes, AdaptiveLIFNodes\r\n",
        "from bindsnet.network.topology import LocalConnection, Connection\r\n",
        "from bindsnet.network.monitors import Monitor, AbstractMonitor\r\n",
        "from bindsnet.learning import PostPre, MSTDP, MSTDPET \r\n",
        "from bindsnet.learning.reward import DynamicDopamineInjection\r\n",
        "from bindsnet.utils import get_square_assignments, get_square_weights\r\n",
        "from bindsnet.evaluation import all_activity, proportion_weighting, assign_labels\r\n",
        "from bindsnet.analysis.plotting import (\r\n",
        "    plot_input,\r\n",
        "    plot_assignments,\r\n",
        "    plot_performance,\r\n",
        "    plot_weights,\r\n",
        "    plot_spikes,\r\n",
        "    plot_voltages,\r\n",
        ")"
      ],
      "outputs": [],
      "metadata": {
        "id": "BFGNAecpT-Lj"
      }
    },
    {
      "cell_type": "markdown",
      "source": [
        "## Set up hyper-parameters"
      ],
      "metadata": {
        "id": "kCqAFucAUDb8"
      }
    },
    {
      "cell_type": "code",
      "execution_count": 2,
      "source": [
        "n_neurons = 100\r\n",
        "n_train = 5000\r\n",
        "n_test = 300\r\n",
        "n_val = 200\r\n",
        "theta_plus = 0.05\r\n",
        "time = 250\r\n",
        "dt = 1\r\n",
        "intensity = 128\r\n",
        "train = True\r\n",
        "gpu = True\r\n",
        "device_id = 0\r\n",
        "n_classes = 10\r\n",
        "neuron_per_class = 10\r\n",
        "seed = 2045 # The Singularity is Near!\r\n",
        "\r\n",
        "reward_kwargs = {\r\n",
        "    'dopaminergic_layer': 'output', \r\n",
        "    'n_labels': n_classes,\r\n",
        "    'neuron_per_class': neuron_per_class,\r\n",
        "    'dopamine_per_spike': 0.2, \r\n",
        "    'tc_reward': 20,\r\n",
        "    'dopamine_base': 0.02,\r\n",
        "}"
      ],
      "outputs": [],
      "metadata": {
        "id": "0YacX9jrUHj4"
      }
    },
    {
      "cell_type": "markdown",
      "source": [
        "## Sets up Gpu use\n"
      ],
      "metadata": {
        "id": "ULGGHW43UksI"
      }
    },
    {
      "cell_type": "code",
      "execution_count": 3,
      "source": [
        "device = torch.device(\"cuda\" if torch.cuda.is_available() else \"cpu\")\r\n",
        "if gpu and torch.cuda.is_available():\r\n",
        "    torch.cuda.manual_seed_all(seed)\r\n",
        "else:\r\n",
        "    torch.manual_seed(seed)\r\n",
        "    device = \"cpu\"\r\n",
        "    if gpu:\r\n",
        "        gpu = False\r\n",
        "\r\n",
        "torch.set_num_threads(os.cpu_count() - 1)\r\n",
        "print(\"Running on Device = \", device)\r\n",
        "\r\n",
        "if not train:\r\n",
        "    update_interval = n_test"
      ],
      "outputs": [
        {
          "output_type": "stream",
          "name": "stdout",
          "text": [
            "Running on Device =  cpu\n"
          ]
        }
      ],
      "metadata": {
        "id": "LiUmFrpcUfmR",
        "colab": {
          "base_uri": "https://localhost:8080/"
        },
        "outputId": "09d81f14-9dc8-46ab-f0ee-4c353451651b"
      }
    },
    {
      "cell_type": "markdown",
      "source": [
        "# Design network"
      ],
      "metadata": {
        "id": "nL0giSqUUvz6"
      }
    },
    {
      "cell_type": "markdown",
      "source": [
        "## Reward Monitor"
      ],
      "metadata": {
        "id": "MBKedMpIleMr"
      }
    },
    {
      "cell_type": "code",
      "execution_count": 4,
      "source": [
        "class RewardMonitor(AbstractMonitor):\r\n",
        "    # language=rst\r\n",
        "    \"\"\"\r\n",
        "    Records state variables of interest.\r\n",
        "    \"\"\"\r\n",
        "\r\n",
        "    def __init__(\r\n",
        "        self,\r\n",
        "        time: None,\r\n",
        "        batch_size: int = 1,\r\n",
        "        device: str = \"cpu\",\r\n",
        "    ):\r\n",
        "        # language=rst\r\n",
        "        \"\"\"\r\n",
        "        Constructs a ``Monitor`` object.\r\n",
        "\r\n",
        "        :param obj: An object to record state variables from during network simulation.\r\n",
        "        :param state_vars: Iterable of strings indicating names of state variables to record.\r\n",
        "        :param time: If not ``None``, pre-allocate memory for state variable recording.\r\n",
        "        :param device: Allow the monitor to be on different device separate from Network device\r\n",
        "        \"\"\"\r\n",
        "        super().__init__()\r\n",
        "\r\n",
        "        self.time = time\r\n",
        "        self.batch_size = batch_size\r\n",
        "        self.device = device\r\n",
        "\r\n",
        "        # if time is not specified the monitor variable accumulate the logs\r\n",
        "        if self.time is None:\r\n",
        "            self.device = \"cpu\"\r\n",
        "\r\n",
        "        self.recording = []\r\n",
        "        self.reset_state_variables()\r\n",
        "\r\n",
        "    def get(self,) -> torch.Tensor:\r\n",
        "        # language=rst\r\n",
        "        \"\"\"\r\n",
        "        Return recording to user.\r\n",
        "\r\n",
        "        :return: Tensor of shape ``[time, n_1, ..., n_k]``, where ``[n_1, ..., n_k]`` is the shape of the recorded state\r\n",
        "        variable.\r\n",
        "        Note, if time == `None`, get return the logs and empty the monitor variable\r\n",
        "\r\n",
        "        \"\"\"\r\n",
        "        # return_logs = torch.as_tensor(self.recording)\r\n",
        "        # if self.time is None:\r\n",
        "        #     self.recording = []\r\n",
        "        return self.recording\r\n",
        "\r\n",
        "    def record(self, **kwargs) -> None:\r\n",
        "        # language=rst\r\n",
        "        \"\"\"\r\n",
        "        Appends the current value of the recorded state variables to the recording.\r\n",
        "        \"\"\"\r\n",
        "        self.recording.append(kwargs[\"reward\"])\r\n",
        "        # remove the oldest element (first in the list)\r\n",
        "        # if self.time is not None:\r\n",
        "        #     self.recording.pop(0)\r\n",
        "\r\n",
        "    def reset_state_variables(self) -> None:\r\n",
        "        # language=rst\r\n",
        "        \"\"\"\r\n",
        "        Resets recordings to empty ``List``s.\r\n",
        "        \"\"\"\r\n",
        "        self.recording = []\r\n"
      ],
      "outputs": [],
      "metadata": {
        "id": "M44GJ65GleMs"
      }
    },
    {
      "cell_type": "code",
      "execution_count": 5,
      "source": [
        "C = 50\r\n",
        "K = 16\r\n",
        "S = 4\r\n",
        "crop_size = 20\r\n",
        "theta_plus = 0.05   ## Adaptive LIF\r\n",
        "inh_factor = 0.5\r\n",
        "wmin = -1.0\r\n",
        "wmax = 1.0\r\n",
        "\r\n",
        "compute_size = lambda inp_size, k, s: int((inp_size-k)/s) + 1\r\n",
        "\r\n",
        "### Reward function\r\n",
        "reward_fn = DynamicDopamineInjection\r\n",
        "network = Network(dt = 1, reward_fn = reward_fn)\r\n",
        "\r\n",
        "### nodes\r\n",
        "inp = Input(shape= [1,20,20], traces=True)\r\n",
        "\r\n",
        "main = AdaptiveLIFNodes(shape= [C, compute_size(20, K, S), compute_size(20, K, S)], traces=True, tc_trace=20, theta_plus=theta_plus)\r\n",
        "#main = LIFNodes(shape= [C, compute_size(20, K, S), compute_size(20, K, S)], traces=True)\r\n",
        "\r\n",
        "# TODO: Diehl & Cook 2015 (v2) \r\n",
        "out = AdaptiveLIFNodes(n= 100, traces=True, tc_trace=20, theta_plus=theta_plus)\r\n",
        "\r\n",
        "### connections \r\n",
        "LC = LocalConnection(inp, main, K, S, C, nu = [1e-2, 1e-4], update_rule = MSTDPET, wmin = wmin, wmax= wmax)\r\n",
        "#LC.w = torch.nn.init.xavier_normal_(LC.w, gain=1.0)\r\n",
        "\r\n",
        "main_out = Connection(main, out, nu = [1e-2, 1e-4], update_rule = MSTDPET, wmin = wmin, wmax= wmax)\r\n",
        "#main_out.w = torch.nn.init.xavier_normal_(main_out.w, gain=1.0)\r\n",
        "\r\n",
        "\r\n",
        "w = -inh_factor * torch.ones(out.n, out.n)\r\n",
        "for c in range(n_classes):\r\n",
        "    ind = slice(c*neuron_per_class,(c+1)*neuron_per_class)\r\n",
        "    w[ind, ind] = 0\r\n",
        "\r\n",
        "\r\n",
        "out_recurrent_inhibition = Connection(\r\n",
        "    source=out,\r\n",
        "    target=out,\r\n",
        "    w=w,\r\n",
        "    wmin=-inh_factor,\r\n",
        "    wmax=0,\r\n",
        "    nu = 1e-4,\r\n",
        ")\r\n",
        "\r\n",
        "network.add_layer(main, \"main\")\r\n",
        "network.add_layer(inp, \"input\")\r\n",
        "network.add_layer(out, \"output\")\r\n",
        "network.add_connection(LC, \"input\", \"main\")\r\n",
        "network.add_connection(main_out, \"main\", \"output\")\r\n",
        "network.add_connection(out_recurrent_inhibition, \"output\", \"output\")\r\n",
        "\r\n",
        "# Directs network to GPU\r\n",
        "if gpu:\r\n",
        "    network.to(\"cuda\")\r\n",
        "\r\n",
        "# Voltage recording for excitatory and inhibitory layers.\r\n",
        "main_monitor = Monitor(network.layers[\"main\"], [\"v\"], time=time, device=device)\r\n",
        "output_monitor = Monitor(network.layers[\"output\"], [\"v\"], time=time, device=device)\r\n",
        "reward_monitor = RewardMonitor(time =time)\r\n",
        "network.add_monitor(main_monitor, name=\"main\")\r\n",
        "network.add_monitor(output_monitor, name=\"output\")\r\n",
        "network.add_monitor(reward_monitor, name=\"reward\")\r\n",
        "\r\n"
      ],
      "outputs": [],
      "metadata": {
        "id": "dK1-BrFEO_1q"
      }
    },
    {
      "cell_type": "markdown",
      "source": [
        "# Load Dataset"
      ],
      "metadata": {
        "id": "6zuUBU9pU3vE"
      }
    },
    {
      "cell_type": "code",
      "execution_count": 27,
      "source": [
        "class ClassSelector(torch.utils.data.sampler.Sampler):\r\n",
        "    \"\"\"Select target classes from the dataset\"\"\"\r\n",
        "    def __init__(self, target_classes, data_source, mask = None):\r\n",
        "        if mask is not None:\r\n",
        "            self.mask = mask\r\n",
        "        else:\r\n",
        "            self.mask = torch.tensor([1 if data_source[i]['label'] in target_classes else 0 for i in range(len(data_source))])\r\n",
        "        self.data_source = data_source\r\n",
        "\r\n",
        "    def __iter__(self):\r\n",
        "        return iter([i.item() for i in torch.nonzero(self.mask)])\r\n",
        "\r\n",
        "    def __len__(self):\r\n",
        "        return len(self.data_source)"
      ],
      "outputs": [],
      "metadata": {
        "id": "2DW7dB11jdqi"
      }
    },
    {
      "cell_type": "code",
      "execution_count": 36,
      "source": [
        "# Load MNIST data.\r\n",
        "dataset = MNIST(\r\n",
        "    PoissonEncoder(time=time, dt=dt),\r\n",
        "    None,\r\n",
        "    root=os.path.join(\"..\", \"..\", \"data\", \"MNIST\"),\r\n",
        "    download=True,\r\n",
        "    transform=transforms.Compose(\r\n",
        "        [transforms.ToTensor(),\r\n",
        "        transforms.Lambda(lambda x: x * intensity),\r\n",
        "        transforms.CenterCrop(crop_size)]\r\n",
        "    ),\r\n",
        ")\r\n",
        "\r\n",
        "# Create a dataloader to iterate and batch data\r\n",
        "dataloader = torch.utils.data.DataLoader(dataset, batch_size=1,\r\n",
        "                                         sampler = ClassSelector(\r\n",
        "                                                target_classes = (2,4),\r\n",
        "                                                data_source = dataset,\r\n",
        "                                                mask = torch.from_numpy(np.load('mask_2_4.npz')['arr_0'])\r\n",
        "                                                )\r\n",
        "                                         )\r\n",
        "\r\n",
        "# Load test dataset\r\n",
        "test_dataset = MNIST(\r\n",
        "    PoissonEncoder(time=time, dt=dt),\r\n",
        "    None,\r\n",
        "    root=os.path.join(\"..\", \"..\", \"data\", \"MNIST\"),\r\n",
        "    download=True,\r\n",
        "    train=False,\r\n",
        "    transform=transforms.Compose(\r\n",
        "        [transforms.ToTensor(),\r\n",
        "        transforms.Lambda(lambda x: x * intensity),\r\n",
        "        transforms.CenterCrop(crop_size)]\r\n",
        "    ),\r\n",
        ")\r\n",
        "\r\n",
        "val_loader = torch.utils.data.DataLoader(test_dataset, batch_size=1,\r\n",
        "                                         sampler = ClassSelector(\r\n",
        "                                                target_classes = (2,4),\r\n",
        "                                                data_source = dataset,\r\n",
        "                                                mask = torch.from_numpy(np.load('mask_2_4.npz')['arr_0']),\r\n",
        "                                                )\r\n",
        "                                         )"
      ],
      "outputs": [],
      "metadata": {
        "id": "DlCXBY0DU3Mc"
      }
    },
    {
      "cell_type": "markdown",
      "source": [
        "# Evaluation Utils"
      ],
      "metadata": {
        "id": "d0hQT9ZrV-u2"
      }
    },
    {
      "cell_type": "code",
      "execution_count": 37,
      "source": [
        "def evaluate(network, val_loader):\r\n",
        "    correct = 0\r\n",
        "    false = 0\r\n",
        "    spikes_val = {}\r\n",
        "    for layer in set(network.layers):\r\n",
        "        spikes_val[layer] = Monitor(network.layers[layer], state_vars=[\"s\"], time=time)\r\n",
        "        network.add_monitor(spikes_val[layer], name=\"%s_spikes\" % layer)\r\n",
        "\r\n",
        "    network.train(False)\r\n",
        "\r\n",
        "    for (i, datum) in enumerate(val_loader):\r\n",
        "        if i > n_val:\r\n",
        "            break\r\n",
        "\r\n",
        "        image = datum[\"encoded_image\"]\r\n",
        "        label = datum[\"label\"]\r\n",
        "\r\n",
        "        # Run the network on the input.\r\n",
        "        if gpu:\r\n",
        "            inputs = {\"input\": image.cuda().view(time, 1, 1, 20, 20)}\r\n",
        "        else:\r\n",
        "            inputs = {\"input\": image.view(time, 1, 1, 20, 20)}\r\n",
        "        network.run(inputs=inputs, time=time, **reward_kwargs, labels=label)\r\n",
        "\r\n",
        "        # Add to spikes recording.\r\n",
        "        output_spikes = spikes_val[\"output\"].get(\"s\").view(time, n_classes, neuron_per_class).sum(0)\r\n",
        "        predicted_label = torch.argmax(output_spikes.sum(1))\r\n",
        "\r\n",
        "        if predicted_label == label:\r\n",
        "            correct+=1\r\n",
        "        else:\r\n",
        "            false+=1\r\n",
        "    val_acc = 100 * correct/(correct + false)\r\n",
        "    return val_acc"
      ],
      "outputs": [],
      "metadata": {
        "id": "1y5K1O2YRDoL"
      }
    },
    {
      "cell_type": "markdown",
      "source": [
        "# Train"
      ],
      "metadata": {
        "id": "SokdidkrV2Z5"
      }
    },
    {
      "cell_type": "code",
      "execution_count": 38,
      "source": [
        "# Train the network.\r\n",
        "print(\"Begin training.\\n\")\r\n",
        "\r\n",
        "correct = 0\r\n",
        "false = 0\r\n",
        "val_interval = 250\r\n",
        "spikes = {}\r\n",
        "for layer in set(network.layers):\r\n",
        "    spikes[layer] = Monitor(network.layers[layer], state_vars=[\"s\"], time=time)\r\n",
        "    network.add_monitor(spikes[layer], name=\"%s_spikes\" % layer)\r\n",
        "\r\n",
        "val_acc = 0.0\r\n",
        "\r\n",
        "reward_history = []\r\n",
        "pbar = tqdm(total=n_train)\r\n",
        "for (i, datum) in enumerate(dataloader):\r\n",
        "    if i > n_train:\r\n",
        "        break\r\n",
        "\r\n",
        "    image = datum[\"encoded_image\"]\r\n",
        "    label = datum[\"label\"]\r\n",
        "\r\n",
        "    # Run the network on the input.\r\n",
        "    if gpu:\r\n",
        "        inputs = {\"input\": image.cuda().view(time, 1, 1, 20, 20)}\r\n",
        "    else:\r\n",
        "        inputs = {\"input\": image.view(time, 1, 1, 20, 20)}\r\n",
        "    network.run(inputs=inputs, time=time, **reward_kwargs, labels = label)\r\n",
        "\r\n",
        "    # Get voltage recording.\r\n",
        "    main_voltage = main_monitor.get(\"v\")\r\n",
        "    out_voltage = output_monitor.get(\"v\")\r\n",
        "    reward_history.append(reward_monitor.get())\r\n",
        "\r\n",
        "    # Add to spikes recording.\r\n",
        "    output_spikes = spikes[\"output\"].get(\"s\").view(time, n_classes, neuron_per_class).sum(0)\r\n",
        "    predicted_label = torch.argmax(output_spikes.sum(1))\r\n",
        "\r\n",
        "    print(\"\\routput\", output_spikes.sum(1), 'predicted_label:', predicted_label.item(), 'GT:', label.item(), end = '')\r\n",
        "    # print('main', spikes[\"main\"].get(\"s\").sum(0).sum(1))\r\n",
        "    # print(\"input\", spikes[\"input\"].get(\"s\").sum(0).sum(1))\r\n",
        "    # if  i % val_interval == 0 and i!=0:\r\n",
        "    #     if i != n_train:\r\n",
        "    #         correct = 0\r\n",
        "    #         false = 0\r\n",
        "    #     val_acc = evaluate(network, val_loader)\r\n",
        "    #     network.train(mode=True)\r\n",
        "\r\n",
        "    if predicted_label == label:\r\n",
        "        correct+=1\r\n",
        "    else:\r\n",
        "        false+=1\r\n",
        "        \r\n",
        "    acc = 100 * correct/(correct + false)\r\n",
        "    # network.reset_state_variables()  # Reset state variables.\r\n",
        "    \r\n",
        "    pbar.set_description_str(\"Running accuracy: \" + \"{:.2f}\".format(acc) + \"%, \" + \"Current val accuracy: \" + \"{:.2f}\".format(val_acc) + \"%, \")\r\n",
        "    pbar.update()"
      ],
      "outputs": [
        {
          "output_type": "stream",
          "name": "stdout",
          "text": [
            "Begin training.\n",
            "\n"
          ]
        },
        {
          "output_type": "display_data",
          "data": {
            "text/plain": [
              "HBox(children=(FloatProgress(value=0.0, max=5000.0), HTML(value='')))"
            ],
            "application/vnd.jupyter.widget-view+json": {
              "version_major": 2,
              "version_minor": 0,
              "model_id": "3cf10a4c16fa4a91be51777da11975f1"
            }
          },
          "metadata": {}
        },
        {
          "output_type": "stream",
          "name": "stdout",
          "text": [
            "output tensor([ 1,  7,  6,  2,  3,  2,  6,  1,  2, 24]) predicted_label: 9 GT: 2"
          ]
        },
        {
          "output_type": "error",
          "ename": "KeyboardInterrupt",
          "evalue": "",
          "traceback": [
            "\u001b[1;31m---------------------------------------------------------------------------\u001b[0m",
            "\u001b[1;31mKeyboardInterrupt\u001b[0m                         Traceback (most recent call last)",
            "\u001b[1;32m<ipython-input-38-2bdb6e4495d5>\u001b[0m in \u001b[0;36m<module>\u001b[1;34m\u001b[0m\n\u001b[0;32m     26\u001b[0m     \u001b[1;32melse\u001b[0m\u001b[1;33m:\u001b[0m\u001b[1;33m\u001b[0m\u001b[1;33m\u001b[0m\u001b[0m\n\u001b[0;32m     27\u001b[0m         \u001b[0minputs\u001b[0m \u001b[1;33m=\u001b[0m \u001b[1;33m{\u001b[0m\u001b[1;34m\"input\"\u001b[0m\u001b[1;33m:\u001b[0m \u001b[0mimage\u001b[0m\u001b[1;33m.\u001b[0m\u001b[0mview\u001b[0m\u001b[1;33m(\u001b[0m\u001b[0mtime\u001b[0m\u001b[1;33m,\u001b[0m \u001b[1;36m1\u001b[0m\u001b[1;33m,\u001b[0m \u001b[1;36m1\u001b[0m\u001b[1;33m,\u001b[0m \u001b[1;36m20\u001b[0m\u001b[1;33m,\u001b[0m \u001b[1;36m20\u001b[0m\u001b[1;33m)\u001b[0m\u001b[1;33m}\u001b[0m\u001b[1;33m\u001b[0m\u001b[1;33m\u001b[0m\u001b[0m\n\u001b[1;32m---> 28\u001b[1;33m     \u001b[0mnetwork\u001b[0m\u001b[1;33m.\u001b[0m\u001b[0mrun\u001b[0m\u001b[1;33m(\u001b[0m\u001b[0minputs\u001b[0m\u001b[1;33m=\u001b[0m\u001b[0minputs\u001b[0m\u001b[1;33m,\u001b[0m \u001b[0mtime\u001b[0m\u001b[1;33m=\u001b[0m\u001b[0mtime\u001b[0m\u001b[1;33m,\u001b[0m \u001b[1;33m**\u001b[0m\u001b[0mreward_kwargs\u001b[0m\u001b[1;33m,\u001b[0m \u001b[0mlabels\u001b[0m \u001b[1;33m=\u001b[0m \u001b[0mlabel\u001b[0m\u001b[1;33m)\u001b[0m\u001b[1;33m\u001b[0m\u001b[1;33m\u001b[0m\u001b[0m\n\u001b[0m\u001b[0;32m     29\u001b[0m \u001b[1;33m\u001b[0m\u001b[0m\n\u001b[0;32m     30\u001b[0m     \u001b[1;31m# Get voltage recording.\u001b[0m\u001b[1;33m\u001b[0m\u001b[1;33m\u001b[0m\u001b[1;33m\u001b[0m\u001b[0m\n",
            "\u001b[1;32mc:\\Python\\singularbrain\\bindsnet\\bindsnet\\network\\network.py\u001b[0m in \u001b[0;36mrun\u001b[1;34m(self, inputs, time, one_step, **kwargs)\u001b[0m\n\u001b[0;32m    416\u001b[0m             \u001b[1;31m# Run synapse updates.\u001b[0m\u001b[1;33m\u001b[0m\u001b[1;33m\u001b[0m\u001b[1;33m\u001b[0m\u001b[0m\n\u001b[0;32m    417\u001b[0m             \u001b[1;32mfor\u001b[0m \u001b[0mc\u001b[0m \u001b[1;32min\u001b[0m \u001b[0mself\u001b[0m\u001b[1;33m.\u001b[0m\u001b[0mconnections\u001b[0m\u001b[1;33m:\u001b[0m\u001b[1;33m\u001b[0m\u001b[1;33m\u001b[0m\u001b[0m\n\u001b[1;32m--> 418\u001b[1;33m                 self.connections[c].update(\n\u001b[0m\u001b[0;32m    419\u001b[0m                     \u001b[0mmask\u001b[0m\u001b[1;33m=\u001b[0m\u001b[0mmasks\u001b[0m\u001b[1;33m.\u001b[0m\u001b[0mget\u001b[0m\u001b[1;33m(\u001b[0m\u001b[0mc\u001b[0m\u001b[1;33m,\u001b[0m \u001b[1;32mNone\u001b[0m\u001b[1;33m)\u001b[0m\u001b[1;33m,\u001b[0m \u001b[0mlearning\u001b[0m\u001b[1;33m=\u001b[0m\u001b[0mself\u001b[0m\u001b[1;33m.\u001b[0m\u001b[0mlearning\u001b[0m\u001b[1;33m,\u001b[0m \u001b[1;33m**\u001b[0m\u001b[0mkwargs\u001b[0m\u001b[1;33m\u001b[0m\u001b[1;33m\u001b[0m\u001b[0m\n\u001b[0;32m    420\u001b[0m                 )\n",
            "\u001b[1;32mc:\\Python\\singularbrain\\bindsnet\\bindsnet\\network\\topology.py\u001b[0m in \u001b[0;36mupdate\u001b[1;34m(self, **kwargs)\u001b[0m\n\u001b[0;32m    639\u001b[0m             \u001b[0mkwargs\u001b[0m\u001b[1;33m[\u001b[0m\u001b[1;34m\"mask\"\u001b[0m\u001b[1;33m]\u001b[0m \u001b[1;33m=\u001b[0m \u001b[0mself\u001b[0m\u001b[1;33m.\u001b[0m\u001b[0mmask\u001b[0m\u001b[1;33m\u001b[0m\u001b[1;33m\u001b[0m\u001b[0m\n\u001b[0;32m    640\u001b[0m \u001b[1;33m\u001b[0m\u001b[0m\n\u001b[1;32m--> 641\u001b[1;33m         \u001b[0msuper\u001b[0m\u001b[1;33m(\u001b[0m\u001b[1;33m)\u001b[0m\u001b[1;33m.\u001b[0m\u001b[0mupdate\u001b[0m\u001b[1;33m(\u001b[0m\u001b[1;33m**\u001b[0m\u001b[0mkwargs\u001b[0m\u001b[1;33m)\u001b[0m\u001b[1;33m\u001b[0m\u001b[1;33m\u001b[0m\u001b[0m\n\u001b[0m\u001b[0;32m    642\u001b[0m \u001b[1;33m\u001b[0m\u001b[0m\n\u001b[0;32m    643\u001b[0m     \u001b[1;32mdef\u001b[0m \u001b[0mnormalize\u001b[0m\u001b[1;33m(\u001b[0m\u001b[0mself\u001b[0m\u001b[1;33m)\u001b[0m \u001b[1;33m->\u001b[0m \u001b[1;32mNone\u001b[0m\u001b[1;33m:\u001b[0m\u001b[1;33m\u001b[0m\u001b[1;33m\u001b[0m\u001b[0m\n",
            "\u001b[1;32mc:\\Python\\singularbrain\\bindsnet\\bindsnet\\network\\topology.py\u001b[0m in \u001b[0;36mupdate\u001b[1;34m(self, **kwargs)\u001b[0m\n\u001b[0;32m    100\u001b[0m \u001b[1;33m\u001b[0m\u001b[0m\n\u001b[0;32m    101\u001b[0m         \u001b[1;32mif\u001b[0m \u001b[0mlearning\u001b[0m\u001b[1;33m:\u001b[0m\u001b[1;33m\u001b[0m\u001b[1;33m\u001b[0m\u001b[0m\n\u001b[1;32m--> 102\u001b[1;33m             \u001b[0mself\u001b[0m\u001b[1;33m.\u001b[0m\u001b[0mupdate_rule\u001b[0m\u001b[1;33m.\u001b[0m\u001b[0mupdate\u001b[0m\u001b[1;33m(\u001b[0m\u001b[1;33m**\u001b[0m\u001b[0mkwargs\u001b[0m\u001b[1;33m)\u001b[0m\u001b[1;33m\u001b[0m\u001b[1;33m\u001b[0m\u001b[0m\n\u001b[0m\u001b[0;32m    103\u001b[0m \u001b[1;33m\u001b[0m\u001b[0m\n\u001b[0;32m    104\u001b[0m         \u001b[0mmask\u001b[0m \u001b[1;33m=\u001b[0m \u001b[0mkwargs\u001b[0m\u001b[1;33m.\u001b[0m\u001b[0mget\u001b[0m\u001b[1;33m(\u001b[0m\u001b[1;34m\"mask\"\u001b[0m\u001b[1;33m,\u001b[0m \u001b[1;32mNone\u001b[0m\u001b[1;33m)\u001b[0m\u001b[1;33m\u001b[0m\u001b[1;33m\u001b[0m\u001b[0m\n",
            "\u001b[1;32mc:\\Python\\singularbrain\\bindsnet\\bindsnet\\learning\\learning.py\u001b[0m in \u001b[0;36m_connection_update\u001b[1;34m(self, **kwargs)\u001b[0m\n\u001b[0;32m    781\u001b[0m         \u001b[1;31m# Calculate value of eligibility trace based on the value\u001b[0m\u001b[1;33m\u001b[0m\u001b[1;33m\u001b[0m\u001b[1;33m\u001b[0m\u001b[0m\n\u001b[0;32m    782\u001b[0m         \u001b[1;31m# of the point eligibility value of the past timestep.\u001b[0m\u001b[1;33m\u001b[0m\u001b[1;33m\u001b[0m\u001b[1;33m\u001b[0m\u001b[0m\n\u001b[1;32m--> 783\u001b[1;33m         \u001b[0mself\u001b[0m\u001b[1;33m.\u001b[0m\u001b[0meligibility_trace\u001b[0m \u001b[1;33m*=\u001b[0m \u001b[0mtorch\u001b[0m\u001b[1;33m.\u001b[0m\u001b[0mexp\u001b[0m\u001b[1;33m(\u001b[0m\u001b[1;33m-\u001b[0m\u001b[0mself\u001b[0m\u001b[1;33m.\u001b[0m\u001b[0mconnection\u001b[0m\u001b[1;33m.\u001b[0m\u001b[0mdt\u001b[0m \u001b[1;33m/\u001b[0m \u001b[0mself\u001b[0m\u001b[1;33m.\u001b[0m\u001b[0mtc_e_trace\u001b[0m\u001b[1;33m)\u001b[0m\u001b[1;33m\u001b[0m\u001b[1;33m\u001b[0m\u001b[0m\n\u001b[0m\u001b[0;32m    784\u001b[0m         \u001b[0mself\u001b[0m\u001b[1;33m.\u001b[0m\u001b[0meligibility_trace\u001b[0m \u001b[1;33m+=\u001b[0m \u001b[0mself\u001b[0m\u001b[1;33m.\u001b[0m\u001b[0meligibility\u001b[0m \u001b[1;33m/\u001b[0m \u001b[0mself\u001b[0m\u001b[1;33m.\u001b[0m\u001b[0mtc_e_trace\u001b[0m\u001b[1;33m\u001b[0m\u001b[1;33m\u001b[0m\u001b[0m\n\u001b[0;32m    785\u001b[0m \u001b[1;33m\u001b[0m\u001b[0m\n",
            "\u001b[1;31mKeyboardInterrupt\u001b[0m: "
          ]
        }
      ],
      "metadata": {
        "id": "Gk3H-hrdPLIU",
        "colab": {
          "base_uri": "https://localhost:8080/",
          "height": 100,
          "referenced_widgets": [
            "8e8421648622424c9ab56287cb1dbd38",
            "f29cdc04ef1340af86de95b60b583dcc",
            "c6e8e4a638ac43ddb82e0c2db1e92563",
            "6fa3dc144dd44300bb14888233819d13",
            "60e0860291104015899173d256853593",
            "a71c5687429a4ab090bf4f982ea80677",
            "7985f88a2c4544d18b376a2108fad858",
            "1470d2ef4f964d99b5afe17b7f2060dd",
            "1f2d8542ab654adcb100041ef493e55d",
            "8dd118aa643848f18c7f2f95531b1f7f",
            "d600e77d764546fead75a188ee3ca65f"
          ]
        },
        "outputId": "c90217a9-eb9c-41fe-f09d-fe43c1f1f892"
      }
    },
    {
      "cell_type": "code",
      "execution_count": 89,
      "source": [
        "from matplotlib import pyplot as plt\r\n",
        "for c in network.connections:\r\n",
        "    print(c)\r\n",
        "    w = network.connections[c].w.cpu()\r\n",
        "    print(w)\r\n",
        "    plt.hist(torch.histc(w, bins=200).tolist(),bins = 200, range = (w.min().item(), w.max().item()))\r\n",
        "    print((w.min().item(), w.max().item()))\r\n",
        "    plt.show()"
      ],
      "outputs": [
        {
          "output_type": "stream",
          "name": "stdout",
          "text": [
            "('input', 'main')\n",
            "tensor([[ 0.8232,  0.0000,  0.0000,  ...,  0.0000,  0.0000,  0.0000],\n",
            "        [-0.3769,  0.0000,  0.0000,  ...,  0.0000,  0.0000,  0.0000],\n",
            "        [ 0.2339,  0.0000,  0.0000,  ...,  0.0000,  0.0000,  0.0000],\n",
            "        ...,\n",
            "        [ 0.0000,  0.0000,  0.0000,  ...,  0.0000,  0.0000, -0.1188],\n",
            "        [ 0.0000,  0.0000,  0.0000,  ...,  0.0000,  0.0000, -0.1439],\n",
            "        [ 0.0000,  0.0000,  0.0000,  ...,  0.0000,  0.0000, -0.4439]])\n",
            "(-1.0000051259994507, 1.0000135898590088)\n"
          ]
        },
        {
          "output_type": "display_data",
          "data": {
            "text/plain": [
              "<Figure size 432x288 with 1 Axes>"
            ],
            "image/png": "[encoded data removed]"
          },
          "metadata": {
            "tags": [],
            "needs_background": "light"
          }
        },
        {
          "output_type": "stream",
          "name": "stdout",
          "text": [
            "('main', 'output')\n",
            "tensor([[-0.9580, -0.4543, -0.0117,  ..., -0.7069, -0.7988, -0.9462],\n",
            "        [-0.2655,  0.9095, -0.7128,  ...,  0.7128,  0.4573, -0.6863],\n",
            "        [ 0.5858,  0.1315,  0.5714,  ...,  0.6636, -0.7231,  0.2240],\n",
            "        ...,\n",
            "        [-0.5069,  0.5318,  0.9923,  ..., -0.1741,  0.5249,  0.6005],\n",
            "        [-0.6213, -0.6972,  0.1976,  ..., -0.6090, -0.5876,  0.3995],\n",
            "        [-0.9182,  0.0442,  0.5837,  ..., -0.2019,  0.8700, -0.9570]])\n",
            "(-1.0, 1.0)\n"
          ]
        },
        {
          "output_type": "display_data",
          "data": {
            "text/plain": [
              "<Figure size 432x288 with 1 Axes>"
            ],
            "image/png": "[encoded data removed]"
          },
          "metadata": {
            "tags": [],
            "needs_background": "light"
          }
        }
      ],
      "metadata": {
        "id": "wR-DOl-AnUtV",
        "outputId": "ab9d2ae9-a4d3-41cc-b034-28e752ce397f",
        "colab": {
          "base_uri": "https://localhost:8080/",
          "height": 823
        }
      }
    },
    {
      "cell_type": "code",
      "execution_count": 33,
      "source": [
        "w = input_main.w.cpu()\n",
        "plt.hist(torch.histc(w), range = (w.min().item(), w.max().item()))"
      ],
      "outputs": [
        {
          "output_type": "error",
          "ename": "NameError",
          "evalue": "ignored",
          "traceback": [
            "\u001b[0;31m---------------------------------------------------------------------------\u001b[0m",
            "\u001b[0;31mNameError\u001b[0m                                 Traceback (most recent call last)",
            "\u001b[0;32m<ipython-input-33-2869ccf346f4>\u001b[0m in \u001b[0;36m<module>\u001b[0;34m()\u001b[0m\n\u001b[0;32m----> 1\u001b[0;31m \u001b[0mw\u001b[0m \u001b[0;34m=\u001b[0m \u001b[0minput_main\u001b[0m\u001b[0;34m.\u001b[0m\u001b[0mw\u001b[0m\u001b[0;34m.\u001b[0m\u001b[0mcpu\u001b[0m\u001b[0;34m(\u001b[0m\u001b[0;34m)\u001b[0m\u001b[0;34m\u001b[0m\u001b[0;34m\u001b[0m\u001b[0m\n\u001b[0m\u001b[1;32m      2\u001b[0m \u001b[0mplt\u001b[0m\u001b[0;34m.\u001b[0m\u001b[0mhist\u001b[0m\u001b[0;34m(\u001b[0m\u001b[0mtorch\u001b[0m\u001b[0;34m.\u001b[0m\u001b[0mhistc\u001b[0m\u001b[0;34m(\u001b[0m\u001b[0mw\u001b[0m\u001b[0;34m)\u001b[0m\u001b[0;34m,\u001b[0m \u001b[0mrange\u001b[0m \u001b[0;34m=\u001b[0m \u001b[0;34m(\u001b[0m\u001b[0mw\u001b[0m\u001b[0;34m.\u001b[0m\u001b[0mmin\u001b[0m\u001b[0;34m(\u001b[0m\u001b[0;34m)\u001b[0m\u001b[0;34m.\u001b[0m\u001b[0mitem\u001b[0m\u001b[0;34m(\u001b[0m\u001b[0;34m)\u001b[0m\u001b[0;34m,\u001b[0m \u001b[0mw\u001b[0m\u001b[0;34m.\u001b[0m\u001b[0mmax\u001b[0m\u001b[0;34m(\u001b[0m\u001b[0;34m)\u001b[0m\u001b[0;34m.\u001b[0m\u001b[0mitem\u001b[0m\u001b[0;34m(\u001b[0m\u001b[0;34m)\u001b[0m\u001b[0;34m)\u001b[0m\u001b[0;34m)\u001b[0m\u001b[0;34m\u001b[0m\u001b[0;34m\u001b[0m\u001b[0m\n",
            "\u001b[0;31mNameError\u001b[0m: name 'input_main' is not defined"
          ]
        }
      ],
      "metadata": {
        "id": "dvmZxxRzrOQn",
        "outputId": "6c14d7df-31dc-42fd-dec2-c19cb9060e59",
        "colab": {
          "base_uri": "https://localhost:8080/",
          "height": 183
        }
      }
    },
    {
      "cell_type": "code",
      "execution_count": 12,
      "source": [
        "output_spikes = spikes[\"output\"].get(\"s\").view(time, n_classes, neuron_per_class).sum(0)\n",
        "predicted_label = torch.argmax(output_spikes.sum(1))\n",
        "print(\"\\routput\", output_spikes.sum(1), 'predicted_label:', predicted_label.item(), 'GT:', label.item(), end = '')\n",
        "reward_history"
      ],
      "outputs": [
        {
          "output_type": "stream",
          "name": "stdout",
          "text": [
            "\routput tensor([311, 306, 306, 304, 315, 308, 311, 309, 305, 302]) predicted_label: 4 GT: 4"
          ]
        },
        {
          "output_type": "execute_result",
          "data": {
            "text/plain": [
              "[tensor(0.0200, device='cuda:0'),\n",
              " tensor(0.0200, device='cuda:0'),\n",
              " tensor(0.0200, device='cuda:0'),\n",
              " tensor(0.0200, device='cuda:0'),\n",
              " tensor(0.0200, device='cuda:0'),\n",
              " tensor(0.0200, device='cuda:0'),\n",
              " tensor(0.0200, device='cuda:0'),\n",
              " tensor(0.0200, device='cuda:0'),\n",
              " tensor(2.0200, device='cuda:0'),\n",
              " tensor(1.9225, device='cuda:0'),\n",
              " tensor(1.8297, device='cuda:0'),\n",
              " tensor(1.7414, device='cuda:0'),\n",
              " tensor(1.6575, device='cuda:0'),\n",
              " tensor(1.5776, device='cuda:0'),\n",
              " tensor(1.5016, device='cuda:0'),\n",
              " tensor(1.4294, device='cuda:0'),\n",
              " tensor(3.3606, device='cuda:0'),\n",
              " tensor(3.1977, device='cuda:0'),\n",
              " tensor(3.0427, device='cuda:0'),\n",
              " tensor(2.8953, device='cuda:0'),\n",
              " tensor(2.7551, device='cuda:0'),\n",
              " tensor(2.6217, device='cuda:0'),\n",
              " tensor(2.4948, device='cuda:0'),\n",
              " tensor(2.3741, device='cuda:0'),\n",
              " tensor(3.6593, device='cuda:0'),\n",
              " tensor(3.4818, device='cuda:0'),\n",
              " tensor(3.9130, device='cuda:0'),\n",
              " tensor(3.7231, device='cuda:0'),\n",
              " tensor(3.5425, device='cuda:0'),\n",
              " tensor(3.3707, device='cuda:0'),\n",
              " tensor(3.2073, device='cuda:0'),\n",
              " tensor(3.0518, device='cuda:0'),\n",
              " tensor(4.3040, device='cuda:0'),\n",
              " tensor(4.0951, device='cuda:0'),\n",
              " tensor(4.4963, device='cuda:0'),\n",
              " tensor(4.2780, device='cuda:0'),\n",
              " tensor(4.0703, device='cuda:0'),\n",
              " tensor(3.8728, device='cuda:0'),\n",
              " tensor(3.6849, device='cuda:0'),\n",
              " tensor(3.5062, device='cuda:0'),\n",
              " tensor(4.7361, device='cuda:0'),\n",
              " tensor(4.5061, device='cuda:0'),\n",
              " tensor(4.8873, device='cuda:0'),\n",
              " tensor(4.6499, device='cuda:0'),\n",
              " tensor(4.4241, device='cuda:0'),\n",
              " tensor(4.2094, device='cuda:0'),\n",
              " tensor(4.0050, device='cuda:0'),\n",
              " tensor(3.8107, device='cuda:0'),\n",
              " tensor(3.6258, device='cuda:0'),\n",
              " tensor(5.4499, device='cuda:0'),\n",
              " tensor(5.1851, device='cuda:0'),\n",
              " tensor(4.9332, device='cuda:0'),\n",
              " tensor(4.6936, device='cuda:0'),\n",
              " tensor(4.4657, device='cuda:0'),\n",
              " tensor(4.2488, device='cuda:0'),\n",
              " tensor(4.0426, device='cuda:0'),\n",
              " tensor(3.8464, device='cuda:0'),\n",
              " tensor(5.6598, device='cuda:0'),\n",
              " tensor(5.3847, device='cuda:0'),\n",
              " tensor(5.1231, device='cuda:0'),\n",
              " tensor(4.8742, device='cuda:0'),\n",
              " tensor(4.6375, device='cuda:0'),\n",
              " tensor(4.4123, device='cuda:0'),\n",
              " tensor(4.1981, device='cuda:0'),\n",
              " tensor(3.9943, device='cuda:0'),\n",
              " tensor(5.8005, device='cuda:0'),\n",
              " tensor(5.5186, device='cuda:0'),\n",
              " tensor(5.2504, device='cuda:0'),\n",
              " tensor(4.9953, device='cuda:0'),\n",
              " tensor(4.7526, device='cuda:0'),\n",
              " tensor(4.5218, device='cuda:0'),\n",
              " tensor(4.3023, device='cuda:0'),\n",
              " tensor(4.0934, device='cuda:0'),\n",
              " tensor(5.8948, device='cuda:0'),\n",
              " tensor(5.6082, device='cuda:0'),\n",
              " tensor(5.3357, device='cuda:0'),\n",
              " tensor(5.0765, device='cuda:0'),\n",
              " tensor(4.8299, device='cuda:0'),\n",
              " tensor(4.5953, device='cuda:0'),\n",
              " tensor(4.3721, device='cuda:0'),\n",
              " tensor(4.9599, device='cuda:0'),\n",
              " tensor(5.1190, device='cuda:0'),\n",
              " tensor(5.6703, device='cuda:0'),\n",
              " tensor(5.3947, device='cuda:0'),\n",
              " tensor(5.1326, device='cuda:0'),\n",
              " tensor(4.8832, device='cuda:0'),\n",
              " tensor(4.6461, device='cuda:0'),\n",
              " tensor(5.6204, device='cuda:0'),\n",
              " tensor(5.3473, device='cuda:0'),\n",
              " tensor(5.0875, device='cuda:0'),\n",
              " tensor(4.8403, device='cuda:0'),\n",
              " tensor(4.6053, device='cuda:0'),\n",
              " tensor(4.3816, device='cuda:0'),\n",
              " tensor(6.1689, device='cuda:0'),\n",
              " tensor(5.8690, device='cuda:0'),\n",
              " tensor(5.5838, device='cuda:0'),\n",
              " tensor(5.3124, device='cuda:0'),\n",
              " tensor(5.0543, device='cuda:0'),\n",
              " tensor(4.8088, device='cuda:0'),\n",
              " tensor(4.5752, device='cuda:0'),\n",
              " tensor(6.3531, device='cuda:0'),\n",
              " tensor(6.0442, device='cuda:0'),\n",
              " tensor(5.7504, device='cuda:0'),\n",
              " tensor(5.4709, device='cuda:0'),\n",
              " tensor(5.2051, device='cuda:0'),\n",
              " tensor(4.9522, device='cuda:0'),\n",
              " tensor(4.7116, device='cuda:0'),\n",
              " tensor(4.8828, device='cuda:0'),\n",
              " tensor(5.8457, device='cuda:0'),\n",
              " tensor(5.9615, device='cuda:0'),\n",
              " tensor(5.6718, device='cuda:0'),\n",
              " tensor(5.3961, device='cuda:0'),\n",
              " tensor(5.1339, device='cuda:0'),\n",
              " tensor(4.8845, device='cuda:0'),\n",
              " tensor(4.6473, device='cuda:0'),\n",
              " tensor(4.8216, device='cuda:0'),\n",
              " tensor(6.1874, device='cuda:0'),\n",
              " tensor(5.8866, device='cuda:0'),\n",
              " tensor(5.6005, device='cuda:0'),\n",
              " tensor(5.3284, device='cuda:0'),\n",
              " tensor(5.0695, device='cuda:0'),\n",
              " tensor(4.8232, device='cuda:0'),\n",
              " tensor(4.5889, device='cuda:0'),\n",
              " tensor(4.9661, device='cuda:0'),\n",
              " tensor(6.1249, device='cuda:0'),\n",
              " tensor(5.8271, device='cuda:0'),\n",
              " tensor(5.5439, device='cuda:0'),\n",
              " tensor(5.2745, device='cuda:0'),\n",
              " tensor(5.0183, device='cuda:0'),\n",
              " tensor(4.7745, device='cuda:0'),\n",
              " tensor(4.5426, device='cuda:0'),\n",
              " tensor(5.1220, device='cuda:0'),\n",
              " tensor(6.0732, device='cuda:0'),\n",
              " tensor(5.7780, device='cuda:0'),\n",
              " tensor(5.4972, device='cuda:0'),\n",
              " tensor(5.2300, device='cuda:0'),\n",
              " tensor(4.9759, device='cuda:0'),\n",
              " tensor(4.7342, device='cuda:0'),\n",
              " tensor(4.5043, device='cuda:0'),\n",
              " tensor(5.0856, device='cuda:0'),\n",
              " tensor(6.0386, device='cuda:0'),\n",
              " tensor(5.7450, device='cuda:0'),\n",
              " tensor(5.4658, device='cuda:0'),\n",
              " tensor(5.2002, device='cuda:0'),\n",
              " tensor(4.9476, device='cuda:0'),\n",
              " tensor(4.7073, device='cuda:0'),\n",
              " tensor(4.4787, device='cuda:0'),\n",
              " tensor(4.8612, device='cuda:0'),\n",
              " tensor(4.6251, device='cuda:0'),\n",
              " tensor(5.8005, device='cuda:0'),\n",
              " tensor(5.5186, device='cuda:0'),\n",
              " tensor(5.2504, device='cuda:0'),\n",
              " tensor(4.9953, device='cuda:0'),\n",
              " tensor(4.7527, device='cuda:0'),\n",
              " tensor(4.5219, device='cuda:0'),\n",
              " tensor(4.3023, device='cuda:0'),\n",
              " tensor(4.6935, device='cuda:0'),\n",
              " tensor(4.4655, device='cuda:0'),\n",
              " tensor(5.6487, device='cuda:0'),\n",
              " tensor(5.3742, device='cuda:0'),\n",
              " tensor(5.1131, device='cuda:0'),\n",
              " tensor(4.8647, device='cuda:0'),\n",
              " tensor(4.6284, device='cuda:0'),\n",
              " tensor(4.4036, device='cuda:0'),\n",
              " tensor(4.1899, device='cuda:0'),\n",
              " tensor(3.9865, device='cuda:0'),\n",
              " tensor(5.7930, device='cuda:0'),\n",
              " tensor(5.5115, device='cuda:0'),\n",
              " tensor(5.2437, device='cuda:0'),\n",
              " tensor(4.9889, device='cuda:0'),\n",
              " tensor(4.7466, device='cuda:0'),\n",
              " tensor(4.5160, device='cuda:0'),\n",
              " tensor(4.2968, device='cuda:0'),\n",
              " tensor(6.0882, device='cuda:0'),\n",
              " tensor(5.7922, device='cuda:0'),\n",
              " tensor(5.5107, device='cuda:0'),\n",
              " tensor(5.2429, device='cuda:0'),\n",
              " tensor(4.9882, device='cuda:0'),\n",
              " tensor(4.7459, device='cuda:0'),\n",
              " tensor(4.5154, device='cuda:0'),\n",
              " tensor(5.0962, device='cuda:0'),\n",
              " tensor(6.0486, device='cuda:0'),\n",
              " tensor(5.7546, device='cuda:0'),\n",
              " tensor(5.4749, device='cuda:0'),\n",
              " tensor(5.2089, device='cuda:0'),\n",
              " tensor(4.9558, device='cuda:0'),\n",
              " tensor(5.5151, device='cuda:0'),\n",
              " tensor(5.2471, device='cuda:0'),\n",
              " tensor(5.1922, device='cuda:0'),\n",
              " tensor(5.1399, device='cuda:0'),\n",
              " tensor(5.6902, device='cuda:0'),\n",
              " tensor(5.4137, device='cuda:0'),\n",
              " tensor(5.1506, device='cuda:0'),\n",
              " tensor(4.9004, device='cuda:0'),\n",
              " tensor(5.2624, device='cuda:0'),\n",
              " tensor(5.6067, device='cuda:0'),\n",
              " tensor(5.3342, device='cuda:0'),\n",
              " tensor(5.0751, device='cuda:0'),\n",
              " tensor(5.6285, device='cuda:0'),\n",
              " tensor(5.3550, device='cuda:0'),\n",
              " tensor(5.0948, device='cuda:0'),\n",
              " tensor(4.8473, device='cuda:0'),\n",
              " tensor(5.2119, device='cuda:0'),\n",
              " tensor(5.5587, device='cuda:0'),\n",
              " tensor(5.2885, device='cuda:0'),\n",
              " tensor(5.0316, device='cuda:0'),\n",
              " tensor(5.5872, device='cuda:0'),\n",
              " tensor(5.3157, device='cuda:0'),\n",
              " tensor(5.0574, device='cuda:0'),\n",
              " tensor(5.0117, device='cuda:0'),\n",
              " tensor(5.3683, device='cuda:0'),\n",
              " tensor(5.5074, device='cuda:0'),\n",
              " tensor(5.2398, device='cuda:0'),\n",
              " tensor(5.7852, device='cuda:0'),\n",
              " tensor(5.5040, device='cuda:0'),\n",
              " tensor(5.2366, device='cuda:0'),\n",
              " tensor(5.7822, device='cuda:0'),\n",
              " tensor(5.5011, device='cuda:0'),\n",
              " tensor(5.2338, device='cuda:0'),\n",
              " tensor(5.9795, device='cuda:0'),\n",
              " tensor(5.6889, device='cuda:0'),\n",
              " tensor(5.4124, device='cuda:0'),\n",
              " tensor(5.3494, device='cuda:0'),\n",
              " tensor(5.4895, device='cuda:0'),\n",
              " tensor(5.6228, device='cuda:0'),\n",
              " tensor(6.3495, device='cuda:0'),\n",
              " tensor(6.0408, device='cuda:0'),\n",
              " tensor(5.7472, device='cuda:0'),\n",
              " tensor(5.4679, device='cuda:0'),\n",
              " tensor(5.4022, device='cuda:0'),\n",
              " tensor(5.1397, device='cuda:0'),\n",
              " tensor(5.2900, device='cuda:0'),\n",
              " tensor(5.0330, device='cuda:0'),\n",
              " tensor(6.1885, device='cuda:0'),\n",
              " tensor(5.8876, device='cuda:0'),\n",
              " tensor(5.8015, device='cuda:0'),\n",
              " tensor(5.5195, device='cuda:0'),\n",
              " tensor(5.2513, device='cuda:0'),\n",
              " tensor(5.1962, device='cuda:0'),\n",
              " tensor(5.1437, device='cuda:0'),\n",
              " tensor(6.2938, device='cuda:0'),\n",
              " tensor(5.9878, device='cuda:0'),\n",
              " tensor(5.8968, device='cuda:0'),\n",
              " tensor(5.6102, device='cuda:0'),\n",
              " tensor(5.3375, device='cuda:0'),\n",
              " tensor(5.2782, device='cuda:0'),\n",
              " tensor(5.0218, device='cuda:0'),\n",
              " tensor(6.3778, device='cuda:0'),\n",
              " tensor(6.0677, device='cuda:0'),\n",
              " tensor(5.7728, device='cuda:0')]"
            ]
          },
          "metadata": {
            "tags": []
          },
          "execution_count": 12
        }
      ],
      "metadata": {
        "id": "g86dhjk6leM3",
        "outputId": "75b1dffc-6889-48a3-994c-2a311db1ceda",
        "colab": {
          "base_uri": "https://localhost:8080/"
        }
      }
    },
    {
      "cell_type": "markdown",
      "source": [
        "# Kernel "
      ],
      "metadata": {
        "id": "R_YGE1XjvIkZ"
      }
    },
    {
      "cell_type": "code",
      "execution_count": null,
      "source": [
        "from abc import ABC, abstractmethod\n",
        "from typing import Union, Tuple, Optional, Sequence\n",
        "from torch.nn.modules.utils import _pair"
      ],
      "outputs": [],
      "metadata": {
        "id": "dzaRZ3jNwxpE"
      }
    },
    {
      "cell_type": "code",
      "execution_count": null,
      "source": [
        "class AbstractKernel(ABC):\n",
        "\tr\"\"\"Base class for generating image filter kernels such as Gabor, DoG, etc. Each subclass should override :attr:`__call__` function.\n",
        "\t\"\"\"\n",
        "\tdef __init__(self, kernel_size: Union[int, Tuple[int, int]]):\n",
        "    \"\"\"\n",
        "    Instantiates a ``Filter Kernel`` object.\n",
        "\n",
        "    :param kernel_size: Horizontal and vertical size of convolutional kernels.\n",
        "    \"\"\"\n",
        "\t\tself.kernel_size = _pair(kenel_size)\n",
        "\n",
        "\tdef __call__(self):\n",
        "\t\tpass\n"
      ],
      "outputs": [],
      "metadata": {
        "id": "-4hp2V46vOUv"
      }
    },
    {
      "cell_type": "code",
      "execution_count": null,
      "source": [
        "class DoG_Kernel(AbstractKernel):\n",
        "\tr\"\"\"Generates DoG filter kernels.\n",
        "\t\"\"\"\n",
        "\tdef __init__(self, \n",
        "                 kernel_size: Union[int, Tuple[int, int]], \n",
        "                 sigma1 : float,\n",
        "                 sigma2 : float):\n",
        "        \"\"\"\n",
        "\t\t:param kernel_size: Horizontal and vertical size of DOG kernels.(If pass int, we consider it as a square filter) \n",
        "\t\t:param sigma1 : The sigma parameter for the first Gaussian function.\n",
        "\t\t:param sigma2 : The sigma parameter for the second Gaussian function.\n",
        "\t\t\"\"\"\n",
        "        super(DoG_Kernel, self).__init__(kernel_size)\n",
        "\t\tself.sigma1 = sigma1\n",
        "\t\tself.sigma2 = sigma2\n",
        "\n",
        "\t# returns a 2d tensor corresponding to the requested DoG filter\n",
        "\tdef __call__(self):\n",
        "\t\tk = self.kernel_size//2\n",
        "\t\tx, y = np.mgrid[-k:k+1:1, -k:k+1:1]\n",
        "\t\ta = 1.0 / (2 * math.pi)\n",
        "\t\tprod = x*x + y*y\n",
        "\t\tf1 = (1/(self.sigma1*self.sigma1)) * np.exp(-0.5 * (1/(self.sigma1*self.sigma1)) * (prod))\n",
        "\t\tf2 = (1/(self.sigma2*self.sigma2)) * np.exp(-0.5 * (1/(self.sigma2*self.sigma2)) * (prod))\n",
        "\t\tdog = a * (f1-f2)\n",
        "\t\tdog_mean = np.mean(dog)\n",
        "\t\tdog = dog - dog_mean\n",
        "\t\tdog_max = np.max(dog)\n",
        "\t\tdog = dog / dog_max\n",
        "\t\tdog_tensor = torch.from_numpy(dog)\n",
        "\t\treturn dog_tensor.float()"
      ],
      "outputs": [],
      "metadata": {
        "id": "PL2L6_ABwBH4"
      }
    },
    {
      "cell_type": "code",
      "execution_count": null,
      "source": [],
      "outputs": [],
      "metadata": {
        "id": "gD0kdZthzUr3"
      }
    }
  ]
}