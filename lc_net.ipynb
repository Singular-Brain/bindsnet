{
  "nbformat": 4,
  "nbformat_minor": 2,
  "metadata": {
    "colab": {
      "name": "Copy of lc_net",
      "provenance": [],
      "collapsed_sections": [],
      "toc_visible": true,
      "machine_shape": "hm",
      "include_colab_link": true
    },
    "kernelspec": {
      "name": "python3",
      "display_name": "Python 3.8.5 64-bit ('base': conda)"
    },
    "language_info": {
      "name": "python",
      "version": "3.8.5",
      "mimetype": "text/x-python",
      "codemirror_mode": {
        "name": "ipython",
        "version": 3
      },
      "pygments_lexer": "ipython3",
      "nbconvert_exporter": "python",
      "file_extension": ".py"
    },
    "accelerator": "GPU",
    "widgets": {
      "application/vnd.jupyter.widget-state+json": {
        "4458af9ef837477e804077e7a9629165": {
          "model_module": "@jupyter-widgets/controls",
          "model_name": "HBoxModel",
          "state": {
            "_view_name": "HBoxView",
            "_dom_classes": [],
            "_model_name": "HBoxModel",
            "_view_module": "@jupyter-widgets/controls",
            "_model_module_version": "1.5.0",
            "_view_count": null,
            "_view_module_version": "1.5.0",
            "box_style": "",
            "layout": "IPY_MODEL_4e8c16768a3240afa67de4ed97d75c13",
            "_model_module": "@jupyter-widgets/controls",
            "children": [
              "IPY_MODEL_b78d8f311d274985837012dbfb9ef99c",
              "IPY_MODEL_8c8a2151627f4a57804d060ac77c82c7",
              "IPY_MODEL_2190a8dfe93545588f005576f25e2267"
            ]
          }
        },
        "4e8c16768a3240afa67de4ed97d75c13": {
          "model_module": "@jupyter-widgets/base",
          "model_name": "LayoutModel",
          "state": {
            "_view_name": "LayoutView",
            "grid_template_rows": null,
            "right": null,
            "justify_content": null,
            "_view_module": "@jupyter-widgets/base",
            "overflow": null,
            "_model_module_version": "1.2.0",
            "_view_count": null,
            "flex_flow": null,
            "width": null,
            "min_width": null,
            "border": null,
            "align_items": null,
            "bottom": null,
            "_model_module": "@jupyter-widgets/base",
            "top": null,
            "grid_column": null,
            "overflow_y": null,
            "overflow_x": null,
            "grid_auto_flow": null,
            "grid_area": null,
            "grid_template_columns": null,
            "flex": null,
            "_model_name": "LayoutModel",
            "justify_items": null,
            "grid_row": null,
            "max_height": null,
            "align_content": null,
            "visibility": null,
            "align_self": null,
            "height": null,
            "min_height": null,
            "padding": null,
            "grid_auto_rows": null,
            "grid_gap": null,
            "max_width": null,
            "order": null,
            "_view_module_version": "1.2.0",
            "grid_template_areas": null,
            "object_position": null,
            "object_fit": null,
            "grid_auto_columns": null,
            "margin": null,
            "display": null,
            "left": null
          }
        },
        "b78d8f311d274985837012dbfb9ef99c": {
          "model_module": "@jupyter-widgets/controls",
          "model_name": "HTMLModel",
          "state": {
            "_view_name": "HTMLView",
            "style": "IPY_MODEL_d8084fe867914d7195d9de3a530ef5d9",
            "_dom_classes": [],
            "description": "",
            "_model_name": "HTMLModel",
            "placeholder": "​",
            "_view_module": "@jupyter-widgets/controls",
            "_model_module_version": "1.5.0",
            "value": "Running accuracy: 80.00%, Current val accuracy: 0.00%, :   2%",
            "_view_count": null,
            "_view_module_version": "1.5.0",
            "description_tooltip": null,
            "_model_module": "@jupyter-widgets/controls",
            "layout": "IPY_MODEL_ca276aaea7904649a46e6a648ca2e39a"
          }
        },
        "8c8a2151627f4a57804d060ac77c82c7": {
          "model_module": "@jupyter-widgets/controls",
          "model_name": "FloatProgressModel",
          "state": {
            "_view_name": "ProgressView",
            "style": "IPY_MODEL_a3783bdb6abe47a4bbce2c5e467f78cb",
            "_dom_classes": [],
            "description": "",
            "_model_name": "FloatProgressModel",
            "bar_style": "",
            "max": 500,
            "_view_module": "@jupyter-widgets/controls",
            "_model_module_version": "1.5.0",
            "value": 10,
            "_view_count": null,
            "_view_module_version": "1.5.0",
            "orientation": "horizontal",
            "min": 0,
            "description_tooltip": null,
            "_model_module": "@jupyter-widgets/controls",
            "layout": "IPY_MODEL_44f6111d2fc44d6b882ab4f55d77b0f6"
          }
        },
        "2190a8dfe93545588f005576f25e2267": {
          "model_module": "@jupyter-widgets/controls",
          "model_name": "HTMLModel",
          "state": {
            "_view_name": "HTMLView",
            "style": "IPY_MODEL_571a35bbd3d84286945b1326afa9b7f1",
            "_dom_classes": [],
            "description": "",
            "_model_name": "HTMLModel",
            "placeholder": "​",
            "_view_module": "@jupyter-widgets/controls",
            "_model_module_version": "1.5.0",
            "value": " 10/500 [00:07&lt;06:15,  1.30it/s]",
            "_view_count": null,
            "_view_module_version": "1.5.0",
            "description_tooltip": null,
            "_model_module": "@jupyter-widgets/controls",
            "layout": "IPY_MODEL_0183166bde2b49c8a7d094c3ef91fcd1"
          }
        },
        "d8084fe867914d7195d9de3a530ef5d9": {
          "model_module": "@jupyter-widgets/controls",
          "model_name": "DescriptionStyleModel",
          "state": {
            "_view_name": "StyleView",
            "_model_name": "DescriptionStyleModel",
            "description_width": "",
            "_view_module": "@jupyter-widgets/base",
            "_model_module_version": "1.5.0",
            "_view_count": null,
            "_view_module_version": "1.2.0",
            "_model_module": "@jupyter-widgets/controls"
          }
        },
        "ca276aaea7904649a46e6a648ca2e39a": {
          "model_module": "@jupyter-widgets/base",
          "model_name": "LayoutModel",
          "state": {
            "_view_name": "LayoutView",
            "grid_template_rows": null,
            "right": null,
            "justify_content": null,
            "_view_module": "@jupyter-widgets/base",
            "overflow": null,
            "_model_module_version": "1.2.0",
            "_view_count": null,
            "flex_flow": null,
            "width": null,
            "min_width": null,
            "border": null,
            "align_items": null,
            "bottom": null,
            "_model_module": "@jupyter-widgets/base",
            "top": null,
            "grid_column": null,
            "overflow_y": null,
            "overflow_x": null,
            "grid_auto_flow": null,
            "grid_area": null,
            "grid_template_columns": null,
            "flex": null,
            "_model_name": "LayoutModel",
            "justify_items": null,
            "grid_row": null,
            "max_height": null,
            "align_content": null,
            "visibility": null,
            "align_self": null,
            "height": null,
            "min_height": null,
            "padding": null,
            "grid_auto_rows": null,
            "grid_gap": null,
            "max_width": null,
            "order": null,
            "_view_module_version": "1.2.0",
            "grid_template_areas": null,
            "object_position": null,
            "object_fit": null,
            "grid_auto_columns": null,
            "margin": null,
            "display": null,
            "left": null
          }
        },
        "a3783bdb6abe47a4bbce2c5e467f78cb": {
          "model_module": "@jupyter-widgets/controls",
          "model_name": "ProgressStyleModel",
          "state": {
            "_view_name": "StyleView",
            "_model_name": "ProgressStyleModel",
            "description_width": "",
            "_view_module": "@jupyter-widgets/base",
            "_model_module_version": "1.5.0",
            "_view_count": null,
            "_view_module_version": "1.2.0",
            "bar_color": null,
            "_model_module": "@jupyter-widgets/controls"
          }
        },
        "44f6111d2fc44d6b882ab4f55d77b0f6": {
          "model_module": "@jupyter-widgets/base",
          "model_name": "LayoutModel",
          "state": {
            "_view_name": "LayoutView",
            "grid_template_rows": null,
            "right": null,
            "justify_content": null,
            "_view_module": "@jupyter-widgets/base",
            "overflow": null,
            "_model_module_version": "1.2.0",
            "_view_count": null,
            "flex_flow": null,
            "width": null,
            "min_width": null,
            "border": null,
            "align_items": null,
            "bottom": null,
            "_model_module": "@jupyter-widgets/base",
            "top": null,
            "grid_column": null,
            "overflow_y": null,
            "overflow_x": null,
            "grid_auto_flow": null,
            "grid_area": null,
            "grid_template_columns": null,
            "flex": null,
            "_model_name": "LayoutModel",
            "justify_items": null,
            "grid_row": null,
            "max_height": null,
            "align_content": null,
            "visibility": null,
            "align_self": null,
            "height": null,
            "min_height": null,
            "padding": null,
            "grid_auto_rows": null,
            "grid_gap": null,
            "max_width": null,
            "order": null,
            "_view_module_version": "1.2.0",
            "grid_template_areas": null,
            "object_position": null,
            "object_fit": null,
            "grid_auto_columns": null,
            "margin": null,
            "display": null,
            "left": null
          }
        },
        "571a35bbd3d84286945b1326afa9b7f1": {
          "model_module": "@jupyter-widgets/controls",
          "model_name": "DescriptionStyleModel",
          "state": {
            "_view_name": "StyleView",
            "_model_name": "DescriptionStyleModel",
            "description_width": "",
            "_view_module": "@jupyter-widgets/base",
            "_model_module_version": "1.5.0",
            "_view_count": null,
            "_view_module_version": "1.2.0",
            "_model_module": "@jupyter-widgets/controls"
          }
        },
        "0183166bde2b49c8a7d094c3ef91fcd1": {
          "model_module": "@jupyter-widgets/base",
          "model_name": "LayoutModel",
          "state": {
            "_view_name": "LayoutView",
            "grid_template_rows": null,
            "right": null,
            "justify_content": null,
            "_view_module": "@jupyter-widgets/base",
            "overflow": null,
            "_model_module_version": "1.2.0",
            "_view_count": null,
            "flex_flow": null,
            "width": null,
            "min_width": null,
            "border": null,
            "align_items": null,
            "bottom": null,
            "_model_module": "@jupyter-widgets/base",
            "top": null,
            "grid_column": null,
            "overflow_y": null,
            "overflow_x": null,
            "grid_auto_flow": null,
            "grid_area": null,
            "grid_template_columns": null,
            "flex": null,
            "_model_name": "LayoutModel",
            "justify_items": null,
            "grid_row": null,
            "max_height": null,
            "align_content": null,
            "visibility": null,
            "align_self": null,
            "height": null,
            "min_height": null,
            "padding": null,
            "grid_auto_rows": null,
            "grid_gap": null,
            "max_width": null,
            "order": null,
            "_view_module_version": "1.2.0",
            "grid_template_areas": null,
            "object_position": null,
            "object_fit": null,
            "grid_auto_columns": null,
            "margin": null,
            "display": null,
            "left": null
          }
        }
      }
    },
    "interpreter": {
      "hash": "8b51a6187922e1c805af8ddd20d0a4091ecd17bebcd7deb5956ab101caf2f88f"
    }
  },
  "cells": [
    {
      "cell_type": "markdown",
      "source": [
        "<a href=\"https://colab.research.google.com/github/Singular-Brain/bindsnet/blob/master/lc_net.ipynb\" target=\"_parent\"><img src=\"https://colab.research.google.com/assets/colab-badge.svg\" alt=\"Open In Colab\"/></a>"
      ],
      "metadata": {
        "id": "view-in-github",
        "colab_type": "text"
      }
    },
    {
      "cell_type": "markdown",
      "source": [
        "#Notebook setups"
      ],
      "metadata": {
        "id": "7fTSvrK3T_GA"
      }
    },
    {
      "cell_type": "code",
      "execution_count": 91,
      "source": [
        "!pip install -q git+https://github.com/Singular-Brain/bindsnet"
      ],
      "outputs": [],
      "metadata": {
        "id": "lXtgP_iEPE0G"
      }
    },
    {
      "cell_type": "code",
      "execution_count": 92,
      "source": [
        "!wget https://data.deepai.org/mnist.zip\r\n",
        "!mkdir -p ../data/MNIST/TorchvisionDatasetWrapper/raw\r\n",
        "!unzip mnist.zip -d ../data/MNIST/TorchvisionDatasetWrapper/raw/"
      ],
      "outputs": [
        {
          "output_type": "stream",
          "name": "stdout",
          "text": [
            "--2021-08-03 11:52:44--  https://data.deepai.org/mnist.zip\n",
            "Resolving data.deepai.org (data.deepai.org)... 138.201.36.183\n",
            "Connecting to data.deepai.org (data.deepai.org)|138.201.36.183|:443... connected.\n",
            "HTTP request sent, awaiting response... 200 OK\n",
            "Length: 11597176 (11M) [application/x-zip-compressed]\n",
            "Saving to: ‘mnist.zip.2’\n",
            "\n",
            "mnist.zip.2         100%[===================>]  11.06M  51.0MB/s    in 0.2s    \n",
            "\n",
            "2021-08-03 11:52:44 (51.0 MB/s) - ‘mnist.zip.2’ saved [11597176/11597176]\n",
            "\n",
            "Archive:  mnist.zip\n",
            "replace ../data/MNIST/TorchvisionDatasetWrapper/raw/train-labels-idx1-ubyte.gz? [y]es, [n]o, [A]ll, [N]one, [r]ename: A\n",
            "  inflating: ../data/MNIST/TorchvisionDatasetWrapper/raw/train-labels-idx1-ubyte.gz  \n",
            "  inflating: ../data/MNIST/TorchvisionDatasetWrapper/raw/train-images-idx3-ubyte.gz  \n",
            "  inflating: ../data/MNIST/TorchvisionDatasetWrapper/raw/t10k-images-idx3-ubyte.gz  \n",
            "  inflating: ../data/MNIST/TorchvisionDatasetWrapper/raw/t10k-labels-idx1-ubyte.gz  \n"
          ]
        }
      ],
      "metadata": {
        "colab": {
          "base_uri": "https://localhost:8080/"
        },
        "id": "OW7m3ugEHZP_",
        "outputId": "f5e4002e-d3cc-4ca8-efdd-6bac9a8d8774"
      }
    },
    {
      "cell_type": "code",
      "execution_count": 1,
      "source": [
        "from bindsnet.network.nodes import Nodes\r\n",
        "import os\r\n",
        "import copy\r\n",
        "import time\r\n",
        "import torch\r\n",
        "import torchvision\r\n",
        "import numpy as np\r\n",
        "import argparse\r\n",
        "import matplotlib.pyplot as plt\r\n",
        "\r\n",
        "from torchvision import transforms\r\n",
        "from tqdm.notebook import tqdm\r\n",
        "\r\n",
        "from bindsnet.datasets import MNIST\r\n",
        "from bindsnet.encoding import PoissonEncoder\r\n",
        "from bindsnet.network import Network\r\n",
        "from bindsnet.network.nodes import Input, LIFNodes, AdaptiveLIFNodes\r\n",
        "from bindsnet.network.topology import LocalConnection, Connection\r\n",
        "from bindsnet.network.monitors import Monitor, AbstractMonitor, TensorBoardMonitor\r\n",
        "from bindsnet.learning import PostPre, MSTDP, MSTDPET \r\n",
        "from bindsnet.learning.reward import DynamicDopamineInjection\r\n",
        "from bindsnet.utils import get_square_assignments, get_square_weights\r\n",
        "from bindsnet.evaluation import all_activity, proportion_weighting, assign_labels\r\n",
        "from bindsnet.analysis.plotting import (\r\n",
        "    plot_input,\r\n",
        "    plot_assignments,\r\n",
        "    plot_performance,\r\n",
        "    plot_weights,\r\n",
        "    plot_spikes,\r\n",
        "    plot_voltages,\r\n",
        ")"
      ],
      "outputs": [],
      "metadata": {
        "id": "BFGNAecpT-Lj"
      }
    },
    {
      "cell_type": "markdown",
      "source": [
        "## Set up hyper-parameters"
      ],
      "metadata": {
        "id": "kCqAFucAUDb8"
      }
    },
    {
      "cell_type": "code",
      "execution_count": 2,
      "source": [
        "n_neurons = 100\r\n",
        "n_train = 500\r\n",
        "n_test = 100\r\n",
        "n_val = 100\r\n",
        "theta_plus = 0.05\r\n",
        "time = 250\r\n",
        "dt = 1\r\n",
        "intensity = 128\r\n",
        "train = True\r\n",
        "gpu = True\r\n",
        "device_id = 0\r\n",
        "# target_classes = (0,1)\r\n",
        "target_classes = None\r\n",
        "if target_classes:\r\n",
        "    n_classes = len(target_classes)\r\n",
        "else:\r\n",
        "    n_classes = 10\r\n",
        "neuron_per_class = int(n_neurons/n_classes)\r\n",
        "\r\n",
        "seed = 2045 # The Singularity is Near!\r\n",
        "\r\n",
        "reward_kwargs = {\r\n",
        "    'dopaminergic_layer': 'output', \r\n",
        "    'n_labels': n_classes,\r\n",
        "    'neuron_per_class': neuron_per_class,\r\n",
        "    'dopamine_per_spike': 0.2, \r\n",
        "    'tc_reward': 20,\r\n",
        "    'dopamine_base': 0.02,\r\n",
        "}"
      ],
      "outputs": [],
      "metadata": {
        "id": "0YacX9jrUHj4"
      }
    },
    {
      "cell_type": "markdown",
      "source": [
        "## Sets up Gpu use\n"
      ],
      "metadata": {
        "id": "ULGGHW43UksI"
      }
    },
    {
      "cell_type": "code",
      "execution_count": 3,
      "source": [
        "device = torch.device(\"cuda\" if torch.cuda.is_available() else \"cpu\")\r\n",
        "if gpu and torch.cuda.is_available():\r\n",
        "    torch.cuda.manual_seed_all(seed)\r\n",
        "else:\r\n",
        "    torch.manual_seed(seed)\r\n",
        "    device = \"cpu\"\r\n",
        "    if gpu:\r\n",
        "        gpu = False\r\n",
        "\r\n",
        "torch.set_num_threads(os.cpu_count() - 1)\r\n",
        "print(\"Running on Device = \", device)\r\n",
        "\r\n",
        "if not train:\r\n",
        "    update_interval = n_test"
      ],
      "outputs": [
        {
          "output_type": "stream",
          "name": "stdout",
          "text": [
            "Running on Device =  cpu\n"
          ]
        }
      ],
      "metadata": {
        "id": "LiUmFrpcUfmR",
        "colab": {
          "base_uri": "https://localhost:8080/"
        },
        "outputId": "410706ed-f002-47d2-9c4e-cae77aaacb2f"
      }
    },
    {
      "cell_type": "markdown",
      "source": [
        "# Design network"
      ],
      "metadata": {
        "id": "nL0giSqUUvz6"
      }
    },
    {
      "cell_type": "markdown",
      "source": [
        "## Reward Monitor"
      ],
      "metadata": {
        "id": "MBKedMpIleMr"
      }
    },
    {
      "cell_type": "code",
      "execution_count": 4,
      "source": [
        "class RewardMonitor(AbstractMonitor):\r\n",
        "    # language=rst\r\n",
        "    \"\"\"\r\n",
        "    Records state variables of interest.\r\n",
        "    \"\"\"\r\n",
        "\r\n",
        "    def __init__(\r\n",
        "        self,\r\n",
        "        time: None,\r\n",
        "        batch_size: int = 1,\r\n",
        "        device: str = \"cpu\",\r\n",
        "    ):\r\n",
        "        # language=rst\r\n",
        "        \"\"\"\r\n",
        "        Constructs a ``Monitor`` object.\r\n",
        "\r\n",
        "        :param obj: An object to record state variables from during network simulation.\r\n",
        "        :param state_vars: Iterable of strings indicating names of state variables to record.\r\n",
        "        :param time: If not ``None``, pre-allocate memory for state variable recording.\r\n",
        "        :param device: Allow the monitor to be on different device separate from Network device\r\n",
        "        \"\"\"\r\n",
        "        super().__init__()\r\n",
        "\r\n",
        "        self.time = time\r\n",
        "        self.batch_size = batch_size\r\n",
        "        self.device = device\r\n",
        "\r\n",
        "        # if time is not specified the monitor variable accumulate the logs\r\n",
        "        if self.time is None:\r\n",
        "            self.device = \"cpu\"\r\n",
        "\r\n",
        "        self.recording = []\r\n",
        "        self.reset_state_variables()\r\n",
        "\r\n",
        "    def get(self,) -> torch.Tensor:\r\n",
        "        # language=rst\r\n",
        "        \"\"\"\r\n",
        "        Return recording to user.\r\n",
        "\r\n",
        "        :return: Tensor of shape ``[time, n_1, ..., n_k]``, where ``[n_1, ..., n_k]`` is the shape of the recorded state\r\n",
        "        variable.\r\n",
        "        Note, if time == `None`, get return the logs and empty the monitor variable\r\n",
        "\r\n",
        "        \"\"\"\r\n",
        "        # return_logs = torch.as_tensor(self.recording)\r\n",
        "        # if self.time is None:\r\n",
        "        #     self.recording = []\r\n",
        "        return self.recording\r\n",
        "\r\n",
        "    def record(self, **kwargs) -> None:\r\n",
        "        # language=rst\r\n",
        "        \"\"\"\r\n",
        "        Appends the current value of the recorded state variables to the recording.\r\n",
        "        \"\"\"\r\n",
        "        self.recording.append(kwargs[\"reward\"])\r\n",
        "        # remove the oldest element (first in the list)\r\n",
        "        # if self.time is not None:\r\n",
        "        #     self.recording.pop(0)\r\n",
        "\r\n",
        "    def reset_state_variables(self) -> None:\r\n",
        "        # language=rst\r\n",
        "        \"\"\"\r\n",
        "        Resets recordings to empty ``List``s.\r\n",
        "        \"\"\"\r\n",
        "        self.recording = []\r\n"
      ],
      "outputs": [],
      "metadata": {
        "id": "M44GJ65GleMs"
      }
    },
    {
      "cell_type": "code",
      "execution_count": 5,
      "source": [
        "C = 50\r\n",
        "K = 16\r\n",
        "S = 4\r\n",
        "crop_size = 20\r\n",
        "theta_plus = 0.05   ## Adaptive LIF\r\n",
        "inh_factor = 0.5\r\n",
        "wmin = -1.0\r\n",
        "wmax = 1.0\r\n",
        "# norm_c_loc = 500.0\r\n",
        "# norm_c_out = 500.0\r\n",
        "\r\n",
        "compute_size = lambda inp_size, k, s: int((inp_size-k)/s) + 1\r\n",
        "\r\n",
        "### Reward function\r\n",
        "reward_fn = DynamicDopamineInjection\r\n",
        "network = Network(dt = 1, reward_fn = reward_fn)\r\n",
        "\r\n",
        "### nodes\r\n",
        "inp = Input(shape= [1,20,20], traces=True)\r\n",
        "\r\n",
        "main = AdaptiveLIFNodes(shape= [C, compute_size(crop_size, K, S), compute_size(crop_size, K, S)], traces=True, tc_trace=20, theta_plus=theta_plus)\r\n",
        "#main = LIFNodes(shape= [C, compute_size(20, K, S), compute_size(20, K, S)], traces=True)\r\n",
        "\r\n",
        "# TODO: Diehl & Cook 2015 (v2) \r\n",
        "out = AdaptiveLIFNodes(n= 100, traces=True, tc_trace=20, theta_plus=theta_plus)\r\n",
        "\r\n",
        "### connections \r\n",
        "LC = LocalConnection(inp, main, K, S, C, nu = [1e-2, 1e-4], update_rule = MSTDPET, wmin = wmin, wmax= wmax, )\r\n",
        "#LC.w = torch.nn.init.xavier_normal_(LC.w, gain=1.0)\r\n",
        "main_out = Connection(main, out, nu = [1e-2, 1e-4], update_rule = MSTDPET, wmin = wmin, wmax= wmax, )\r\n",
        "#main_out.w = torch.nn.init.xavier_normal_(main_out.w, gain=1.0)\r\n",
        "\r\n",
        "\r\n",
        "w = -inh_factor * torch.ones(out.n, out.n)\r\n",
        "for c in range(n_classes):\r\n",
        "    ind = slice(c*neuron_per_class,(c+1)*neuron_per_class)\r\n",
        "    w[ind, ind] = 0\r\n",
        "\r\n",
        "\r\n",
        "out_recurrent_inhibition = Connection(\r\n",
        "    source=out,\r\n",
        "    target=out,\r\n",
        "    w=w,\r\n",
        "    wmin=-inh_factor,\r\n",
        "    wmax=0,\r\n",
        "    nu = 1e-4,\r\n",
        ")\r\n",
        "\r\n",
        "network.add_layer(main, \"main\")\r\n",
        "network.add_layer(inp, \"input\")\r\n",
        "network.add_layer(out, \"output\")\r\n",
        "network.add_connection(LC, \"input\", \"main\")\r\n",
        "network.add_connection(main_out, \"main\", \"output\")\r\n",
        "network.add_connection(out_recurrent_inhibition, \"output\", \"output\")\r\n",
        "\r\n",
        "# Directs network to GPU\r\n",
        "if gpu:\r\n",
        "    network.to(\"cuda\")\r\n",
        "\r\n",
        "# Voltage recording for excitatory and inhibitory layers.\r\n",
        "main_monitor = Monitor(network.layers[\"main\"], [\"v\"], time=time, device=device)\r\n",
        "output_monitor = Monitor(network.layers[\"output\"], [\"v\"], time=time, device=device)\r\n",
        "reward_monitor = RewardMonitor(time =time)\r\n",
        "tensorboard = TensorBoardMonitor(network, time = time)\r\n",
        "network.add_monitor(main_monitor, name=\"main\")\r\n",
        "network.add_monitor(output_monitor, name=\"output\")\r\n",
        "network.add_monitor(reward_monitor, name=\"reward\")\r\n",
        "network.add_monitor(tensorboard, name=\"tensorboard\")\r\n",
        "\r\n"
      ],
      "outputs": [],
      "metadata": {
        "id": "dK1-BrFEO_1q"
      }
    },
    {
      "cell_type": "markdown",
      "source": [
        "# Load Dataset"
      ],
      "metadata": {
        "id": "6zuUBU9pU3vE"
      }
    },
    {
      "cell_type": "code",
      "execution_count": 122,
      "source": [
        "!git clone https://github.com/Singular-Brain/bindsnet/"
      ],
      "outputs": [
        {
          "output_type": "stream",
          "name": "stdout",
          "text": [
            "fatal: destination path 'bindsnet' already exists and is not an empty directory.\n"
          ]
        }
      ],
      "metadata": {
        "id": "yxyv47dyKUJg",
        "colab": {
          "base_uri": "https://localhost:8080/"
        },
        "outputId": "eeda05cc-a72a-46c2-fc82-f99585ff1d64"
      }
    },
    {
      "cell_type": "code",
      "execution_count": 123,
      "source": [
        "mask, mask_test = torch.from_numpy(np.load(f'bindsnet/mask_{target_classes[0]}_{target_classes[1]}.npz')['arr_0'])"
      ],
      "outputs": [],
      "metadata": {
        "id": "8352_glFKnSS"
      }
    },
    {
      "cell_type": "code",
      "execution_count": 6,
      "source": [
        "class ClassSelector(torch.utils.data.sampler.Sampler):\r\n",
        "    \"\"\"Select target classes from the dataset\"\"\"\r\n",
        "    def __init__(self, target_classes, data_source, mask = None):\r\n",
        "        if mask is not None:\r\n",
        "            self.mask = mask\r\n",
        "        else:\r\n",
        "            self.mask = torch.tensor([1 if data_source[i]['label'] in target_classes else 0 for i in range(len(data_source))])\r\n",
        "        self.data_source = data_source\r\n",
        "\r\n",
        "    def __iter__(self):\r\n",
        "        return iter([i.item() for i in torch.nonzero(self.mask)])\r\n",
        "\r\n",
        "    def __len__(self):\r\n",
        "        return len(self.data_source)"
      ],
      "outputs": [],
      "metadata": {
        "id": "2DW7dB11jdqi"
      }
    },
    {
      "cell_type": "code",
      "execution_count": 7,
      "source": [
        "# Load MNIST data.\r\n",
        "dataset = MNIST(\r\n",
        "    PoissonEncoder(time=time, dt=dt),\r\n",
        "    None,\r\n",
        "    root=os.path.join(\"..\", \"..\", \"data\", \"MNIST\"),\r\n",
        "    download=True,\r\n",
        "    transform=transforms.Compose(\r\n",
        "        [transforms.ToTensor(),\r\n",
        "        transforms.Lambda(lambda x: x * intensity),\r\n",
        "        transforms.CenterCrop(crop_size)]\r\n",
        "    ),\r\n",
        ")\r\n",
        "\r\n",
        "# Create a dataloader to iterate and batch data\r\n",
        "dataloader = torch.utils.data.DataLoader(dataset, batch_size=1,\r\n",
        "                                         sampler = ClassSelector(\r\n",
        "                                                target_classes = target_classes,\r\n",
        "                                                data_source = dataset,\r\n",
        "                                                mask = mask,\r\n",
        "                                                ) if target_classes else None\r\n",
        "                                         )\r\n",
        "\r\n",
        "# Load test dataset\r\n",
        "test_dataset = MNIST(\r\n",
        "    PoissonEncoder(time=time, dt=dt),\r\n",
        "    None,\r\n",
        "    root=os.path.join(\"..\", \"..\", \"data\", \"MNIST\"),\r\n",
        "    download=True,\r\n",
        "    train=False,\r\n",
        "    transform=transforms.Compose(\r\n",
        "        [transforms.ToTensor(),\r\n",
        "        transforms.Lambda(lambda x: x * intensity),\r\n",
        "        transforms.CenterCrop(crop_size)]\r\n",
        "    ),\r\n",
        ")\r\n",
        "\r\n",
        "val_loader = torch.utils.data.DataLoader(test_dataset, batch_size=1,\r\n",
        "                                         sampler = ClassSelector(\r\n",
        "                                                target_classes = target_classes,\r\n",
        "                                                data_source = test_dataset,\r\n",
        "                                                mask = mask_test,\r\n",
        "                                                ) if target_classes else None\r\n",
        "                                         )"
      ],
      "outputs": [],
      "metadata": {
        "id": "DlCXBY0DU3Mc"
      }
    },
    {
      "cell_type": "markdown",
      "source": [
        "# Evaluation Utils"
      ],
      "metadata": {
        "id": "d0hQT9ZrV-u2"
      }
    },
    {
      "cell_type": "code",
      "execution_count": 126,
      "source": [
        "def evaluate(network, val_loader, spikes):\r\n",
        "    correct = 0\r\n",
        "    false = 0\r\n",
        "    spikes_val = {}\r\n",
        "\r\n",
        "    network.train = False\r\n",
        "    for (i, datum) in enumerate(val_loader):\r\n",
        "        if i > n_val:\r\n",
        "            break\r\n",
        "\r\n",
        "        image = datum[\"encoded_image\"]\r\n",
        "        label = datum[\"label\"]\r\n",
        "\r\n",
        "        # Run the network on the input.\r\n",
        "        if gpu:\r\n",
        "            inputs = {\"input\": image.cuda().view(time, 1, 1, 20, 20)}\r\n",
        "        else:\r\n",
        "            inputs = {\"input\": image.view(time, 1, 1, 20, 20)}\r\n",
        "        network.run(inputs=inputs, time=time, **reward_kwargs, labels=label)\r\n",
        "\r\n",
        "        # Add to spikes recording.\r\n",
        "        output_spikes = spikes[\"output\"].get(\"s\").view(time, n_classes, neuron_per_class).sum(0)\r\n",
        "        predicted_label = torch.argmax(output_spikes.sum(1))\r\n",
        "\r\n",
        "        print(\"\\routput\", output_spikes.sum(1), 'predicted_label:',\r\n",
        "        predicted_label.item(), 'GT:', label.item(), ' Reward:',\r\n",
        "        sum(reward_monitor.get()).item(),\r\n",
        "        end = '')\r\n",
        "\r\n",
        "        if predicted_label == label:\r\n",
        "            correct+=1\r\n",
        "        else:\r\n",
        "            false+=1\r\n",
        "    network.train = True\r\n",
        "    val_acc = 100 * correct/(correct + false)\r\n",
        "    return val_acc"
      ],
      "outputs": [],
      "metadata": {
        "id": "1y5K1O2YRDoL"
      }
    },
    {
      "cell_type": "markdown",
      "source": [
        "# Train"
      ],
      "metadata": {
        "id": "SokdidkrV2Z5"
      }
    },
    {
      "cell_type": "code",
      "execution_count": 127,
      "source": [
        "# Train the network.\r\n",
        "print(\"Begin training.\\n\")\r\n",
        "\r\n",
        "correct = 0\r\n",
        "false = 0\r\n",
        "val_interval = 10\r\n",
        "spikes = {}\r\n",
        "for layer in set(network.layers):\r\n",
        "    spikes[layer] = Monitor(network.layers[layer], state_vars=[\"s\"], time=time)\r\n",
        "    network.add_monitor(spikes[layer], name=\"%s_spikes\" % layer)\r\n",
        "\r\n",
        "val_acc = 0.0\r\n",
        "\r\n",
        "reward_history = []\r\n",
        "pbar = tqdm(total=n_train)\r\n",
        "network.reset_state_variables()\r\n",
        "for (i, datum) in enumerate(dataloader):\r\n",
        "    if i > n_train:\r\n",
        "        break\r\n",
        "\r\n",
        "    image = datum[\"encoded_image\"]\r\n",
        "    label = datum[\"label\"]\r\n",
        "\r\n",
        "    # Run the network on the input.\r\n",
        "    if gpu:\r\n",
        "        inputs = {\"input\": image.cuda().view(time, 1, 1, 20, 20)}\r\n",
        "    else:\r\n",
        "        inputs = {\"input\": image.view(time, 1, 1, 20, 20)}\r\n",
        "    network.run(inputs=inputs, time=time, **reward_kwargs, labels = label)\r\n",
        "\r\n",
        "\r\n",
        "    # Weight Normalization\r\n",
        "\r\n",
        "\r\n",
        "    # Get voltage recording.\r\n",
        "    main_voltage = main_monitor.get(\"v\")\r\n",
        "    out_voltage = output_monitor.get(\"v\")\r\n",
        "    reward_history.append(reward_monitor.get())\r\n",
        "    tensorboard.update(step= i)\r\n",
        "\r\n",
        "    # Add to spikes recording.\r\n",
        "    output_spikes = spikes[\"output\"].get(\"s\").view(time, n_classes, neuron_per_class)\r\n",
        "    predicted_label = torch.argmax(output_spikes.sum(0).sum(1))\r\n",
        "\r\n",
        "    print(\"\\routput\", output_spikes.sum(0).sum(1), 'predicted_label:',\r\n",
        "          predicted_label.item(), 'GT:', label.item(), ' Reward:',\r\n",
        "          sum(reward_monitor.get()).item(),\r\n",
        "          end = '')\r\n",
        "\r\n",
        "    if  i % val_interval == 0 and i!=0:\r\n",
        "        if i != n_train:\r\n",
        "            correct = 0\r\n",
        "            false = 0\r\n",
        "        val_acc = evaluate(network, val_loader, spikes)\r\n",
        "\r\n",
        "\r\n",
        "    if predicted_label == label:\r\n",
        "        correct+=1\r\n",
        "    else:\r\n",
        "        false+=1\r\n",
        "        \r\n",
        "    acc = 100 * correct/(correct + false)\r\n",
        "    network.reset_state_variables()  # Reset state variables.\r\n",
        "    \r\n",
        "    pbar.set_description_str(\"Running accuracy: \" + \"{:.2f}\".format(acc) + \"%, \" + \"Current val accuracy: \" + \"{:.2f}\".format(val_acc) + \"%, \")\r\n",
        "    pbar.update()"
      ],
      "outputs": [
        {
          "output_type": "stream",
          "name": "stdout",
          "text": [
            "Begin training.\n",
            "\n"
          ]
        },
        {
          "output_type": "display_data",
          "data": {
            "text/plain": [
              "  0%|          | 0/500 [00:00<?, ?it/s]"
            ],
            "application/vnd.jupyter.widget-view+json": {
              "model_id": "4458af9ef837477e804077e7a9629165",
              "version_minor": 0,
              "version_major": 2
            }
          },
          "metadata": {
            "tags": []
          }
        },
        {
          "output_type": "stream",
          "name": "stdout",
          "text": [
            "output tensor([2, 3]) predicted_label: 1 GT: 9  Reward: 1011.1492919921875"
          ]
        },
        {
          "output_type": "error",
          "ename": "KeyboardInterrupt",
          "evalue": "ignored",
          "traceback": [
            "\u001b[0;31m---------------------------------------------------------------------------\u001b[0m",
            "\u001b[0;31mKeyboardInterrupt\u001b[0m                         Traceback (most recent call last)",
            "\u001b[0;32m<ipython-input-127-4c79bbeb6031>\u001b[0m in \u001b[0;36m<module>\u001b[0;34m()\u001b[0m\n\u001b[1;32m     52\u001b[0m             \u001b[0mcorrect\u001b[0m \u001b[0;34m=\u001b[0m \u001b[0;36m0\u001b[0m\u001b[0;34m\u001b[0m\u001b[0;34m\u001b[0m\u001b[0m\n\u001b[1;32m     53\u001b[0m             \u001b[0mfalse\u001b[0m \u001b[0;34m=\u001b[0m \u001b[0;36m0\u001b[0m\u001b[0;34m\u001b[0m\u001b[0;34m\u001b[0m\u001b[0m\n\u001b[0;32m---> 54\u001b[0;31m         \u001b[0mval_acc\u001b[0m \u001b[0;34m=\u001b[0m \u001b[0mevaluate\u001b[0m\u001b[0;34m(\u001b[0m\u001b[0mnetwork\u001b[0m\u001b[0;34m,\u001b[0m \u001b[0mval_loader\u001b[0m\u001b[0;34m,\u001b[0m \u001b[0mspikes\u001b[0m\u001b[0;34m)\u001b[0m\u001b[0;34m\u001b[0m\u001b[0;34m\u001b[0m\u001b[0m\n\u001b[0m\u001b[1;32m     55\u001b[0m \u001b[0;34m\u001b[0m\u001b[0m\n\u001b[1;32m     56\u001b[0m \u001b[0;34m\u001b[0m\u001b[0m\n",
            "\u001b[0;32m<ipython-input-126-d2f216582160>\u001b[0m in \u001b[0;36mevaluate\u001b[0;34m(network, val_loader, spikes)\u001b[0m\n\u001b[1;32m     17\u001b[0m         \u001b[0;32melse\u001b[0m\u001b[0;34m:\u001b[0m\u001b[0;34m\u001b[0m\u001b[0;34m\u001b[0m\u001b[0m\n\u001b[1;32m     18\u001b[0m             \u001b[0minputs\u001b[0m \u001b[0;34m=\u001b[0m \u001b[0;34m{\u001b[0m\u001b[0;34m\"input\"\u001b[0m\u001b[0;34m:\u001b[0m \u001b[0mimage\u001b[0m\u001b[0;34m.\u001b[0m\u001b[0mview\u001b[0m\u001b[0;34m(\u001b[0m\u001b[0mtime\u001b[0m\u001b[0;34m,\u001b[0m \u001b[0;36m1\u001b[0m\u001b[0;34m,\u001b[0m \u001b[0;36m1\u001b[0m\u001b[0;34m,\u001b[0m \u001b[0;36m20\u001b[0m\u001b[0;34m,\u001b[0m \u001b[0;36m20\u001b[0m\u001b[0;34m)\u001b[0m\u001b[0;34m}\u001b[0m\u001b[0;34m\u001b[0m\u001b[0;34m\u001b[0m\u001b[0m\n\u001b[0;32m---> 19\u001b[0;31m         \u001b[0mnetwork\u001b[0m\u001b[0;34m.\u001b[0m\u001b[0mrun\u001b[0m\u001b[0;34m(\u001b[0m\u001b[0minputs\u001b[0m\u001b[0;34m=\u001b[0m\u001b[0minputs\u001b[0m\u001b[0;34m,\u001b[0m \u001b[0mtime\u001b[0m\u001b[0;34m=\u001b[0m\u001b[0mtime\u001b[0m\u001b[0;34m,\u001b[0m \u001b[0;34m**\u001b[0m\u001b[0mreward_kwargs\u001b[0m\u001b[0;34m,\u001b[0m \u001b[0mlabels\u001b[0m\u001b[0;34m=\u001b[0m\u001b[0mlabel\u001b[0m\u001b[0;34m)\u001b[0m\u001b[0;34m\u001b[0m\u001b[0;34m\u001b[0m\u001b[0m\n\u001b[0m\u001b[1;32m     20\u001b[0m \u001b[0;34m\u001b[0m\u001b[0m\n\u001b[1;32m     21\u001b[0m         \u001b[0;31m# Add to spikes recording.\u001b[0m\u001b[0;34m\u001b[0m\u001b[0;34m\u001b[0m\u001b[0;34m\u001b[0m\u001b[0m\n",
            "\u001b[0;32m/usr/local/lib/python3.7/dist-packages/bindsnet/network/network.py\u001b[0m in \u001b[0;36mrun\u001b[0;34m(self, inputs, time, one_step, **kwargs)\u001b[0m\n\u001b[1;32m    371\u001b[0m             \u001b[0mcurrent_inputs\u001b[0m \u001b[0;34m=\u001b[0m \u001b[0;34m{\u001b[0m\u001b[0;34m}\u001b[0m\u001b[0;34m\u001b[0m\u001b[0;34m\u001b[0m\u001b[0m\n\u001b[1;32m    372\u001b[0m             \u001b[0;32mif\u001b[0m \u001b[0;32mnot\u001b[0m \u001b[0mone_step\u001b[0m\u001b[0;34m:\u001b[0m\u001b[0;34m\u001b[0m\u001b[0;34m\u001b[0m\u001b[0m\n\u001b[0;32m--> 373\u001b[0;31m                 \u001b[0mcurrent_inputs\u001b[0m\u001b[0;34m.\u001b[0m\u001b[0mupdate\u001b[0m\u001b[0;34m(\u001b[0m\u001b[0mself\u001b[0m\u001b[0;34m.\u001b[0m\u001b[0m_get_inputs\u001b[0m\u001b[0;34m(\u001b[0m\u001b[0;34m)\u001b[0m\u001b[0;34m)\u001b[0m\u001b[0;34m\u001b[0m\u001b[0;34m\u001b[0m\u001b[0m\n\u001b[0m\u001b[1;32m    374\u001b[0m \u001b[0;34m\u001b[0m\u001b[0m\n\u001b[1;32m    375\u001b[0m             \u001b[0;32mfor\u001b[0m \u001b[0ml\u001b[0m \u001b[0;32min\u001b[0m \u001b[0mself\u001b[0m\u001b[0;34m.\u001b[0m\u001b[0mlayers\u001b[0m\u001b[0;34m:\u001b[0m\u001b[0;34m\u001b[0m\u001b[0;34m\u001b[0m\u001b[0m\n",
            "\u001b[0;32m/usr/local/lib/python3.7/dist-packages/bindsnet/network/network.py\u001b[0m in \u001b[0;36m_get_inputs\u001b[0;34m(self, layers)\u001b[0m\n\u001b[1;32m    249\u001b[0m                     \u001b[0;32melse\u001b[0m\u001b[0;34m:\u001b[0m\u001b[0;34m\u001b[0m\u001b[0;34m\u001b[0m\u001b[0m\n\u001b[1;32m    250\u001b[0m                         inputs[c[1]] = torch.zeros(\n\u001b[0;32m--> 251\u001b[0;31m                             \u001b[0mself\u001b[0m\u001b[0;34m.\u001b[0m\u001b[0mbatch_size\u001b[0m\u001b[0;34m,\u001b[0m \u001b[0;34m*\u001b[0m\u001b[0mtarget\u001b[0m\u001b[0;34m.\u001b[0m\u001b[0mshape\u001b[0m\u001b[0;34m,\u001b[0m \u001b[0mdevice\u001b[0m\u001b[0;34m=\u001b[0m\u001b[0mtarget\u001b[0m\u001b[0;34m.\u001b[0m\u001b[0ms\u001b[0m\u001b[0;34m.\u001b[0m\u001b[0mdevice\u001b[0m\u001b[0;34m\u001b[0m\u001b[0;34m\u001b[0m\u001b[0m\n\u001b[0m\u001b[1;32m    252\u001b[0m                         )\n\u001b[1;32m    253\u001b[0m \u001b[0;34m\u001b[0m\u001b[0m\n",
            "\u001b[0;31mKeyboardInterrupt\u001b[0m: "
          ]
        }
      ],
      "metadata": {
        "id": "Gk3H-hrdPLIU",
        "colab": {
          "base_uri": "https://localhost:8080/",
          "height": 474,
          "referenced_widgets": [
            "4458af9ef837477e804077e7a9629165",
            "4e8c16768a3240afa67de4ed97d75c13",
            "b78d8f311d274985837012dbfb9ef99c",
            "8c8a2151627f4a57804d060ac77c82c7",
            "2190a8dfe93545588f005576f25e2267",
            "d8084fe867914d7195d9de3a530ef5d9",
            "ca276aaea7904649a46e6a648ca2e39a",
            "a3783bdb6abe47a4bbce2c5e467f78cb",
            "44f6111d2fc44d6b882ab4f55d77b0f6",
            "571a35bbd3d84286945b1326afa9b7f1",
            "0183166bde2b49c8a7d094c3ef91fcd1"
          ]
        },
        "outputId": "77a6eef4-239f-4928-94e6-451579686013"
      }
    },
    {
      "cell_type": "code",
      "execution_count": null,
      "source": [
        "import matplotlib.pyplot as plt\r\n",
        "\r\n",
        "\r\n",
        "plt.plot(output_spikes.sum(-1)[:,0])\r\n",
        "plt.plot(output_spikes.sum(-1)[:,1])\r\n",
        "\r\n",
        "plt.plot(reward_monitor.get())\r\n",
        "plt.show()"
      ],
      "outputs": [],
      "metadata": {
        "id": "-dqTw2QFBQKz"
      }
    },
    {
      "cell_type": "code",
      "execution_count": null,
      "source": [
        "# Load the TensorBoard notebook extension\r\n",
        "%load_ext tensorboard"
      ],
      "outputs": [],
      "metadata": {
        "id": "nAKGbShj7kOM"
      }
    },
    {
      "cell_type": "code",
      "execution_count": null,
      "source": [
        "%tensorboard --logdir runs"
      ],
      "outputs": [],
      "metadata": {
        "id": "EXv13w317oW7"
      }
    },
    {
      "cell_type": "markdown",
      "source": [
        "# Kernel "
      ],
      "metadata": {
        "id": "R_YGE1XjvIkZ"
      }
    },
    {
      "cell_type": "code",
      "execution_count": null,
      "source": [
        "from abc import ABC, abstractmethod\n",
        "from typing import Union, Tuple, Optional, Sequence\n",
        "from torch.nn.modules.utils import _pair"
      ],
      "outputs": [],
      "metadata": {
        "id": "dzaRZ3jNwxpE"
      }
    },
    {
      "cell_type": "code",
      "execution_count": null,
      "source": [
        "class AbstractKernel(ABC):\n",
        "\tr\"\"\"Base class for generating image filter kernels such as Gabor, DoG, etc. Each subclass should override :attr:`__call__` function.\n",
        "\t\"\"\"\n",
        "\tdef __init__(self, kernel_size: Union[int, Tuple[int, int]]):\n",
        "    \"\"\"\n",
        "    Instantiates a ``Filter Kernel`` object.\n",
        "\n",
        "    :param kernel_size: Horizontal and vertical size of convolutional kernels.\n",
        "    \"\"\"\n",
        "\t\tself.kernel_size = _pair(kenel_size)\n",
        "\n",
        "\tdef __call__(self):\n",
        "\t\tpass\n"
      ],
      "outputs": [],
      "metadata": {
        "id": "-4hp2V46vOUv"
      }
    },
    {
      "cell_type": "code",
      "execution_count": null,
      "source": [
        "class DoG_Kernel(AbstractKernel):\r\n",
        "\tr\"\"\"Generates DoG filter kernels.\r\n",
        "\t\"\"\"\r\n",
        "\tdef __init__(self, \r\n",
        "                 kernel_size: Union[int, Tuple[int, int]], \r\n",
        "                 sigma1 : float,\r\n",
        "                 sigma2 : float):\r\n",
        "        \"\"\"\r\n",
        "\t\t:param kernel_size: Horizontal and vertical size of DOG kernels.(If pass int, we consider it as a square filter) \r\n",
        "\t\t:param sigma1 : The sigma parameter for the first Gaussian function.\r\n",
        "\t\t:param sigma2 : The sigma parameter for the second Gaussian function.\r\n",
        "\t\t\"\"\"\r\n",
        "        super(DoG_Kernel, self).__init__(kernel_size)\r\n",
        "\t\tself.sigma1 = sigma1\r\n",
        "\t\tself.sigma2 = sigma2\r\n",
        "\r\n",
        "\t# returns a 2d tensor corresponding to the requested DoG filter\r\n",
        "\tdef __call__(self):\r\n",
        "\t\tk = self.kernel_size//2\r\n",
        "\t\tx, y = np.mgrid[-k:k+1:1, -k:k+1:1]\r\n",
        "\t\ta = 1.0 / (2 * math.pi)\r\n",
        "\t\tprod = x*x + y*y\r\n",
        "\t\tf1 = (1/(self.sigma1*self.sigma1)) * np.exp(-0.5 * (1/(self.sigma1*self.sigma1)) * (prod))\r\n",
        "\t\tf2 = (1/(self.sigma2*self.sigma2)) * np.exp(-0.5 * (1/(self.sigma2*self.sigma2)) * (prod))\r\n",
        "\t\tdog = a * (f1-f2)\r\n",
        "\t\tdog_mean = np.mean(dog)\r\n",
        "\t\tdog = dog - dog_mean\r\n",
        "\t\tdog_max = np.max(dog)\r\n",
        "\t\tdog = dog / dog_max\r\n",
        "\t\tdog_tensor = torch.from_numpy(dog)\r\n",
        "\t\treturn dog_tensor.float()"
      ],
      "outputs": [],
      "metadata": {
        "id": "PL2L6_ABwBH4"
      }
    },
    {
      "cell_type": "code",
      "execution_count": null,
      "source": [],
      "outputs": [],
      "metadata": {
        "id": "gD0kdZthzUr3"
      }
    }
  ]
}