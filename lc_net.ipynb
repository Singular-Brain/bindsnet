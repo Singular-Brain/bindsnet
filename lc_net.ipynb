{
  "nbformat": 4,
  "nbformat_minor": 2,
  "metadata": {
    "colab": {
      "name": "Copy of lc_net",
      "provenance": [],
      "collapsed_sections": [],
      "machine_shape": "hm",
      "include_colab_link": true
    },
    "kernelspec": {
      "name": "python3",
      "display_name": "Python 3.7.9 64-bit ('base': conda)"
    },
    "language_info": {
      "name": "python",
      "version": "3.7.9",
      "mimetype": "text/x-python",
      "codemirror_mode": {
        "name": "ipython",
        "version": 3
      },
      "pygments_lexer": "ipython3",
      "nbconvert_exporter": "python",
      "file_extension": ".py"
    },
    "accelerator": "GPU",
    "widgets": {
      "application/vnd.jupyter.widget-state+json": {
        "5a0a7b83778047f8887fee2d1e45666e": {
          "model_module": "@jupyter-widgets/controls",
          "model_name": "HBoxModel",
          "state": {
            "_view_name": "HBoxView",
            "_dom_classes": [],
            "_model_name": "HBoxModel",
            "_view_module": "@jupyter-widgets/controls",
            "_model_module_version": "1.5.0",
            "_view_count": null,
            "_view_module_version": "1.5.0",
            "box_style": "",
            "layout": "IPY_MODEL_a8ffdd1d133c462f84a2b7890f92dc5a",
            "_model_module": "@jupyter-widgets/controls",
            "children": [
              "IPY_MODEL_3f097435b6b140359f1615431013e2cc",
              "IPY_MODEL_e2fcdf68d1dc4f7c8be8c15d1462b5d4",
              "IPY_MODEL_0aa1b935fff2461a9f6fbedf8e8a7243"
            ]
          }
        },
        "a8ffdd1d133c462f84a2b7890f92dc5a": {
          "model_module": "@jupyter-widgets/base",
          "model_name": "LayoutModel",
          "state": {
            "_view_name": "LayoutView",
            "grid_template_rows": null,
            "right": null,
            "justify_content": null,
            "_view_module": "@jupyter-widgets/base",
            "overflow": null,
            "_model_module_version": "1.2.0",
            "_view_count": null,
            "flex_flow": null,
            "width": null,
            "min_width": null,
            "border": null,
            "align_items": null,
            "bottom": null,
            "_model_module": "@jupyter-widgets/base",
            "top": null,
            "grid_column": null,
            "overflow_y": null,
            "overflow_x": null,
            "grid_auto_flow": null,
            "grid_area": null,
            "grid_template_columns": null,
            "flex": null,
            "_model_name": "LayoutModel",
            "justify_items": null,
            "grid_row": null,
            "max_height": null,
            "align_content": null,
            "visibility": null,
            "align_self": null,
            "height": null,
            "min_height": null,
            "padding": null,
            "grid_auto_rows": null,
            "grid_gap": null,
            "max_width": null,
            "order": null,
            "_view_module_version": "1.2.0",
            "grid_template_areas": null,
            "object_position": null,
            "object_fit": null,
            "grid_auto_columns": null,
            "margin": null,
            "display": null,
            "left": null
          }
        },
        "3f097435b6b140359f1615431013e2cc": {
          "model_module": "@jupyter-widgets/controls",
          "model_name": "HTMLModel",
          "state": {
            "_view_name": "HTMLView",
            "style": "IPY_MODEL_58cbfe545d1242c7ae53754e44aa7c2d",
            "_dom_classes": [],
            "description": "",
            "_model_name": "HTMLModel",
            "placeholder": "​",
            "_view_module": "@jupyter-widgets/controls",
            "_model_module_version": "1.5.0",
            "value": "Running accuracy: 32.00%, Current val accuracy: 68.00%, :  96%",
            "_view_count": null,
            "_view_module_version": "1.5.0",
            "description_tooltip": null,
            "_model_module": "@jupyter-widgets/controls",
            "layout": "IPY_MODEL_be4fe11b07da4891b8b19c42f89f295e"
          }
        },
        "e2fcdf68d1dc4f7c8be8c15d1462b5d4": {
          "model_module": "@jupyter-widgets/controls",
          "model_name": "FloatProgressModel",
          "state": {
            "_view_name": "ProgressView",
            "style": "IPY_MODEL_676b2a9992b54d02bbcfe52c7fad4d33",
            "_dom_classes": [],
            "description": "",
            "_model_name": "FloatProgressModel",
            "bar_style": "",
            "max": 200,
            "_view_module": "@jupyter-widgets/controls",
            "_model_module_version": "1.5.0",
            "value": 192,
            "_view_count": null,
            "_view_module_version": "1.5.0",
            "orientation": "horizontal",
            "min": 0,
            "description_tooltip": null,
            "_model_module": "@jupyter-widgets/controls",
            "layout": "IPY_MODEL_437344acbb4a4bff8ca28c9d27c16f1e"
          }
        },
        "0aa1b935fff2461a9f6fbedf8e8a7243": {
          "model_module": "@jupyter-widgets/controls",
          "model_name": "HTMLModel",
          "state": {
            "_view_name": "HTMLView",
            "style": "IPY_MODEL_90c9b1588d42403aa62d7febba1eec0b",
            "_dom_classes": [],
            "description": "",
            "_model_name": "HTMLModel",
            "placeholder": "​",
            "_view_module": "@jupyter-widgets/controls",
            "_model_module_version": "1.5.0",
            "value": " 192/200 [06:12&lt;00:09,  1.21s/it]",
            "_view_count": null,
            "_view_module_version": "1.5.0",
            "description_tooltip": null,
            "_model_module": "@jupyter-widgets/controls",
            "layout": "IPY_MODEL_9807e860c69a4e419f597f4ca30103e8"
          }
        },
        "58cbfe545d1242c7ae53754e44aa7c2d": {
          "model_module": "@jupyter-widgets/controls",
          "model_name": "DescriptionStyleModel",
          "state": {
            "_view_name": "StyleView",
            "_model_name": "DescriptionStyleModel",
            "description_width": "",
            "_view_module": "@jupyter-widgets/base",
            "_model_module_version": "1.5.0",
            "_view_count": null,
            "_view_module_version": "1.2.0",
            "_model_module": "@jupyter-widgets/controls"
          }
        },
        "be4fe11b07da4891b8b19c42f89f295e": {
          "model_module": "@jupyter-widgets/base",
          "model_name": "LayoutModel",
          "state": {
            "_view_name": "LayoutView",
            "grid_template_rows": null,
            "right": null,
            "justify_content": null,
            "_view_module": "@jupyter-widgets/base",
            "overflow": null,
            "_model_module_version": "1.2.0",
            "_view_count": null,
            "flex_flow": null,
            "width": null,
            "min_width": null,
            "border": null,
            "align_items": null,
            "bottom": null,
            "_model_module": "@jupyter-widgets/base",
            "top": null,
            "grid_column": null,
            "overflow_y": null,
            "overflow_x": null,
            "grid_auto_flow": null,
            "grid_area": null,
            "grid_template_columns": null,
            "flex": null,
            "_model_name": "LayoutModel",
            "justify_items": null,
            "grid_row": null,
            "max_height": null,
            "align_content": null,
            "visibility": null,
            "align_self": null,
            "height": null,
            "min_height": null,
            "padding": null,
            "grid_auto_rows": null,
            "grid_gap": null,
            "max_width": null,
            "order": null,
            "_view_module_version": "1.2.0",
            "grid_template_areas": null,
            "object_position": null,
            "object_fit": null,
            "grid_auto_columns": null,
            "margin": null,
            "display": null,
            "left": null
          }
        },
        "676b2a9992b54d02bbcfe52c7fad4d33": {
          "model_module": "@jupyter-widgets/controls",
          "model_name": "ProgressStyleModel",
          "state": {
            "_view_name": "StyleView",
            "_model_name": "ProgressStyleModel",
            "description_width": "",
            "_view_module": "@jupyter-widgets/base",
            "_model_module_version": "1.5.0",
            "_view_count": null,
            "_view_module_version": "1.2.0",
            "bar_color": null,
            "_model_module": "@jupyter-widgets/controls"
          }
        },
        "437344acbb4a4bff8ca28c9d27c16f1e": {
          "model_module": "@jupyter-widgets/base",
          "model_name": "LayoutModel",
          "state": {
            "_view_name": "LayoutView",
            "grid_template_rows": null,
            "right": null,
            "justify_content": null,
            "_view_module": "@jupyter-widgets/base",
            "overflow": null,
            "_model_module_version": "1.2.0",
            "_view_count": null,
            "flex_flow": null,
            "width": null,
            "min_width": null,
            "border": null,
            "align_items": null,
            "bottom": null,
            "_model_module": "@jupyter-widgets/base",
            "top": null,
            "grid_column": null,
            "overflow_y": null,
            "overflow_x": null,
            "grid_auto_flow": null,
            "grid_area": null,
            "grid_template_columns": null,
            "flex": null,
            "_model_name": "LayoutModel",
            "justify_items": null,
            "grid_row": null,
            "max_height": null,
            "align_content": null,
            "visibility": null,
            "align_self": null,
            "height": null,
            "min_height": null,
            "padding": null,
            "grid_auto_rows": null,
            "grid_gap": null,
            "max_width": null,
            "order": null,
            "_view_module_version": "1.2.0",
            "grid_template_areas": null,
            "object_position": null,
            "object_fit": null,
            "grid_auto_columns": null,
            "margin": null,
            "display": null,
            "left": null
          }
        },
        "90c9b1588d42403aa62d7febba1eec0b": {
          "model_module": "@jupyter-widgets/controls",
          "model_name": "DescriptionStyleModel",
          "state": {
            "_view_name": "StyleView",
            "_model_name": "DescriptionStyleModel",
            "description_width": "",
            "_view_module": "@jupyter-widgets/base",
            "_model_module_version": "1.5.0",
            "_view_count": null,
            "_view_module_version": "1.2.0",
            "_model_module": "@jupyter-widgets/controls"
          }
        },
        "9807e860c69a4e419f597f4ca30103e8": {
          "model_module": "@jupyter-widgets/base",
          "model_name": "LayoutModel",
          "state": {
            "_view_name": "LayoutView",
            "grid_template_rows": null,
            "right": null,
            "justify_content": null,
            "_view_module": "@jupyter-widgets/base",
            "overflow": null,
            "_model_module_version": "1.2.0",
            "_view_count": null,
            "flex_flow": null,
            "width": null,
            "min_width": null,
            "border": null,
            "align_items": null,
            "bottom": null,
            "_model_module": "@jupyter-widgets/base",
            "top": null,
            "grid_column": null,
            "overflow_y": null,
            "overflow_x": null,
            "grid_auto_flow": null,
            "grid_area": null,
            "grid_template_columns": null,
            "flex": null,
            "_model_name": "LayoutModel",
            "justify_items": null,
            "grid_row": null,
            "max_height": null,
            "align_content": null,
            "visibility": null,
            "align_self": null,
            "height": null,
            "min_height": null,
            "padding": null,
            "grid_auto_rows": null,
            "grid_gap": null,
            "max_width": null,
            "order": null,
            "_view_module_version": "1.2.0",
            "grid_template_areas": null,
            "object_position": null,
            "object_fit": null,
            "grid_auto_columns": null,
            "margin": null,
            "display": null,
            "left": null
          }
        }
      }
    },
    "interpreter": {
      "hash": "87ae7d1e75b14a98f2d7b99b6b39b40721989d38e6517f9dbec64ca4d8e3011b"
    }
  },
  "cells": [
    {
      "cell_type": "markdown",
      "source": [
        "<a href=\"https://colab.research.google.com/github/Singular-Brain/bindsnet/blob/master/lc_net.ipynb\" target=\"_parent\"><img src=\"https://colab.research.google.com/assets/colab-badge.svg\" alt=\"Open In Colab\"/></a>"
      ],
      "metadata": {
        "id": "view-in-github",
        "colab_type": "text"
      }
    },
    {
      "cell_type": "markdown",
      "source": [
        "#Notebook setups"
      ],
      "metadata": {
        "id": "7fTSvrK3T_GA"
      }
    },
    {
      "cell_type": "code",
      "execution_count": 1,
      "source": [
        "!pip install -q git+https://github.com/Singular-Brain/bindsnet"
      ],
      "outputs": [
        {
          "output_type": "stream",
          "name": "stdout",
          "text": [
            "\u001b[K     |████████████████████████████████| 120 kB 4.0 MB/s \n",
            "\u001b[K     |████████████████████████████████| 76 kB 3.3 MB/s \n",
            "\u001b[K     |████████████████████████████████| 72 kB 927 kB/s \n",
            "\u001b[K     |████████████████████████████████| 280 kB 6.7 MB/s \n",
            "\u001b[K     |████████████████████████████████| 28.5 MB 39 kB/s \n",
            "\u001b[?25h  Building wheel for BindsNET (setup.py) ... \u001b[?25l\u001b[?25hdone\n",
            "\u001b[31mERROR: pip's dependency resolver does not currently take into account all the packages that are installed. This behaviour is the source of the following dependency conflicts.\n",
            "datascience 0.10.6 requires folium==0.2.1, but you have folium 0.8.3 which is incompatible.\n",
            "albumentations 0.1.12 requires imgaug<0.2.7,>=0.2.5, but you have imgaug 0.2.9 which is incompatible.\u001b[0m\n"
          ]
        }
      ],
      "metadata": {
        "id": "lXtgP_iEPE0G",
        "colab": {
          "base_uri": "https://localhost:8080/"
        },
        "outputId": "f22144d2-8a79-4fc3-a6b4-42b25530abc1"
      }
    },
    {
      "cell_type": "code",
      "execution_count": 2,
      "source": [
        "!wget https://data.deepai.org/mnist.zip\r\n",
        "!mkdir -p ../data/MNIST/TorchvisionDatasetWrapper/raw\r\n",
        "!unzip mnist.zip -d ../data/MNIST/TorchvisionDatasetWrapper/raw/"
      ],
      "outputs": [
        {
          "output_type": "stream",
          "name": "stdout",
          "text": [
            "--2021-08-05 08:01:01--  https://data.deepai.org/mnist.zip\n",
            "Resolving data.deepai.org (data.deepai.org)... 138.201.36.183\n",
            "Connecting to data.deepai.org (data.deepai.org)|138.201.36.183|:443... connected.\n",
            "HTTP request sent, awaiting response... 200 OK\n",
            "Length: 11597176 (11M) [application/x-zip-compressed]\n",
            "Saving to: ‘mnist.zip’\n",
            "\n",
            "mnist.zip           100%[===================>]  11.06M  4.58MB/s    in 2.4s    \n",
            "\n",
            "2021-08-05 08:01:05 (4.58 MB/s) - ‘mnist.zip’ saved [11597176/11597176]\n",
            "\n",
            "Archive:  mnist.zip\n",
            "  inflating: ../data/MNIST/TorchvisionDatasetWrapper/raw/train-labels-idx1-ubyte.gz  \n",
            "  inflating: ../data/MNIST/TorchvisionDatasetWrapper/raw/train-images-idx3-ubyte.gz  \n",
            "  inflating: ../data/MNIST/TorchvisionDatasetWrapper/raw/t10k-images-idx3-ubyte.gz  \n",
            "  inflating: ../data/MNIST/TorchvisionDatasetWrapper/raw/t10k-labels-idx1-ubyte.gz  \n"
          ]
        }
      ],
      "metadata": {
        "colab": {
          "base_uri": "https://localhost:8080/"
        },
        "id": "OW7m3ugEHZP_",
        "outputId": "7cbe19f2-c095-4354-9b6c-67ec640cfa44"
      }
    },
    {
      "cell_type": "code",
      "execution_count": 6,
      "source": [
        "from bindsnet.network.nodes import Nodes\r\n",
        "import os\r\n",
        "import copy\r\n",
        "import time\r\n",
        "import torch\r\n",
        "import random\r\n",
        "import torchvision\r\n",
        "import numpy as np\r\n",
        "import argparse\r\n",
        "import matplotlib.pyplot as plt\r\n",
        "import collections\r\n",
        "import manual_seed\r\n",
        "from torchvision import transforms\r\n",
        "from tqdm.notebook import tqdm\r\n",
        "\r\n",
        "from bindsnet.datasets import MNIST\r\n",
        "from bindsnet.encoding import PoissonEncoder\r\n",
        "from bindsnet.network import Network\r\n",
        "from bindsnet.network.nodes import Input, LIFNodes, AdaptiveLIFNodes\r\n",
        "from bindsnet.network.topology import LocalConnection, Connection\r\n",
        "from bindsnet.network.monitors import Monitor, AbstractMonitor, TensorBoardMonitor\r\n",
        "from bindsnet.learning import PostPre, MSTDP, MSTDPET \r\n",
        "from bindsnet.learning.reward import DynamicDopamineInjection\r\n",
        "from bindsnet.utils import get_square_assignments, get_square_weights\r\n",
        "from bindsnet.evaluation import all_activity, proportion_weighting, assign_labels\r\n",
        "\r\n",
        "from bindsnet.analysis.plotting import (\r\n",
        "    plot_input,\r\n",
        "    plot_assignments,\r\n",
        "    plot_performance,\r\n",
        "    plot_weights,\r\n",
        "    plot_spikes,\r\n",
        "    plot_voltages,\r\n",
        ")"
      ],
      "outputs": [],
      "metadata": {
        "id": "BFGNAecpT-Lj"
      }
    },
    {
      "cell_type": "markdown",
      "source": [
        "## Sets up Gpu use\n"
      ],
      "metadata": {
        "id": "ULGGHW43UksI"
      }
    },
    {
      "cell_type": "code",
      "execution_count": 7,
      "source": [
        "device = torch.device(\"cuda\" if torch.cuda.is_available() else \"cpu\")\r\n",
        "gpu = True\r\n",
        "train = True\r\n",
        "def manual_seed(seed):\r\n",
        "    random.seed(seed)\r\n",
        "    torch.manual_seed(seed)\r\n",
        "    np.random.seed(seed)\r\n",
        "    if torch.cuda.is_available():\r\n",
        "        torch.cuda.manual_seed_all(seed)\r\n",
        "            \r\n",
        "torch.set_num_threads(os.cpu_count() - 1)\r\n",
        "print(\"Running on Device = \", device)\r\n",
        "\r\n",
        "if not train:\r\n",
        "    update_interval = n_test\r\n",
        "seed = 2045 # The Singularity is Near!\r\n",
        "manual_seed(seed)"
      ],
      "outputs": [
        {
          "output_type": "stream",
          "name": "stdout",
          "text": [
            "Running on Device =  cpu\n"
          ]
        }
      ],
      "metadata": {
        "id": "LiUmFrpcUfmR",
        "colab": {
          "base_uri": "https://localhost:8080/"
        },
        "outputId": "226da3a6-d081-40c6-9d8c-170f22850d0a"
      }
    },
    {
      "cell_type": "markdown",
      "source": [
        "## Set up hyper-parameters"
      ],
      "metadata": {
        "id": "kCqAFucAUDb8"
      }
    },
    {
      "cell_type": "markdown",
      "source": [
        "<a href=\"https://imgflip.com/i/5in8rq\"><img src=\"https://i.imgflip.com/5in8rq.jpg\" title=\"made at imgflip.com\"/></a><div><a href=\"https://imgflip.com/memegenerator\"></a>By Mahbod</div>"
      ],
      "metadata": {
        "id": "bGwMhzbzOkB_"
      }
    },
    {
      "cell_type": "code",
      "execution_count": 8,
      "source": [
        "seed = 2045 # The Singularity is Near!\r\n",
        "manual_seed(seed)\r\n",
        "# training hyperparameters\r\n",
        "n_train = 200\r\n",
        "n_test = 100\r\n",
        "n_val = 50\r\n",
        "val_interval = 50\r\n",
        "running_window_length = 50\r\n",
        "time = 250\r\n",
        "dt = 1\r\n",
        "train = True\r\n",
        "gpu = False\r\n",
        "device_id = 0\r\n",
        "\r\n",
        "# Dataset Hyperparameters\r\n",
        "target_classes = (0,1)\r\n",
        "if target_classes:\r\n",
        "    npz_file =np.load(f'mask_{target_classes[0]}_{target_classes[1]}.npz')\r\n",
        "    mask, mask_test = torch.from_numpy(npz_file['arr_0']), torch.from_numpy(npz_file['arr_1'])\r\n",
        "    n_classes = len(target_classes)\r\n",
        "else:\r\n",
        "    mask = None\r\n",
        "    mask_test = None\r\n",
        "    n_classes = 10\r\n",
        "crop_size = 20\r\n",
        "intensity = 127.5 \r\n",
        "\r\n",
        "# Network Architecture Hyperparameters \r\n",
        "n_neurons = 100\r\n",
        "C = 50\r\n",
        "K = 12\r\n",
        "S = 4\r\n",
        "theta_plus = 0.05   ## Adaptive LIF\r\n",
        "inh_factor = 0.5\r\n",
        "wmin = -1.0\r\n",
        "wmax = 1.0\r\n",
        "neuron_per_class = int(n_neurons/n_classes)\r\n",
        "\r\n",
        "train_hparams = {\r\n",
        "    'n_train' : n_train,\r\n",
        "    'n_test' : n_test,\r\n",
        "    'n_val' : n_val,\r\n",
        "    'val_interval' : val_interval,\r\n",
        "    'time' : time, \r\n",
        "    'dt' : dt, \r\n",
        "    'running_window_length': running_window_length,\r\n",
        "}\r\n",
        "\r\n",
        "data_hparams = { \r\n",
        "     'n_classes': n_classes,\r\n",
        "    'intensity': intensity,\r\n",
        "    'crop_size': crop_size,\r\n",
        "}\r\n",
        "\r\n",
        "network_hparams = {\r\n",
        "    'n_neurons' : n_neurons,\r\n",
        "    'n_channels': C,\r\n",
        "    'filter_size': K,\r\n",
        "    'stride': S,\r\n",
        "    'theta_plus': theta_plus,\r\n",
        "    'inh_factor': inh_factor,\r\n",
        "    'wmin': wmin,\r\n",
        "    'wmax': wmax,\r\n",
        "    'n_neuron_per_class': neuron_per_class,\r\n",
        "}\r\n",
        "\r\n",
        "# reward Hyperparameters \r\n",
        "reward_hparams = {\r\n",
        "    'dopaminergic_layer': 'output', \r\n",
        "    'n_labels': n_classes,\r\n",
        "    'neuron_per_class': neuron_per_class,\r\n",
        "    'dopamine_per_spike': 0.001,\r\n",
        "    'dopamine_for_correct_pred': 0.0,\r\n",
        "    'tc_reward': 20,\r\n",
        "    'dopamine_base': 0.002,\r\n",
        "    'variant': 'default'\r\n",
        "}"
      ],
      "outputs": [],
      "metadata": {
        "id": "0YacX9jrUHj4",
        "colab": {
          "base_uri": "https://localhost:8080/"
        },
        "outputId": "2c552280-a9fc-40b1-c2a5-518d46036d07"
      }
    },
    {
      "cell_type": "markdown",
      "source": [
        "# Design network"
      ],
      "metadata": {
        "id": "nL0giSqUUvz6"
      }
    },
    {
      "cell_type": "markdown",
      "source": [
        "## Reward Monitor"
      ],
      "metadata": {
        "id": "MBKedMpIleMr"
      }
    },
    {
      "cell_type": "code",
      "execution_count": 9,
      "source": [
        "class RewardMonitor(AbstractMonitor):\r\n",
        "    # language=rst\r\n",
        "    \"\"\"\r\n",
        "    Records state variables of interest.\r\n",
        "    \"\"\"\r\n",
        "\r\n",
        "    def __init__(\r\n",
        "        self,\r\n",
        "        time: None,\r\n",
        "        batch_size: int = 1,\r\n",
        "        device: str = \"cpu\",\r\n",
        "    ):\r\n",
        "        # language=rst\r\n",
        "        \"\"\"\r\n",
        "        Constructs a ``Monitor`` object.\r\n",
        "\r\n",
        "        :param obj: An object to record state variables from during network simulation.\r\n",
        "        :param state_vars: Iterable of strings indicating names of state variables to record.\r\n",
        "        :param time: If not ``None``, pre-allocate memory for state variable recording.\r\n",
        "        :param device: Allow the monitor to be on different device separate from Network device\r\n",
        "        \"\"\"\r\n",
        "        super().__init__()\r\n",
        "\r\n",
        "        self.time = time\r\n",
        "        self.batch_size = batch_size\r\n",
        "        self.device = device\r\n",
        "\r\n",
        "        # if time is not specified the monitor variable accumulate the logs\r\n",
        "        if self.time is None:\r\n",
        "            self.device = \"cpu\"\r\n",
        "\r\n",
        "        self.recording = []\r\n",
        "        self.reset_state_variables()\r\n",
        "\r\n",
        "    def get(self,) -> torch.Tensor:\r\n",
        "        # language=rst\r\n",
        "        \"\"\"\r\n",
        "        Return recording to user.\r\n",
        "\r\n",
        "        :return: Tensor of shape ``[time, n_1, ..., n_k]``, where ``[n_1, ..., n_k]`` is the shape of the recorded state\r\n",
        "        variable.\r\n",
        "        Note, if time == `None`, get return the logs and empty the monitor variable\r\n",
        "\r\n",
        "        \"\"\"\r\n",
        "        # return_logs = torch.as_tensor(self.recording)\r\n",
        "        # if self.time is None:\r\n",
        "        #     self.recording = []\r\n",
        "        return self.recording\r\n",
        "\r\n",
        "    def record(self, **kwargs) -> None:\r\n",
        "        # language=rst\r\n",
        "        \"\"\"\r\n",
        "        Appends the current value of the recorded state variables to the recording.\r\n",
        "        \"\"\"\r\n",
        "        self.recording.append(kwargs[\"reward\"])\r\n",
        "        # remove the oldest element (first in the list)\r\n",
        "        # if self.time is not None:\r\n",
        "        #     self.recording.pop(0)\r\n",
        "\r\n",
        "    def reset_state_variables(self) -> None:\r\n",
        "        # language=rst\r\n",
        "        \"\"\"\r\n",
        "        Resets recordings to empty ``List``s.\r\n",
        "        \"\"\"\r\n",
        "        self.recording = []\r\n"
      ],
      "outputs": [],
      "metadata": {
        "id": "M44GJ65GleMs"
      }
    },
    {
      "cell_type": "code",
      "execution_count": 10,
      "source": [
        "manual_seed(seed)\r\n",
        "\r\n",
        "compute_size = lambda inp_size, k, s: int((inp_size-k)/s) + 1\r\n",
        "\r\n",
        "### Reward function\r\n",
        "reward_fn = DynamicDopamineInjection\r\n",
        "network = Network(dt = 1, reward_fn = reward_fn)\r\n",
        "\r\n",
        "### nodes\r\n",
        "inp = Input(shape= [1,20,20], traces=True)\r\n",
        "\r\n",
        "main = LIFNodes(shape= [C, compute_size(crop_size, K, S), compute_size(crop_size, K, S)], traces=True)\r\n",
        "#main = LIFNodes(shape= [C, compute_size(20, K, S), compute_size(20, K, S)], traces=True)\r\n",
        "\r\n",
        "# TODO: Diehl & Cook 2015 (v2) \r\n",
        "out = LIFNodes(n= 100, traces=True, tc_trace=20)\r\n",
        "\r\n",
        "### connections \r\n",
        "LC = LocalConnection(inp, main, K, S, C, nu = 1e-2, update_rule = MSTDPET, wmin = wmin, wmax= wmax, )\r\n",
        "#LC.w = torch.nn.init.xavier_normal_(LC.w, gain=1.0)\r\n",
        "main_out = Connection(main, out, nu = 1e-2, update_rule = MSTDPET, wmin = wmin, wmax= wmax, )\r\n",
        "#main_out.w = torch.nn.init.xavier_normal_(main_out.w, gain=1.0)\r\n",
        "\r\n",
        "\r\n",
        "w = -inh_factor * torch.ones(out.n, out.n)\r\n",
        "for c in range(n_classes):\r\n",
        "    ind = slice(c*neuron_per_class,(c+1)*neuron_per_class)\r\n",
        "    w[ind, ind] = 0\r\n",
        "\r\n",
        "\r\n",
        "out_recurrent_inhibition = Connection(\r\n",
        "    source=out,\r\n",
        "    target=out,\r\n",
        "    w=w,\r\n",
        "    wmin=-inh_factor,\r\n",
        "    wmax=0,\r\n",
        "    nu = 1e-4,\r\n",
        ")\r\n",
        "\r\n",
        "network.add_layer(main, \"main\")\r\n",
        "network.add_layer(inp, \"input\")\r\n",
        "network.add_layer(out, \"output\")\r\n",
        "network.add_connection(LC, \"input\", \"main\")\r\n",
        "network.add_connection(main_out, \"main\", \"output\")\r\n",
        "network.add_connection(out_recurrent_inhibition, \"output\", \"output\")\r\n",
        "\r\n",
        "# Directs network to GPU\r\n",
        "if gpu:\r\n",
        "    network.to(\"cuda\")\r\n",
        "\r\n",
        "# Voltage recording for excitatory and inhibitory layers.\r\n",
        "main_monitor = Monitor(network.layers[\"main\"], [\"v\"], time=time, device=device)\r\n",
        "output_monitor = Monitor(network.layers[\"output\"], [\"v\"], time=time, device=device)\r\n",
        "reward_monitor = RewardMonitor(time =time)\r\n",
        "tensorboard = TensorBoardMonitor(network, time = time)\r\n",
        "network.add_monitor(main_monitor, name=\"main\")\r\n",
        "network.add_monitor(output_monitor, name=\"output\")\r\n",
        "network.add_monitor(reward_monitor, name=\"reward\")\r\n",
        "network.add_monitor(tensorboard, name=\"tensorboard\")\r\n",
        "\r\n"
      ],
      "outputs": [],
      "metadata": {
        "id": "dK1-BrFEO_1q"
      }
    },
    {
      "cell_type": "markdown",
      "source": [
        "# Load Dataset"
      ],
      "metadata": {
        "id": "6zuUBU9pU3vE"
      }
    },
    {
      "cell_type": "code",
      "execution_count": 11,
      "source": [
        "class ClassSelector(torch.utils.data.sampler.Sampler):\r\n",
        "    \"\"\"Select target classes from the dataset\"\"\"\r\n",
        "    def __init__(self, target_classes, data_source, mask = None):\r\n",
        "        if mask is not None:\r\n",
        "            self.mask = mask\r\n",
        "        else:\r\n",
        "            self.mask = torch.tensor([1 if data_source[i]['label'] in target_classes else 0 for i in range(len(data_source))])\r\n",
        "        self.data_source = data_source\r\n",
        "\r\n",
        "    def __iter__(self):\r\n",
        "        return iter([i.item() for i in torch.nonzero(self.mask)])\r\n",
        "\r\n",
        "    def __len__(self):\r\n",
        "        return len(self.data_source)"
      ],
      "outputs": [],
      "metadata": {
        "id": "2DW7dB11jdqi"
      }
    },
    {
      "cell_type": "code",
      "execution_count": 14,
      "source": [
        "# Load MNIST data.\r\n",
        "manual_seed(seed)\r\n",
        "dataset = MNIST(\r\n",
        "    PoissonEncoder(time=time, dt=dt,),\r\n",
        "    None,\r\n",
        "    root=os.path.join(\"..\", \"..\", \"data\", \"MNIST\"),\r\n",
        "    download=True,\r\n",
        "    transform=transforms.Compose(\r\n",
        "        [transforms.ToTensor(),\r\n",
        "        transforms.Lambda(lambda x: x * intensity),\r\n",
        "        transforms.CenterCrop(crop_size)]\r\n",
        "    ),\r\n",
        ")\r\n",
        "\r\n",
        "# Create a dataloader to iterate and batch data\r\n",
        "dataloader = torch.utils.data.DataLoader(dataset, batch_size=1,\r\n",
        "                                         sampler = ClassSelector(\r\n",
        "                                                target_classes = target_classes,\r\n",
        "                                                data_source = dataset,\r\n",
        "                                                mask = mask,\r\n",
        "                                                ) if target_classes else None\r\n",
        "                                         )\r\n",
        "\r\n",
        "# Load test dataset\r\n",
        "test_dataset = MNIST(\r\n",
        "    PoissonEncoder(time=time, dt=dt),\r\n",
        "    None,\r\n",
        "    root=os.path.join(\"..\", \"..\", \"data\", \"MNIST\"),\r\n",
        "    download=True,\r\n",
        "    train=False,\r\n",
        "    transform=transforms.Compose(\r\n",
        "        [transforms.ToTensor(),\r\n",
        "        transforms.Lambda(lambda x: x * intensity),\r\n",
        "        transforms.CenterCrop(crop_size)]\r\n",
        "    ),\r\n",
        ")\r\n",
        "\r\n",
        "val_loader = torch.utils.data.DataLoader(test_dataset, batch_size=1,\r\n",
        "                                         sampler = ClassSelector(\r\n",
        "                                                target_classes = target_classes,\r\n",
        "                                                data_source = test_dataset,\r\n",
        "                                                mask = mask_test,\r\n",
        "                                                ) if target_classes else None\r\n",
        "                                         )"
      ],
      "outputs": [
        {
          "output_type": "stream",
          "name": "stderr",
          "text": [
            "\n",
            "\u001b[A"
          ]
        },
        {
          "output_type": "stream",
          "name": "stdout",
          "text": [
            "Downloading http://yann.lecun.com/exdb/mnist/train-images-idx3-ubyte.gz to ..\\..\\data\\MNIST\\TorchvisionDatasetWrapper\\raw\\train-images-idx3-ubyte.gz\n"
          ]
        },
        {
          "output_type": "error",
          "ename": "HTTPError",
          "evalue": "HTTP Error 503: Service Unavailable",
          "traceback": [
            "\u001b[1;31m---------------------------------------------------------------------------\u001b[0m",
            "\u001b[1;31mHTTPError\u001b[0m                                 Traceback (most recent call last)",
            "\u001b[1;32m<ipython-input-14-abe199bd570c>\u001b[0m in \u001b[0;36m<module>\u001b[1;34m\u001b[0m\n\u001b[0;32m      9\u001b[0m         [transforms.ToTensor(),\n\u001b[0;32m     10\u001b[0m         \u001b[0mtransforms\u001b[0m\u001b[1;33m.\u001b[0m\u001b[0mLambda\u001b[0m\u001b[1;33m(\u001b[0m\u001b[1;32mlambda\u001b[0m \u001b[0mx\u001b[0m\u001b[1;33m:\u001b[0m \u001b[0mx\u001b[0m \u001b[1;33m*\u001b[0m \u001b[0mintensity\u001b[0m\u001b[1;33m)\u001b[0m\u001b[1;33m,\u001b[0m\u001b[1;33m\u001b[0m\u001b[1;33m\u001b[0m\u001b[0m\n\u001b[1;32m---> 11\u001b[1;33m         transforms.CenterCrop(crop_size)]\n\u001b[0m\u001b[0;32m     12\u001b[0m     ),\n\u001b[0;32m     13\u001b[0m )\n",
            "\u001b[1;32mc:\\Users\\karbar\\Documents\\GitHub\\bindsnet\\bindsnet\\datasets\\torchvision_wrapper.py\u001b[0m in \u001b[0;36m__init__\u001b[1;34m(self, image_encoder, label_encoder, *args, **kwargs)\u001b[0m\n\u001b[0;32m     49\u001b[0m             \u001b[1;33m:\u001b[0m\u001b[0mparam\u001b[0m \u001b[1;33m**\u001b[0m\u001b[0mkwargs\u001b[0m\u001b[1;33m:\u001b[0m \u001b[0mKeyword\u001b[0m \u001b[0marguments\u001b[0m \u001b[1;32mfor\u001b[0m \u001b[0mthe\u001b[0m \u001b[0moriginal\u001b[0m \u001b[0mdataset\u001b[0m\u001b[1;33m\u001b[0m\u001b[1;33m\u001b[0m\u001b[0m\n\u001b[0;32m     50\u001b[0m             \"\"\"\n\u001b[1;32m---> 51\u001b[1;33m             \u001b[0msuper\u001b[0m\u001b[1;33m(\u001b[0m\u001b[1;33m)\u001b[0m\u001b[1;33m.\u001b[0m\u001b[0m__init__\u001b[0m\u001b[1;33m(\u001b[0m\u001b[1;33m*\u001b[0m\u001b[0margs\u001b[0m\u001b[1;33m,\u001b[0m \u001b[1;33m**\u001b[0m\u001b[0mkwargs\u001b[0m\u001b[1;33m)\u001b[0m\u001b[1;33m\u001b[0m\u001b[1;33m\u001b[0m\u001b[0m\n\u001b[0m\u001b[0;32m     52\u001b[0m \u001b[1;33m\u001b[0m\u001b[0m\n\u001b[0;32m     53\u001b[0m             \u001b[0mself\u001b[0m\u001b[1;33m.\u001b[0m\u001b[0margs\u001b[0m \u001b[1;33m=\u001b[0m \u001b[0margs\u001b[0m\u001b[1;33m\u001b[0m\u001b[1;33m\u001b[0m\u001b[0m\n",
            "\u001b[1;32m~\\anaconda3\\lib\\site-packages\\torchvision\\datasets\\mnist.py\u001b[0m in \u001b[0;36m__init__\u001b[1;34m(self, root, train, transform, target_transform, download)\u001b[0m\n\u001b[0;32m     77\u001b[0m \u001b[1;33m\u001b[0m\u001b[0m\n\u001b[0;32m     78\u001b[0m         \u001b[1;32mif\u001b[0m \u001b[0mdownload\u001b[0m\u001b[1;33m:\u001b[0m\u001b[1;33m\u001b[0m\u001b[1;33m\u001b[0m\u001b[0m\n\u001b[1;32m---> 79\u001b[1;33m             \u001b[0mself\u001b[0m\u001b[1;33m.\u001b[0m\u001b[0mdownload\u001b[0m\u001b[1;33m(\u001b[0m\u001b[1;33m)\u001b[0m\u001b[1;33m\u001b[0m\u001b[1;33m\u001b[0m\u001b[0m\n\u001b[0m\u001b[0;32m     80\u001b[0m \u001b[1;33m\u001b[0m\u001b[0m\n\u001b[0;32m     81\u001b[0m         \u001b[1;32mif\u001b[0m \u001b[1;32mnot\u001b[0m \u001b[0mself\u001b[0m\u001b[1;33m.\u001b[0m\u001b[0m_check_exists\u001b[0m\u001b[1;33m(\u001b[0m\u001b[1;33m)\u001b[0m\u001b[1;33m:\u001b[0m\u001b[1;33m\u001b[0m\u001b[1;33m\u001b[0m\u001b[0m\n",
            "\u001b[1;32m~\\anaconda3\\lib\\site-packages\\torchvision\\datasets\\mnist.py\u001b[0m in \u001b[0;36mdownload\u001b[1;34m(self)\u001b[0m\n\u001b[0;32m    144\u001b[0m         \u001b[1;32mfor\u001b[0m \u001b[0murl\u001b[0m\u001b[1;33m,\u001b[0m \u001b[0mmd5\u001b[0m \u001b[1;32min\u001b[0m \u001b[0mself\u001b[0m\u001b[1;33m.\u001b[0m\u001b[0mresources\u001b[0m\u001b[1;33m:\u001b[0m\u001b[1;33m\u001b[0m\u001b[1;33m\u001b[0m\u001b[0m\n\u001b[0;32m    145\u001b[0m             \u001b[0mfilename\u001b[0m \u001b[1;33m=\u001b[0m \u001b[0murl\u001b[0m\u001b[1;33m.\u001b[0m\u001b[0mrpartition\u001b[0m\u001b[1;33m(\u001b[0m\u001b[1;34m'/'\u001b[0m\u001b[1;33m)\u001b[0m\u001b[1;33m[\u001b[0m\u001b[1;36m2\u001b[0m\u001b[1;33m]\u001b[0m\u001b[1;33m\u001b[0m\u001b[1;33m\u001b[0m\u001b[0m\n\u001b[1;32m--> 146\u001b[1;33m             \u001b[0mdownload_and_extract_archive\u001b[0m\u001b[1;33m(\u001b[0m\u001b[0murl\u001b[0m\u001b[1;33m,\u001b[0m \u001b[0mdownload_root\u001b[0m\u001b[1;33m=\u001b[0m\u001b[0mself\u001b[0m\u001b[1;33m.\u001b[0m\u001b[0mraw_folder\u001b[0m\u001b[1;33m,\u001b[0m \u001b[0mfilename\u001b[0m\u001b[1;33m=\u001b[0m\u001b[0mfilename\u001b[0m\u001b[1;33m,\u001b[0m \u001b[0mmd5\u001b[0m\u001b[1;33m=\u001b[0m\u001b[0mmd5\u001b[0m\u001b[1;33m)\u001b[0m\u001b[1;33m\u001b[0m\u001b[1;33m\u001b[0m\u001b[0m\n\u001b[0m\u001b[0;32m    147\u001b[0m \u001b[1;33m\u001b[0m\u001b[0m\n\u001b[0;32m    148\u001b[0m         \u001b[1;31m# process and save as torch files\u001b[0m\u001b[1;33m\u001b[0m\u001b[1;33m\u001b[0m\u001b[1;33m\u001b[0m\u001b[0m\n",
            "\u001b[1;32m~\\anaconda3\\lib\\site-packages\\torchvision\\datasets\\utils.py\u001b[0m in \u001b[0;36mdownload_and_extract_archive\u001b[1;34m(url, download_root, extract_root, filename, md5, remove_finished)\u001b[0m\n\u001b[0;32m    254\u001b[0m         \u001b[0mfilename\u001b[0m \u001b[1;33m=\u001b[0m \u001b[0mos\u001b[0m\u001b[1;33m.\u001b[0m\u001b[0mpath\u001b[0m\u001b[1;33m.\u001b[0m\u001b[0mbasename\u001b[0m\u001b[1;33m(\u001b[0m\u001b[0murl\u001b[0m\u001b[1;33m)\u001b[0m\u001b[1;33m\u001b[0m\u001b[1;33m\u001b[0m\u001b[0m\n\u001b[0;32m    255\u001b[0m \u001b[1;33m\u001b[0m\u001b[0m\n\u001b[1;32m--> 256\u001b[1;33m     \u001b[0mdownload_url\u001b[0m\u001b[1;33m(\u001b[0m\u001b[0murl\u001b[0m\u001b[1;33m,\u001b[0m \u001b[0mdownload_root\u001b[0m\u001b[1;33m,\u001b[0m \u001b[0mfilename\u001b[0m\u001b[1;33m,\u001b[0m \u001b[0mmd5\u001b[0m\u001b[1;33m)\u001b[0m\u001b[1;33m\u001b[0m\u001b[1;33m\u001b[0m\u001b[0m\n\u001b[0m\u001b[0;32m    257\u001b[0m \u001b[1;33m\u001b[0m\u001b[0m\n\u001b[0;32m    258\u001b[0m     \u001b[0marchive\u001b[0m \u001b[1;33m=\u001b[0m \u001b[0mos\u001b[0m\u001b[1;33m.\u001b[0m\u001b[0mpath\u001b[0m\u001b[1;33m.\u001b[0m\u001b[0mjoin\u001b[0m\u001b[1;33m(\u001b[0m\u001b[0mdownload_root\u001b[0m\u001b[1;33m,\u001b[0m \u001b[0mfilename\u001b[0m\u001b[1;33m)\u001b[0m\u001b[1;33m\u001b[0m\u001b[1;33m\u001b[0m\u001b[0m\n",
            "\u001b[1;32m~\\anaconda3\\lib\\site-packages\\torchvision\\datasets\\utils.py\u001b[0m in \u001b[0;36mdownload_url\u001b[1;34m(url, root, filename, md5)\u001b[0m\n\u001b[0;32m     82\u001b[0m                 )\n\u001b[0;32m     83\u001b[0m             \u001b[1;32melse\u001b[0m\u001b[1;33m:\u001b[0m\u001b[1;33m\u001b[0m\u001b[1;33m\u001b[0m\u001b[0m\n\u001b[1;32m---> 84\u001b[1;33m                 \u001b[1;32mraise\u001b[0m \u001b[0me\u001b[0m\u001b[1;33m\u001b[0m\u001b[1;33m\u001b[0m\u001b[0m\n\u001b[0m\u001b[0;32m     85\u001b[0m         \u001b[1;31m# check integrity of downloaded file\u001b[0m\u001b[1;33m\u001b[0m\u001b[1;33m\u001b[0m\u001b[1;33m\u001b[0m\u001b[0m\n\u001b[0;32m     86\u001b[0m         \u001b[1;32mif\u001b[0m \u001b[1;32mnot\u001b[0m \u001b[0mcheck_integrity\u001b[0m\u001b[1;33m(\u001b[0m\u001b[0mfpath\u001b[0m\u001b[1;33m,\u001b[0m \u001b[0mmd5\u001b[0m\u001b[1;33m)\u001b[0m\u001b[1;33m:\u001b[0m\u001b[1;33m\u001b[0m\u001b[1;33m\u001b[0m\u001b[0m\n",
            "\u001b[1;32m~\\anaconda3\\lib\\site-packages\\torchvision\\datasets\\utils.py\u001b[0m in \u001b[0;36mdownload_url\u001b[1;34m(url, root, filename, md5)\u001b[0m\n\u001b[0;32m     70\u001b[0m             urllib.request.urlretrieve(\n\u001b[0;32m     71\u001b[0m                 \u001b[0murl\u001b[0m\u001b[1;33m,\u001b[0m \u001b[0mfpath\u001b[0m\u001b[1;33m,\u001b[0m\u001b[1;33m\u001b[0m\u001b[1;33m\u001b[0m\u001b[0m\n\u001b[1;32m---> 72\u001b[1;33m                 \u001b[0mreporthook\u001b[0m\u001b[1;33m=\u001b[0m\u001b[0mgen_bar_updater\u001b[0m\u001b[1;33m(\u001b[0m\u001b[1;33m)\u001b[0m\u001b[1;33m\u001b[0m\u001b[1;33m\u001b[0m\u001b[0m\n\u001b[0m\u001b[0;32m     73\u001b[0m             )\n\u001b[0;32m     74\u001b[0m         \u001b[1;32mexcept\u001b[0m \u001b[1;33m(\u001b[0m\u001b[0murllib\u001b[0m\u001b[1;33m.\u001b[0m\u001b[0merror\u001b[0m\u001b[1;33m.\u001b[0m\u001b[0mURLError\u001b[0m\u001b[1;33m,\u001b[0m \u001b[0mIOError\u001b[0m\u001b[1;33m)\u001b[0m \u001b[1;32mas\u001b[0m \u001b[0me\u001b[0m\u001b[1;33m:\u001b[0m  \u001b[1;31m# type: ignore[attr-defined]\u001b[0m\u001b[1;33m\u001b[0m\u001b[1;33m\u001b[0m\u001b[0m\n",
            "\u001b[1;32m~\\anaconda3\\lib\\urllib\\request.py\u001b[0m in \u001b[0;36murlretrieve\u001b[1;34m(url, filename, reporthook, data)\u001b[0m\n\u001b[0;32m    245\u001b[0m     \u001b[0murl_type\u001b[0m\u001b[1;33m,\u001b[0m \u001b[0mpath\u001b[0m \u001b[1;33m=\u001b[0m \u001b[0msplittype\u001b[0m\u001b[1;33m(\u001b[0m\u001b[0murl\u001b[0m\u001b[1;33m)\u001b[0m\u001b[1;33m\u001b[0m\u001b[1;33m\u001b[0m\u001b[0m\n\u001b[0;32m    246\u001b[0m \u001b[1;33m\u001b[0m\u001b[0m\n\u001b[1;32m--> 247\u001b[1;33m     \u001b[1;32mwith\u001b[0m \u001b[0mcontextlib\u001b[0m\u001b[1;33m.\u001b[0m\u001b[0mclosing\u001b[0m\u001b[1;33m(\u001b[0m\u001b[0murlopen\u001b[0m\u001b[1;33m(\u001b[0m\u001b[0murl\u001b[0m\u001b[1;33m,\u001b[0m \u001b[0mdata\u001b[0m\u001b[1;33m)\u001b[0m\u001b[1;33m)\u001b[0m \u001b[1;32mas\u001b[0m \u001b[0mfp\u001b[0m\u001b[1;33m:\u001b[0m\u001b[1;33m\u001b[0m\u001b[1;33m\u001b[0m\u001b[0m\n\u001b[0m\u001b[0;32m    248\u001b[0m         \u001b[0mheaders\u001b[0m \u001b[1;33m=\u001b[0m \u001b[0mfp\u001b[0m\u001b[1;33m.\u001b[0m\u001b[0minfo\u001b[0m\u001b[1;33m(\u001b[0m\u001b[1;33m)\u001b[0m\u001b[1;33m\u001b[0m\u001b[1;33m\u001b[0m\u001b[0m\n\u001b[0;32m    249\u001b[0m \u001b[1;33m\u001b[0m\u001b[0m\n",
            "\u001b[1;32m~\\anaconda3\\lib\\urllib\\request.py\u001b[0m in \u001b[0;36murlopen\u001b[1;34m(url, data, timeout, cafile, capath, cadefault, context)\u001b[0m\n\u001b[0;32m    220\u001b[0m     \u001b[1;32melse\u001b[0m\u001b[1;33m:\u001b[0m\u001b[1;33m\u001b[0m\u001b[1;33m\u001b[0m\u001b[0m\n\u001b[0;32m    221\u001b[0m         \u001b[0mopener\u001b[0m \u001b[1;33m=\u001b[0m \u001b[0m_opener\u001b[0m\u001b[1;33m\u001b[0m\u001b[1;33m\u001b[0m\u001b[0m\n\u001b[1;32m--> 222\u001b[1;33m     \u001b[1;32mreturn\u001b[0m \u001b[0mopener\u001b[0m\u001b[1;33m.\u001b[0m\u001b[0mopen\u001b[0m\u001b[1;33m(\u001b[0m\u001b[0murl\u001b[0m\u001b[1;33m,\u001b[0m \u001b[0mdata\u001b[0m\u001b[1;33m,\u001b[0m \u001b[0mtimeout\u001b[0m\u001b[1;33m)\u001b[0m\u001b[1;33m\u001b[0m\u001b[1;33m\u001b[0m\u001b[0m\n\u001b[0m\u001b[0;32m    223\u001b[0m \u001b[1;33m\u001b[0m\u001b[0m\n\u001b[0;32m    224\u001b[0m \u001b[1;32mdef\u001b[0m \u001b[0minstall_opener\u001b[0m\u001b[1;33m(\u001b[0m\u001b[0mopener\u001b[0m\u001b[1;33m)\u001b[0m\u001b[1;33m:\u001b[0m\u001b[1;33m\u001b[0m\u001b[1;33m\u001b[0m\u001b[0m\n",
            "\u001b[1;32m~\\anaconda3\\lib\\urllib\\request.py\u001b[0m in \u001b[0;36mopen\u001b[1;34m(self, fullurl, data, timeout)\u001b[0m\n\u001b[0;32m    529\u001b[0m         \u001b[1;32mfor\u001b[0m \u001b[0mprocessor\u001b[0m \u001b[1;32min\u001b[0m \u001b[0mself\u001b[0m\u001b[1;33m.\u001b[0m\u001b[0mprocess_response\u001b[0m\u001b[1;33m.\u001b[0m\u001b[0mget\u001b[0m\u001b[1;33m(\u001b[0m\u001b[0mprotocol\u001b[0m\u001b[1;33m,\u001b[0m \u001b[1;33m[\u001b[0m\u001b[1;33m]\u001b[0m\u001b[1;33m)\u001b[0m\u001b[1;33m:\u001b[0m\u001b[1;33m\u001b[0m\u001b[1;33m\u001b[0m\u001b[0m\n\u001b[0;32m    530\u001b[0m             \u001b[0mmeth\u001b[0m \u001b[1;33m=\u001b[0m \u001b[0mgetattr\u001b[0m\u001b[1;33m(\u001b[0m\u001b[0mprocessor\u001b[0m\u001b[1;33m,\u001b[0m \u001b[0mmeth_name\u001b[0m\u001b[1;33m)\u001b[0m\u001b[1;33m\u001b[0m\u001b[1;33m\u001b[0m\u001b[0m\n\u001b[1;32m--> 531\u001b[1;33m             \u001b[0mresponse\u001b[0m \u001b[1;33m=\u001b[0m \u001b[0mmeth\u001b[0m\u001b[1;33m(\u001b[0m\u001b[0mreq\u001b[0m\u001b[1;33m,\u001b[0m \u001b[0mresponse\u001b[0m\u001b[1;33m)\u001b[0m\u001b[1;33m\u001b[0m\u001b[1;33m\u001b[0m\u001b[0m\n\u001b[0m\u001b[0;32m    532\u001b[0m \u001b[1;33m\u001b[0m\u001b[0m\n\u001b[0;32m    533\u001b[0m         \u001b[1;32mreturn\u001b[0m \u001b[0mresponse\u001b[0m\u001b[1;33m\u001b[0m\u001b[1;33m\u001b[0m\u001b[0m\n",
            "\u001b[1;32m~\\anaconda3\\lib\\urllib\\request.py\u001b[0m in \u001b[0;36mhttp_response\u001b[1;34m(self, request, response)\u001b[0m\n\u001b[0;32m    639\u001b[0m         \u001b[1;32mif\u001b[0m \u001b[1;32mnot\u001b[0m \u001b[1;33m(\u001b[0m\u001b[1;36m200\u001b[0m \u001b[1;33m<=\u001b[0m \u001b[0mcode\u001b[0m \u001b[1;33m<\u001b[0m \u001b[1;36m300\u001b[0m\u001b[1;33m)\u001b[0m\u001b[1;33m:\u001b[0m\u001b[1;33m\u001b[0m\u001b[1;33m\u001b[0m\u001b[0m\n\u001b[0;32m    640\u001b[0m             response = self.parent.error(\n\u001b[1;32m--> 641\u001b[1;33m                 'http', request, response, code, msg, hdrs)\n\u001b[0m\u001b[0;32m    642\u001b[0m \u001b[1;33m\u001b[0m\u001b[0m\n\u001b[0;32m    643\u001b[0m         \u001b[1;32mreturn\u001b[0m \u001b[0mresponse\u001b[0m\u001b[1;33m\u001b[0m\u001b[1;33m\u001b[0m\u001b[0m\n",
            "\u001b[1;32m~\\anaconda3\\lib\\urllib\\request.py\u001b[0m in \u001b[0;36merror\u001b[1;34m(self, proto, *args)\u001b[0m\n\u001b[0;32m    567\u001b[0m         \u001b[1;32mif\u001b[0m \u001b[0mhttp_err\u001b[0m\u001b[1;33m:\u001b[0m\u001b[1;33m\u001b[0m\u001b[1;33m\u001b[0m\u001b[0m\n\u001b[0;32m    568\u001b[0m             \u001b[0margs\u001b[0m \u001b[1;33m=\u001b[0m \u001b[1;33m(\u001b[0m\u001b[0mdict\u001b[0m\u001b[1;33m,\u001b[0m \u001b[1;34m'default'\u001b[0m\u001b[1;33m,\u001b[0m \u001b[1;34m'http_error_default'\u001b[0m\u001b[1;33m)\u001b[0m \u001b[1;33m+\u001b[0m \u001b[0morig_args\u001b[0m\u001b[1;33m\u001b[0m\u001b[1;33m\u001b[0m\u001b[0m\n\u001b[1;32m--> 569\u001b[1;33m             \u001b[1;32mreturn\u001b[0m \u001b[0mself\u001b[0m\u001b[1;33m.\u001b[0m\u001b[0m_call_chain\u001b[0m\u001b[1;33m(\u001b[0m\u001b[1;33m*\u001b[0m\u001b[0margs\u001b[0m\u001b[1;33m)\u001b[0m\u001b[1;33m\u001b[0m\u001b[1;33m\u001b[0m\u001b[0m\n\u001b[0m\u001b[0;32m    570\u001b[0m \u001b[1;33m\u001b[0m\u001b[0m\n\u001b[0;32m    571\u001b[0m \u001b[1;31m# XXX probably also want an abstract factory that knows when it makes\u001b[0m\u001b[1;33m\u001b[0m\u001b[1;33m\u001b[0m\u001b[1;33m\u001b[0m\u001b[0m\n",
            "\u001b[1;32m~\\anaconda3\\lib\\urllib\\request.py\u001b[0m in \u001b[0;36m_call_chain\u001b[1;34m(self, chain, kind, meth_name, *args)\u001b[0m\n\u001b[0;32m    501\u001b[0m         \u001b[1;32mfor\u001b[0m \u001b[0mhandler\u001b[0m \u001b[1;32min\u001b[0m \u001b[0mhandlers\u001b[0m\u001b[1;33m:\u001b[0m\u001b[1;33m\u001b[0m\u001b[1;33m\u001b[0m\u001b[0m\n\u001b[0;32m    502\u001b[0m             \u001b[0mfunc\u001b[0m \u001b[1;33m=\u001b[0m \u001b[0mgetattr\u001b[0m\u001b[1;33m(\u001b[0m\u001b[0mhandler\u001b[0m\u001b[1;33m,\u001b[0m \u001b[0mmeth_name\u001b[0m\u001b[1;33m)\u001b[0m\u001b[1;33m\u001b[0m\u001b[1;33m\u001b[0m\u001b[0m\n\u001b[1;32m--> 503\u001b[1;33m             \u001b[0mresult\u001b[0m \u001b[1;33m=\u001b[0m \u001b[0mfunc\u001b[0m\u001b[1;33m(\u001b[0m\u001b[1;33m*\u001b[0m\u001b[0margs\u001b[0m\u001b[1;33m)\u001b[0m\u001b[1;33m\u001b[0m\u001b[1;33m\u001b[0m\u001b[0m\n\u001b[0m\u001b[0;32m    504\u001b[0m             \u001b[1;32mif\u001b[0m \u001b[0mresult\u001b[0m \u001b[1;32mis\u001b[0m \u001b[1;32mnot\u001b[0m \u001b[1;32mNone\u001b[0m\u001b[1;33m:\u001b[0m\u001b[1;33m\u001b[0m\u001b[1;33m\u001b[0m\u001b[0m\n\u001b[0;32m    505\u001b[0m                 \u001b[1;32mreturn\u001b[0m \u001b[0mresult\u001b[0m\u001b[1;33m\u001b[0m\u001b[1;33m\u001b[0m\u001b[0m\n",
            "\u001b[1;32m~\\anaconda3\\lib\\urllib\\request.py\u001b[0m in \u001b[0;36mhttp_error_default\u001b[1;34m(self, req, fp, code, msg, hdrs)\u001b[0m\n\u001b[0;32m    647\u001b[0m \u001b[1;32mclass\u001b[0m \u001b[0mHTTPDefaultErrorHandler\u001b[0m\u001b[1;33m(\u001b[0m\u001b[0mBaseHandler\u001b[0m\u001b[1;33m)\u001b[0m\u001b[1;33m:\u001b[0m\u001b[1;33m\u001b[0m\u001b[1;33m\u001b[0m\u001b[0m\n\u001b[0;32m    648\u001b[0m     \u001b[1;32mdef\u001b[0m \u001b[0mhttp_error_default\u001b[0m\u001b[1;33m(\u001b[0m\u001b[0mself\u001b[0m\u001b[1;33m,\u001b[0m \u001b[0mreq\u001b[0m\u001b[1;33m,\u001b[0m \u001b[0mfp\u001b[0m\u001b[1;33m,\u001b[0m \u001b[0mcode\u001b[0m\u001b[1;33m,\u001b[0m \u001b[0mmsg\u001b[0m\u001b[1;33m,\u001b[0m \u001b[0mhdrs\u001b[0m\u001b[1;33m)\u001b[0m\u001b[1;33m:\u001b[0m\u001b[1;33m\u001b[0m\u001b[1;33m\u001b[0m\u001b[0m\n\u001b[1;32m--> 649\u001b[1;33m         \u001b[1;32mraise\u001b[0m \u001b[0mHTTPError\u001b[0m\u001b[1;33m(\u001b[0m\u001b[0mreq\u001b[0m\u001b[1;33m.\u001b[0m\u001b[0mfull_url\u001b[0m\u001b[1;33m,\u001b[0m \u001b[0mcode\u001b[0m\u001b[1;33m,\u001b[0m \u001b[0mmsg\u001b[0m\u001b[1;33m,\u001b[0m \u001b[0mhdrs\u001b[0m\u001b[1;33m,\u001b[0m \u001b[0mfp\u001b[0m\u001b[1;33m)\u001b[0m\u001b[1;33m\u001b[0m\u001b[1;33m\u001b[0m\u001b[0m\n\u001b[0m\u001b[0;32m    650\u001b[0m \u001b[1;33m\u001b[0m\u001b[0m\n\u001b[0;32m    651\u001b[0m \u001b[1;32mclass\u001b[0m \u001b[0mHTTPRedirectHandler\u001b[0m\u001b[1;33m(\u001b[0m\u001b[0mBaseHandler\u001b[0m\u001b[1;33m)\u001b[0m\u001b[1;33m:\u001b[0m\u001b[1;33m\u001b[0m\u001b[1;33m\u001b[0m\u001b[0m\n",
            "\u001b[1;31mHTTPError\u001b[0m: HTTP Error 503: Service Unavailable"
          ]
        }
      ],
      "metadata": {
        "id": "DlCXBY0DU3Mc",
        "colab": {
          "base_uri": "https://localhost:8080/"
        },
        "outputId": "88d80433-36b8-47c4-f72f-52d5e420106f"
      }
    },
    {
      "cell_type": "markdown",
      "source": [
        "# Evaluation Utils"
      ],
      "metadata": {
        "id": "d0hQT9ZrV-u2"
      }
    },
    {
      "cell_type": "code",
      "execution_count": 14,
      "source": [
        "def evaluate(network, val_loader, spikes):\r\n",
        "    acc_hist_val = collections.deque([], running_window_length)\r\n",
        "\r\n",
        "    spikes_val = {}\r\n",
        "\r\n",
        "    network.train = False\r\n",
        "    for (i, datum) in enumerate(val_loader):\r\n",
        "        if i > n_val:\r\n",
        "            break\r\n",
        "\r\n",
        "        image = datum[\"encoded_image\"]\r\n",
        "        label = datum[\"label\"]\r\n",
        "\r\n",
        "        # Run the network on the input.\r\n",
        "        if gpu:\r\n",
        "            inputs = {\"input\": image.cuda().view(time, 1, 1, 20, 20)}\r\n",
        "        else:\r\n",
        "            inputs = {\"input\": image.view(time, 1, 1, 20, 20)}\r\n",
        "        network.run(inputs=inputs, time=time, **reward_hparams, labels=label, train=False)\r\n",
        "\r\n",
        "        # Add to spikes recording.\r\n",
        "        output_spikes = spikes[\"output\"].get(\"s\").view(time, n_classes, neuron_per_class).sum(0)\r\n",
        "        predicted_label = torch.argmax(output_spikes.sum(1))\r\n",
        "\r\n",
        "        if predicted_label == label:\r\n",
        "            acc_hist_val.append(1)\r\n",
        "        else:\r\n",
        "            acc_hist_val.append(0)\r\n",
        "        \r\n",
        "\r\n",
        "        network.reset_state_variables()  # Reset state variables.\r\n",
        "\r\n",
        "    network.train = True\r\n",
        "    val_acc = 100 * sum(acc_hist_val)/len(acc_hist_val)\r\n",
        "    return val_acc"
      ],
      "outputs": [],
      "metadata": {
        "id": "1y5K1O2YRDoL"
      }
    },
    {
      "cell_type": "markdown",
      "source": [
        "# Train"
      ],
      "metadata": {
        "id": "SokdidkrV2Z5"
      }
    },
    {
      "cell_type": "code",
      "execution_count": 15,
      "source": [
        "def create_plot(spikes, reward, label):\r\n",
        "    fig = plt.figure()\r\n",
        "    ax = fig.gca()\r\n",
        "    for i in range(spikes.shape[1]):\r\n",
        "        spikes_sum = spikes.sum(-1)[:,i]\r\n",
        "        spike_timepoints = np.where(spikes_sum)[0]\r\n",
        "        spike_values = spikes_sum[spike_timepoints]\r\n",
        "        if i == label:\r\n",
        "            kwargs = {'s':10, 'marker' : '*', 'c' : 'r'}\r\n",
        "        else:\r\n",
        "            kwargs = {'s':5, 'marker': '*'}\r\n",
        "        \r\n",
        "        ax.scatter(spike_timepoints, spike_values, **kwargs)\r\n",
        "    \r\n",
        "    ax.plot(reward)\r\n",
        "    return fig"
      ],
      "outputs": [],
      "metadata": {
        "id": "EIw2_WgLOsEo"
      }
    },
    {
      "cell_type": "code",
      "execution_count": 16,
      "source": [
        "# Train the network.\r\n",
        "print(\"Begin training.\\n\")\r\n",
        "acc_hist = collections.deque([], running_window_length)\r\n",
        "manual_seed(seed)\r\n",
        "\r\n",
        "spikes = {}\r\n",
        "for layer in set(network.layers):\r\n",
        "    spikes[layer] = Monitor(network.layers[layer], state_vars=[\"s\"], time=time)\r\n",
        "    network.add_monitor(spikes[layer], name=\"%s_spikes\" % layer)\r\n",
        "\r\n",
        "val_acc = 0.0\r\n",
        "\r\n",
        "reward_history = []\r\n",
        "pbar = tqdm(total=n_train)\r\n",
        "network.reset_state_variables()\r\n",
        "for (i, datum) in enumerate(dataloader):\r\n",
        "    if i > n_train:\r\n",
        "        break\r\n",
        "\r\n",
        "    image = datum[\"encoded_image\"]\r\n",
        "    label = datum[\"label\"]\r\n",
        "\r\n",
        "    # Run the network on the input.\r\n",
        "    if gpu:\r\n",
        "        inputs = {\"input\": image.cuda().view(time, 1, 1, 20, 20)}\r\n",
        "    else:\r\n",
        "        inputs = {\"input\": image.view(time, 1, 1, 20, 20)}\r\n",
        "    network.run(inputs=inputs, time=time, **reward_hparams, labels = label, train=True)\r\n",
        "\r\n",
        "\r\n",
        "    # Weight Normalization\r\n",
        "\r\n",
        "\r\n",
        "    # Get voltage recording.\r\n",
        "    main_voltage = main_monitor.get(\"v\")\r\n",
        "    out_voltage = output_monitor.get(\"v\")\r\n",
        "    reward_history.append(reward_monitor.get())\r\n",
        "    tensorboard.update(step= i)\r\n",
        "\r\n",
        "    # Add to spikes recording.\r\n",
        "    output_spikes = spikes[\"output\"].get(\"s\").view(time, n_classes, neuron_per_class)\r\n",
        "    predicted_label = torch.argmax(output_spikes.sum(0).sum(1))\r\n",
        "\r\n",
        "    print(\"\\routput\", output_spikes.sum(0).sum(1), 'predicted_label:',\r\n",
        "          predicted_label.item(), 'GT:', label.item(), ' Reward:',\r\n",
        "          sum(reward_monitor.get()).item(),\r\n",
        "          end = '')\r\n",
        "\r\n",
        "    if  i % val_interval == 0 and i!=0:\r\n",
        "        val_acc = evaluate(network, val_loader, spikes)\r\n",
        "\r\n",
        "    if  i % val_interval == 0 and i!=0:\r\n",
        "        fig = create_plot(output_spikes, reward_monitor.get(), label)\r\n",
        "        tensorboard.writer.add_figure('reward', fig, i)\r\n",
        "\r\n",
        "    if predicted_label == label:\r\n",
        "        acc_hist.append(1)\r\n",
        "    else:\r\n",
        "        acc_hist.append(0)\r\n",
        "        \r\n",
        "    acc = 100 * sum(acc_hist)/len(acc_hist)\r\n",
        "    network.reset_state_variables()  # Reset state variables.\r\n",
        "    \r\n",
        "    pbar.set_description_str(\"Running accuracy: \" + \"{:.2f}\".format(acc) + \"%, \" + \"Current val accuracy: \" + \"{:.2f}\".format(val_acc) + \"%, \")\r\n",
        "    pbar.update()\r\n",
        "\r\n",
        "result_metrics = {'train_acc': acc, 'val_acc': val_acc}\r\n",
        "tensorboard.writer.add_hparams(\r\n",
        "    {**train_hparams, **data_hparams, **network_hparams, **reward_hparams},\r\n",
        "    result_metrics\r\n",
        ")"
      ],
      "outputs": [
        {
          "output_type": "stream",
          "name": "stdout",
          "text": [
            "Begin training.\n",
            "\n"
          ]
        },
        {
          "output_type": "display_data",
          "data": {
            "text/plain": [
              "HBox(children=(FloatProgress(value=0.0, max=200.0), HTML(value='')))"
            ],
            "application/vnd.jupyter.widget-view+json": {
              "version_major": 2,
              "version_minor": 0,
              "model_id": "e9ad251467b64725aebce8c9af90594e"
            }
          },
          "metadata": {}
        },
        {
          "output_type": "stream",
          "name": "stdout",
          "text": [
            "output tensor([24, 32]) predicted_label: 1 GT: 1  Reward: 1.0757639408111572"
          ]
        }
      ],
      "metadata": {
        "id": "Gk3H-hrdPLIU",
        "colab": {
          "base_uri": "https://localhost:8080/",
          "height": 99,
          "referenced_widgets": [
            "5a0a7b83778047f8887fee2d1e45666e",
            "a8ffdd1d133c462f84a2b7890f92dc5a",
            "3f097435b6b140359f1615431013e2cc",
            "e2fcdf68d1dc4f7c8be8c15d1462b5d4",
            "0aa1b935fff2461a9f6fbedf8e8a7243",
            "58cbfe545d1242c7ae53754e44aa7c2d",
            "be4fe11b07da4891b8b19c42f89f295e",
            "676b2a9992b54d02bbcfe52c7fad4d33",
            "437344acbb4a4bff8ca28c9d27c16f1e",
            "90c9b1588d42403aa62d7febba1eec0b",
            "9807e860c69a4e419f597f4ca30103e8"
          ]
        },
        "outputId": "b3a647a3-cbb0-4f8b-a9c1-640bdc8beda3"
      }
    },
    {
      "cell_type": "code",
      "execution_count": null,
      "source": [
        "# Load the TensorBoard notebook extension\r\n",
        "%load_ext tensorboard"
      ],
      "outputs": [],
      "metadata": {
        "id": "nAKGbShj7kOM"
      }
    },
    {
      "cell_type": "code",
      "execution_count": null,
      "source": [
        "%tensorboard --logdir runs"
      ],
      "outputs": [],
      "metadata": {
        "id": "EXv13w317oW7"
      }
    },
    {
      "cell_type": "markdown",
      "source": [
        "# Kernel "
      ],
      "metadata": {
        "id": "R_YGE1XjvIkZ"
      }
    },
    {
      "cell_type": "code",
      "execution_count": null,
      "source": [
        "from abc import ABC, abstractmethod\r\n",
        "from typing import Union, Tuple, Optional, Sequence\r\n",
        "from torch.nn.modules.utils import _pair"
      ],
      "outputs": [],
      "metadata": {
        "id": "dzaRZ3jNwxpE"
      }
    },
    {
      "cell_type": "code",
      "execution_count": null,
      "source": [
        "class AbstractKernel(ABC):\r\n",
        "\tr\"\"\"Base class for generating image filter kernels such as Gabor, DoG, etc. Each subclass should override :attr:`__call__` function.\r\n",
        "\t\"\"\"\r\n",
        "\tdef __init__(self, kernel_size: Union[int, Tuple[int, int]]):\r\n",
        "    \"\"\"\r\n",
        "    Instantiates a ``Filter Kernel`` object.\r\n",
        "\r\n",
        "    :param kernel_size: Horizontal and vertical size of convolutional kernels.\r\n",
        "    \"\"\"\r\n",
        "\t\tself.kernel_size = _pair(kenel_size)\r\n",
        "\r\n",
        "\tdef __call__(self):\r\n",
        "\t\tpass\r\n"
      ],
      "outputs": [],
      "metadata": {
        "id": "-4hp2V46vOUv"
      }
    },
    {
      "cell_type": "code",
      "execution_count": null,
      "source": [
        "class DoG_Kernel(AbstractKernel):\n",
        "\tr\"\"\"Generates DoG filter kernels.\n",
        "\t\"\"\"\n",
        "\tdef __init__(self, \n",
        "                 kernel_size: Union[int, Tuple[int, int]], \n",
        "                 sigma1 : float,\n",
        "                 sigma2 : float):\n",
        "        \"\"\"\n",
        "\t\t:param kernel_size: Horizontal and vertical size of DOG kernels.(If pass int, we consider it as a square filter) \n",
        "\t\t:param sigma1 : The sigma parameter for the first Gaussian function.\n",
        "\t\t:param sigma2 : The sigma parameter for the second Gaussian function.\n",
        "\t\t\"\"\"\n",
        "        super(DoG_Kernel, self).__init__(kernel_size)\n",
        "\t\tself.sigma1 = sigma1\n",
        "\t\tself.sigma2 = sigma2\n",
        "\n",
        "\t# returns a 2d tensor corresponding to the requested DoG filter\n",
        "\tdef __call__(self):\n",
        "\t\tk = self.kernel_size//2\n",
        "\t\tx, y = np.mgrid[-k:k+1:1, -k:k+1:1]\n",
        "\t\ta = 1.0 / (2 * math.pi)\n",
        "\t\tprod = x*x + y*y\n",
        "\t\tf1 = (1/(self.sigma1*self.sigma1)) * np.exp(-0.5 * (1/(self.sigma1*self.sigma1)) * (prod))\n",
        "\t\tf2 = (1/(self.sigma2*self.sigma2)) * np.exp(-0.5 * (1/(self.sigma2*self.sigma2)) * (prod))\n",
        "\t\tdog = a * (f1-f2)\n",
        "\t\tdog_mean = np.mean(dog)\n",
        "\t\tdog = dog - dog_mean\n",
        "\t\tdog_max = np.max(dog)\n",
        "\t\tdog = dog / dog_max\n",
        "\t\tdog_tensor = torch.from_numpy(dog)\n",
        "\t\treturn dog_tensor.float()"
      ],
      "outputs": [],
      "metadata": {
        "id": "PL2L6_ABwBH4"
      }
    },
    {
      "cell_type": "code",
      "execution_count": null,
      "source": [],
      "outputs": [],
      "metadata": {
        "id": "gD0kdZthzUr3"
      }
    }
  ]
}