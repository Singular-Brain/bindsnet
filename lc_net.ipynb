{
  "nbformat": 4,
  "nbformat_minor": 0,
  "metadata": {
    "colab": {
      "name": "Copy of lc_net",
      "provenance": [],
      "collapsed_sections": [],
      "toc_visible": true,
      "machine_shape": "hm",
      "include_colab_link": true
    },
    "kernelspec": {
      "name": "python3",
      "display_name": "Python 3.7.9 64-bit ('base': conda)"
    },
    "language_info": {
      "name": "python",
      "version": "3.7.9",
      "mimetype": "text/x-python",
      "codemirror_mode": {
        "name": "ipython",
        "version": 3
      },
      "pygments_lexer": "ipython3",
      "nbconvert_exporter": "python",
      "file_extension": ".py"
    },
    "accelerator": "GPU",
    "widgets": {
      "application/vnd.jupyter.widget-state+json": {
        "9c0b8a38b4914250b4618bd489d34d6d": {
          "model_module": "@jupyter-widgets/controls",
          "model_name": "HBoxModel",
          "state": {
            "_view_name": "HBoxView",
            "_dom_classes": [],
            "_model_name": "HBoxModel",
            "_view_module": "@jupyter-widgets/controls",
            "_model_module_version": "1.5.0",
            "_view_count": null,
            "_view_module_version": "1.5.0",
            "box_style": "",
            "layout": "IPY_MODEL_01e836b6d17440e4a1255840c0d0d602",
            "_model_module": "@jupyter-widgets/controls",
            "children": [
              "IPY_MODEL_a292d09b5bae4964aad02703501adcdb",
              "IPY_MODEL_83397313dcff401887eb3481f433a429",
              "IPY_MODEL_a8f15daa6eed4acd8f7f493c861844a2"
            ]
          }
        },
        "01e836b6d17440e4a1255840c0d0d602": {
          "model_module": "@jupyter-widgets/base",
          "model_name": "LayoutModel",
          "state": {
            "_view_name": "LayoutView",
            "grid_template_rows": null,
            "right": null,
            "justify_content": null,
            "_view_module": "@jupyter-widgets/base",
            "overflow": null,
            "_model_module_version": "1.2.0",
            "_view_count": null,
            "flex_flow": null,
            "width": null,
            "min_width": null,
            "border": null,
            "align_items": null,
            "bottom": null,
            "_model_module": "@jupyter-widgets/base",
            "top": null,
            "grid_column": null,
            "overflow_y": null,
            "overflow_x": null,
            "grid_auto_flow": null,
            "grid_area": null,
            "grid_template_columns": null,
            "flex": null,
            "_model_name": "LayoutModel",
            "justify_items": null,
            "grid_row": null,
            "max_height": null,
            "align_content": null,
            "visibility": null,
            "align_self": null,
            "height": null,
            "min_height": null,
            "padding": null,
            "grid_auto_rows": null,
            "grid_gap": null,
            "max_width": null,
            "order": null,
            "_view_module_version": "1.2.0",
            "grid_template_areas": null,
            "object_position": null,
            "object_fit": null,
            "grid_auto_columns": null,
            "margin": null,
            "display": null,
            "left": null
          }
        },
        "a292d09b5bae4964aad02703501adcdb": {
          "model_module": "@jupyter-widgets/controls",
          "model_name": "HTMLModel",
          "state": {
            "_view_name": "HTMLView",
            "style": "IPY_MODEL_dd8894fe22434f7ab1b7e782966cb312",
            "_dom_classes": [],
            "description": "",
            "_model_name": "HTMLModel",
            "placeholder": "​",
            "_view_module": "@jupyter-widgets/controls",
            "_model_module_version": "1.5.0",
            "value": "Running accuracy: 25.00%, Current val accuracy: 15.00%, :  17%",
            "_view_count": null,
            "_view_module_version": "1.5.0",
            "description_tooltip": null,
            "_model_module": "@jupyter-widgets/controls",
            "layout": "IPY_MODEL_bcebb5d7232b4bbfabd1193b99e06865"
          }
        },
        "83397313dcff401887eb3481f433a429": {
          "model_module": "@jupyter-widgets/controls",
          "model_name": "FloatProgressModel",
          "state": {
            "_view_name": "ProgressView",
            "style": "IPY_MODEL_9732957dfec642faa03975f34327a358",
            "_dom_classes": [],
            "description": "",
            "_model_name": "FloatProgressModel",
            "bar_style": "",
            "max": 1000,
            "_view_module": "@jupyter-widgets/controls",
            "_model_module_version": "1.5.0",
            "value": 167,
            "_view_count": null,
            "_view_module_version": "1.5.0",
            "orientation": "horizontal",
            "min": 0,
            "description_tooltip": null,
            "_model_module": "@jupyter-widgets/controls",
            "layout": "IPY_MODEL_8aadbc4262814e58837a4677b4aa6553"
          }
        },
        "a8f15daa6eed4acd8f7f493c861844a2": {
          "model_module": "@jupyter-widgets/controls",
          "model_name": "HTMLModel",
          "state": {
            "_view_name": "HTMLView",
            "style": "IPY_MODEL_079dda6773bd459fa5c604288683f259",
            "_dom_classes": [],
            "description": "",
            "_model_name": "HTMLModel",
            "placeholder": "​",
            "_view_module": "@jupyter-widgets/controls",
            "_model_module_version": "1.5.0",
            "value": " 167/1000 [11:55&lt;54:28,  3.92s/it]",
            "_view_count": null,
            "_view_module_version": "1.5.0",
            "description_tooltip": null,
            "_model_module": "@jupyter-widgets/controls",
            "layout": "IPY_MODEL_36e0c5907b264f0e9ced747cbac02b33"
          }
        },
        "dd8894fe22434f7ab1b7e782966cb312": {
          "model_module": "@jupyter-widgets/controls",
          "model_name": "DescriptionStyleModel",
          "state": {
            "_view_name": "StyleView",
            "_model_name": "DescriptionStyleModel",
            "description_width": "",
            "_view_module": "@jupyter-widgets/base",
            "_model_module_version": "1.5.0",
            "_view_count": null,
            "_view_module_version": "1.2.0",
            "_model_module": "@jupyter-widgets/controls"
          }
        },
        "bcebb5d7232b4bbfabd1193b99e06865": {
          "model_module": "@jupyter-widgets/base",
          "model_name": "LayoutModel",
          "state": {
            "_view_name": "LayoutView",
            "grid_template_rows": null,
            "right": null,
            "justify_content": null,
            "_view_module": "@jupyter-widgets/base",
            "overflow": null,
            "_model_module_version": "1.2.0",
            "_view_count": null,
            "flex_flow": null,
            "width": null,
            "min_width": null,
            "border": null,
            "align_items": null,
            "bottom": null,
            "_model_module": "@jupyter-widgets/base",
            "top": null,
            "grid_column": null,
            "overflow_y": null,
            "overflow_x": null,
            "grid_auto_flow": null,
            "grid_area": null,
            "grid_template_columns": null,
            "flex": null,
            "_model_name": "LayoutModel",
            "justify_items": null,
            "grid_row": null,
            "max_height": null,
            "align_content": null,
            "visibility": null,
            "align_self": null,
            "height": null,
            "min_height": null,
            "padding": null,
            "grid_auto_rows": null,
            "grid_gap": null,
            "max_width": null,
            "order": null,
            "_view_module_version": "1.2.0",
            "grid_template_areas": null,
            "object_position": null,
            "object_fit": null,
            "grid_auto_columns": null,
            "margin": null,
            "display": null,
            "left": null
          }
        },
        "9732957dfec642faa03975f34327a358": {
          "model_module": "@jupyter-widgets/controls",
          "model_name": "ProgressStyleModel",
          "state": {
            "_view_name": "StyleView",
            "_model_name": "ProgressStyleModel",
            "description_width": "",
            "_view_module": "@jupyter-widgets/base",
            "_model_module_version": "1.5.0",
            "_view_count": null,
            "_view_module_version": "1.2.0",
            "bar_color": null,
            "_model_module": "@jupyter-widgets/controls"
          }
        },
        "8aadbc4262814e58837a4677b4aa6553": {
          "model_module": "@jupyter-widgets/base",
          "model_name": "LayoutModel",
          "state": {
            "_view_name": "LayoutView",
            "grid_template_rows": null,
            "right": null,
            "justify_content": null,
            "_view_module": "@jupyter-widgets/base",
            "overflow": null,
            "_model_module_version": "1.2.0",
            "_view_count": null,
            "flex_flow": null,
            "width": null,
            "min_width": null,
            "border": null,
            "align_items": null,
            "bottom": null,
            "_model_module": "@jupyter-widgets/base",
            "top": null,
            "grid_column": null,
            "overflow_y": null,
            "overflow_x": null,
            "grid_auto_flow": null,
            "grid_area": null,
            "grid_template_columns": null,
            "flex": null,
            "_model_name": "LayoutModel",
            "justify_items": null,
            "grid_row": null,
            "max_height": null,
            "align_content": null,
            "visibility": null,
            "align_self": null,
            "height": null,
            "min_height": null,
            "padding": null,
            "grid_auto_rows": null,
            "grid_gap": null,
            "max_width": null,
            "order": null,
            "_view_module_version": "1.2.0",
            "grid_template_areas": null,
            "object_position": null,
            "object_fit": null,
            "grid_auto_columns": null,
            "margin": null,
            "display": null,
            "left": null
          }
        },
        "079dda6773bd459fa5c604288683f259": {
          "model_module": "@jupyter-widgets/controls",
          "model_name": "DescriptionStyleModel",
          "state": {
            "_view_name": "StyleView",
            "_model_name": "DescriptionStyleModel",
            "description_width": "",
            "_view_module": "@jupyter-widgets/base",
            "_model_module_version": "1.5.0",
            "_view_count": null,
            "_view_module_version": "1.2.0",
            "_model_module": "@jupyter-widgets/controls"
          }
        },
        "36e0c5907b264f0e9ced747cbac02b33": {
          "model_module": "@jupyter-widgets/base",
          "model_name": "LayoutModel",
          "state": {
            "_view_name": "LayoutView",
            "grid_template_rows": null,
            "right": null,
            "justify_content": null,
            "_view_module": "@jupyter-widgets/base",
            "overflow": null,
            "_model_module_version": "1.2.0",
            "_view_count": null,
            "flex_flow": null,
            "width": null,
            "min_width": null,
            "border": null,
            "align_items": null,
            "bottom": null,
            "_model_module": "@jupyter-widgets/base",
            "top": null,
            "grid_column": null,
            "overflow_y": null,
            "overflow_x": null,
            "grid_auto_flow": null,
            "grid_area": null,
            "grid_template_columns": null,
            "flex": null,
            "_model_name": "LayoutModel",
            "justify_items": null,
            "grid_row": null,
            "max_height": null,
            "align_content": null,
            "visibility": null,
            "align_self": null,
            "height": null,
            "min_height": null,
            "padding": null,
            "grid_auto_rows": null,
            "grid_gap": null,
            "max_width": null,
            "order": null,
            "_view_module_version": "1.2.0",
            "grid_template_areas": null,
            "object_position": null,
            "object_fit": null,
            "grid_auto_columns": null,
            "margin": null,
            "display": null,
            "left": null
          }
        }
      }
    },
    "interpreter": {
      "hash": "87ae7d1e75b14a98f2d7b99b6b39b40721989d38e6517f9dbec64ca4d8e3011b"
    }
  },
  "cells": [
    {
      "cell_type": "markdown",
      "metadata": {
        "id": "view-in-github",
        "colab_type": "text"
      },
      "source": [
        "<a href=\"https://colab.research.google.com/github/Singular-Brain/bindsnet/blob/master/lc_net.ipynb\" target=\"_parent\"><img src=\"https://colab.research.google.com/assets/colab-badge.svg\" alt=\"Open In Colab\"/></a>"
      ]
    },
    {
      "cell_type": "markdown",
      "metadata": {
        "id": "7fTSvrK3T_GA"
      },
      "source": [
        "#Notebook setups"
      ]
    },
    {
      "cell_type": "code",
      "metadata": {
        "id": "lXtgP_iEPE0G",
        "colab": {
          "base_uri": "https://localhost:8080/"
        },
        "outputId": "9d8bb0d6-91d6-4e4e-e522-410c47282daa"
      },
      "source": [
        "!pip install -q git+https://github.com/Singular-Brain/bindsnet"
      ],
      "execution_count": 1,
      "outputs": [
        {
          "output_type": "stream",
          "text": [
            "\u001b[?25l\r\u001b[K     |██▊                             | 10 kB 27.3 MB/s eta 0:00:01\r\u001b[K     |█████▍                          | 20 kB 23.9 MB/s eta 0:00:01\r\u001b[K     |████████▏                       | 30 kB 17.3 MB/s eta 0:00:01\r\u001b[K     |██████████▉                     | 40 kB 15.3 MB/s eta 0:00:01\r\u001b[K     |█████████████▋                  | 51 kB 7.1 MB/s eta 0:00:01\r\u001b[K     |████████████████▎               | 61 kB 7.0 MB/s eta 0:00:01\r\u001b[K     |███████████████████             | 71 kB 7.4 MB/s eta 0:00:01\r\u001b[K     |█████████████████████▊          | 81 kB 8.3 MB/s eta 0:00:01\r\u001b[K     |████████████████████████▌       | 92 kB 8.8 MB/s eta 0:00:01\r\u001b[K     |███████████████████████████▏    | 102 kB 6.8 MB/s eta 0:00:01\r\u001b[K     |██████████████████████████████  | 112 kB 6.8 MB/s eta 0:00:01\r\u001b[K     |████████████████████████████████| 120 kB 6.8 MB/s \n",
            "\u001b[K     |████████████████████████████████| 76 kB 4.3 MB/s \n",
            "\u001b[K     |████████████████████████████████| 72 kB 1.2 MB/s \n",
            "\u001b[K     |████████████████████████████████| 280 kB 46.4 MB/s \n",
            "\u001b[K     |████████████████████████████████| 28.5 MB 47 kB/s \n",
            "\u001b[?25h  Building wheel for BindsNET (setup.py) ... \u001b[?25l\u001b[?25hdone\n",
            "\u001b[31mERROR: pip's dependency resolver does not currently take into account all the packages that are installed. This behaviour is the source of the following dependency conflicts.\n",
            "datascience 0.10.6 requires folium==0.2.1, but you have folium 0.8.3 which is incompatible.\n",
            "albumentations 0.1.12 requires imgaug<0.2.7,>=0.2.5, but you have imgaug 0.2.9 which is incompatible.\u001b[0m\n"
          ],
          "name": "stdout"
        }
      ]
    },
    {
      "cell_type": "code",
      "metadata": {
        "colab": {
          "base_uri": "https://localhost:8080/"
        },
        "id": "OW7m3ugEHZP_",
        "outputId": "2d5740fa-ddee-4728-e713-20eb8e9be35d"
      },
      "source": [
        "!wget https://data.deepai.org/mnist.zip\n",
        "!mkdir -p ../data/MNIST/TorchvisionDatasetWrapper/raw\n",
        "!unzip mnist.zip -d ../data/MNIST/TorchvisionDatasetWrapper/raw/"
      ],
      "execution_count": 2,
      "outputs": [
        {
          "output_type": "stream",
          "text": [
            "--2021-08-07 12:14:00--  https://data.deepai.org/mnist.zip\n",
            "Resolving data.deepai.org (data.deepai.org)... 138.201.36.183\n",
            "Connecting to data.deepai.org (data.deepai.org)|138.201.36.183|:443... connected.\n",
            "HTTP request sent, awaiting response... 200 OK\n",
            "Length: 11597176 (11M) [application/x-zip-compressed]\n",
            "Saving to: ‘mnist.zip’\n",
            "\n",
            "mnist.zip           100%[===================>]  11.06M  8.18MB/s    in 1.4s    \n",
            "\n",
            "2021-08-07 12:14:02 (8.18 MB/s) - ‘mnist.zip’ saved [11597176/11597176]\n",
            "\n",
            "Archive:  mnist.zip\n",
            "  inflating: ../data/MNIST/TorchvisionDatasetWrapper/raw/train-labels-idx1-ubyte.gz  \n",
            "  inflating: ../data/MNIST/TorchvisionDatasetWrapper/raw/train-images-idx3-ubyte.gz  \n",
            "  inflating: ../data/MNIST/TorchvisionDatasetWrapper/raw/t10k-images-idx3-ubyte.gz  \n",
            "  inflating: ../data/MNIST/TorchvisionDatasetWrapper/raw/t10k-labels-idx1-ubyte.gz  \n"
          ],
          "name": "stdout"
        }
      ]
    },
    {
      "cell_type": "code",
      "metadata": {
        "id": "KXcXvvsXcOlv",
        "colab": {
          "base_uri": "https://localhost:8080/"
        },
        "outputId": "c2de5b26-be70-4ea0-da7a-de412023f2ab"
      },
      "source": [
        "!git clone https://github.com/Singular-Brain/bindsnet/"
      ],
      "execution_count": 3,
      "outputs": [
        {
          "output_type": "stream",
          "text": [
            "Cloning into 'bindsnet'...\n",
            "remote: Enumerating objects: 9372, done.\u001b[K\n",
            "remote: Counting objects: 100% (332/332), done.\u001b[K\n",
            "remote: Compressing objects: 100% (246/246), done.\u001b[K\n",
            "remote: Total 9372 (delta 221), reused 157 (delta 85), pack-reused 9040\u001b[K\n",
            "Receiving objects: 100% (9372/9372), 40.21 MiB | 26.96 MiB/s, done.\n",
            "Resolving deltas: 100% (5947/5947), done.\n"
          ],
          "name": "stdout"
        }
      ]
    },
    {
      "cell_type": "code",
      "metadata": {
        "id": "BFGNAecpT-Lj"
      },
      "source": [
        "from bindsnet.network.nodes import Nodes\n",
        "import os\n",
        "import copy\n",
        "import time\n",
        "import gzip, pickle\n",
        "import torch\n",
        "import random\n",
        "import torchvision\n",
        "import numpy as np\n",
        "import argparse\n",
        "import matplotlib.pyplot as plt\n",
        "import collections\n",
        "from bindsnet import manual_seed\n",
        "from torchvision import transforms\n",
        "from tqdm.notebook import tqdm\n",
        "\n",
        "from bindsnet.datasets import MNIST\n",
        "from bindsnet.encoding import PoissonEncoder\n",
        "from bindsnet.network import Network\n",
        "from bindsnet.network.nodes import Input, LIFNodes, AdaptiveLIFNodes\n",
        "from bindsnet.network.topology import LocalConnection, Connection\n",
        "from bindsnet.network.monitors import Monitor, AbstractMonitor, TensorBoardMonitor\n",
        "from bindsnet.learning import PostPre, MSTDP, MSTDPET \n",
        "from bindsnet.learning.reward import DynamicDopamineInjection\n",
        "from bindsnet.utils import get_square_assignments, get_square_weights\n",
        "from bindsnet.evaluation import all_activity, proportion_weighting, assign_labels\n",
        "\n",
        "from bindsnet.analysis.plotting import (\n",
        "    plot_input,\n",
        "    plot_assignments,\n",
        "    plot_performance,\n",
        "    plot_weights,\n",
        "    plot_spikes,\n",
        "    plot_voltages,\n",
        ")"
      ],
      "execution_count": 4,
      "outputs": []
    },
    {
      "cell_type": "markdown",
      "metadata": {
        "id": "ULGGHW43UksI"
      },
      "source": [
        "## Sets up Gpu use\n"
      ]
    },
    {
      "cell_type": "code",
      "metadata": {
        "id": "LiUmFrpcUfmR",
        "colab": {
          "base_uri": "https://localhost:8080/"
        },
        "outputId": "5c776aae-3867-4621-8bb4-8c01e107069e"
      },
      "source": [
        "if torch.cuda.is_available():\n",
        "    device =  torch.device(\"cuda\")\n",
        "    gpu = True\n",
        "else:\n",
        "    device =  torch.device(\"cpu\")\n",
        "    gpu = False\n",
        "\n",
        "def manual_seed(seed):\n",
        "    random.seed(seed)\n",
        "    torch.manual_seed(seed)\n",
        "    np.random.seed(seed)\n",
        "    if torch.cuda.is_available():\n",
        "        torch.cuda.manual_seed_all(seed)\n",
        "            \n",
        "torch.set_num_threads(os.cpu_count() - 1)\n",
        "print(\"Running on Device = \", device)\n"
      ],
      "execution_count": 5,
      "outputs": [
        {
          "output_type": "stream",
          "text": [
            "Running on Device =  cuda\n"
          ],
          "name": "stdout"
        }
      ]
    },
    {
      "cell_type": "markdown",
      "metadata": {
        "id": "kCqAFucAUDb8"
      },
      "source": [
        "# Set up hyper-parameters"
      ]
    },
    {
      "cell_type": "code",
      "metadata": {
        "id": "0YacX9jrUHj4"
      },
      "source": [
        "SEED = 2045 # The Singularity is Near!\n",
        "manual_seed(SEED)\n",
        "device_id = 0\n",
        "\n",
        "# Dataset Hyperparameters\n",
        "target_classes = (0,1)\n",
        "if target_classes:\n",
        "    # npz_file = np.load(f'mask_{\"_\".join([str(i) for i in target_classes])}.npz')\n",
        "    npz_file = np.load('bindsnet/mask_0.npz') ##### KESAFAT KARI !!!\n",
        "    mask, mask_test = torch.from_numpy(npz_file['arr_0']), torch.from_numpy(npz_file['arr_1'])\n",
        "    n_classes = len(target_classes)\n",
        "else:\n",
        "    mask = None\n",
        "    mask_test = None\n",
        "    n_classes = 10\n",
        "\n",
        "n_neurons = 100\n",
        "neuron_per_class = int(n_neurons/n_classes)\n",
        "\n",
        "train_hparams = {\n",
        "    'n_train' : 1000,\n",
        "    'n_test' : 200,\n",
        "    'n_val' : 100,\n",
        "    'val_interval' : 100,\n",
        "    'running_window_length': 100,\n",
        "}\n",
        "\n",
        "data_hparams = { \n",
        "    'intensity': 64,\n",
        "    'crop_size': 20,\n",
        "}\n",
        "\n",
        "network_hparams = {\n",
        "    'n_classes': n_classes,\n",
        "    'dt' : 1,\n",
        "    'time' : 250, \n",
        "    'nu': 0.1,\n",
        "    'n_neurons' : n_neurons,\n",
        "    'n_channels': 50,\n",
        "    'filter_size': 12,\n",
        "    'stride': 4,\n",
        "    'theta_plus': 0.05,\n",
        "    'inh_factor': 0.5,\n",
        "    'wmin': -1.,\n",
        "    'wmax': 1.,\n",
        "    'crop_size': 20,\n",
        "    'neuron_per_class': neuron_per_class,\n",
        "    'update_rule': MSTDPET,\n",
        "    'online': True,\n",
        "    'tc_trace': 20,\n",
        "}\n",
        "\n",
        "# reward Hyperparameters \n",
        "reward_hparams = {\n",
        "    # 'dopaminergic_layer': 'output', \n",
        "    'n_labels': n_classes,\n",
        "    'neuron_per_class': neuron_per_class,\n",
        "    'dopamine_per_spike': 0.001,\n",
        "    'dopamine_for_correct_pred': 0,\n",
        "    'tc_reward': 20,\n",
        "    'give_reward': True,\n",
        "    'dopamine_base': 0.01,\n",
        "    'variant': 'pure_per_spike'\n",
        "}"
      ],
      "execution_count": 27,
      "outputs": []
    },
    {
      "cell_type": "markdown",
      "metadata": {
        "id": "nL0giSqUUvz6"
      },
      "source": [
        "# Design network"
      ]
    },
    {
      "cell_type": "markdown",
      "metadata": {
        "id": "MBKedMpIleMr"
      },
      "source": [
        "## Reward Monitor"
      ]
    },
    {
      "cell_type": "code",
      "metadata": {
        "id": "M44GJ65GleMs"
      },
      "source": [
        "class RewardMonitor(AbstractMonitor):\n",
        "    # language=rst\n",
        "    \"\"\"\n",
        "    Records state variables of interest.\n",
        "    \"\"\"\n",
        "\n",
        "    def __init__(\n",
        "        self,\n",
        "        time: None,\n",
        "        batch_size: int = 1,\n",
        "        device: str = \"cpu\",\n",
        "    ):\n",
        "        # language=rst\n",
        "        \"\"\"\n",
        "        Constructs a ``Monitor`` object.\n",
        "\n",
        "        :param obj: An object to record state variables from during network simulation.\n",
        "        :param state_vars: Iterable of strings indicating names of state variables to record.\n",
        "        :param time: If not ``None``, pre-allocate memory for state variable recording.\n",
        "        :param device: Allow the monitor to be on different device separate from Network device\n",
        "        \"\"\"\n",
        "        super().__init__()\n",
        "\n",
        "        self.time = time\n",
        "        self.batch_size = batch_size\n",
        "        self.device = device\n",
        "\n",
        "        # if time is not specified the monitor variable accumulate the logs\n",
        "        if self.time is None:\n",
        "            self.device = \"cpu\"\n",
        "\n",
        "        self.recording = []\n",
        "        self.reset_state_variables()\n",
        "\n",
        "    def get(self,) -> torch.Tensor:\n",
        "        # language=rst\n",
        "        \"\"\"\n",
        "        Return recording to user.\n",
        "\n",
        "        :return: Tensor of shape ``[time, n_1, ..., n_k]``, where ``[n_1, ..., n_k]`` is the shape of the recorded state\n",
        "        variable.\n",
        "        Note, if time == `None`, get return the logs and empty the monitor variable\n",
        "\n",
        "        \"\"\"\n",
        "        # return_logs = torch.as_tensor(self.recording)\n",
        "        # if self.time is None:\n",
        "        #     self.recording = []\n",
        "        return self.recording\n",
        "\n",
        "    def record(self, **kwargs) -> None:\n",
        "        # language=rst\n",
        "        \"\"\"\n",
        "        Appends the current value of the recorded state variables to the recording.\n",
        "        \"\"\"\n",
        "        self.recording.append(kwargs[\"reward\"])\n",
        "        # remove the oldest element (first in the list)\n",
        "        # if self.time is not None:\n",
        "        #     self.recording.pop(0)\n",
        "\n",
        "    def reset_state_variables(self) -> None:\n",
        "        # language=rst\n",
        "        \"\"\"\n",
        "        Resets recordings to empty ``List``s.\n",
        "        \"\"\"\n",
        "        self.recording = []\n"
      ],
      "execution_count": 8,
      "outputs": []
    },
    {
      "cell_type": "markdown",
      "metadata": {
        "id": "q47NSLeODMGT"
      },
      "source": [
        "## LCNET"
      ]
    },
    {
      "cell_type": "code",
      "metadata": {
        "id": "y6ug54P679DF"
      },
      "source": [
        "compute_size = lambda inp_size, k, s: int((inp_size-k)/s) + 1\n",
        "\n",
        "\n",
        "class LCNet(Network):\n",
        "    def __init__(\n",
        "        self,\n",
        "        n_classes: int,\n",
        "        neuron_per_class: int,\n",
        "        n_channels:int,\n",
        "        filter_size: int,\n",
        "        stride: int,\n",
        "        online: bool,\n",
        "        time: int,\n",
        "        reward_fn,\n",
        "        n_neurons: int,\n",
        "        dt: float = 1.0,\n",
        "        crop_size:int = 20,\n",
        "        update_rule = MSTDPET,\n",
        "        nu = 1e-2,\n",
        "        wmin: float = 0.0,\n",
        "        wmax: float = 1.0,\n",
        "        norm: float = 78.4,\n",
        "        theta_plus: float = 0.05,\n",
        "        tc_theta_decay: float = 1e7,\n",
        "        tc_trace:int = 20,\n",
        "        inh_factor:float = 0.5,\n",
        "        **kwargs,\n",
        "    ) -> None:\n",
        "        # language=rst\n",
        "        \"\"\"\n",
        "        Constructor for class ``DiehlAndCook2015``.\n",
        "\n",
        "        :param n_inpt: Number of input neurons. Matches the 1D size of the input data.\n",
        "        :param n_neurons: Number of excitatory, inhibitory neurons.\n",
        "        :param exc: Strength of synapse weights from excitatory to inhibitory layer.\n",
        "        :param inh: Strength of synapse weights from inhibitory to excitatory layer.\n",
        "        :param dt: Simulation time step.\n",
        "        :param nu: Single or pair of learning rates for pre- and post-synaptic events,\n",
        "            respectively.\n",
        "        :param reduction: Method for reducing parameter updates along the minibatch\n",
        "            dimension.\n",
        "        :param wmin: Minimum allowed weight on input to excitatory synapses.\n",
        "        :param wmax: Maximum allowed weight on input to excitatory synapses.\n",
        "        :param norm: Input to excitatory layer connection weights normalization\n",
        "            constant.\n",
        "        :param theta_plus: On-spike increment of ``DiehlAndCookNodes`` membrane\n",
        "            threshold potential.\n",
        "        :param tc_theta_decay: Time constant of ``DiehlAndCookNodes`` threshold\n",
        "            potential decay.\n",
        "        :param inpt_shape: The dimensionality of the input layer.\n",
        "        \"\"\"\n",
        "        manual_seed(SEED)\n",
        "        super().__init__(dt=dt, reward_fn = reward_fn, online=online)\n",
        "\n",
        "        self.n_classes = n_classes\n",
        "        self.neuron_per_class = neuron_per_class\n",
        "        self.dt = dt\n",
        "        self.time = time\n",
        "        ### nodes\n",
        "        inp = Input(shape= [1,20,20], traces=True, tc_trace=tc_trace)\n",
        "        self.add_layer(inp, name=\"input\")\n",
        "        main = LIFNodes(shape= [n_channels, compute_size(crop_size, filter_size, stride), compute_size(crop_size, filter_size, stride)], traces=True, tc_trace=tc_trace)\n",
        "        self.add_layer(main, name=\"main\")\n",
        "        ### connections \n",
        "        LC = LocalConnection(inp, main, filter_size, stride, n_channels, nu = nu, update_rule = update_rule, wmin = wmin, wmax= wmax,)\n",
        "        self.add_connection(LC, \"input\", \"main\")\n",
        "        ### main to output\n",
        "        for c in range(n_classes):\n",
        "            self.add_layer(\n",
        "                LIFNodes(n= neuron_per_class, traces=True, tc_trace=tc_trace),\n",
        "                name=f\"output_{c}\",\n",
        "            )\n",
        "\n",
        "            self.add_connection(\n",
        "                Connection(\n",
        "                    main,\n",
        "                    self.layers[f\"output_{c}\"],\n",
        "                    update_rule = update_rule,\n",
        "                    nu = nu,\n",
        "                    wmin = wmin, \n",
        "                    wmax= wmax,\n",
        "                ),\n",
        "                \"main\",\n",
        "                f\"output_{c}\",\n",
        "            )\n",
        "\n",
        "        for source in range(n_classes):\n",
        "            for target in range(n_classes):\n",
        "                if source == target:\n",
        "                    continue\n",
        "                self.add_connection(\n",
        "                    Connection(\n",
        "                        self.layers[f\"output_{source}\"],\n",
        "                        self.layers[f\"output_{target}\"],\n",
        "                        update_rule = update_rule,\n",
        "                        nu = nu,\n",
        "                        wmin=-inh_factor,\n",
        "                        wmax=0,\n",
        "                        w= torch.ones(\n",
        "                            self.layers[f\"output_{source}\"].n,\n",
        "                            self.layers[f\"output_{target}\"].n,\n",
        "                        ) * -inh_factor\n",
        "                    ),\n",
        "                    f\"output_{source}\",\n",
        "                    f\"output_{target}\",\n",
        "                )\n",
        "\n",
        "        # Directs network to GPU\n",
        "        if gpu:\n",
        "            self.to(\"cuda\")\n",
        "\n",
        "\n",
        "    def fit(\n",
        "        self,\n",
        "        dataloader,\n",
        "        val_loader,\n",
        "        reward_hparams,\n",
        "        online_validate = True,\n",
        "        n_train = 200,\n",
        "        n_test = 100,\n",
        "        n_val = 50,\n",
        "        val_interval = 50,\n",
        "        running_window_length = 50,\n",
        "    ):\n",
        "        manual_seed(SEED)\n",
        "\n",
        "        # add Monitors\n",
        "        main_monitor = Monitor(self.layers[\"main\"], [\"v\"], time=self.time, device=device)\n",
        "        reward_monitor = RewardMonitor(time =self.time)\n",
        "        tensorboard = TensorBoardMonitor(self, time = self.time)\n",
        "        self.add_monitor(main_monitor, name=\"main\")\n",
        "        self.add_monitor(reward_monitor, name=\"reward\")\n",
        "        self.add_monitor(tensorboard, name=\"tensorboard\")\n",
        "\n",
        "        print(\"Begin training.\\n\")\n",
        "        acc_hist = collections.deque([], running_window_length)\n",
        "\n",
        "        output_layers = set([layer for layer in self.layers if layer.startswith('output')])\n",
        "        self.output_spikes = {}\n",
        "        for layer in output_layers:\n",
        "            self.output_spikes[layer] = Monitor(self.layers[layer], state_vars=[\"s\"], time=self.time)\n",
        "            self.add_monitor(self.output_spikes[layer], name=\"%s_spikes\" % layer)\n",
        "\n",
        "        val_acc = 0.0\n",
        "\n",
        "        reward_history = []\n",
        "        pbar = tqdm(total=n_train)\n",
        "        self.reset_state_variables()\n",
        "        for (i, datum) in enumerate(dataloader):\n",
        "            if i > n_train:\n",
        "                break\n",
        "\n",
        "            image = datum[\"encoded_image\"]\n",
        "            label = datum[\"label\"]\n",
        "\n",
        "            # Run the network on the input.\n",
        "            if gpu:\n",
        "                inputs = {\"input\": image.cuda().view(self.time, 1, 1, 20, 20)}\n",
        "            else:\n",
        "                inputs = {\"input\": image.view(self.time, 1, 1, 20, 20)}\n",
        "\n",
        "            dopaminergic_layers = {name: layer for name, layer in self.layers.items() if name.startswith('output')}\n",
        "\n",
        "            self.run(inputs=inputs, \n",
        "                    time=self.time, \n",
        "                    **reward_hparams, \n",
        "                    labels = label.int().item(),\n",
        "                    dopaminergic_layers= dopaminergic_layers,\n",
        "                    train=True)\n",
        "\n",
        "            # Get voltage recording.\n",
        "            main_voltage = main_monitor.get(\"v\")\n",
        "            reward_history.append(reward_monitor.get())\n",
        "            tensorboard.update(step= i)\n",
        "\n",
        "            # Add to spikes recording.\n",
        "            spikes_record = torch.zeros(self.n_classes, self.time, self.neuron_per_class)\n",
        "            for c in range(self.n_classes):\n",
        "                spikes_record[c] = self.output_spikes[f\"output_{c}\"].get(\"s\").squeeze(1)\n",
        "\n",
        "            predicted_label = torch.argmax(spikes_record.sum(1).sum(1))\n",
        "\n",
        "            if predicted_label == label:\n",
        "                if reward_hparams['two_pass']:\n",
        "                    reward_hparams['dopamine_for_correct_pred'] = 0.5\n",
        "                    print(' => Second pass with dopamine_for_correct_pred:', reward_hparams['dopamine_for_correct_pred'], end = '')\n",
        "                    self.run(inputs=inputs, time=self.time, **reward_hparams, labels =  label.int().item(),dopaminergic_layers= dopaminergic_layers, train=True)\n",
        "                acc_hist.append(1)\n",
        "            else:\n",
        "                if reward_hparams['two_pass']:\n",
        "                    reward_hparams['dopamine_for_correct_pred'] = -0.5\n",
        "                    print(' => Second pass with dopamine_for_correct_pred:', reward_hparams['dopamine_for_correct_pred'], end = '')\n",
        "                    self.run(inputs=inputs, time=self.time, **reward_hparams, labels =  label.int().item(),dopaminergic_layers= dopaminergic_layers, train=True)\n",
        "                acc_hist.append(0)\n",
        "\n",
        "            reward_hparams['dopamine_for_correct_pred'] = 0.0\n",
        "\n",
        "            print(\"\\routput\", spikes_record.sum(1).sum(1), 'predicted_label:',\n",
        "                predicted_label.item(), 'GT:', label.item(), ' Reward:',\n",
        "                sum(reward_monitor.get()),\n",
        "                end = '')\n",
        "\n",
        "            if online_validate and i % val_interval == 0 and i!=0:\n",
        "                val_acc = self.evaluate(val_loader, n_val, val_interval, running_window_length)\n",
        "\n",
        "            # if  i % val_interval == 0 and i!=0:\n",
        "            #     fig = create_plot(self.output_spikes, reward_monitor.get(), label)\n",
        "            #     tensorboard.writer.add_figure('reward', fig, i)\n",
        "                \n",
        "            acc = 100 * sum(acc_hist)/len(acc_hist)\n",
        "            self.reset_state_variables()  # Reset state variables.\n",
        "            \n",
        "            pbar.set_description_str(\"Running accuracy: \" + \"{:.2f}\".format(acc) + \"%, \" + \"Current val accuracy: \" + \"{:.2f}\".format(val_acc) + \"%, \")\n",
        "            pbar.update()\n",
        "\n",
        "        result_metrics = {'train_acc': acc, 'val_acc': val_acc}\n",
        "        tensorboard.writer.add_hparams(\n",
        "            {**train_hparams, **data_hparams, **network_hparams, **reward_hparams},\n",
        "            result_metrics\n",
        "        )\n",
        "\n",
        "\n",
        "\n",
        "    def evaluate(self, val_loader, n_val, val_interval, running_window_length):\n",
        "        manual_seed(SEED)\n",
        "        acc_hist_val = collections.deque([], running_window_length)\n",
        "\n",
        "        spikes_val = {}\n",
        "\n",
        "        self.train = False\n",
        "        for (i, datum) in enumerate(val_loader):\n",
        "            if i > n_val:\n",
        "                break\n",
        "\n",
        "            image = datum[\"encoded_image\"]\n",
        "            label = datum[\"label\"]\n",
        "\n",
        "            # Run the network on the input.\n",
        "            if gpu:\n",
        "                inputs = {\"input\": image.cuda().view(self.time, 1, 1, 20, 20)}\n",
        "            else:\n",
        "                inputs = {\"input\": image.view(self.time, 1, 1, 20, 20)}\n",
        "            self.run(inputs=inputs, time=self.time, **reward_hparams, labels=None, train=False)\n",
        "\n",
        "            # Add to spikes recording.\n",
        "            spikes_record = torch.zeros(self.n_classes, self.time, self.neuron_per_class)\n",
        "            for c in range(self.n_classes):\n",
        "                spikes_record[c] = self.output_spikes[f\"output_{c}\"].get(\"s\").squeeze(1)\n",
        "\n",
        "            predicted_label = torch.argmax(spikes_record.sum(1).sum(1))\n",
        "\n",
        "            if predicted_label == label:\n",
        "                acc_hist_val.append(1)\n",
        "            else:\n",
        "                acc_hist_val.append(0)\n",
        "            \n",
        "            print(\"\\r*validation: output\", spikes_record.sum(1).sum(1),\n",
        "                'predicted_label:', predicted_label.item(), 'GT:', label.item(),\n",
        "                end = '')\n",
        "            \n",
        "            self.reset_state_variables()  # Reset state variables.\n",
        "\n",
        "        self.train = True\n",
        "        val_acc = 100 * sum(acc_hist_val)/len(acc_hist_val)\n",
        "        return val_acc"
      ],
      "execution_count": 35,
      "outputs": []
    },
    {
      "cell_type": "markdown",
      "metadata": {
        "id": "6zuUBU9pU3vE"
      },
      "source": [
        "# Load Dataset"
      ]
    },
    {
      "cell_type": "code",
      "metadata": {
        "id": "2DW7dB11jdqi"
      },
      "source": [
        "class ClassSelector(torch.utils.data.sampler.Sampler):\n",
        "    \"\"\"Select target classes from the dataset\"\"\"\n",
        "    def __init__(self, target_classes, data_source, mask = None):\n",
        "        if mask is not None:\n",
        "            self.mask = mask\n",
        "        else:\n",
        "            self.mask = torch.tensor([1 if data_source[i]['label'] in target_classes else 0 for i in range(len(data_source))])\n",
        "        self.data_source = data_source\n",
        "\n",
        "    def __iter__(self):\n",
        "        return iter([i.item() for i in torch.nonzero(self.mask)])\n",
        "\n",
        "    def __len__(self):\n",
        "        return len(self.data_source)"
      ],
      "execution_count": 11,
      "outputs": []
    },
    {
      "cell_type": "code",
      "metadata": {
        "id": "DlCXBY0DU3Mc",
        "colab": {
          "base_uri": "https://localhost:8080/"
        },
        "outputId": "f545cb19-a108-49f3-9a53-59248ee3ac10"
      },
      "source": [
        "# Load MNIST data.\n",
        "manual_seed(SEED)\n",
        "dataset = MNIST(\n",
        "    PoissonEncoder(time=network_hparams['time'], dt=network_hparams['dt']),\n",
        "    None,\n",
        "    root=os.path.join(\"..\", \"..\", \"data\", \"MNIST\"),\n",
        "    download=True,\n",
        "    transform=transforms.Compose(\n",
        "        [transforms.ToTensor(),\n",
        "        transforms.Lambda(lambda x: x * data_hparams['intensity']),\n",
        "        transforms.CenterCrop(data_hparams['crop_size'])]\n",
        "    ),\n",
        ")\n",
        "\n",
        "# Create a dataloader to iterate and batch data\n",
        "dataloader = torch.utils.data.DataLoader(dataset, batch_size=1,\n",
        "                                         sampler = ClassSelector(\n",
        "                                                target_classes = target_classes,\n",
        "                                                data_source = dataset,\n",
        "                                                mask = mask,\n",
        "                                                ) if target_classes else None\n",
        "                                         )\n",
        "\n",
        "# Load test dataset\n",
        "test_dataset = MNIST(\n",
        "    PoissonEncoder(time=network_hparams['time'], dt=network_hparams['dt']),\n",
        "    None,\n",
        "    root=os.path.join(\"..\", \"..\", \"data\", \"MNIST\"),\n",
        "    download=True,\n",
        "    train=False,\n",
        "    transform=transforms.Compose(\n",
        "        [transforms.ToTensor(),\n",
        "        transforms.Lambda(lambda x: x * data_hparams['intensity']),\n",
        "        transforms.CenterCrop(data_hparams['crop_size'])]\n",
        "    ),\n",
        ")\n",
        "\n",
        "val_loader = torch.utils.data.DataLoader(test_dataset, batch_size=1,\n",
        "                                         sampler = ClassSelector(\n",
        "                                                target_classes = target_classes,\n",
        "                                                data_source = test_dataset,\n",
        "                                                mask = mask_test,\n",
        "                                                ) if target_classes else None\n",
        "                                         )"
      ],
      "execution_count": 14,
      "outputs": [
        {
          "output_type": "stream",
          "text": [
            "Downloading http://yann.lecun.com/exdb/mnist/train-images-idx3-ubyte.gz\n",
            "Using downloaded and verified file: ../../data/MNIST/TorchvisionDatasetWrapper/raw/train-images-idx3-ubyte.gz\n",
            "Extracting ../../data/MNIST/TorchvisionDatasetWrapper/raw/train-images-idx3-ubyte.gz to ../../data/MNIST/TorchvisionDatasetWrapper/raw\n",
            "\n",
            "Downloading http://yann.lecun.com/exdb/mnist/train-labels-idx1-ubyte.gz\n",
            "Using downloaded and verified file: ../../data/MNIST/TorchvisionDatasetWrapper/raw/train-labels-idx1-ubyte.gz\n",
            "Extracting ../../data/MNIST/TorchvisionDatasetWrapper/raw/train-labels-idx1-ubyte.gz to ../../data/MNIST/TorchvisionDatasetWrapper/raw\n",
            "\n",
            "Downloading http://yann.lecun.com/exdb/mnist/t10k-images-idx3-ubyte.gz\n",
            "Using downloaded and verified file: ../../data/MNIST/TorchvisionDatasetWrapper/raw/t10k-images-idx3-ubyte.gz\n",
            "Extracting ../../data/MNIST/TorchvisionDatasetWrapper/raw/t10k-images-idx3-ubyte.gz to ../../data/MNIST/TorchvisionDatasetWrapper/raw\n",
            "\n",
            "Downloading http://yann.lecun.com/exdb/mnist/t10k-labels-idx1-ubyte.gz\n",
            "Using downloaded and verified file: ../../data/MNIST/TorchvisionDatasetWrapper/raw/t10k-labels-idx1-ubyte.gz\n",
            "Extracting ../../data/MNIST/TorchvisionDatasetWrapper/raw/t10k-labels-idx1-ubyte.gz to ../../data/MNIST/TorchvisionDatasetWrapper/raw\n",
            "\n"
          ],
          "name": "stdout"
        }
      ]
    },
    {
      "cell_type": "markdown",
      "metadata": {
        "id": "SokdidkrV2Z5"
      },
      "source": [
        "# Train"
      ]
    },
    {
      "cell_type": "code",
      "metadata": {
        "id": "EIw2_WgLOsEo"
      },
      "source": [
        "def create_plot(spikes, reward, label):\n",
        "    fig = plt.figure()\n",
        "    ax = fig.gca()\n",
        "    for i in range(spikes.shape[1]):\n",
        "        spikes_sum = spikes.sum(-1)[:,i]\n",
        "        spike_timepoints = np.where(spikes_sum)[0]\n",
        "        spike_values = spikes_sum[spike_timepoints]\n",
        "        if i == label:\n",
        "            kwargs = {'s':10, 'marker' : '*', 'c' : 'r'}\n",
        "        else:\n",
        "            kwargs = {'s':5, 'marker': '*'}\n",
        "        \n",
        "        ax.scatter(spike_timepoints, spike_values, **kwargs)\n",
        "    \n",
        "    ax.plot(reward)\n",
        "    return fig"
      ],
      "execution_count": 11,
      "outputs": []
    },
    {
      "cell_type": "markdown",
      "metadata": {
        "id": "ExibCsgddn9Q"
      },
      "source": [
        "## Variant 1 (2 passes with per prediction)"
      ]
    },
    {
      "cell_type": "code",
      "metadata": {
        "id": "TGaLw1nFqJ1U"
      },
      "source": [
        "reward_hparams['variant'] = None\n",
        "reward_hparams['two_pass'] = True\n",
        "reward_hparams['dopamine_base'] = 0.0\n",
        "network_hparams['online'] = False\n",
        "\n",
        "net = LCNet(**network_hparams, reward_fn = DynamicDopamineInjection)\n",
        "net.fit(dataloader = dataloader, val_loader = val_loader, reward_hparams = reward_hparams, **train_hparams)"
      ],
      "execution_count": null,
      "outputs": []
    },
    {
      "cell_type": "markdown",
      "metadata": {
        "id": "q8_PPkxFjbIq"
      },
      "source": [
        "## Variant 2 (Combined: two pass + per spike)"
      ]
    },
    {
      "cell_type": "code",
      "metadata": {
        "colab": {
          "base_uri": "https://localhost:8080/",
          "height": 99,
          "referenced_widgets": [
            "9c0b8a38b4914250b4618bd489d34d6d",
            "01e836b6d17440e4a1255840c0d0d602",
            "a292d09b5bae4964aad02703501adcdb",
            "83397313dcff401887eb3481f433a429",
            "a8f15daa6eed4acd8f7f493c861844a2",
            "dd8894fe22434f7ab1b7e782966cb312",
            "bcebb5d7232b4bbfabd1193b99e06865",
            "9732957dfec642faa03975f34327a358",
            "8aadbc4262814e58837a4677b4aa6553",
            "079dda6773bd459fa5c604288683f259",
            "36e0c5907b264f0e9ced747cbac02b33"
          ]
        },
        "id": "JKofj06sjbIr",
        "outputId": "63240526-e28a-4e8c-f825-3f90f84812b0"
      },
      "source": [
        "reward_hparams['variant'] = 'per_spike'\n",
        "reward_hparams['two_pass'] = True\n",
        "network_hparams['online'] = True\n",
        "\n",
        "net = LCNet(**network_hparams, reward_fn = DynamicDopamineInjection)\n",
        "net.fit(dataloader = dataloader, val_loader = val_loader, reward_hparams, **train_hparams)"
      ],
      "execution_count": null,
      "outputs": [
        {
          "output_type": "stream",
          "text": [
            "Begin training.\n",
            "\n"
          ],
          "name": "stdout"
        },
        {
          "output_type": "display_data",
          "data": {
            "application/vnd.jupyter.widget-view+json": {
              "model_id": "9c0b8a38b4914250b4618bd489d34d6d",
              "version_minor": 0,
              "version_major": 2
            },
            "text/plain": [
              "  0%|          | 0/1000 [00:00<?, ?it/s]"
            ]
          },
          "metadata": {
            "tags": []
          }
        },
        {
          "output_type": "stream",
          "text": [
            "output tensor([10.,  5.]) predicted_label: 0 GT: 0  Reward: tensor(15.1467)"
          ],
          "name": "stdout"
        }
      ]
    },
    {
      "cell_type": "markdown",
      "metadata": {
        "id": "LUHfz6mKiY_Z"
      },
      "source": [
        "## Variant 3 (Online true pred)"
      ]
    },
    {
      "cell_type": "code",
      "metadata": {
        "colab": {
          "base_uri": "https://localhost:8080/",
          "height": 99,
          "referenced_widgets": [
            "9c0b8a38b4914250b4618bd489d34d6d",
            "01e836b6d17440e4a1255840c0d0d602",
            "a292d09b5bae4964aad02703501adcdb",
            "83397313dcff401887eb3481f433a429",
            "a8f15daa6eed4acd8f7f493c861844a2",
            "dd8894fe22434f7ab1b7e782966cb312",
            "bcebb5d7232b4bbfabd1193b99e06865",
            "9732957dfec642faa03975f34327a358",
            "8aadbc4262814e58837a4677b4aa6553",
            "079dda6773bd459fa5c604288683f259",
            "36e0c5907b264f0e9ced747cbac02b33"
          ]
        },
        "id": "iF4g71G5iY_Z",
        "outputId": "63240526-e28a-4e8c-f825-3f90f84812b0"
      },
      "source": [
        "reward_hparams['variant'] = 'true_pred'\n",
        "reward_hparams['two_pass'] = False\n",
        "network_hparams['online'] = True\n",
        "\n",
        "net = LCNet(**network_hparams, reward_fn = DynamicDopamineInjection)\n",
        "net.fit(dataloader = dataloader, val_loader = val_loader, reward_hparams, **train_hparams)"
      ],
      "execution_count": null,
      "outputs": [
        {
          "output_type": "stream",
          "text": [
            "Begin training.\n",
            "\n"
          ],
          "name": "stdout"
        },
        {
          "output_type": "display_data",
          "data": {
            "application/vnd.jupyter.widget-view+json": {
              "model_id": "9c0b8a38b4914250b4618bd489d34d6d",
              "version_minor": 0,
              "version_major": 2
            },
            "text/plain": [
              "  0%|          | 0/1000 [00:00<?, ?it/s]"
            ]
          },
          "metadata": {
            "tags": []
          }
        },
        {
          "output_type": "stream",
          "text": [
            "output tensor([10.,  5.]) predicted_label: 0 GT: 0  Reward: tensor(15.1467)"
          ],
          "name": "stdout"
        }
      ]
    },
    {
      "cell_type": "markdown",
      "metadata": {
        "id": "X1DcZ8yAdgGZ"
      },
      "source": [
        "## Variant 4 (per spike)"
      ]
    },
    {
      "cell_type": "code",
      "metadata": {
        "id": "HUQSOHZ4_ABz"
      },
      "source": [
        "reward_hparams['variant'] = 'pure_per_spike'\n",
        "reward_hparams['two_pass'] = True\n",
        "network_hparams['online'] = True\n",
        "\n",
        "\n",
        "net = LCNet(**network_hparams, reward_fn = DynamicDopamineInjection)\n",
        "net.fit(dataloader = dataloader, val_loader = val_loader, reward_hparams,**train_hparams)"
      ],
      "execution_count": null,
      "outputs": []
    },
    {
      "cell_type": "markdown",
      "metadata": {
        "id": "vkz7skWaiWj7"
      },
      "source": [
        "#Tensorboard"
      ]
    },
    {
      "cell_type": "code",
      "metadata": {
        "id": "nAKGbShj7kOM"
      },
      "source": [
        "# Load the TensorBoard notebook extension\n",
        "%load_ext tensorboard"
      ],
      "execution_count": 22,
      "outputs": []
    },
    {
      "cell_type": "code",
      "metadata": {
        "id": "EXv13w317oW7"
      },
      "source": [
        "%tensorboard --logdir runs"
      ],
      "execution_count": null,
      "outputs": []
    },
    {
      "cell_type": "markdown",
      "metadata": {
        "id": "R_YGE1XjvIkZ"
      },
      "source": [
        "# Kernel "
      ]
    },
    {
      "cell_type": "code",
      "metadata": {
        "id": "dzaRZ3jNwxpE"
      },
      "source": [
        "from abc import ABC, abstractmethod\n",
        "from typing import Union, Tuple, Optional, Sequence\n",
        "from torch.nn.modules.utils import _pair"
      ],
      "execution_count": null,
      "outputs": []
    },
    {
      "cell_type": "code",
      "metadata": {
        "id": "-4hp2V46vOUv"
      },
      "source": [
        "class AbstractKernel(ABC):\n",
        "\tr\"\"\"Base class for generating image filter kernels such as Gabor, DoG, etc. Each subclass should override :attr:`__call__` function.\n",
        "\t\"\"\"\n",
        "\tdef __init__(self, kernel_size: Union[int, Tuple[int, int]]):\n",
        "    \"\"\"\n",
        "    Instantiates a ``Filter Kernel`` object.\n",
        "\n",
        "    :param kernel_size: Horizontal and vertical size of convolutional kernels.\n",
        "    \"\"\"\n",
        "\t\tself.kernel_size = _pair(kenel_size)\n",
        "\n",
        "\tdef __call__(self):\n",
        "\t\tpass\n"
      ],
      "execution_count": null,
      "outputs": []
    },
    {
      "cell_type": "code",
      "metadata": {
        "id": "PL2L6_ABwBH4"
      },
      "source": [
        "class DoG_Kernel(AbstractKernel):\n",
        "\tr\"\"\"Generates DoG filter kernels.\n",
        "\t\"\"\"\n",
        "\tdef __init__(self, \n",
        "                 kernel_size: Union[int, Tuple[int, int]], \n",
        "                 sigma1 : float,\n",
        "                 sigma2 : float):\n",
        "        \"\"\"\n",
        "\t\t:param kernel_size: Horizontal and vertical size of DOG kernels.(If pass int, we consider it as a square filter) \n",
        "\t\t:param sigma1 : The sigma parameter for the first Gaussian function.\n",
        "\t\t:param sigma2 : The sigma parameter for the second Gaussian function.\n",
        "\t\t\"\"\"\n",
        "        super(DoG_Kernel, self).__init__(kernel_size)\n",
        "\t\tself.sigma1 = sigma1\n",
        "\t\tself.sigma2 = sigma2\n",
        "\n",
        "\t# returns a 2d tensor corresponding to the requested DoG filter\n",
        "\tdef __call__(self):\n",
        "\t\tk = self.kernel_size//2\n",
        "\t\tx, y = np.mgrid[-k:k+1:1, -k:k+1:1]\n",
        "\t\ta = 1.0 / (2 * math.pi)\n",
        "\t\tprod = x*x + y*y\n",
        "\t\tf1 = (1/(self.sigma1*self.sigma1)) * np.exp(-0.5 * (1/(self.sigma1*self.sigma1)) * (prod))\n",
        "\t\tf2 = (1/(self.sigma2*self.sigma2)) * np.exp(-0.5 * (1/(self.sigma2*self.sigma2)) * (prod))\n",
        "\t\tdog = a * (f1-f2)\n",
        "\t\tdog_mean = np.mean(dog)\n",
        "\t\tdog = dog - dog_mean\n",
        "\t\tdog_max = np.max(dog)\n",
        "\t\tdog = dog / dog_max\n",
        "\t\tdog_tensor = torch.from_numpy(dog)\n",
        "\t\treturn dog_tensor.float()"
      ],
      "execution_count": null,
      "outputs": []
    },
    {
      "cell_type": "code",
      "metadata": {
        "id": "gD0kdZthzUr3"
      },
      "source": [
        ""
      ],
      "execution_count": null,
      "outputs": []
    }
  ]
}